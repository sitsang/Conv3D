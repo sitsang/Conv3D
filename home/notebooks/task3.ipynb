{
 "cells": [
  {
   "cell_type": "code",
   "execution_count": null,
   "metadata": {},
   "outputs": [
    {
     "data": {
      "text/plain": [
       "\"\\n%matplotlib inline\\n\\nimport os\\nimport matplotlib.pyplot as plt\\nimport matplotlib.image as mpimg\\nimport numpy as np\\nfrom PIL import Image, ImageOps\\nimport scipy\\nimport matplotlib\\n\\nroot_dir = '/home/team12/team12/data/gear_images'\\n\\ndirs = os.listdir(root_dir)\\ndirs.sort()\\ndir_map = { key: value for (key, value) in list(zip(dirs, range(len(dirs)))) }\\ndir_map\\n\\nfor d, i in dir_map.items():\\n    full_dir = root_dir + '/' + d\\n    img_files = [f for f in os.listdir(full_dir) if os.path.isfile(os.path.join(full_dir, f))]\\n    for img_file in img_files:\\n        full_img_path = full_dir + '/' + img_file\\n        img=mpimg.imread(full_img_path)\\n        print(img.shape)\\n\""
      ]
     },
     "execution_count": 1,
     "metadata": {},
     "output_type": "execute_result"
    }
   ],
   "source": [
    "'''\n",
    "%matplotlib inline\n",
    "\n",
    "import os\n",
    "import matplotlib.pyplot as plt\n",
    "import matplotlib.image as mpimg\n",
    "import numpy as np\n",
    "from PIL import Image, ImageOps\n",
    "import scipy\n",
    "import matplotlib\n",
    "\n",
    "root_dir = '/home/team12/team12/data/gear_images'\n",
    "\n",
    "dirs = os.listdir(root_dir)\n",
    "dirs.sort()\n",
    "dir_map = { key: value for (key, value) in list(zip(dirs, range(len(dirs)))) }\n",
    "dir_map\n",
    "\n",
    "for d, i in dir_map.items():\n",
    "    full_dir = root_dir + '/' + d\n",
    "    img_files = [f for f in os.listdir(full_dir) if os.path.isfile(os.path.join(full_dir, f))]\n",
    "    for img_file in img_files:\n",
    "        full_img_path = full_dir + '/' + img_file\n",
    "        img=mpimg.imread(full_img_path)\n",
    "        print(img.shape)\n",
    "'''  "
   ]
  },
  {
   "cell_type": "code",
   "execution_count": 10,
   "metadata": {},
   "outputs": [
    {
     "name": "stdout",
     "output_type": "stream",
     "text": [
      "/home/team12/team12/data/gear_images_normalized/axes : 0\n",
      "/home/team12/team12/data/gear_images_normalized/boots : 1\n",
      "/home/team12/team12/data/gear_images_normalized/carabiners : 2\n",
      "/home/team12/team12/data/gear_images_normalized/crampons : 3\n",
      "/home/team12/team12/data/gear_images_normalized/gloves : 4\n",
      "/home/team12/team12/data/gear_images_normalized/hardshell_jackets : 5\n",
      "/home/team12/team12/data/gear_images_normalized/harnesses : 6\n",
      "/home/team12/team12/data/gear_images_normalized/helmets : 7\n",
      "/home/team12/team12/data/gear_images_normalized/insulated_jackets : 8\n",
      "/home/team12/team12/data/gear_images_normalized/pulleys : 9\n",
      "/home/team12/team12/data/gear_images_normalized/rope : 10\n",
      "/home/team12/team12/data/gear_images_normalized/tents : 11\n",
      "(2122, 49152)\n",
      "(2122,)\n",
      "(1697, 49152)\n",
      "(425, 49152)\n",
      "(1697,)\n",
      "(425,)\n",
      "LinearSVC(C=1.0, class_weight=None, dual=True, fit_intercept=True,\n",
      "     intercept_scaling=1, loss='squared_hinge', max_iter=1000,\n",
      "     multi_class='ovr', penalty='l2', random_state=None, tol=0.0001,\n",
      "     verbose=0)\n",
      "Done\n"
     ]
    }
   ],
   "source": [
    "from sklearn import svm\n",
    "import matplotlib.pyplot as plt\n",
    "import matplotlib.image as mpimg\n",
    "from PIL import Image, ImageOps\n",
    "import numpy as np\n",
    "import os\n",
    "from os import listdir\n",
    "from os.path import isfile, join\n",
    "from sklearn.model_selection import train_test_split\n",
    "\n",
    "img_root = '/home/team12/team12/data/gear_images_normalized'\n",
    "img_dirs = [os.path.join(img_root, o) for o in os.listdir(img_root) if os.path.isdir(os.path.join(img_root,o))]\n",
    "img_dirs.sort()\n",
    "x = []\n",
    "y = []\n",
    "category = 0\n",
    "for img_dir in img_dirs:\n",
    "    print(img_dir + \" : \" + str(category))\n",
    "    count = 0\n",
    "    img_files = [f for f in listdir(img_dir) if isfile(join(img_dir, f))]\n",
    "    for img_file in img_files:\n",
    "        #print(img_dir + '/' + img_file)\n",
    "        image_path = img_dir + '/' + img_file\n",
    "        x.append(np.array(Image.open(image_path)))\n",
    "        y.append(category)\n",
    "        #if count > 100:\n",
    "        #    break\n",
    "        count += 1\n",
    "    category += 1\n",
    "\n",
    "X = np.array(x).reshape(len(x), -1)\n",
    "Y = np.array(y)\n",
    "print(X.shape)\n",
    "print(Y.shape)\n",
    "\n",
    "X_train, X_test, y_train, y_test = train_test_split(X, Y, test_size=0.2, random_state=41)\n",
    "print(X_train.shape)\n",
    "print(X_test.shape)\n",
    "print(y_train.shape)\n",
    "print(y_test.shape)\n",
    "\n",
    "#clf = svm.SVC(decision_function_shape='ovo')\n",
    "clf = svm.LinearSVC()\n",
    "clf_result = clf.fit(X_train, y_train)\n",
    "print(clf_result)\n",
    "print('Done')"
   ]
  },
  {
   "cell_type": "code",
   "execution_count": 13,
   "metadata": {},
   "outputs": [
    {
     "data": {
      "text/plain": [
       "['/home/team12/team12/data/task3.pkl']"
      ]
     },
     "execution_count": 13,
     "metadata": {},
     "output_type": "execute_result"
    }
   ],
   "source": [
    "from sklearn.externals import joblib\n",
    "\n",
    "joblib.dump(clf, '/home/team12/team12/data/task3.pkl')"
   ]
  },
  {
   "cell_type": "code",
   "execution_count": 11,
   "metadata": {},
   "outputs": [
    {
     "name": "stdout",
     "output_type": "stream",
     "text": [
      "(1200, 1200)\n",
      "(128, 128, 3)\n",
      "[7]\n",
      "/home/team12/team12/data/gear_images_normalized/helmets\n"
     ]
    }
   ],
   "source": [
    "desired_size = 128\n",
    "\n",
    "def process_image(old_im_pth):\n",
    "    im = Image.open(old_im_pth)\n",
    "    old_size = im.size\n",
    "    print(old_size)\n",
    "\n",
    "    ratio = float(desired_size)/max(old_size)\n",
    "    new_size = tuple([int(x*ratio) for x in old_size])\n",
    "   \n",
    "    im = im.resize(new_size, Image.ANTIALIAS)\n",
    "    new_im = Image.new(\"RGB\", (desired_size, desired_size), 'white')\n",
    "    new_im.paste(im, ((desired_size-new_size[0])//2,\n",
    "                     (desired_size-new_size[1])//2))\n",
    "    return np.array(new_im)\n",
    "\n",
    "test_path = '/home/team12/team12/data/task3_test.jpeg'\n",
    "#test_img = mpimg.imread(test_path)\n",
    "test_img = process_image(test_path)\n",
    "\n",
    "print(test_img.shape)\n",
    "print(clf.predict(np.array(test_img.ravel()).reshape(1, -1)))\n",
    "print(img_dirs[clf.predict(np.array(test_img.ravel()).reshape(1, -1))[0]])"
   ]
  },
  {
   "cell_type": "code",
   "execution_count": 12,
   "metadata": {},
   "outputs": [
    {
     "name": "stdout",
     "output_type": "stream",
     "text": [
      "Score: 0.8588235294117647\n"
     ]
    },
    {
     "data": {
      "image/png": "[encoded data removed]",
      "text/plain": [
       "<matplotlib.figure.Figure at 0x7f2f54d594a8>"
      ]
     },
     "metadata": {},
     "output_type": "display_data"
    }
   ],
   "source": [
    "predictions = clf.predict(X_test)\n",
    "plt.scatter(y_test, predictions)\n",
    "plt.xlabel('True Values')\n",
    "plt.ylabel('Predictions')\n",
    "\n",
    "print(\"Score:\", clf.score(X_test, y_test))"
   ]
  },
  {
   "cell_type": "code",
   "execution_count": 32,
   "metadata": {},
   "outputs": [
    {
     "name": "stdout",
     "output_type": "stream",
     "text": [
      "/home/team12/team12/data/gear_images_all/axes : 0\n",
      "/home/team12/team12/data/gear_images_all/boots : 1\n",
      "/home/team12/team12/data/gear_images_all/carabiners : 2\n",
      "/home/team12/team12/data/gear_images_all/crampons : 3\n",
      "/home/team12/team12/data/gear_images_all/gear_images_normalized : 4\n",
      "/home/team12/team12/data/gear_images_all/gloves : 5\n",
      "/home/team12/team12/data/gear_images_all/hardshell_jackets : 6\n",
      "/home/team12/team12/data/gear_images_all/harnesses : 7\n",
      "/home/team12/team12/data/gear_images_all/helmets : 8\n",
      "/home/team12/team12/data/gear_images_all/insulated_jackets : 9\n",
      "/home/team12/team12/data/gear_images_all/pulleys : 10\n",
      "/home/team12/team12/data/gear_images_all/rope : 11\n",
      "/home/team12/team12/data/gear_images_all/tents : 12\n",
      "(2122, 49152)\n",
      "(2122,)\n",
      "(1697, 49152)\n",
      "(425, 49152)\n",
      "(1697,)\n",
      "(425,)\n"
     ]
    },
    {
     "name": "stderr",
     "output_type": "stream",
     "text": [
      "/anaconda/envs/py35/lib/python3.5/site-packages/sklearn/linear_model/stochastic_gradient.py:128: FutureWarning: max_iter and tol parameters have been added in <class 'sklearn.linear_model.stochastic_gradient.SGDClassifier'> in 0.19. If both are left unset, they default to max_iter=5 and tol=None. If tol is not None, max_iter defaults to max_iter=1000. From 0.21, default max_iter will be 1000, and default tol will be 1e-3.\n",
      "  \"and default tol will be 1e-3.\" % type(self), FutureWarning)\n"
     ]
    },
    {
     "name": "stdout",
     "output_type": "stream",
     "text": [
      "SGDClassifier(alpha=0.0001, average=False, class_weight=None, epsilon=0.0001,\n",
      "       eta0=0.0, fit_intercept=True, l1_ratio=0.15,\n",
      "       learning_rate='optimal', loss='hinge', max_iter=None, n_iter=None,\n",
      "       n_jobs=1, penalty='l2', power_t=0.5, random_state=None,\n",
      "       shuffle=True, tol=None, verbose=0, warm_start=False)\n",
      "Done\n"
     ]
    }
   ],
   "source": [
    "from sklearn import svm\n",
    "import matplotlib.pyplot as plt\n",
    "import matplotlib.image as mpimg\n",
    "from PIL import Image, ImageOps\n",
    "import numpy as np\n",
    "import os\n",
    "from os import listdir\n",
    "from os.path import isfile, join\n",
    "from sklearn.model_selection import train_test_split\n",
    "from sklearn import linear_model\n",
    "\n",
    "img_root = '/home/team12/team12/data/gear_images_all'\n",
    "#img_root = '/home/team12/team12/data/gear_images_normalized'\n",
    "#img_root = '/home/team12/team12/data/gear_images_equalize'\n",
    "img_dirs = [os.path.join(img_root, o) for o in os.listdir(img_root) if os.path.isdir(os.path.join(img_root,o))]\n",
    "img_dirs.sort()\n",
    "x = []\n",
    "y = []\n",
    "category = 0\n",
    "for img_dir in img_dirs:\n",
    "    print(img_dir + \" : \" + str(category))\n",
    "    count = 0\n",
    "    img_files = [f for f in listdir(img_dir) if isfile(join(img_dir, f))]\n",
    "    for img_file in img_files:\n",
    "        #print(img_dir + '/' + img_file)\n",
    "        image_path = img_dir + '/' + img_file\n",
    "        x.append(np.array(Image.open(image_path)))\n",
    "        y.append(category)\n",
    "        #if count > 100:\n",
    "        #    break\n",
    "        count += 1\n",
    "    category += 1\n",
    "\n",
    "X = np.array(x).reshape(len(x), -1)\n",
    "Y = np.array(y)\n",
    "print(X.shape)\n",
    "print(Y.shape)\n",
    "\n",
    "X_train, X_test, y_train, y_test = train_test_split(X, Y, test_size=0.2, random_state=41)\n",
    "print(X_train.shape)\n",
    "print(X_test.shape)\n",
    "print(y_train.shape)\n",
    "print(y_test.shape)\n",
    "\n",
    "#clf = svm.SVC(decision_function_shape='ovo')\n",
    "#clf = svm.LinearSVC()\n",
    "clf = linear_model.SGDClassifier(epsilon=0.0001)\n",
    "clf_result = clf.fit(X_train, y_train)\n",
    "print(clf_result)\n",
    "print('Done')"
   ]
  },
  {
   "cell_type": "code",
   "execution_count": 33,
   "metadata": {},
   "outputs": [
    {
     "name": "stdout",
     "output_type": "stream",
     "text": [
      "Score: 0.7294117647058823\n"
     ]
    },
    {
     "data": {
      "image/png": "[encoded data removed]",
      "text/plain": [
       "<matplotlib.figure.Figure at 0x7f2f58118dd8>"
      ]
     },
     "metadata": {},
     "output_type": "display_data"
    }
   ],
   "source": [
    "predictions = clf.predict(X_test)\n",
    "plt.scatter(y_test, predictions)\n",
    "plt.xlabel('True Values')\n",
    "plt.ylabel('Predictions')\n",
    "\n",
    "print(\"Score:\", clf.score(X_test, y_test))"
   ]
  }
 ],
 "metadata": {
  "kernelspec": {
   "display_name": "Python 3",
   "language": "python",
   "name": "python3"
  },
  "language_info": {
   "codemirror_mode": {
    "name": "ipython",
    "version": 3
   },
   "file_extension": ".py",
   "mimetype": "text/x-python",
   "name": "python",
   "nbconvert_exporter": "python",
   "pygments_lexer": "ipython3",
   "version": "3.5.4"
  }
 },
 "nbformat": 4,
 "nbformat_minor": 2
}
