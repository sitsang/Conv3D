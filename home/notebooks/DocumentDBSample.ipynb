{
 "cells": [
  {
   "cell_type": "markdown",
   "metadata": {},
   "source": [
    "## Demonstrate Basic Querying of DocumentDB\n",
    "\n",
    "### Prerequisite:\n",
    "1. Install DocumentDB Python SDK  (pip install pydocumentdb)\n",
    "1. Create DocumentDB account and Document DB database from Azure portal\n",
    "1. Download \"DocumentDB Migration tool\" from [here](http://www.microsoft.com/downloads/details.aspx?FamilyID=cda7703a-2774-4c07-adcc-ad02ddc1a44d)\n",
    "1. Import JSON data (volcano data) stored on a local file into documentDB with following command parameters to the migration tool. You can also use the GUI tool and enter the source and target location parameters from below. \n",
    "\n",
    "<code>/s:JsonFile /s.Files:[JSON File Location] /t:DocumentDBBulk /t.ConnectionString:AccountEndpoint=https://[DocDBAccountName].documents.azure.com:443/;AccountKey=[[KEY];Database=volcano /t.Collection:volcano1</code>\n",
    "\n",
    "Copy of volcano data also be found on a blob: https://cahandson.blob.core.windows.net/samples/volcano.json\n",
    "\n",
    "Execute rest of the code. "
   ]
  },
  {
   "cell_type": "code",
   "execution_count": 4,
   "metadata": {
    "collapsed": true
   },
   "outputs": [],
   "source": [
    "import pydocumentdb.documents as documents\n",
    "import pydocumentdb.document_client as document_client\n",
    "import pydocumentdb.errors as errors"
   ]
  },
  {
   "cell_type": "code",
   "execution_count": 5,
   "metadata": {
    "collapsed": true
   },
   "outputs": [],
   "source": [
    "#Doc DB access parameters. \n",
    "# You can find the DocDB Account name and \"Key\" on Azure Portal. \n",
    "# ReadyOnly key is adequate if you are not writing new records\n",
    "masterKey = 'ENTER DOC DB Master KEY'\n",
    "host = 'https://[ENTER DOCDB ACCOUNT NAME].documents.azure.com:443'\n",
    "db = u'volcano'\n",
    "collection = 'volcano1'"
   ]
  },
  {
   "cell_type": "code",
   "execution_count": 6,
   "metadata": {
    "collapsed": false
   },
   "outputs": [],
   "source": [
    "# client object is the main object to operate with Doc DB\n",
    "client = document_client.DocumentClient(host,{'masterKey': masterKey})"
   ]
  },
  {
   "cell_type": "code",
   "execution_count": 7,
   "metadata": {
    "collapsed": false
   },
   "outputs": [],
   "source": [
    "# Get the pointer to the database you want\n",
    "database = next((data for data in client.ReadDatabases() if data['id'] == db))"
   ]
  },
  {
   "cell_type": "code",
   "execution_count": 8,
   "metadata": {
    "collapsed": false
   },
   "outputs": [],
   "source": [
    "# Get the link to the collection within the database\n",
    "coll = next((coll for coll in client.ReadCollections(database['_self']) if coll['id'] == collection))"
   ]
  },
  {
   "cell_type": "code",
   "execution_count": 9,
   "metadata": {
    "collapsed": false
   },
   "outputs": [],
   "source": [
    "# Use the Doc DB SQL like query language.\n",
    "# Cheat sheet for DocDB SQL: https://azure.microsoft.com/en-us/documentation/articles/documentdb-sql-query-cheat-sheet/\n",
    "\n",
    "# Query tries to get list of volcanoes within 300 kms from a given coordinates (Redmond, WA in this case)\n",
    "# Uses Geospatial Built-in functions ST_DISTANCE( point1, point2 )\n",
    "\n",
    "query = u'SELECT * \\\n",
    "FROM volcanoes v \\\n",
    "WHERE ST_DISTANCE(v.Location, { \\\n",
    "\t\"type\": \"Point\", \\\n",
    "\t\"coordinates\": [-122.19, 47.36] \\\n",
    "\t}) < 300 * 1000 \\\n",
    "AND v.Type = \"Stratovolcano\" \\\n",
    "AND v[\"Last Known Eruption\"] = \"Last known eruption from 1800-1899, inclusive\"'"
   ]
  },
  {
   "cell_type": "code",
   "execution_count": 10,
   "metadata": {
    "collapsed": false
   },
   "outputs": [
    {
     "data": {
      "text/plain": [
       "u'SELECT * FROM volcanoes v WHERE ST_DISTANCE(v.Location, { \\t\"type\": \"Point\", \\t\"coordinates\": [-122.19, 47.36] \\t}) < 300 * 1000 AND v.Type = \"Stratovolcano\" AND v[\"Last Known Eruption\"] = \"Last known eruption from 1800-1899, inclusive\"'"
      ]
     },
     "execution_count": 10,
     "metadata": {},
     "output_type": "execute_result"
    }
   ],
   "source": [
    "query"
   ]
  },
  {
   "cell_type": "code",
   "execution_count": 11,
   "metadata": {
    "collapsed": false
   },
   "outputs": [],
   "source": [
    "# Run the query\n",
    "docs = list(client.QueryDocuments(coll['_self'], {'query': query, 'parameters':[]}))"
   ]
  },
  {
   "cell_type": "code",
   "execution_count": 12,
   "metadata": {
    "collapsed": false
   },
   "outputs": [
    {
     "data": {
      "text/plain": [
       "[{u'Country': u'United States',\n",
       "  u'Elevation': 4392,\n",
       "  u'Last Known Eruption': u'Last known eruption from 1800-1899, inclusive',\n",
       "  u'Location': {u'coordinates': [-121.758, 46.87], u'type': u'Point'},\n",
       "  u'Region': u'US-Washington',\n",
       "  u'Status': u'Dendrochronology',\n",
       "  u'Type': u'Stratovolcano',\n",
       "  u'Volcano Name': u'Rainier',\n",
       "  u'_attachments': u'attachments/',\n",
       "  u'_etag': u'\"0000c501-0000-0000-0000-5696f9700000\"',\n",
       "  u'_rid': u'+-hhAPg2OAC5AQAAAAAAAA==',\n",
       "  u'_self': u'dbs/+-hhAA==/colls/+-hhAPg2OAA=/docs/+-hhAPg2OAC5AQAAAAAAAA==/',\n",
       "  u'_ts': 1452734832,\n",
       "  u'id': u'682fe1d3-1e2a-c135-d47f-f3351afd03e3'},\n",
       " {u'Country': u'United States',\n",
       "  u'Elevation': 3426,\n",
       "  u'Last Known Eruption': u'Last known eruption from 1800-1899, inclusive',\n",
       "  u'Location': {u'coordinates': [-121.694, 45.374], u'type': u'Point'},\n",
       "  u'Region': u'US-Oregon',\n",
       "  u'Status': u'Historical',\n",
       "  u'Type': u'Stratovolcano',\n",
       "  u'Volcano Name': u'Hood',\n",
       "  u'_attachments': u'attachments/',\n",
       "  u'_etag': u'\"0000d202-0000-0000-0000-5696f9730000\"',\n",
       "  u'_rid': u'+-hhAPg2OADGAgAAAAAAAA==',\n",
       "  u'_self': u'dbs/+-hhAA==/colls/+-hhAPg2OAA=/docs/+-hhAPg2OADGAgAAAAAAAA==/',\n",
       "  u'_ts': 1452734835,\n",
       "  u'id': u'acf67a43-d1db-0d15-4b73-ffd267d6ac9f'},\n",
       " {u'Country': u'United States',\n",
       "  u'Elevation': 3285,\n",
       "  u'Last Known Eruption': u'Last known eruption from 1800-1899, inclusive',\n",
       "  u'Location': {u'coordinates': [-121.82, 48.786], u'type': u'Point'},\n",
       "  u'Region': u'US-Washington',\n",
       "  u'Status': u'Historical',\n",
       "  u'Type': u'Stratovolcano',\n",
       "  u'Volcano Name': u'Baker',\n",
       "  u'_attachments': u'attachments/',\n",
       "  u'_etag': u'\"00004105-0000-0000-0000-5696f9770000\"',\n",
       "  u'_rid': u'+-hhAPg2OAA1BQAAAAAAAA==',\n",
       "  u'_self': u'dbs/+-hhAA==/colls/+-hhAPg2OAA=/docs/+-hhAPg2OAA1BQAAAAAAAA==/',\n",
       "  u'_ts': 1452734839,\n",
       "  u'id': u'1d1913ad-fff9-c2aa-2ff9-9f67deda3578'}]"
      ]
     },
     "execution_count": 12,
     "metadata": {},
     "output_type": "execute_result"
    }
   ],
   "source": [
    "docs"
   ]
  },
  {
   "cell_type": "code",
   "execution_count": null,
   "metadata": {
    "collapsed": true
   },
   "outputs": [],
   "source": []
  }
 ],
 "metadata": {
  "kernelspec": {
   "display_name": "Python 2",
   "language": "python",
   "name": "python2"
  },
  "language_info": {
   "codemirror_mode": {
    "name": "ipython",
    "version": 2
   },
   "file_extension": ".py",
   "mimetype": "text/x-python",
   "name": "python",
   "nbconvert_exporter": "python",
   "pygments_lexer": "ipython2",
   "version": "2.7.11"
  }
 },
 "nbformat": 4,
 "nbformat_minor": 0
}
