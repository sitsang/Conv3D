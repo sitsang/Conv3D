{
 "cells": [
  {
   "cell_type": "code",
   "execution_count": 1,
   "metadata": {
    "collapsed": false
   },
   "outputs": [],
   "source": [
    "import pandas as pd\n",
    "from pandas import Series, DataFrame\n",
    "import numpy as np\n",
    "import matplotlib.pyplot as plt\n",
    "from time import time\n",
    "import pyodbc\n",
    "import os\n",
    "import tables\n",
    "import time\n",
    "from azure.storage.blob import BlobService\n",
    "import urllib2"
   ]
  },
  {
   "cell_type": "markdown",
   "metadata": {},
   "source": [
    "### Initialize database parameters (CHANGE THIS)"
   ]
  },
  {
   "cell_type": "code",
   "execution_count": 2,
   "metadata": {
    "collapsed": true
   },
   "outputs": [],
   "source": [
    "SERVER_NAME   = 'ENTER SERVER_NAME '\n",
    "DATABASE_NAME = 'ENTER DATABASE_NAME'\n",
    "USERID        = 'ENTER USERID'\n",
    "PASSWORD      = 'ENTER PASSWORD'\n",
    "DB_DRIVER     = 'SQL Server Native Client 11.0'\n",
    "\n",
    "STORAGEACCOUNTNAME = \"ENTER STORAGE ACCOUNT NAME\"\n",
    "STORAGEKEY = \"ENTER STORAGE KEY\""
   ]
  },
  {
   "cell_type": "markdown",
   "metadata": {},
   "source": [
    "#### Read dataset\n",
    "Dataset is read from a public blob and copied to a private blob to locad it into SQL DW via Polybase"
   ]
  },
  {
   "cell_type": "code",
   "execution_count": 9,
   "metadata": {
    "collapsed": false
   },
   "outputs": [],
   "source": [
    "f = urllib2.urlopen('https://cahandson.blob.core.windows.net/nyctaxi/nyctaxipoint1pct.csv')\n",
    "taxisample = f.read()\n",
    "blob_service = BlobService(account_name=STORAGEACCOUNTNAME, account_key=STORAGEKEY)\n",
    "blob_service.create_container('nyctaxinb')\n",
    "blob_service.put_block_blob_from_bytes(\n",
    "    'nyctaxinb',\n",
    "    'nyctaxipoint1pct.csv',\n",
    "    taxisample\n",
    ")"
   ]
  },
  {
   "cell_type": "code",
   "execution_count": null,
   "metadata": {
    "collapsed": false
   },
   "outputs": [],
   "source": [
    "# Construct the SQL DW Connection string\n",
    "driver = 'DRIVER={' + DB_DRIVER + '}'\n",
    "server = 'SERVER=' + SERVER_NAME \n",
    "database = 'DATABASE=' + DATABASE_NAME\n",
    "uid = 'UID=' + USERID \n",
    "pwd = 'PWD=' + PASSWORD\n",
    "CONNECTION_STRING = ';'.join([driver,server,database,uid,pwd, 'Encrypt=yes;TrustServerCertificate=no'])\n",
    "print CONNECTION_STRING"
   ]
  },
  {
   "cell_type": "code",
   "execution_count": 11,
   "metadata": {
    "collapsed": false
   },
   "outputs": [],
   "source": [
    "# Connect to the Database. Autocommit needs to turned on for DDL statements\n",
    "conn = pyodbc.connect(CONNECTION_STRING)\n",
    "conn.autocommit=True\n",
    "cursor = conn.cursor()"
   ]
  },
  {
   "cell_type": "markdown",
   "metadata": {},
   "source": [
    "#### Construct queries for Polybase\n",
    "\n",
    "We will create a table to hold the dataset in DW under a specific schema \"nyctaxinb\". Table name is \"nyctaxi\". The steps to use Polybase are:\n",
    "\n",
    "1. Create Database Scoped Credential to store Storage account key\n",
    "1. Create External datasource (the private blob where we copied the dataset)\n",
    "1. Create external file format \n",
    "1. Create external table specifying the format and data source from above\n",
    "1. Create SQL DW table from the external table\n",
    "\n",
    "If you are re-running the creation of all the objects and reloading the DW, you will need to go to SQLDW (Via SQL Server Data Tools or Management studio) and delete the objects by running the following SQL statements:\n",
    "<code>\n",
    "drop table nyctaxinb.nyctaxi;\n",
    "\n",
    "drop external table external_nyctaxi_nb;\n",
    "\n",
    "DROP EXTERNAL FILE FORMAT nyctaxi_ff ;\n",
    "\n",
    "drop external data source nyctaxi_nb_storage;\n",
    "\n",
    "drop database scoped credential AzureStorageCredential;  \n",
    "</code>\n"
   ]
  },
  {
   "cell_type": "code",
   "execution_count": 12,
   "metadata": {
    "collapsed": false
   },
   "outputs": [
    {
     "name": "stdout",
     "output_type": "stream",
     "text": [
      "CREATE SCHEMA nyctaxinb\n",
      "\n",
      "CREATE DATABASE SCOPED CREDENTIAL AzureStorageCredential  \n",
      "WITH IDENTITY = 'user' , \n",
      "Secret = 'ilbthcJqBHA+NY8yn7EsAuC/PaDfcuZT7DLvylMhwR+gpuY7LThDvU0BtIOYVjRRLTob8etEeOi3iQg37NkNtA=='\n",
      "\n",
      "\n",
      "CREATE EXTERNAL DATA SOURCE nyctaxi_nb_storage \n",
      "WITH\n",
      "(\n",
      "    TYPE = HADOOP,\n",
      "    LOCATION ='wasbs://nyctaxinb@gkgarage.blob.core.windows.net',\n",
      "    CREDENTIAL = AzureStorageCredential\n",
      ")\n",
      "\n",
      "\n",
      "CREATE EXTERNAL FILE FORMAT nyctaxi_ff \n",
      "WITH \n",
      "(   \n",
      "    FORMAT_TYPE = DELIMITEDTEXT, \n",
      "    FORMAT_OPTIONS  \n",
      "    (\n",
      "        FIELD_TERMINATOR =',',\n",
      "        DATE_FORMAT = 'MM/dd/yyyy hh:mm:ss tt',\n",
      "        USE_TYPE_DEFAULT = TRUE\n",
      "    )\n",
      ")\n",
      "\n",
      "\n",
      "CREATE EXTERNAL TABLE external_nyctaxi_nb\n",
      "(\n",
      "    medallion varchar(50) not null,\n",
      "    hack_license varchar(50) not null,\n",
      "    vendor_id char(3),\n",
      "    rate_code char(3),\n",
      "    store_and_fwd_flag char(3),\n",
      "    pickup_datetime datetime not null,\n",
      "    dropoff_datetime datetime not null,\n",
      "    passenger_count int,\n",
      "    trip_time_in_secs bigint,\n",
      "    trip_distance float,\n",
      "    pickup_longitude varchar(30),\n",
      "    pickup_latitude varchar(30),\n",
      "    dropoff_longitude varchar(30),\n",
      "    dropoff_latitude varchar(30),\n",
      "    payment_type char(3),\n",
      "    fare_amount float,\n",
      "    surcharge float,\n",
      "    mta_tax float,\n",
      "    tolls_amount float,\n",
      "    total_amount float,\n",
      "    tip_amount float,\n",
      "    tipped int,\n",
      "    tip_class int\n",
      ")\n",
      "with (\n",
      "    LOCATION    = '.',\n",
      "    DATA_SOURCE = nyctaxi_nb_storage,\n",
      "    FILE_FORMAT = nyctaxi_ff,\n",
      "    REJECT_TYPE = VALUE,\n",
      "    REJECT_VALUE = 12     \n",
      ")  \n",
      "\n",
      "\n",
      "CREATE TABLE nyctaxinb.nyctaxi\n",
      "WITH \n",
      "(   \n",
      "    CLUSTERED COLUMNSTORE INDEX,\n",
      "    DISTRIBUTION = HASH(medallion)\n",
      ")\n",
      "AS \n",
      "SELECT * \n",
      "FROM   external_nyctaxi_nb\n",
      "\n"
     ]
    }
   ],
   "source": [
    "# Create Schema\n",
    "q_sch = '''CREATE SCHEMA nyctaxinb'''\n",
    "\n",
    "q_dbsc_tpl = '''\n",
    "CREATE DATABASE SCOPED CREDENTIAL AzureStorageCredential  \n",
    "WITH IDENTITY = 'user' , \n",
    "Secret = '%s'\n",
    "'''\n",
    "\n",
    "q_extds_tpl = '''\n",
    "CREATE EXTERNAL DATA SOURCE nyctaxi_nb_storage \n",
    "WITH\n",
    "(\n",
    "    TYPE = HADOOP,\n",
    "    LOCATION ='wasbs://nyctaxinb@%s.blob.core.windows.net',\n",
    "    CREDENTIAL = AzureStorageCredential\n",
    ")\n",
    "'''\n",
    "\n",
    "q_extff = '''\n",
    "CREATE EXTERNAL FILE FORMAT nyctaxi_ff \n",
    "WITH \n",
    "(   \n",
    "    FORMAT_TYPE = DELIMITEDTEXT, \n",
    "    FORMAT_OPTIONS  \n",
    "    (\n",
    "        FIELD_TERMINATOR =',',\n",
    "        DATE_FORMAT = 'MM/dd/yyyy hh:mm:ss tt',\n",
    "        USE_TYPE_DEFAULT = TRUE\n",
    "    )\n",
    ")\n",
    "'''\n",
    "\n",
    "q_exttab = '''\n",
    "CREATE EXTERNAL TABLE external_nyctaxi_nb\n",
    "(\n",
    "    medallion varchar(50) not null,\n",
    "    hack_license varchar(50) not null,\n",
    "    vendor_id char(3),\n",
    "    rate_code char(3),\n",
    "    store_and_fwd_flag char(3),\n",
    "    pickup_datetime datetime not null,\n",
    "    dropoff_datetime datetime not null,\n",
    "    passenger_count int,\n",
    "    trip_time_in_secs bigint,\n",
    "    trip_distance float,\n",
    "    pickup_longitude varchar(30),\n",
    "    pickup_latitude varchar(30),\n",
    "    dropoff_longitude varchar(30),\n",
    "    dropoff_latitude varchar(30),\n",
    "    payment_type char(3),\n",
    "    fare_amount float,\n",
    "    surcharge float,\n",
    "    mta_tax float,\n",
    "    tolls_amount float,\n",
    "    total_amount float,\n",
    "    tip_amount float,\n",
    "    tipped int,\n",
    "    tip_class int\n",
    ")\n",
    "with (\n",
    "    LOCATION    = '.',\n",
    "    DATA_SOURCE = nyctaxi_nb_storage,\n",
    "    FILE_FORMAT = nyctaxi_ff,\n",
    "    REJECT_TYPE = VALUE,\n",
    "    REJECT_VALUE = 12     \n",
    ")  \n",
    "'''\n",
    "\n",
    "q_createtab = '''\n",
    "CREATE TABLE nyctaxinb.nyctaxi\n",
    "WITH \n",
    "(   \n",
    "    CLUSTERED COLUMNSTORE INDEX,\n",
    "    DISTRIBUTION = HASH(medallion)\n",
    ")\n",
    "AS \n",
    "SELECT * \n",
    "FROM   external_nyctaxi_nb\n",
    "'''\n",
    "q_dbsc = q_dbsc_tpl % (STORAGEKEY)\n",
    "q_extds = q_extds_tpl % (STORAGEACCOUNTNAME)\n",
    "#cursor.execute(q_sch)\n",
    "#cursor.commit()\n",
    "print q_sch\n",
    "print q_dbsc\n",
    "print q_extds\n",
    "print q_extff\n",
    "print q_exttab\n",
    "print q_createtab"
   ]
  },
  {
   "cell_type": "markdown",
   "metadata": {},
   "source": [
    "#### Now execute the queries constructed above"
   ]
  },
  {
   "cell_type": "code",
   "execution_count": 7,
   "metadata": {
    "collapsed": false
   },
   "outputs": [
    {
     "ename": "ProgrammingError",
     "evalue": "('42S01', \"[42S01] [Microsoft][SQL Server Native Client 11.0][SQL Server]There is already an object named 'nyctaxinb' in the database.\\r\\nCREATE SCHEMA failed due to previous errors. (2714) (SQLExecDirectW)\")",
     "output_type": "error",
     "traceback": [
      "\u001b[1;31m---------------------------------------------------------------------------\u001b[0m",
      "\u001b[1;31mProgrammingError\u001b[0m                          Traceback (most recent call last)",
      "\u001b[1;32m<ipython-input-7-0d5f3251deab>\u001b[0m in \u001b[0;36m<module>\u001b[1;34m()\u001b[0m\n\u001b[1;32m----> 1\u001b[1;33m \u001b[0mcursor\u001b[0m\u001b[1;33m.\u001b[0m\u001b[0mexecute\u001b[0m\u001b[1;33m(\u001b[0m\u001b[0mq_sch\u001b[0m\u001b[1;33m)\u001b[0m\u001b[1;33m\u001b[0m\u001b[0m\n\u001b[0m",
      "\u001b[1;31mProgrammingError\u001b[0m: ('42S01', \"[42S01] [Microsoft][SQL Server Native Client 11.0][SQL Server]There is already an object named 'nyctaxinb' in the database.\\r\\nCREATE SCHEMA failed due to previous errors. (2714) (SQLExecDirectW)\")"
     ]
    }
   ],
   "source": [
    "cursor.execute(q_sch)"
   ]
  },
  {
   "cell_type": "code",
   "execution_count": 13,
   "metadata": {
    "collapsed": false
   },
   "outputs": [
    {
     "data": {
      "text/plain": [
       "<pyodbc.Cursor at 0xab91f90>"
      ]
     },
     "execution_count": 13,
     "metadata": {},
     "output_type": "execute_result"
    }
   ],
   "source": [
    "cursor.execute(q_dbsc)"
   ]
  },
  {
   "cell_type": "code",
   "execution_count": 14,
   "metadata": {
    "collapsed": false
   },
   "outputs": [
    {
     "data": {
      "text/plain": [
       "<pyodbc.Cursor at 0xab91f90>"
      ]
     },
     "execution_count": 14,
     "metadata": {},
     "output_type": "execute_result"
    }
   ],
   "source": [
    "cursor.execute(q_extds)"
   ]
  },
  {
   "cell_type": "code",
   "execution_count": 15,
   "metadata": {
    "collapsed": false
   },
   "outputs": [
    {
     "data": {
      "text/plain": [
       "<pyodbc.Cursor at 0xab91f90>"
      ]
     },
     "execution_count": 15,
     "metadata": {},
     "output_type": "execute_result"
    }
   ],
   "source": [
    "cursor.execute(q_extff)"
   ]
  },
  {
   "cell_type": "code",
   "execution_count": 16,
   "metadata": {
    "collapsed": false
   },
   "outputs": [
    {
     "data": {
      "text/plain": [
       "<pyodbc.Cursor at 0xab91f90>"
      ]
     },
     "execution_count": 16,
     "metadata": {},
     "output_type": "execute_result"
    }
   ],
   "source": [
    "cursor.execute(q_exttab)"
   ]
  },
  {
   "cell_type": "code",
   "execution_count": 17,
   "metadata": {
    "collapsed": false
   },
   "outputs": [
    {
     "data": {
      "text/plain": [
       "<pyodbc.Cursor at 0xab91f90>"
      ]
     },
     "execution_count": 17,
     "metadata": {},
     "output_type": "execute_result"
    }
   ],
   "source": [
    "cursor.execute(q_createtab)"
   ]
  },
  {
   "cell_type": "markdown",
   "metadata": {
    "collapsed": true
   },
   "source": [
    "#### Verify the data is loaded"
   ]
  },
  {
   "cell_type": "code",
   "execution_count": 18,
   "metadata": {
    "collapsed": false
   },
   "outputs": [
    {
     "data": {
      "text/html": [
       "<div>\n",
       "<table border=\"1\" class=\"dataframe\">\n",
       "  <thead>\n",
       "    <tr style=\"text-align: right;\">\n",
       "      <th></th>\n",
       "      <th>medallion</th>\n",
       "      <th>hack_license</th>\n",
       "      <th>vendor_id</th>\n",
       "      <th>rate_code</th>\n",
       "      <th>store_and_fwd_flag</th>\n",
       "      <th>pickup_datetime</th>\n",
       "      <th>dropoff_datetime</th>\n",
       "      <th>passenger_count</th>\n",
       "      <th>trip_time_in_secs</th>\n",
       "      <th>trip_distance</th>\n",
       "      <th>...</th>\n",
       "      <th>dropoff_latitude</th>\n",
       "      <th>payment_type</th>\n",
       "      <th>fare_amount</th>\n",
       "      <th>surcharge</th>\n",
       "      <th>mta_tax</th>\n",
       "      <th>tolls_amount</th>\n",
       "      <th>total_amount</th>\n",
       "      <th>tip_amount</th>\n",
       "      <th>tipped</th>\n",
       "      <th>tip_class</th>\n",
       "    </tr>\n",
       "  </thead>\n",
       "  <tbody>\n",
       "    <tr>\n",
       "      <th>0</th>\n",
       "      <td>B505BF57EE08B47D1A9A28F746C46A37</td>\n",
       "      <td>0263C0794089506BC7EE5039A788A23F</td>\n",
       "      <td>VTS</td>\n",
       "      <td>1</td>\n",
       "      <td>\"\"</td>\n",
       "      <td>2013-03-04 22:27:00</td>\n",
       "      <td>2013-03-04 22:31:00</td>\n",
       "      <td>2</td>\n",
       "      <td>240</td>\n",
       "      <td>1.57</td>\n",
       "      <td>...</td>\n",
       "      <td>40.746799</td>\n",
       "      <td>CRD</td>\n",
       "      <td>6.5</td>\n",
       "      <td>0.5</td>\n",
       "      <td>0.5</td>\n",
       "      <td>0</td>\n",
       "      <td>8.90</td>\n",
       "      <td>1.40</td>\n",
       "      <td>1</td>\n",
       "      <td>1</td>\n",
       "    </tr>\n",
       "    <tr>\n",
       "      <th>1</th>\n",
       "      <td>8602C683EF20BE73168B5B4657F655A2</td>\n",
       "      <td>F0CB659C0B6D2FABC574090DC60051B3</td>\n",
       "      <td>VTS</td>\n",
       "      <td>1</td>\n",
       "      <td>\"\"</td>\n",
       "      <td>2013-11-06 22:29:00</td>\n",
       "      <td>2013-11-06 22:37:00</td>\n",
       "      <td>6</td>\n",
       "      <td>480</td>\n",
       "      <td>1.66</td>\n",
       "      <td>...</td>\n",
       "      <td>40.773579</td>\n",
       "      <td>CRD</td>\n",
       "      <td>8.0</td>\n",
       "      <td>0.5</td>\n",
       "      <td>0.5</td>\n",
       "      <td>0</td>\n",
       "      <td>11.12</td>\n",
       "      <td>2.12</td>\n",
       "      <td>1</td>\n",
       "      <td>1</td>\n",
       "    </tr>\n",
       "    <tr>\n",
       "      <th>2</th>\n",
       "      <td>6B5219D6D71C99D9F17746F1C8C67861</td>\n",
       "      <td>C47850DF4AE043EC699F5BB4D424499D</td>\n",
       "      <td>VTS</td>\n",
       "      <td>1</td>\n",
       "      <td>\"\"</td>\n",
       "      <td>2013-09-15 08:04:00</td>\n",
       "      <td>2013-09-15 08:30:00</td>\n",
       "      <td>3</td>\n",
       "      <td>1560</td>\n",
       "      <td>11.55</td>\n",
       "      <td>...</td>\n",
       "      <td>40.678944</td>\n",
       "      <td>CRD</td>\n",
       "      <td>34.0</td>\n",
       "      <td>0.0</td>\n",
       "      <td>0.5</td>\n",
       "      <td>0</td>\n",
       "      <td>43.00</td>\n",
       "      <td>8.50</td>\n",
       "      <td>1</td>\n",
       "      <td>2</td>\n",
       "    </tr>\n",
       "    <tr>\n",
       "      <th>3</th>\n",
       "      <td>E807403B8C181E55DFFE25489CC025D2</td>\n",
       "      <td>BF51059B67A9314E4BBCEE6720598847</td>\n",
       "      <td>CMT</td>\n",
       "      <td>1</td>\n",
       "      <td>N</td>\n",
       "      <td>2013-04-13 02:54:09</td>\n",
       "      <td>2013-04-13 03:04:43</td>\n",
       "      <td>1</td>\n",
       "      <td>633</td>\n",
       "      <td>1.90</td>\n",
       "      <td>...</td>\n",
       "      <td>40.707375</td>\n",
       "      <td>CRD</td>\n",
       "      <td>9.5</td>\n",
       "      <td>0.5</td>\n",
       "      <td>0.5</td>\n",
       "      <td>0</td>\n",
       "      <td>12.60</td>\n",
       "      <td>2.10</td>\n",
       "      <td>1</td>\n",
       "      <td>1</td>\n",
       "    </tr>\n",
       "    <tr>\n",
       "      <th>4</th>\n",
       "      <td>11DE35431DD1EB8FB3C5982F874A34F8</td>\n",
       "      <td>0F9A7E0BA925C549E69BCE407D912CAD</td>\n",
       "      <td>CMT</td>\n",
       "      <td>1</td>\n",
       "      <td>N</td>\n",
       "      <td>2013-09-04 09:39:42</td>\n",
       "      <td>2013-09-04 09:45:59</td>\n",
       "      <td>1</td>\n",
       "      <td>376</td>\n",
       "      <td>1.20</td>\n",
       "      <td>...</td>\n",
       "      <td>40.763786</td>\n",
       "      <td>CRD</td>\n",
       "      <td>6.5</td>\n",
       "      <td>0.0</td>\n",
       "      <td>0.5</td>\n",
       "      <td>0</td>\n",
       "      <td>8.40</td>\n",
       "      <td>1.40</td>\n",
       "      <td>1</td>\n",
       "      <td>1</td>\n",
       "    </tr>\n",
       "    <tr>\n",
       "      <th>5</th>\n",
       "      <td>32BFF45F9BD84ED81A355C98944C175A</td>\n",
       "      <td>7B6D0CD3F60DE976EC588ED4D178B52D</td>\n",
       "      <td>CMT</td>\n",
       "      <td>1</td>\n",
       "      <td>N</td>\n",
       "      <td>2013-07-02 16:28:14</td>\n",
       "      <td>2013-07-02 16:33:18</td>\n",
       "      <td>1</td>\n",
       "      <td>304</td>\n",
       "      <td>0.80</td>\n",
       "      <td>...</td>\n",
       "      <td>40.76899</td>\n",
       "      <td>CRD</td>\n",
       "      <td>5.5</td>\n",
       "      <td>1.0</td>\n",
       "      <td>0.5</td>\n",
       "      <td>0</td>\n",
       "      <td>8.40</td>\n",
       "      <td>1.40</td>\n",
       "      <td>1</td>\n",
       "      <td>1</td>\n",
       "    </tr>\n",
       "    <tr>\n",
       "      <th>6</th>\n",
       "      <td>6D42AA76826708EA462441CB7133374C</td>\n",
       "      <td>0C3549B549D90B1DCE1D47F441C5B275</td>\n",
       "      <td>CMT</td>\n",
       "      <td>1</td>\n",
       "      <td>N</td>\n",
       "      <td>2013-08-21 10:50:20</td>\n",
       "      <td>2013-08-21 11:03:11</td>\n",
       "      <td>1</td>\n",
       "      <td>771</td>\n",
       "      <td>2.40</td>\n",
       "      <td>...</td>\n",
       "      <td>40.743935</td>\n",
       "      <td>CSH</td>\n",
       "      <td>10.5</td>\n",
       "      <td>0.0</td>\n",
       "      <td>0.5</td>\n",
       "      <td>0</td>\n",
       "      <td>11.00</td>\n",
       "      <td>0.00</td>\n",
       "      <td>0</td>\n",
       "      <td>0</td>\n",
       "    </tr>\n",
       "    <tr>\n",
       "      <th>7</th>\n",
       "      <td>30DAA9127DA29636A5D3CDD370FFB8C2</td>\n",
       "      <td>2C3784F1C3FCE38CDE7BECACB63795CE</td>\n",
       "      <td>CMT</td>\n",
       "      <td>1</td>\n",
       "      <td>N</td>\n",
       "      <td>2013-01-19 06:42:57</td>\n",
       "      <td>2013-01-19 06:48:12</td>\n",
       "      <td>2</td>\n",
       "      <td>314</td>\n",
       "      <td>1.50</td>\n",
       "      <td>...</td>\n",
       "      <td>40.743885</td>\n",
       "      <td>CRD</td>\n",
       "      <td>7.0</td>\n",
       "      <td>0.0</td>\n",
       "      <td>0.5</td>\n",
       "      <td>0</td>\n",
       "      <td>9.00</td>\n",
       "      <td>1.50</td>\n",
       "      <td>1</td>\n",
       "      <td>1</td>\n",
       "    </tr>\n",
       "    <tr>\n",
       "      <th>8</th>\n",
       "      <td>57E0853CE50CAEBBB249D42C5D96FD4C</td>\n",
       "      <td>2942468A99C4DE447A339010883272F9</td>\n",
       "      <td>VTS</td>\n",
       "      <td>1</td>\n",
       "      <td>\"\"</td>\n",
       "      <td>2013-10-26 07:48:00</td>\n",
       "      <td>2013-10-26 07:56:00</td>\n",
       "      <td>1</td>\n",
       "      <td>480</td>\n",
       "      <td>1.50</td>\n",
       "      <td>...</td>\n",
       "      <td>40.722511</td>\n",
       "      <td>CRD</td>\n",
       "      <td>8.0</td>\n",
       "      <td>0.0</td>\n",
       "      <td>0.5</td>\n",
       "      <td>0</td>\n",
       "      <td>9.50</td>\n",
       "      <td>1.00</td>\n",
       "      <td>1</td>\n",
       "      <td>1</td>\n",
       "    </tr>\n",
       "    <tr>\n",
       "      <th>9</th>\n",
       "      <td>97576A28817DE822E51EE06A8F39B121</td>\n",
       "      <td>5AB656A83A7F3A6FB748083983725F18</td>\n",
       "      <td>VTS</td>\n",
       "      <td>1</td>\n",
       "      <td>\"\"</td>\n",
       "      <td>2013-01-30 14:26:00</td>\n",
       "      <td>2013-01-30 14:35:00</td>\n",
       "      <td>1</td>\n",
       "      <td>540</td>\n",
       "      <td>0.49</td>\n",
       "      <td>...</td>\n",
       "      <td>40.757805</td>\n",
       "      <td>CRD</td>\n",
       "      <td>7.0</td>\n",
       "      <td>0.0</td>\n",
       "      <td>0.5</td>\n",
       "      <td>0</td>\n",
       "      <td>9.60</td>\n",
       "      <td>2.10</td>\n",
       "      <td>1</td>\n",
       "      <td>1</td>\n",
       "    </tr>\n",
       "  </tbody>\n",
       "</table>\n",
       "<p>10 rows × 23 columns</p>\n",
       "</div>"
      ],
      "text/plain": [
       "                          medallion                      hack_license  \\\n",
       "0  B505BF57EE08B47D1A9A28F746C46A37  0263C0794089506BC7EE5039A788A23F   \n",
       "1  8602C683EF20BE73168B5B4657F655A2  F0CB659C0B6D2FABC574090DC60051B3   \n",
       "2  6B5219D6D71C99D9F17746F1C8C67861  C47850DF4AE043EC699F5BB4D424499D   \n",
       "3  E807403B8C181E55DFFE25489CC025D2  BF51059B67A9314E4BBCEE6720598847   \n",
       "4  11DE35431DD1EB8FB3C5982F874A34F8  0F9A7E0BA925C549E69BCE407D912CAD   \n",
       "5  32BFF45F9BD84ED81A355C98944C175A  7B6D0CD3F60DE976EC588ED4D178B52D   \n",
       "6  6D42AA76826708EA462441CB7133374C  0C3549B549D90B1DCE1D47F441C5B275   \n",
       "7  30DAA9127DA29636A5D3CDD370FFB8C2  2C3784F1C3FCE38CDE7BECACB63795CE   \n",
       "8  57E0853CE50CAEBBB249D42C5D96FD4C  2942468A99C4DE447A339010883272F9   \n",
       "9  97576A28817DE822E51EE06A8F39B121  5AB656A83A7F3A6FB748083983725F18   \n",
       "\n",
       "  vendor_id rate_code store_and_fwd_flag     pickup_datetime  \\\n",
       "0       VTS       1                  \"\"  2013-03-04 22:27:00   \n",
       "1       VTS       1                  \"\"  2013-11-06 22:29:00   \n",
       "2       VTS       1                  \"\"  2013-09-15 08:04:00   \n",
       "3       CMT       1                  N   2013-04-13 02:54:09   \n",
       "4       CMT       1                  N   2013-09-04 09:39:42   \n",
       "5       CMT       1                  N   2013-07-02 16:28:14   \n",
       "6       CMT       1                  N   2013-08-21 10:50:20   \n",
       "7       CMT       1                  N   2013-01-19 06:42:57   \n",
       "8       VTS       1                  \"\"  2013-10-26 07:48:00   \n",
       "9       VTS       1                  \"\"  2013-01-30 14:26:00   \n",
       "\n",
       "     dropoff_datetime  passenger_count  trip_time_in_secs  trip_distance  \\\n",
       "0 2013-03-04 22:31:00                2                240           1.57   \n",
       "1 2013-11-06 22:37:00                6                480           1.66   \n",
       "2 2013-09-15 08:30:00                3               1560          11.55   \n",
       "3 2013-04-13 03:04:43                1                633           1.90   \n",
       "4 2013-09-04 09:45:59                1                376           1.20   \n",
       "5 2013-07-02 16:33:18                1                304           0.80   \n",
       "6 2013-08-21 11:03:11                1                771           2.40   \n",
       "7 2013-01-19 06:48:12                2                314           1.50   \n",
       "8 2013-10-26 07:56:00                1                480           1.50   \n",
       "9 2013-01-30 14:35:00                1                540           0.49   \n",
       "\n",
       "     ...     dropoff_latitude payment_type fare_amount surcharge mta_tax  \\\n",
       "0    ...            40.746799          CRD         6.5       0.5     0.5   \n",
       "1    ...            40.773579          CRD         8.0       0.5     0.5   \n",
       "2    ...            40.678944          CRD        34.0       0.0     0.5   \n",
       "3    ...            40.707375          CRD         9.5       0.5     0.5   \n",
       "4    ...            40.763786          CRD         6.5       0.0     0.5   \n",
       "5    ...             40.76899          CRD         5.5       1.0     0.5   \n",
       "6    ...            40.743935          CSH        10.5       0.0     0.5   \n",
       "7    ...            40.743885          CRD         7.0       0.0     0.5   \n",
       "8    ...            40.722511          CRD         8.0       0.0     0.5   \n",
       "9    ...            40.757805          CRD         7.0       0.0     0.5   \n",
       "\n",
       "   tolls_amount  total_amount  tip_amount  tipped  tip_class  \n",
       "0             0          8.90        1.40       1          1  \n",
       "1             0         11.12        2.12       1          1  \n",
       "2             0         43.00        8.50       1          2  \n",
       "3             0         12.60        2.10       1          1  \n",
       "4             0          8.40        1.40       1          1  \n",
       "5             0          8.40        1.40       1          1  \n",
       "6             0         11.00        0.00       0          0  \n",
       "7             0          9.00        1.50       1          1  \n",
       "8             0          9.50        1.00       1          1  \n",
       "9             0          9.60        2.10       1          1  \n",
       "\n",
       "[10 rows x 23 columns]"
      ]
     },
     "execution_count": 18,
     "metadata": {},
     "output_type": "execute_result"
    }
   ],
   "source": [
    "cursor.close()\n",
    "pd.read_sql('select top 10 * from nyctaxinb.nyctaxi',conn)"
   ]
  },
  {
   "cell_type": "code",
   "execution_count": null,
   "metadata": {
    "collapsed": true
   },
   "outputs": [],
   "source": []
  }
 ],
 "metadata": {
  "kernelspec": {
   "display_name": "Python 2",
   "language": "python",
   "name": "python2"
  },
  "language_info": {
   "codemirror_mode": {
    "name": "ipython",
    "version": 2
   },
   "file_extension": ".py",
   "mimetype": "text/x-python",
   "name": "python",
   "nbconvert_exporter": "python",
   "pygments_lexer": "ipython2",
   "version": "2.7.11"
  }
 },
 "nbformat": 4,
 "nbformat_minor": 0
}
