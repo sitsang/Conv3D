{
 "cells": [
  {
   "cell_type": "markdown",
   "metadata": {
    "collapsed": true
   },
   "source": [
    "# Introduction to Azure ML R notebooks\n",
    "\n",
    "## Summary\n",
    "\n",
    "Introduce situations where Azure Machine Learning (ML) R notebooks can be used. Fit a model using R, then publish the model as a web service to Azure ML Studio.\n",
    "\n",
    "## Description\n",
    "\n",
    "The purpose of this notebook is to demonstrate how to use Jupyter notebooks on the Azure Machine Learning Studio to develop a model in R and publish a web service based on the model.\n",
    "\n",
    "### Using Azure ML notebooks\n",
    "\n",
    "For data scientists new to Azure ML and accustomed to doing all analytical work using R on local computers, Azure Machine Learning makes it possible to write R notebooks on the cloud. So anyone with internet access can work with R from a web browser. \n",
    "\n",
    "If you use R and understand the basics of Azure ML, notebooks make it possible to develop your models in R and then operationalize them easily. \n",
    "\n",
    "Data scientists who are comfortable with both R and Azure ML Experiments, can use these together in different ways:\n",
    "\n",
    "* To explore data from an Azure ML Experiment. For example, you can use a notebook to visualize your data in different ways.\n",
    "* To fit models and use techniques that are not available in Azure ML Experiments yet. For example, R offers more options in terms of variable selection techniques and a wider variety of models. You can also used it for time series analysis.\n",
    "* To test code before using it in the \"Execute R Script\" module of Azure ML Experiments.\n",
    "\n",
    "### Target audience\n",
    "\n",
    "The target audience of this notebook are R users who have a basic understanding of Azure ML. If you are new to Azure ML, Section 2 of the [Data Scientists' Guide][guide link] provides enough information for you to follow this tutorial. \n",
    "\n",
    "[guide link]: https://gallery.cortanaanalytics.com/Experiment/Tutorial-for-Data-Scientists-3\n",
    "\n",
    "\n",
    "## Data\n",
    "\n",
    "In this example, you use the Boston housing data from the R package `MASS`.  The `Boston` dataset contains 506 rows and 14 columns. Available information includes median home price, average number of rooms per dwelling, crime rate by town, etc. More information about this dataset can be found by typing `?Boston` or `help(Boston)` in an R terminal, or at this [UCI page][uci link].\n",
    "\n",
    "To run a cell, select it and press CTRL+ENTER or SHIFT+ENTER.\n",
    "\n",
    "[uci link]: https://archive.ics.uci.edu/ml/datasets/Housing"
   ]
  },
  {
   "cell_type": "code",
   "execution_count": 2,
   "metadata": {
    "collapsed": false
   },
   "outputs": [],
   "source": [
    "# load the library to use the Boston dataset\n",
    "library(MASS)\n",
    "?Boston"
   ]
  },
  {
   "cell_type": "code",
   "execution_count": 3,
   "metadata": {
    "collapsed": false
   },
   "outputs": [
    {
     "data": {},
     "metadata": {},
     "output_type": "display_data"
    },
    {
     "data": {
      "image/png": "[encoded data removed]",
      "text/plain": [
       "plot without title"
      ]
     },
     "metadata": {},
     "output_type": "display_data"
    }
   ],
   "source": [
    "# library for plotting\n",
    "library(ggplot2) \n",
    "# plot distribution of the response variable\n",
    "ggplot(Boston, aes(x=medv)) + \n",
    "  geom_histogram(binwidth=2) +\n",
    "  ggtitle(\"Histogram of Response Variable\")"
   ]
  },
  {
   "cell_type": "markdown",
   "metadata": {},
   "source": [
    "## A linear regression model\n",
    "\n",
    "For illustration purposes, use `medv`, median home price, as the response variable and all other variables as predictors.\n",
    "\n",
    "[uci link]: https://archive.ics.uci.edu/ml/datasets/Housing"
   ]
  },
  {
   "cell_type": "code",
   "execution_count": 4,
   "metadata": {
    "collapsed": false
   },
   "outputs": [
    {
     "data": {
      "text/plain": [
       "\n",
       "Call:\n",
       "lm(formula = medv ~ ., data = Boston)\n",
       "\n",
       "Residuals:\n",
       "    Min      1Q  Median      3Q     Max \n",
       "-15.595  -2.730  -0.518   1.777  26.199 \n",
       "\n",
       "Coefficients:\n",
       "              Estimate Std. Error t value Pr(>|t|)    \n",
       "(Intercept)  3.646e+01  5.103e+00   7.144 3.28e-12 ***\n",
       "crim        -1.080e-01  3.286e-02  -3.287 0.001087 ** \n",
       "zn           4.642e-02  1.373e-02   3.382 0.000778 ***\n",
       "indus        2.056e-02  6.150e-02   0.334 0.738288    \n",
       "chas         2.687e+00  8.616e-01   3.118 0.001925 ** \n",
       "nox         -1.777e+01  3.820e+00  -4.651 4.25e-06 ***\n",
       "rm           3.810e+00  4.179e-01   9.116  < 2e-16 ***\n",
       "age          6.922e-04  1.321e-02   0.052 0.958229    \n",
       "dis         -1.476e+00  1.995e-01  -7.398 6.01e-13 ***\n",
       "rad          3.060e-01  6.635e-02   4.613 5.07e-06 ***\n",
       "tax         -1.233e-02  3.760e-03  -3.280 0.001112 ** \n",
       "ptratio     -9.527e-01  1.308e-01  -7.283 1.31e-12 ***\n",
       "black        9.312e-03  2.686e-03   3.467 0.000573 ***\n",
       "lstat       -5.248e-01  5.072e-02 -10.347  < 2e-16 ***\n",
       "---\n",
       "Signif. codes:  0 '***' 0.001 '**' 0.01 '*' 0.05 '.' 0.1 ' ' 1\n",
       "\n",
       "Residual standard error: 4.745 on 492 degrees of freedom\n",
       "Multiple R-squared:  0.7406,\tAdjusted R-squared:  0.7338 \n",
       "F-statistic: 108.1 on 13 and 492 DF,  p-value: < 2.2e-16\n"
      ]
     },
     "metadata": {},
     "output_type": "display_data"
    }
   ],
   "source": [
    "# fit a model using all variables except medv as predictors\n",
    "lm1 <- lm(medv ~ ., data = Boston)\n",
    "\n",
    "# check model performance\n",
    "summary(lm1)"
   ]
  },
  {
   "cell_type": "markdown",
   "metadata": {},
   "source": [
    "Now compute some error measures:"
   ]
  },
  {
   "cell_type": "code",
   "execution_count": 5,
   "metadata": {
    "collapsed": false
   },
   "outputs": [
    {
     "name": "stdout",
     "output_type": "stream",
     "text": [
      "Mean Absolute Error: 3.270863 \n",
      "Root Mean Squared Error: 4.679191 \n",
      "Relative Absolute Error: 0.492066 \n",
      "Relative Squared Error: 0.259357 \n"
     ]
    }
   ],
   "source": [
    "pred <- predict(lm1)\n",
    "error <- pred - Boston$medv\n",
    "mae <- mean(abs(error))\n",
    "rmse <- sqrt(mean((error)^2))\n",
    "rae <- mean(abs(error)) / mean(abs(Boston$medv - mean(Boston$medv)))\n",
    "rse <- mean((error)^2) / mean((Boston$medv - mean(Boston$medv))^2)\n",
    "\n",
    "cat(\"Mean Absolute Error:\", round(mae, 6), \"\\n\")\n",
    "cat(\"Root Mean Squared Error:\", round(rmse, 6), \"\\n\")\n",
    "cat(\"Relative Absolute Error:\", round(rae, 6), \"\\n\")\n",
    "cat(\"Relative Squared Error:\", round(rse, 6), \"\\n\")"
   ]
  },
  {
   "cell_type": "markdown",
   "metadata": {},
   "source": [
    "## Web service\n",
    "\n",
    "### Deploy a web service\n",
    "\n",
    "With the developed model, you can deploy a web service so that others can use it to make predictions. The `AzureML` R package will be used for this purpose. You'll need to provide the **workspace ID** and **authorization token** for an Azure ML workspace. The two screenshots below show where you can find them in your workspace. Either primary or secondary authorization token can be used. \n",
    "\n",
    "#### Finding your workspace ID\n",
    "\n",
    "<img src=\"https://az712634.vo.msecnd.net/notebooks/952a5db4-91f6-11e5-9710-8805451194dd.PNG\" width = \"800\", alt = \"Finding your workspace ID\">\n",
    "\n",
    "#### Finding your authorization token\n",
    "\n",
    "<img src=\"https://az712634.vo.msecnd.net/notebooks/09746e40-91f6-11e5-9dfa-6ac897e3c426.PNG\" width = \"800\", alt = \"Finding your authorization token\">"
   ]
  },
  {
   "cell_type": "markdown",
   "metadata": {},
   "source": [
    "### Publishing a web service\n",
    "\n",
    "You use the function `publishWebservice()` to deploy your model.\n",
    "\n",
    "**Important: Publishing and consuming a web service requires you to have valid Azure ML credentials. Concretely, if you logged in using a Guest account, you will get an error. If this is the case, please log in using your Microsoft or Azure account and try again.**"
   ]
  },
  {
   "cell_type": "code",
   "execution_count": 7,
   "metadata": {
    "collapsed": false
   },
   "outputs": [
    {
     "data": {
      "text/html": [
       "<table>\n",
       "<thead><tr><th scope=col>actual</th><th scope=col>prediction</th></tr></thead>\n",
       "<tbody>\n",
       "\t<tr><td>24.0    </td><td>30.00384</td></tr>\n",
       "\t<tr><td>21.6    </td><td>25.02556</td></tr>\n",
       "\t<tr><td>34.7    </td><td>30.56760</td></tr>\n",
       "\t<tr><td>33.4    </td><td>28.60704</td></tr>\n",
       "\t<tr><td>36.2    </td><td>27.94352</td></tr>\n",
       "</tbody>\n",
       "</table>\n"
      ],
      "text/latex": [
       "\\begin{tabular}{r|ll}\n",
       " actual & prediction\\\\\n",
       "\\hline\n",
       "\t 24.0     & 30.00384\\\\\n",
       "\t 21.6     & 25.02556\\\\\n",
       "\t 34.7     & 30.56760\\\\\n",
       "\t 33.4     & 28.60704\\\\\n",
       "\t 36.2     & 27.94352\\\\\n",
       "\\end{tabular}\n"
      ],
      "text/plain": [
       "  actual prediction\n",
       "1 24.0   30.00384  \n",
       "2 21.6   25.02556  \n",
       "3 34.7   30.56760  \n",
       "4 33.4   28.60704  \n",
       "5 36.2   27.94352  "
      ]
     },
     "metadata": {},
     "output_type": "display_data"
    }
   ],
   "source": [
    "# load the library\n",
    "library(AzureML)\n",
    "\n",
    "# If you use workspace() in a Jupyter notebook, you don't need to specify credentials,\n",
    "# since the settings are stored for you in a local file.\n",
    "# If you use this function on your own machine, specify your credentials. See ?workspace.\n",
    "\n",
    "if(file.exists(\"~/.azureml/settings.json\")){\n",
    "    ws <- workspace()\n",
    "} else {\n",
    "    workspace_id <- \"ENTER AZURE ML WORKSPACE ID (SEE ABOVE)\"\n",
    "    authorization_token <- \"ENTER AZURE ML WORKSPACE AUTH TOKEN (SEE ABOVE)\"\n",
    "    ws <- workspace(workspace_id, authorization_token)\n",
    "}\n",
    "\n",
    "# define predict function\n",
    "mypredict <- function(newdata){\n",
    "  predict(lm1, newdata)\n",
    "}\n",
    "\n",
    "# a sample with predictor information\n",
    "newdata <- Boston[1:5, ]\n",
    "\n",
    "# test the prediction function\n",
    "data.frame(\n",
    "    actual = newdata$medv, \n",
    "    prediction = mypredict(newdata))"
   ]
  },
  {
   "cell_type": "code",
   "execution_count": 8,
   "metadata": {
    "collapsed": false
   },
   "outputs": [
    {
     "name": "stderr",
     "output_type": "stream",
     "text": [
      "converting `inputSchema` to data frame\n"
     ]
    }
   ],
   "source": [
    "# publish the service\n",
    "ep <- publishWebService(ws = ws, \n",
    "                        fun = mypredict, \n",
    "                        name = \"HousePricePrediction\", \n",
    "                        inputSchema = newdata)\n",
    "# str(ep)"
   ]
  },
  {
   "cell_type": "markdown",
   "metadata": {},
   "source": [
    "### Consume a web service\n",
    "\n",
    "After setting up a web service, you can use R to consume the model, either in the same session, or by saving some data about the web service, in any other (future) R session.\n",
    "\n",
    "#### In-session consumption\n",
    "\n",
    "If you are consuming the web service in the same session that the web service was set up, you can refer to the endpoint directly.\n",
    "\n",
    "**Important: Publishing and consuming a web service requires you to have valid Azure ML credentials. Concretely, if you logged in using a Guest account, you will get an error. If this is the case, please log in using your Microsoft or Azure account and try again.**"
   ]
  },
  {
   "cell_type": "code",
   "execution_count": 9,
   "metadata": {
    "collapsed": false
   },
   "outputs": [],
   "source": [
    "pred <- consume(ep, newdata)$ans\n",
    "# Note that this operation may take several seconds to complete.\n",
    "# You may see several retry attempts, before the service returns with a value"
   ]
  },
  {
   "cell_type": "code",
   "execution_count": 10,
   "metadata": {
    "collapsed": false
   },
   "outputs": [
    {
     "data": {
      "text/html": [
       "<table>\n",
       "<thead><tr><th scope=col>actual</th><th scope=col>prediction</th></tr></thead>\n",
       "<tbody>\n",
       "\t<tr><td>24.0    </td><td>30.00384</td></tr>\n",
       "\t<tr><td>21.6    </td><td>25.02556</td></tr>\n",
       "\t<tr><td>34.7    </td><td>30.56760</td></tr>\n",
       "\t<tr><td>33.4    </td><td>28.60704</td></tr>\n",
       "\t<tr><td>36.2    </td><td>27.94352</td></tr>\n",
       "</tbody>\n",
       "</table>\n"
      ],
      "text/latex": [
       "\\begin{tabular}{r|ll}\n",
       " actual & prediction\\\\\n",
       "\\hline\n",
       "\t 24.0     & 30.00384\\\\\n",
       "\t 21.6     & 25.02556\\\\\n",
       "\t 34.7     & 30.56760\\\\\n",
       "\t 33.4     & 28.60704\\\\\n",
       "\t 36.2     & 27.94352\\\\\n",
       "\\end{tabular}\n"
      ],
      "text/plain": [
       "  actual prediction\n",
       "1 24.0   30.00384  \n",
       "2 21.6   25.02556  \n",
       "3 34.7   30.56760  \n",
       "4 33.4   28.60704  \n",
       "5 36.2   27.94352  "
      ]
     },
     "metadata": {},
     "output_type": "display_data"
    }
   ],
   "source": [
    "data.frame(actual = newdata$medv, prediction = pred)"
   ]
  },
  {
   "cell_type": "markdown",
   "metadata": {},
   "source": [
    "#### Out-of-session consumption\n",
    "\n",
    "If you consume the web service in a new session, you need to save the workspace information - workspace id and  authorization token - and web service ID. Such information can then be used by the `consume()` function:\n",
    "\n",
    "**Important: consuming a web service requires you to have valid Azure ML credentials. Concretely, if you logged in using a Guest account, you will get an error.**"
   ]
  },
  {
   "cell_type": "code",
   "execution_count": 11,
   "metadata": {
    "collapsed": true
   },
   "outputs": [],
   "source": [
    "# Option 1: Create a temporary file to store the endpoint data\n",
    "tf <- tempfile(fileext = \".rds\")\n",
    "saveRDS(ep, file = tf)\n",
    "\n",
    "# Read the endpoint data from file\n",
    "endpoint <- readRDS(tf)\n",
    "\n",
    "# # Option 2: save workspace ID, authorization token and service ID\n",
    "# ws_id <- ws$id\n",
    "# ws_auth <- ws$.auth\n",
    "# # save web service ID\n",
    "# service_id <- ep$WebServiceId\n",
    "# # define workspace, this is necessary if you are running outside of the service deployment session\n",
    "# ws <- workspace(\n",
    "#    id = ws_id,\n",
    "#    auth = ws_auth\n",
    "# )\n",
    "# # defind endpoint based on workspace and service ID information\n",
    "# endpoint <- endpoints(ws, service_id)"
   ]
  },
  {
   "cell_type": "code",
   "execution_count": 12,
   "metadata": {
    "collapsed": false
   },
   "outputs": [
    {
     "data": {
      "text/html": [
       "<table>\n",
       "<thead><tr><th scope=col>actual</th><th scope=col>prediction</th></tr></thead>\n",
       "<tbody>\n",
       "\t<tr><td>24.0    </td><td>30.00384</td></tr>\n",
       "\t<tr><td>21.6    </td><td>25.02556</td></tr>\n",
       "\t<tr><td>34.7    </td><td>30.56760</td></tr>\n",
       "\t<tr><td>33.4    </td><td>28.60704</td></tr>\n",
       "\t<tr><td>36.2    </td><td>27.94352</td></tr>\n",
       "</tbody>\n",
       "</table>\n"
      ],
      "text/latex": [
       "\\begin{tabular}{r|ll}\n",
       " actual & prediction\\\\\n",
       "\\hline\n",
       "\t 24.0     & 30.00384\\\\\n",
       "\t 21.6     & 25.02556\\\\\n",
       "\t 34.7     & 30.56760\\\\\n",
       "\t 33.4     & 28.60704\\\\\n",
       "\t 36.2     & 27.94352\\\\\n",
       "\\end{tabular}\n"
      ],
      "text/plain": [
       "  actual prediction\n",
       "1 24.0   30.00384  \n",
       "2 21.6   25.02556  \n",
       "3 34.7   30.56760  \n",
       "4 33.4   28.60704  \n",
       "5 36.2   27.94352  "
      ]
     },
     "metadata": {},
     "output_type": "display_data"
    }
   ],
   "source": [
    "# consume\n",
    "pred <- consume(endpoint, newdata)$ans\n",
    "# check predictions\n",
    "data.frame(\n",
    "    actual = newdata$medv, \n",
    "    prediction = mypredict(newdata))"
   ]
  },
  {
   "cell_type": "markdown",
   "metadata": {},
   "source": [
    "### Updating a web service\n",
    "\n",
    "After making improvements to a model, you can update the existing web service. For this purpose you can use the `updateWebService()` function by specifying the web service ID. "
   ]
  },
  {
   "cell_type": "code",
   "execution_count": 13,
   "metadata": {
    "collapsed": false
   },
   "outputs": [
    {
     "name": "stderr",
     "output_type": "stream",
     "text": [
      "converting `inputSchema` to data frame\n"
     ]
    }
   ],
   "source": [
    "# To update a web service, you need the WebServiceId\n",
    "\n",
    "# define test function\n",
    "mypredictnew <- function(newdata){\n",
    "  predict(lm1, newdata) + 100 # Add 100 for illustration purpose only\n",
    "}\n",
    "\n",
    "# update service with the new function\n",
    "ep_update <- updateWebService(\n",
    "  ws = ws,\n",
    "  fun = mypredictnew, \n",
    "  name = \"not necessary\", # this does not matter since serviceId is provided\n",
    "  inputSchema = newdata, \n",
    "  serviceId = ep$WebServiceId\n",
    ")\n",
    "\n",
    "# str(ep_update)"
   ]
  },
  {
   "cell_type": "markdown",
   "metadata": {},
   "source": [
    "## Conclusion\n",
    "\n",
    "In this example, you learned how to fit a model, deploy the model on Azure and consume the service.\n",
    "\n",
    "The `AzureML`R package also allows you to read data from Azure ML workspace or experiments, making it possible for users to have a seamless experience between Azure ML experiments and notebooks.\n",
    "\n",
    "You can find more details in the `AzureML` package help."
   ]
  }
 ],
 "metadata": {
  "kernelspec": {
   "display_name": "R",
   "language": "R",
   "name": "ir"
  },
  "language_info": {
   "codemirror_mode": "r",
   "file_extension": ".r",
   "mimetype": "text/x-r-source",
   "name": "R",
   "pygments_lexer": "r",
   "version": "3.3.2"
  }
 },
 "nbformat": 4,
 "nbformat_minor": 0
}
