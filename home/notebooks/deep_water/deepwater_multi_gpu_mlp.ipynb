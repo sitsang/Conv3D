{
 "cells": [
  {
   "cell_type": "markdown",
   "metadata": {},
   "source": [
    "### Multi GPU in TensorFlow and Deep Water\n",
    "\n",
    "This notebook contains an example how you can define a neural net with multi GPU support in TensorFlow and Keras.\n",
    "\n",
    "We also train defined graph using H2O DeepWater."
   ]
  },
  {
   "cell_type": "code",
   "execution_count": 1,
   "metadata": {},
   "outputs": [
    {
     "name": "stdout",
     "output_type": "stream",
     "text": [
      "versionFromGradle='3.11.0',projectVersion='3.11.0.99999',branch='arno-automl-xgboost-deepwater',lastCommitHash='ab6c38eeb4a0673be164f680914f65c9922633d3',gitDescribe='jenkins-master-3860-326-gab6c38e',compiledOn='2017-05-01 16:43:47',compiledBy='arno'\n",
      "Checking whether there is an H2O instance running at http://localhost:54321..... not found.\n",
      "Attempting to start a local H2O server...\n",
      "  Java Version: java version \"1.8.0_121\"; Java(TM) SE Runtime Environment (build 1.8.0_121-b13); Java HotSpot(TM) 64-Bit Server VM (build 25.121-b13, mixed mode)\n",
      "  Starting server from /home/dmitry/Desktop/venv/gtc/lib/python3.6/site-packages/h2o/backend/bin/h2o.jar\n",
      "  Ice root: /tmp/tmpzavoyzs0\n",
      "  JVM stdout: /tmp/tmpzavoyzs0/h2o_dmitry_started_from_python.out\n",
      "  JVM stderr: /tmp/tmpzavoyzs0/h2o_dmitry_started_from_python.err\n",
      "  Server is running at http://127.0.0.1:54321\n",
      "Connecting to H2O server at http://127.0.0.1:54321... successful.\n",
      "versionFromGradle='3.11.0',projectVersion='3.11.0.99999',branch='arno-automl-xgboost-deepwater',lastCommitHash='ab6c38eeb4a0673be164f680914f65c9922633d3',gitDescribe='jenkins-master-3860-326-gab6c38e',compiledOn='2017-05-01 16:43:47',compiledBy='arno'\n"
     ]
    },
    {
     "data": {
      "text/html": [
       "<div style=\"overflow:auto\"><table style=\"width:50%\"><tr><td>H2O cluster uptime:</td>\n",
       "<td>04 secs</td></tr>\n",
       "<tr><td>H2O cluster version:</td>\n",
       "<td>3.11.0.99999</td></tr>\n",
       "<tr><td>H2O cluster version age:</td>\n",
       "<td>1 day </td></tr>\n",
       "<tr><td>H2O cluster name:</td>\n",
       "<td>H2O_from_python_dmitry_nlw06e</td></tr>\n",
       "<tr><td>H2O cluster total nodes:</td>\n",
       "<td>1</td></tr>\n",
       "<tr><td>H2O cluster free memory:</td>\n",
       "<td>26.67 Gb</td></tr>\n",
       "<tr><td>H2O cluster total cores:</td>\n",
       "<td>40</td></tr>\n",
       "<tr><td>H2O cluster allowed cores:</td>\n",
       "<td>40</td></tr>\n",
       "<tr><td>H2O cluster status:</td>\n",
       "<td>accepting new members, healthy</td></tr>\n",
       "<tr><td>H2O connection url:</td>\n",
       "<td>http://127.0.0.1:54321</td></tr>\n",
       "<tr><td>H2O connection proxy:</td>\n",
       "<td>None</td></tr>\n",
       "<tr><td>H2O internal security:</td>\n",
       "<td>False</td></tr>\n",
       "<tr><td>Python version:</td>\n",
       "<td>3.6.1 final</td></tr></table></div>"
      ],
      "text/plain": [
       "--------------------------  ------------------------------\n",
       "H2O cluster uptime:         04 secs\n",
       "H2O cluster version:        3.11.0.99999\n",
       "H2O cluster version age:    1 day\n",
       "H2O cluster name:           H2O_from_python_dmitry_nlw06e\n",
       "H2O cluster total nodes:    1\n",
       "H2O cluster free memory:    26.67 Gb\n",
       "H2O cluster total cores:    40\n",
       "H2O cluster allowed cores:  40\n",
       "H2O cluster status:         accepting new members, healthy\n",
       "H2O connection url:         http://127.0.0.1:54321\n",
       "H2O connection proxy:\n",
       "H2O internal security:      False\n",
       "Python version:             3.6.1 final\n",
       "--------------------------  ------------------------------"
      ]
     },
     "metadata": {},
     "output_type": "display_data"
    }
   ],
   "source": [
    "import h2o\n",
    "from h2o.estimators.deeplearning import H2ODeepLearningEstimator\n",
    "from h2o.estimators.deepwater import H2ODeepWaterEstimator\n",
    "from h2o.estimators.gbm import H2OGradientBoostingEstimator\n",
    "from h2o.estimators.random_forest import H2ORandomForestEstimator\n",
    "import subprocess\n",
    "\n",
    "h2o.init(nthreads=-1)\n",
    "if not H2ODeepWaterEstimator.available(): exit"
   ]
  },
  {
   "cell_type": "markdown",
   "metadata": {},
   "source": [
    "## Data\n",
    "\n",
    "As an example we are going to use a dataset from Kaggle's competition.\n",
    "\n",
    "### Competiton goal\n",
    "\n",
    "In this challenge, BNP Paribas Cardif is providing an anonymized database with two categories of claims:\n",
    "\n",
    " - claims for which approval could be accelerated leading to faster payments\n",
    " - claims for which additional information is required before approval\n",
    " \n",
    "In terms of machine learning it's a binary classifiaction problem. As performance metric we are going to use [logarithmic loss](https://www.kaggle.com/wiki/LogarithmicLoss).\n",
    " \n",
    "### Data\n",
    "\n",
    "Data can be downloaded here:\n",
    "[https://www.kaggle.com/c/bnp-paribas-cardif-claims-management/download/train.csv.zip](https://www.kaggle.com/c/bnp-paribas-cardif-claims-management/download/train.csv.zip)"
   ]
  },
  {
   "cell_type": "code",
   "execution_count": 2,
   "metadata": {},
   "outputs": [
    {
     "name": "stdout",
     "output_type": "stream",
     "text": [
      "Parse progress: |█████████████████████████████████████████████████████████| 100%\n"
     ]
    },
    {
     "data": {
      "text/html": [
       "<table>\n",
       "<thead>\n",
       "<tr><th style=\"text-align: right;\">  ID</th><th style=\"text-align: right;\">  target</th><th style=\"text-align: right;\">        v1</th><th style=\"text-align: right;\">       v2</th><th>v3  </th><th style=\"text-align: right;\">       v4</th><th style=\"text-align: right;\">       v5</th><th style=\"text-align: right;\">       v6</th><th style=\"text-align: right;\">       v7</th><th style=\"text-align: right;\">         v8</th><th style=\"text-align: right;\">       v9</th><th style=\"text-align: right;\">     v10</th><th style=\"text-align: right;\">     v11</th><th style=\"text-align: right;\">    v12</th><th style=\"text-align: right;\">      v13</th><th style=\"text-align: right;\">     v14</th><th style=\"text-align: right;\">      v15</th><th style=\"text-align: right;\">      v16</th><th style=\"text-align: right;\">      v17</th><th style=\"text-align: right;\">       v18</th><th style=\"text-align: right;\">       v19</th><th style=\"text-align: right;\">     v20</th><th style=\"text-align: right;\">    v21</th><th>v22  </th><th style=\"text-align: right;\">          v23</th><th>v24  </th><th style=\"text-align: right;\">        v25</th><th style=\"text-align: right;\">      v26</th><th style=\"text-align: right;\">      v27</th><th style=\"text-align: right;\">       v28</th><th style=\"text-align: right;\">      v29</th><th>v30  </th><th>v31  </th><th style=\"text-align: right;\">      v32</th><th style=\"text-align: right;\">      v33</th><th style=\"text-align: right;\">     v34</th><th style=\"text-align: right;\">      v35</th><th style=\"text-align: right;\">     v36</th><th style=\"text-align: right;\">       v37</th><th style=\"text-align: right;\">  v38</th><th style=\"text-align: right;\">        v39</th><th style=\"text-align: right;\">     v40</th><th style=\"text-align: right;\">      v41</th><th style=\"text-align: right;\">     v42</th><th style=\"text-align: right;\">      v43</th><th style=\"text-align: right;\">      v44</th><th style=\"text-align: right;\">      v45</th><th style=\"text-align: right;\">        v46</th><th>v47  </th><th style=\"text-align: right;\">     v48</th><th style=\"text-align: right;\">      v49</th><th style=\"text-align: right;\">     v50</th><th style=\"text-align: right;\">      v51</th><th>v52  </th><th style=\"text-align: right;\">     v53</th><th style=\"text-align: right;\">        v54</th><th style=\"text-align: right;\">       v55</th><th>v56  </th><th style=\"text-align: right;\">      v57</th><th style=\"text-align: right;\">       v58</th><th style=\"text-align: right;\">      v59</th><th style=\"text-align: right;\">      v60</th><th style=\"text-align: right;\">     v61</th><th style=\"text-align: right;\">  v62</th><th style=\"text-align: right;\">        v63</th><th style=\"text-align: right;\">      v64</th><th style=\"text-align: right;\">     v65</th><th>v66  </th><th style=\"text-align: right;\">      v67</th><th style=\"text-align: right;\">     v68</th><th style=\"text-align: right;\">      v69</th><th style=\"text-align: right;\">      v70</th><th>v71  </th><th style=\"text-align: right;\">  v72</th><th style=\"text-align: right;\">      v73</th><th>v74  </th><th>v75  </th><th style=\"text-align: right;\">      v76</th><th style=\"text-align: right;\">      v77</th><th style=\"text-align: right;\">      v78</th><th>v79  </th><th style=\"text-align: right;\">      v80</th><th style=\"text-align: right;\">      v81</th><th style=\"text-align: right;\">      v82</th><th style=\"text-align: right;\">      v83</th><th style=\"text-align: right;\">      v84</th><th style=\"text-align: right;\">      v85</th><th style=\"text-align: right;\">       v86</th><th style=\"text-align: right;\">      v87</th><th style=\"text-align: right;\">       v88</th><th style=\"text-align: right;\">        v89</th><th style=\"text-align: right;\">       v90</th><th>v91  </th><th style=\"text-align: right;\">       v92</th><th style=\"text-align: right;\">      v93</th><th style=\"text-align: right;\">      v94</th><th style=\"text-align: right;\">       v95</th><th style=\"text-align: right;\">      v96</th><th style=\"text-align: right;\">      v97</th><th style=\"text-align: right;\">      v98</th><th style=\"text-align: right;\">       v99</th><th style=\"text-align: right;\">    v100</th><th style=\"text-align: right;\">     v101</th><th style=\"text-align: right;\">     v102</th><th style=\"text-align: right;\">     v103</th><th style=\"text-align: right;\">     v104</th><th style=\"text-align: right;\">        v105</th><th style=\"text-align: right;\">    v106</th><th>v107  </th><th style=\"text-align: right;\">     v108</th><th style=\"text-align: right;\">     v109</th><th>v110  </th><th style=\"text-align: right;\">      v111</th><th>v112  </th><th>v113  </th><th style=\"text-align: right;\">    v114</th><th style=\"text-align: right;\">     v115</th><th style=\"text-align: right;\">     v116</th><th style=\"text-align: right;\">     v117</th><th style=\"text-align: right;\">     v118</th><th style=\"text-align: right;\">         v119</th><th style=\"text-align: right;\">      v120</th><th style=\"text-align: right;\">      v121</th><th style=\"text-align: right;\">     v122</th><th style=\"text-align: right;\">     v123</th><th style=\"text-align: right;\">        v124</th><th>v125  </th><th style=\"text-align: right;\">     v126</th><th style=\"text-align: right;\">     v127</th><th style=\"text-align: right;\">     v128</th><th style=\"text-align: right;\">  v129</th><th style=\"text-align: right;\">      v130</th><th style=\"text-align: right;\">      v131</th></tr>\n",
       "</thead>\n",
       "<tbody>\n",
       "<tr><td style=\"text-align: right;\">   3</td><td style=\"text-align: right;\">       1</td><td style=\"text-align: right;\">  1.33574 </td><td style=\"text-align: right;\">  8.72747</td><td>C   </td><td style=\"text-align: right;\">  3.92103</td><td style=\"text-align: right;\">  7.91527</td><td style=\"text-align: right;\">  2.59928</td><td style=\"text-align: right;\">  3.17689</td><td style=\"text-align: right;\">  0.0129415</td><td style=\"text-align: right;\"> 10      </td><td style=\"text-align: right;\">0.503281</td><td style=\"text-align: right;\"> 16.4341</td><td style=\"text-align: right;\">6.08571</td><td style=\"text-align: right;\">  2.86683</td><td style=\"text-align: right;\">11.6364 </td><td style=\"text-align: right;\">  1.35501</td><td style=\"text-align: right;\">  8.57143</td><td style=\"text-align: right;\">  3.67035</td><td style=\"text-align: right;\">  0.10672 </td><td style=\"text-align: right;\">  0.148883</td><td style=\"text-align: right;\"> 18.8693</td><td style=\"text-align: right;\">7.73092</td><td>XDX  </td><td style=\"text-align: right;\"> -1.71613e-08</td><td>C    </td><td style=\"text-align: right;\">  0.139412 </td><td style=\"text-align: right;\">  1.72082</td><td style=\"text-align: right;\">  3.3935 </td><td style=\"text-align: right;\">  0.590122</td><td style=\"text-align: right;\">  8.88087</td><td>C    </td><td>A    </td><td style=\"text-align: right;\">  1.08303</td><td style=\"text-align: right;\">  1.01083</td><td style=\"text-align: right;\"> 7.27015</td><td style=\"text-align: right;\">  8.37545</td><td style=\"text-align: right;\"> 11.3266</td><td style=\"text-align: right;\">  0.454546</td><td style=\"text-align: right;\">    0</td><td style=\"text-align: right;\">  4.01209  </td><td style=\"text-align: right;\"> 7.71145</td><td style=\"text-align: right;\">  7.65343</td><td style=\"text-align: right;\"> 12.7076</td><td style=\"text-align: right;\">  2.0155 </td><td style=\"text-align: right;\"> 10.4983 </td><td style=\"text-align: right;\">  9.84867</td><td style=\"text-align: right;\">  0.113561 </td><td>C    </td><td style=\"text-align: right;\"> 12.1717</td><td style=\"text-align: right;\">  8.08664</td><td style=\"text-align: right;\">0.89942 </td><td style=\"text-align: right;\">  7.27779</td><td>G    </td><td style=\"text-align: right;\"> 16.748 </td><td style=\"text-align: right;\">  0.0370963</td><td style=\"text-align: right;\">  1.29964 </td><td>DI   </td><td style=\"text-align: right;\">  3.97112</td><td style=\"text-align: right;\">  0.529802</td><td style=\"text-align: right;\"> 10.891  </td><td style=\"text-align: right;\">  1.58845</td><td style=\"text-align: right;\"> 15.8582</td><td style=\"text-align: right;\">    1</td><td style=\"text-align: right;\">  0.153461 </td><td style=\"text-align: right;\">  6.36319</td><td style=\"text-align: right;\"> 18.3039</td><td>C    </td><td style=\"text-align: right;\">  9.31408</td><td style=\"text-align: right;\"> 15.2318</td><td style=\"text-align: right;\"> 17.1429 </td><td style=\"text-align: right;\"> 11.7845 </td><td>F    </td><td style=\"text-align: right;\">    1</td><td style=\"text-align: right;\">  1.61499</td><td>B    </td><td>D    </td><td style=\"text-align: right;\">  2.23094</td><td style=\"text-align: right;\">  7.29242</td><td style=\"text-align: right;\">  8.57143</td><td>E    </td><td style=\"text-align: right;\">  3      </td><td style=\"text-align: right;\">  7.52833</td><td style=\"text-align: right;\">  8.86165</td><td style=\"text-align: right;\">  0.64982</td><td style=\"text-align: right;\">  1.29964</td><td style=\"text-align: right;\">  1.70732</td><td style=\"text-align: right;\">  0.866426</td><td style=\"text-align: right;\">  9.55184</td><td style=\"text-align: right;\">  3.3213  </td><td style=\"text-align: right;\">  0.0956784</td><td style=\"text-align: right;\">  0.905342</td><td>A    </td><td style=\"text-align: right;\">  0.442252</td><td style=\"text-align: right;\">  5.81402</td><td style=\"text-align: right;\">  3.51772</td><td style=\"text-align: right;\">  0.462019</td><td style=\"text-align: right;\">  7.43682</td><td style=\"text-align: right;\">  5.45455</td><td style=\"text-align: right;\">  8.87741</td><td style=\"text-align: right;\">  1.19134 </td><td style=\"text-align: right;\"> 19.4702</td><td style=\"text-align: right;\">  8.38924</td><td style=\"text-align: right;\">  2.75738</td><td style=\"text-align: right;\">  4.3743 </td><td style=\"text-align: right;\">  1.57404</td><td style=\"text-align: right;\">  0.00729382</td><td style=\"text-align: right;\"> 12.5792</td><td>E     </td><td style=\"text-align: right;\">  2.38269</td><td style=\"text-align: right;\">  3.93092</td><td>B     </td><td style=\"text-align: right;\">  0.433213</td><td>O     </td><td>      </td><td style=\"text-align: right;\">15.6349 </td><td style=\"text-align: right;\">  2.85714</td><td style=\"text-align: right;\">  1.95122</td><td style=\"text-align: right;\">  6.59201</td><td style=\"text-align: right;\">  5.90909</td><td style=\"text-align: right;\"> -6.29742e-07</td><td style=\"text-align: right;\">  1.0596  </td><td style=\"text-align: right;\">  0.803572</td><td style=\"text-align: right;\">  8      </td><td style=\"text-align: right;\">  1.98978</td><td style=\"text-align: right;\">  0.0357537 </td><td>AU    </td><td style=\"text-align: right;\">  1.80413</td><td style=\"text-align: right;\">  3.11372</td><td style=\"text-align: right;\">  2.02429</td><td style=\"text-align: right;\">     0</td><td style=\"text-align: right;\">  0.636365</td><td style=\"text-align: right;\">  2.85714 </td></tr>\n",
       "<tr><td style=\"text-align: right;\">   4</td><td style=\"text-align: right;\">       1</td><td style=\"text-align: right;\">nan       </td><td style=\"text-align: right;\">nan      </td><td>C   </td><td style=\"text-align: right;\">nan      </td><td style=\"text-align: right;\">  9.19127</td><td style=\"text-align: right;\">nan      </td><td style=\"text-align: right;\">nan      </td><td style=\"text-align: right;\">  2.30163  </td><td style=\"text-align: right;\">nan      </td><td style=\"text-align: right;\">1.31291 </td><td style=\"text-align: right;\">nan     </td><td style=\"text-align: right;\">6.50765</td><td style=\"text-align: right;\">nan      </td><td style=\"text-align: right;\">11.6364 </td><td style=\"text-align: right;\">nan      </td><td style=\"text-align: right;\">nan      </td><td style=\"text-align: right;\">nan      </td><td style=\"text-align: right;\">nan       </td><td style=\"text-align: right;\">nan       </td><td style=\"text-align: right;\">nan     </td><td style=\"text-align: right;\">6.76311</td><td>GUV  </td><td style=\"text-align: right;\">nan          </td><td>C    </td><td style=\"text-align: right;\">  3.05614  </td><td style=\"text-align: right;\">nan      </td><td style=\"text-align: right;\">nan      </td><td style=\"text-align: right;\">nan       </td><td style=\"text-align: right;\">nan      </td><td>C    </td><td>A    </td><td style=\"text-align: right;\">nan      </td><td style=\"text-align: right;\">nan      </td><td style=\"text-align: right;\"> 3.61508</td><td style=\"text-align: right;\">nan      </td><td style=\"text-align: right;\"> 14.5795</td><td style=\"text-align: right;\">nan       </td><td style=\"text-align: right;\">    0</td><td style=\"text-align: right;\">nan        </td><td style=\"text-align: right;\">14.3058 </td><td style=\"text-align: right;\">nan      </td><td style=\"text-align: right;\">nan     </td><td style=\"text-align: right;\">nan      </td><td style=\"text-align: right;\">nan      </td><td style=\"text-align: right;\">nan      </td><td style=\"text-align: right;\">  2.44996  </td><td>E    </td><td style=\"text-align: right;\">nan     </td><td style=\"text-align: right;\">nan      </td><td style=\"text-align: right;\">1.37921 </td><td style=\"text-align: right;\">nan      </td><td>G    </td><td style=\"text-align: right;\">nan     </td><td style=\"text-align: right;\">  1.12947  </td><td style=\"text-align: right;\">nan       </td><td>DY   </td><td style=\"text-align: right;\">nan      </td><td style=\"text-align: right;\">nan       </td><td style=\"text-align: right;\">nan      </td><td style=\"text-align: right;\">nan      </td><td style=\"text-align: right;\">nan     </td><td style=\"text-align: right;\">    2</td><td style=\"text-align: right;\">  2.54474  </td><td style=\"text-align: right;\">nan      </td><td style=\"text-align: right;\">nan     </td><td>A    </td><td style=\"text-align: right;\">nan      </td><td style=\"text-align: right;\">nan     </td><td style=\"text-align: right;\">nan      </td><td style=\"text-align: right;\"> 12.0534 </td><td>F    </td><td style=\"text-align: right;\">    2</td><td style=\"text-align: right;\">nan      </td><td>B    </td><td>D    </td><td style=\"text-align: right;\">nan      </td><td style=\"text-align: right;\">nan      </td><td style=\"text-align: right;\">nan      </td><td>D    </td><td style=\"text-align: right;\">nan      </td><td style=\"text-align: right;\">  7.27765</td><td style=\"text-align: right;\">  3.43069</td><td style=\"text-align: right;\">nan      </td><td style=\"text-align: right;\">nan      </td><td style=\"text-align: right;\">nan      </td><td style=\"text-align: right;\">nan       </td><td style=\"text-align: right;\">  9.848  </td><td style=\"text-align: right;\">nan       </td><td style=\"text-align: right;\">  2.67858  </td><td style=\"text-align: right;\">nan       </td><td>B    </td><td style=\"text-align: right;\">nan       </td><td style=\"text-align: right;\">nan      </td><td style=\"text-align: right;\">nan      </td><td style=\"text-align: right;\">nan       </td><td style=\"text-align: right;\">nan      </td><td style=\"text-align: right;\">nan      </td><td style=\"text-align: right;\">  8.30397</td><td style=\"text-align: right;\">nan       </td><td style=\"text-align: right;\">nan     </td><td style=\"text-align: right;\">nan      </td><td style=\"text-align: right;\">nan      </td><td style=\"text-align: right;\">nan      </td><td style=\"text-align: right;\">nan      </td><td style=\"text-align: right;\">  1.50533   </td><td style=\"text-align: right;\">nan     </td><td>B     </td><td style=\"text-align: right;\">  1.82536</td><td style=\"text-align: right;\">  4.24786</td><td>A     </td><td style=\"text-align: right;\">nan       </td><td>U     </td><td>G     </td><td style=\"text-align: right;\">10.308  </td><td style=\"text-align: right;\">nan      </td><td style=\"text-align: right;\">nan      </td><td style=\"text-align: right;\"> 10.5954 </td><td style=\"text-align: right;\">nan      </td><td style=\"text-align: right;\">nan          </td><td style=\"text-align: right;\">nan       </td><td style=\"text-align: right;\">nan       </td><td style=\"text-align: right;\">nan      </td><td style=\"text-align: right;\">nan      </td><td style=\"text-align: right;\">  0.598896  </td><td>AF    </td><td style=\"text-align: right;\">nan      </td><td style=\"text-align: right;\">nan      </td><td style=\"text-align: right;\">  1.95783</td><td style=\"text-align: right;\">     0</td><td style=\"text-align: right;\">nan       </td><td style=\"text-align: right;\">nan       </td></tr>\n",
       "<tr><td style=\"text-align: right;\">   5</td><td style=\"text-align: right;\">       1</td><td style=\"text-align: right;\">  0.943877</td><td style=\"text-align: right;\">  5.31008</td><td>C   </td><td style=\"text-align: right;\">  4.41097</td><td style=\"text-align: right;\">  5.32616</td><td style=\"text-align: right;\">  3.97959</td><td style=\"text-align: right;\">  3.92857</td><td style=\"text-align: right;\">  0.0196451</td><td style=\"text-align: right;\"> 12.6667 </td><td style=\"text-align: right;\">0.765864</td><td style=\"text-align: right;\"> 14.7561</td><td style=\"text-align: right;\">6.38467</td><td style=\"text-align: right;\">  2.50559</td><td style=\"text-align: right;\"> 9.60354</td><td style=\"text-align: right;\">  1.98413</td><td style=\"text-align: right;\">  5.88235</td><td style=\"text-align: right;\">  3.17085</td><td style=\"text-align: right;\">  0.244541</td><td style=\"text-align: right;\">  0.144258</td><td style=\"text-align: right;\"> 17.9523</td><td style=\"text-align: right;\">5.24504</td><td>FQ   </td><td style=\"text-align: right;\"> -2.78505e-07</td><td>E    </td><td style=\"text-align: right;\">  0.113997 </td><td style=\"text-align: right;\">  2.2449 </td><td style=\"text-align: right;\">  5.30612</td><td style=\"text-align: right;\">  0.836005</td><td style=\"text-align: right;\">  7.5    </td><td>     </td><td>A    </td><td style=\"text-align: right;\">  1.45408</td><td style=\"text-align: right;\">  1.73469</td><td style=\"text-align: right;\"> 4.04386</td><td style=\"text-align: right;\">  7.95918</td><td style=\"text-align: right;\"> 12.7305</td><td style=\"text-align: right;\">  0.25974 </td><td style=\"text-align: right;\">    0</td><td style=\"text-align: right;\">  7.37896  </td><td style=\"text-align: right;\">13.0772 </td><td style=\"text-align: right;\">  6.17347</td><td style=\"text-align: right;\"> 12.3469</td><td style=\"text-align: right;\">  2.92683</td><td style=\"text-align: right;\">  8.89756</td><td style=\"text-align: right;\">  5.34382</td><td style=\"text-align: right;\">  0.126035 </td><td>C    </td><td style=\"text-align: right;\"> 12.7113</td><td style=\"text-align: right;\">  6.83673</td><td style=\"text-align: right;\">0.604504</td><td style=\"text-align: right;\">  9.63763</td><td>F    </td><td style=\"text-align: right;\"> 15.102 </td><td style=\"text-align: right;\">  0.0855729</td><td style=\"text-align: right;\">  0.765305</td><td>AS   </td><td style=\"text-align: right;\">  4.03061</td><td style=\"text-align: right;\">  4.27746 </td><td style=\"text-align: right;\">  9.10548</td><td style=\"text-align: right;\">  2.15136</td><td style=\"text-align: right;\"> 16.0756</td><td style=\"text-align: right;\">    1</td><td style=\"text-align: right;\">  0.123643 </td><td style=\"text-align: right;\">  5.51795</td><td style=\"text-align: right;\"> 16.3772</td><td>A    </td><td style=\"text-align: right;\">  8.36735</td><td style=\"text-align: right;\"> 11.0405</td><td style=\"text-align: right;\">  5.88235</td><td style=\"text-align: right;\">  8.46065</td><td>B    </td><td style=\"text-align: right;\">    3</td><td style=\"text-align: right;\">  2.41362</td><td>B    </td><td>B    </td><td style=\"text-align: right;\">  1.96397</td><td style=\"text-align: right;\">  5.91837</td><td style=\"text-align: right;\"> 11.7647 </td><td>E    </td><td style=\"text-align: right;\">  3.33333</td><td style=\"text-align: right;\"> 10.1944 </td><td style=\"text-align: right;\">  8.2662 </td><td style=\"text-align: right;\">  1.53061</td><td style=\"text-align: right;\">  1.53061</td><td style=\"text-align: right;\">  2.42991</td><td style=\"text-align: right;\">  1.07143 </td><td style=\"text-align: right;\">  8.44746</td><td style=\"text-align: right;\">  3.36735 </td><td style=\"text-align: right;\">  0.111388 </td><td style=\"text-align: right;\">  0.811447</td><td>G    </td><td style=\"text-align: right;\">  0.27148 </td><td style=\"text-align: right;\">  5.15656</td><td style=\"text-align: right;\">  4.21494</td><td style=\"text-align: right;\">  0.309657</td><td style=\"text-align: right;\">  5.66327</td><td style=\"text-align: right;\">  5.97403</td><td style=\"text-align: right;\"> 11.5889 </td><td style=\"text-align: right;\">  0.841837</td><td style=\"text-align: right;\"> 15.4913</td><td style=\"text-align: right;\">  5.87935</td><td style=\"text-align: right;\">  3.29279</td><td style=\"text-align: right;\">  5.92446</td><td style=\"text-align: right;\">  1.6684 </td><td style=\"text-align: right;\">  0.00827462</td><td style=\"text-align: right;\"> 11.6706</td><td>C     </td><td style=\"text-align: right;\">  1.37575</td><td style=\"text-align: right;\">  1.18421</td><td>B     </td><td style=\"text-align: right;\">  3.36735 </td><td>S     </td><td>      </td><td style=\"text-align: right;\">11.2056 </td><td style=\"text-align: right;\"> 12.9412 </td><td style=\"text-align: right;\">  3.12925</td><td style=\"text-align: right;\">  3.47891</td><td style=\"text-align: right;\">  6.23377</td><td style=\"text-align: right;\"> -2.79275e-07</td><td style=\"text-align: right;\">  2.13873 </td><td style=\"text-align: right;\">  2.23881 </td><td style=\"text-align: right;\">  9.33333</td><td style=\"text-align: right;\">  2.4776 </td><td style=\"text-align: right;\">  0.0134519 </td><td>AE    </td><td style=\"text-align: right;\">  1.77371</td><td style=\"text-align: right;\">  3.92219</td><td style=\"text-align: right;\">  1.12047</td><td style=\"text-align: right;\">     2</td><td style=\"text-align: right;\">  0.883118</td><td style=\"text-align: right;\">  1.17647 </td></tr>\n",
       "<tr><td style=\"text-align: right;\">   6</td><td style=\"text-align: right;\">       1</td><td style=\"text-align: right;\">  0.797415</td><td style=\"text-align: right;\">  8.30476</td><td>C   </td><td style=\"text-align: right;\">  4.22593</td><td style=\"text-align: right;\"> 11.6274 </td><td style=\"text-align: right;\">  2.0977 </td><td style=\"text-align: right;\">  1.98755</td><td style=\"text-align: right;\">  0.171947 </td><td style=\"text-align: right;\">  8.96552</td><td style=\"text-align: right;\">6.54267 </td><td style=\"text-align: right;\"> 16.3475</td><td style=\"text-align: right;\">9.64665</td><td style=\"text-align: right;\">  3.9033 </td><td style=\"text-align: right;\">14.0947 </td><td style=\"text-align: right;\">  1.94504</td><td style=\"text-align: right;\">  5.51724</td><td style=\"text-align: right;\">  3.61079</td><td style=\"text-align: right;\">  1.22411 </td><td style=\"text-align: right;\">  0.23163 </td><td style=\"text-align: right;\"> 18.3764</td><td style=\"text-align: right;\">7.51712</td><td>ACUE </td><td style=\"text-align: right;\"> -4.80534e-07</td><td>D    </td><td style=\"text-align: right;\">  0.148843 </td><td style=\"text-align: right;\">  1.30827</td><td style=\"text-align: right;\">  2.30364</td><td style=\"text-align: right;\">  8.92666 </td><td style=\"text-align: right;\">  8.87452</td><td>C    </td><td>B    </td><td style=\"text-align: right;\">  1.58764</td><td style=\"text-align: right;\">  1.66667</td><td style=\"text-align: right;\"> 8.70355</td><td style=\"text-align: right;\">  8.89847</td><td style=\"text-align: right;\"> 11.3028</td><td style=\"text-align: right;\">  0.433735</td><td style=\"text-align: right;\">    0</td><td style=\"text-align: right;\">  0.287322 </td><td style=\"text-align: right;\">11.523  </td><td style=\"text-align: right;\">  7.93104</td><td style=\"text-align: right;\"> 12.9358</td><td style=\"text-align: right;\">  1.47088</td><td style=\"text-align: right;\"> 12.7086 </td><td style=\"text-align: right;\">  9.67082</td><td style=\"text-align: right;\">  0.108387 </td><td>C    </td><td style=\"text-align: right;\"> 12.1949</td><td style=\"text-align: right;\">  8.59195</td><td style=\"text-align: right;\">3.32918 </td><td style=\"text-align: right;\">  4.78036</td><td>H    </td><td style=\"text-align: right;\"> 16.6217</td><td style=\"text-align: right;\">  0.139721 </td><td style=\"text-align: right;\">  1.17816 </td><td>BW   </td><td style=\"text-align: right;\">  3.96552</td><td style=\"text-align: right;\">  1.7321  </td><td style=\"text-align: right;\"> 11.7779 </td><td style=\"text-align: right;\">  1.22925</td><td style=\"text-align: right;\"> 15.9274</td><td style=\"text-align: right;\">    1</td><td style=\"text-align: right;\">  0.14026  </td><td style=\"text-align: right;\">  6.29298</td><td style=\"text-align: right;\"> 17.0116</td><td>A    </td><td style=\"text-align: right;\">  9.70306</td><td style=\"text-align: right;\"> 18.5681</td><td style=\"text-align: right;\">  9.42529</td><td style=\"text-align: right;\"> 13.5947 </td><td>F    </td><td style=\"text-align: right;\">    2</td><td style=\"text-align: right;\">  2.27254</td><td>B    </td><td>D    </td><td style=\"text-align: right;\">  2.1882 </td><td style=\"text-align: right;\">  8.2136 </td><td style=\"text-align: right;\"> 13.4483 </td><td>B    </td><td style=\"text-align: right;\">  1.94726</td><td style=\"text-align: right;\">  4.79787</td><td style=\"text-align: right;\"> 13.3158 </td><td style=\"text-align: right;\">  1.68103</td><td style=\"text-align: right;\">  1.37931</td><td style=\"text-align: right;\">  1.58704</td><td style=\"text-align: right;\">  1.24282 </td><td style=\"text-align: right;\"> 10.7471 </td><td style=\"text-align: right;\">  1.40805 </td><td style=\"text-align: right;\">  0.0390513</td><td style=\"text-align: right;\">  1.04243 </td><td>B    </td><td style=\"text-align: right;\">  0.763925</td><td style=\"text-align: right;\">  5.4989 </td><td style=\"text-align: right;\">  3.42394</td><td style=\"text-align: right;\">  0.832518</td><td style=\"text-align: right;\">  7.37548</td><td style=\"text-align: right;\">  6.74699</td><td style=\"text-align: right;\">  6.942  </td><td style=\"text-align: right;\">  1.33461 </td><td style=\"text-align: right;\"> 18.2564</td><td style=\"text-align: right;\">  8.50728</td><td style=\"text-align: right;\">  2.50305</td><td style=\"text-align: right;\">  4.87216</td><td style=\"text-align: right;\">  2.57366</td><td style=\"text-align: right;\">  0.113967  </td><td style=\"text-align: right;\"> 12.5543</td><td>B     </td><td style=\"text-align: right;\">  2.23075</td><td style=\"text-align: right;\">  1.99013</td><td>B     </td><td style=\"text-align: right;\">  2.64368 </td><td>J     </td><td>      </td><td style=\"text-align: right;\">13.7777 </td><td style=\"text-align: right;\"> 10.5747 </td><td style=\"text-align: right;\">  1.51106</td><td style=\"text-align: right;\">  4.94961</td><td style=\"text-align: right;\">  7.18072</td><td style=\"text-align: right;\">  0.565509   </td><td style=\"text-align: right;\">  1.16628 </td><td style=\"text-align: right;\">  1.95652 </td><td style=\"text-align: right;\">  7.01826</td><td style=\"text-align: right;\">  1.81279</td><td style=\"text-align: right;\">  0.00226738</td><td>CJ    </td><td style=\"text-align: right;\">  1.41523</td><td style=\"text-align: right;\">  2.95438</td><td style=\"text-align: right;\">  1.99085</td><td style=\"text-align: right;\">     1</td><td style=\"text-align: right;\">  1.67711 </td><td style=\"text-align: right;\">  1.03448 </td></tr>\n",
       "<tr><td style=\"text-align: right;\">   8</td><td style=\"text-align: right;\">       1</td><td style=\"text-align: right;\">nan       </td><td style=\"text-align: right;\">nan      </td><td>C   </td><td style=\"text-align: right;\">nan      </td><td style=\"text-align: right;\">nan      </td><td style=\"text-align: right;\">nan      </td><td style=\"text-align: right;\">nan      </td><td style=\"text-align: right;\">nan        </td><td style=\"text-align: right;\">nan      </td><td style=\"text-align: right;\">1.05033 </td><td style=\"text-align: right;\">nan     </td><td style=\"text-align: right;\">6.32009</td><td style=\"text-align: right;\">nan      </td><td style=\"text-align: right;\">10.9911 </td><td style=\"text-align: right;\">nan      </td><td style=\"text-align: right;\">nan      </td><td style=\"text-align: right;\">nan      </td><td style=\"text-align: right;\">nan       </td><td style=\"text-align: right;\">nan       </td><td style=\"text-align: right;\">nan     </td><td style=\"text-align: right;\">6.41457</td><td>HIT  </td><td style=\"text-align: right;\">nan          </td><td>E    </td><td style=\"text-align: right;\">nan        </td><td style=\"text-align: right;\">nan      </td><td style=\"text-align: right;\">nan      </td><td style=\"text-align: right;\">nan       </td><td style=\"text-align: right;\">nan      </td><td>     </td><td>A    </td><td style=\"text-align: right;\">nan      </td><td style=\"text-align: right;\">nan      </td><td style=\"text-align: right;\"> 6.08315</td><td style=\"text-align: right;\">nan      </td><td style=\"text-align: right;\">nan     </td><td style=\"text-align: right;\">nan       </td><td style=\"text-align: right;\">    0</td><td style=\"text-align: right;\">nan        </td><td style=\"text-align: right;\">10.1389 </td><td style=\"text-align: right;\">nan      </td><td style=\"text-align: right;\">nan     </td><td style=\"text-align: right;\">nan      </td><td style=\"text-align: right;\">nan      </td><td style=\"text-align: right;\">nan      </td><td style=\"text-align: right;\">nan        </td><td>I    </td><td style=\"text-align: right;\">nan     </td><td style=\"text-align: right;\">nan      </td><td style=\"text-align: right;\">1.36454 </td><td style=\"text-align: right;\">nan      </td><td>H    </td><td style=\"text-align: right;\">nan     </td><td style=\"text-align: right;\">nan        </td><td style=\"text-align: right;\">nan       </td><td>     </td><td style=\"text-align: right;\">nan      </td><td style=\"text-align: right;\">nan       </td><td style=\"text-align: right;\">nan      </td><td style=\"text-align: right;\">nan      </td><td style=\"text-align: right;\">nan     </td><td style=\"text-align: right;\">    1</td><td style=\"text-align: right;\">nan        </td><td style=\"text-align: right;\">nan      </td><td style=\"text-align: right;\">nan     </td><td>C    </td><td style=\"text-align: right;\">nan      </td><td style=\"text-align: right;\">nan     </td><td style=\"text-align: right;\">nan      </td><td style=\"text-align: right;\">nan      </td><td>F    </td><td style=\"text-align: right;\">    1</td><td style=\"text-align: right;\">nan      </td><td>B    </td><td>D    </td><td style=\"text-align: right;\">nan      </td><td style=\"text-align: right;\">nan      </td><td style=\"text-align: right;\">nan      </td><td>C    </td><td style=\"text-align: right;\">nan      </td><td style=\"text-align: right;\">nan      </td><td style=\"text-align: right;\">nan      </td><td style=\"text-align: right;\">nan      </td><td style=\"text-align: right;\">nan      </td><td style=\"text-align: right;\">nan      </td><td style=\"text-align: right;\">nan       </td><td style=\"text-align: right;\">nan      </td><td style=\"text-align: right;\">nan       </td><td style=\"text-align: right;\">nan        </td><td style=\"text-align: right;\">nan       </td><td>G    </td><td style=\"text-align: right;\">nan       </td><td style=\"text-align: right;\">nan      </td><td style=\"text-align: right;\">nan      </td><td style=\"text-align: right;\">nan       </td><td style=\"text-align: right;\">nan      </td><td style=\"text-align: right;\">nan      </td><td style=\"text-align: right;\">nan      </td><td style=\"text-align: right;\">nan       </td><td style=\"text-align: right;\">nan     </td><td style=\"text-align: right;\">nan      </td><td style=\"text-align: right;\">nan      </td><td style=\"text-align: right;\">nan      </td><td style=\"text-align: right;\">nan      </td><td style=\"text-align: right;\">nan         </td><td style=\"text-align: right;\">nan     </td><td>C     </td><td style=\"text-align: right;\">nan      </td><td style=\"text-align: right;\">nan      </td><td>A     </td><td style=\"text-align: right;\">nan       </td><td>T     </td><td>G     </td><td style=\"text-align: right;\">14.0971 </td><td style=\"text-align: right;\">nan      </td><td style=\"text-align: right;\">nan      </td><td style=\"text-align: right;\">nan      </td><td style=\"text-align: right;\">nan      </td><td style=\"text-align: right;\">nan          </td><td style=\"text-align: right;\">nan       </td><td style=\"text-align: right;\">nan       </td><td style=\"text-align: right;\">nan      </td><td style=\"text-align: right;\">nan      </td><td style=\"text-align: right;\">nan         </td><td>Z     </td><td style=\"text-align: right;\">nan      </td><td style=\"text-align: right;\">nan      </td><td style=\"text-align: right;\">nan      </td><td style=\"text-align: right;\">     0</td><td style=\"text-align: right;\">nan       </td><td style=\"text-align: right;\">nan       </td></tr>\n",
       "<tr><td style=\"text-align: right;\">   9</td><td style=\"text-align: right;\">       0</td><td style=\"text-align: right;\">nan       </td><td style=\"text-align: right;\">nan      </td><td>C   </td><td style=\"text-align: right;\">nan      </td><td style=\"text-align: right;\">  8.85679</td><td style=\"text-align: right;\">nan      </td><td style=\"text-align: right;\">nan      </td><td style=\"text-align: right;\">  0.359993 </td><td style=\"text-align: right;\">nan      </td><td style=\"text-align: right;\">1.05033 </td><td style=\"text-align: right;\">nan     </td><td style=\"text-align: right;\">6.21608</td><td style=\"text-align: right;\">nan      </td><td style=\"text-align: right;\">11.9163 </td><td style=\"text-align: right;\">nan      </td><td style=\"text-align: right;\">nan      </td><td style=\"text-align: right;\">nan      </td><td style=\"text-align: right;\">nan       </td><td style=\"text-align: right;\">nan       </td><td style=\"text-align: right;\">nan     </td><td style=\"text-align: right;\">7.35143</td><td>AYX  </td><td style=\"text-align: right;\">nan          </td><td>A    </td><td style=\"text-align: right;\">  0.218458 </td><td style=\"text-align: right;\">nan      </td><td style=\"text-align: right;\">nan      </td><td style=\"text-align: right;\">nan       </td><td style=\"text-align: right;\">nan      </td><td>     </td><td>A    </td><td style=\"text-align: right;\">nan      </td><td style=\"text-align: right;\">nan      </td><td style=\"text-align: right;\"> 7.49661</td><td style=\"text-align: right;\">nan      </td><td style=\"text-align: right;\"> 15.498 </td><td style=\"text-align: right;\">nan       </td><td style=\"text-align: right;\">    0</td><td style=\"text-align: right;\">nan        </td><td style=\"text-align: right;\"> 7.90391</td><td style=\"text-align: right;\">nan      </td><td style=\"text-align: right;\">nan     </td><td style=\"text-align: right;\">nan      </td><td style=\"text-align: right;\">nan      </td><td style=\"text-align: right;\">nan      </td><td style=\"text-align: right;\">  0.262632 </td><td>I    </td><td style=\"text-align: right;\">nan     </td><td style=\"text-align: right;\">nan      </td><td style=\"text-align: right;\">1.65358 </td><td style=\"text-align: right;\">nan      </td><td>K    </td><td style=\"text-align: right;\">nan     </td><td style=\"text-align: right;\">  0.131278 </td><td style=\"text-align: right;\">nan       </td><td>DX   </td><td style=\"text-align: right;\">nan      </td><td style=\"text-align: right;\">nan       </td><td style=\"text-align: right;\">nan      </td><td style=\"text-align: right;\">nan      </td><td style=\"text-align: right;\">nan     </td><td style=\"text-align: right;\">    1</td><td style=\"text-align: right;\">  0.276524 </td><td style=\"text-align: right;\">nan      </td><td style=\"text-align: right;\">nan     </td><td>A    </td><td style=\"text-align: right;\">nan      </td><td style=\"text-align: right;\">nan     </td><td style=\"text-align: right;\">nan      </td><td style=\"text-align: right;\"> 11.5212 </td><td>F    </td><td style=\"text-align: right;\">    1</td><td style=\"text-align: right;\">nan      </td><td>B    </td><td>D    </td><td style=\"text-align: right;\">nan      </td><td style=\"text-align: right;\">nan      </td><td style=\"text-align: right;\">nan      </td><td>I    </td><td style=\"text-align: right;\">nan      </td><td style=\"text-align: right;\">  7.97838</td><td style=\"text-align: right;\">  3.81136</td><td style=\"text-align: right;\">nan      </td><td style=\"text-align: right;\">nan      </td><td style=\"text-align: right;\">nan      </td><td style=\"text-align: right;\">nan       </td><td style=\"text-align: right;\">  9.61844</td><td style=\"text-align: right;\">nan       </td><td style=\"text-align: right;\">  0.11639  </td><td style=\"text-align: right;\">nan       </td><td>G    </td><td style=\"text-align: right;\">nan       </td><td style=\"text-align: right;\">nan      </td><td style=\"text-align: right;\">nan      </td><td style=\"text-align: right;\">nan       </td><td style=\"text-align: right;\">nan      </td><td style=\"text-align: right;\">nan      </td><td style=\"text-align: right;\">  8.9701 </td><td style=\"text-align: right;\">nan       </td><td style=\"text-align: right;\">nan     </td><td style=\"text-align: right;\">nan      </td><td style=\"text-align: right;\">nan      </td><td style=\"text-align: right;\">nan      </td><td style=\"text-align: right;\">nan      </td><td style=\"text-align: right;\">  0.19353   </td><td style=\"text-align: right;\">nan     </td><td>C     </td><td style=\"text-align: right;\">  1.76377</td><td style=\"text-align: right;\">  2.44262</td><td>A     </td><td style=\"text-align: right;\">nan       </td><td>D     </td><td>X     </td><td style=\"text-align: right;\">15.7505 </td><td style=\"text-align: right;\">nan      </td><td style=\"text-align: right;\">nan      </td><td style=\"text-align: right;\">  8.85168</td><td style=\"text-align: right;\">nan      </td><td style=\"text-align: right;\">nan          </td><td style=\"text-align: right;\">nan       </td><td style=\"text-align: right;\">nan       </td><td style=\"text-align: right;\">nan      </td><td style=\"text-align: right;\">nan      </td><td style=\"text-align: right;\">  0.0498612 </td><td>X     </td><td style=\"text-align: right;\">nan      </td><td style=\"text-align: right;\">nan      </td><td style=\"text-align: right;\">  1.53622</td><td style=\"text-align: right;\">     0</td><td style=\"text-align: right;\">nan       </td><td style=\"text-align: right;\">nan       </td></tr>\n",
       "<tr><td style=\"text-align: right;\">  12</td><td style=\"text-align: right;\">       0</td><td style=\"text-align: right;\">  0.899806</td><td style=\"text-align: right;\">  7.31299</td><td>C   </td><td style=\"text-align: right;\">  3.49415</td><td style=\"text-align: right;\">  9.9462 </td><td style=\"text-align: right;\">  1.92607</td><td style=\"text-align: right;\">  1.77043</td><td style=\"text-align: right;\">  0.0662515</td><td style=\"text-align: right;\">  5.01129</td><td style=\"text-align: right;\">2.34136 </td><td style=\"text-align: right;\"> 16.2745</td><td style=\"text-align: right;\">7.71117</td><td style=\"text-align: right;\">  5.91559</td><td style=\"text-align: right;\">12.1486 </td><td style=\"text-align: right;\">  1.9683 </td><td style=\"text-align: right;\">  6.60194</td><td style=\"text-align: right;\">  2.87397</td><td style=\"text-align: right;\">  0.484133</td><td style=\"text-align: right;\">  0.443661</td><td style=\"text-align: right;\"> 17.2267</td><td style=\"text-align: right;\">6.66148</td><td>NFD  </td><td style=\"text-align: right;\">  7.81302e-07</td><td>E    </td><td style=\"text-align: right;\">  0.180765 </td><td style=\"text-align: right;\">  1.07004</td><td style=\"text-align: right;\">  1.56615</td><td style=\"text-align: right;\">  4.39384 </td><td style=\"text-align: right;\">  7.92802</td><td>G    </td><td>A    </td><td style=\"text-align: right;\">  1.61965</td><td style=\"text-align: right;\">  2.00389</td><td style=\"text-align: right;\"> 3.96491</td><td style=\"text-align: right;\">  8.73541</td><td style=\"text-align: right;\"> 13.9679</td><td style=\"text-align: right;\">  0.549451</td><td style=\"text-align: right;\">    0</td><td style=\"text-align: right;\">  0.0315873</td><td style=\"text-align: right;\">14.7876 </td><td style=\"text-align: right;\">  7.26654</td><td style=\"text-align: right;\"> 14.4455</td><td style=\"text-align: right;\">  1.30719</td><td style=\"text-align: right;\"> 11.7656 </td><td style=\"text-align: right;\">  9.40669</td><td style=\"text-align: right;\">  0.110774 </td><td>C    </td><td style=\"text-align: right;\"> 13.2569</td><td style=\"text-align: right;\">  8.36576</td><td style=\"text-align: right;\">0.13352 </td><td style=\"text-align: right;\">  6.36855</td><td>A    </td><td style=\"text-align: right;\"> 16.7607</td><td style=\"text-align: right;\">  0.0976927</td><td style=\"text-align: right;\">  1.72179 </td><td>AS   </td><td style=\"text-align: right;\">  3.67704</td><td style=\"text-align: right;\">  0.729927</td><td style=\"text-align: right;\"> 12.8588 </td><td style=\"text-align: right;\">  0.98087</td><td style=\"text-align: right;\"> 15.0679</td><td style=\"text-align: right;\">    2</td><td style=\"text-align: right;\">  0.164415 </td><td style=\"text-align: right;\">  5.17556</td><td style=\"text-align: right;\"> 15.6559</td><td>A    </td><td style=\"text-align: right;\">  8.92996</td><td style=\"text-align: right;\"> 19.1241</td><td style=\"text-align: right;\"> 11.4563 </td><td style=\"text-align: right;\"> 14.1526 </td><td>F    </td><td style=\"text-align: right;\">    2</td><td style=\"text-align: right;\">  2.51906</td><td>B    </td><td>D    </td><td style=\"text-align: right;\">  1.70919</td><td style=\"text-align: right;\">  7.35408</td><td style=\"text-align: right;\"> 12.4272 </td><td>E    </td><td style=\"text-align: right;\">  1.53499</td><td style=\"text-align: right;\">  6.32816</td><td style=\"text-align: right;\">  3.49095</td><td style=\"text-align: right;\">  1.86771</td><td style=\"text-align: right;\">  1.98444</td><td style=\"text-align: right;\">  2.59188</td><td style=\"text-align: right;\">  1.12354 </td><td style=\"text-align: right;\"> 10.9995 </td><td style=\"text-align: right;\">  1.14786 </td><td style=\"text-align: right;\">  0.0759585</td><td style=\"text-align: right;\">  1.34375 </td><td>B    </td><td style=\"text-align: right;\">  0.766422</td><td style=\"text-align: right;\">  5.87507</td><td style=\"text-align: right;\">  5.84175</td><td style=\"text-align: right;\">  0.863301</td><td style=\"text-align: right;\">  6.64397</td><td style=\"text-align: right;\">  6.04396</td><td style=\"text-align: right;\">  6.07968</td><td style=\"text-align: right;\">  1.30188 </td><td style=\"text-align: right;\"> 19.0365</td><td style=\"text-align: right;\">  7.49283</td><td style=\"text-align: right;\">  2.5119 </td><td style=\"text-align: right;\">  6.31084</td><td style=\"text-align: right;\">  4.69728</td><td style=\"text-align: right;\">  0.0477031 </td><td style=\"text-align: right;\"> 11.0758</td><td>B     </td><td style=\"text-align: right;\">  2.25482</td><td style=\"text-align: right;\">  5.18092</td><td>B     </td><td style=\"text-align: right;\">  2.56809 </td><td>I     </td><td>      </td><td style=\"text-align: right;\"> 9.01008</td><td style=\"text-align: right;\">  8.54369</td><td style=\"text-align: right;\">  1.34969</td><td style=\"text-align: right;\"> 12.1687 </td><td style=\"text-align: right;\">  6.59341</td><td style=\"text-align: right;\">  1.53273    </td><td style=\"text-align: right;\">  0.846716</td><td style=\"text-align: right;\">  2.23256 </td><td style=\"text-align: right;\">  3.4763 </td><td style=\"text-align: right;\">  1.99259</td><td style=\"text-align: right;\">  0.0837583 </td><td>BJ    </td><td style=\"text-align: right;\">  3.2761 </td><td style=\"text-align: right;\">  1.6233 </td><td style=\"text-align: right;\">  2.26658</td><td style=\"text-align: right;\">     0</td><td style=\"text-align: right;\">  2.26374 </td><td style=\"text-align: right;\">  0.970873</td></tr>\n",
       "<tr><td style=\"text-align: right;\">  21</td><td style=\"text-align: right;\">       1</td><td style=\"text-align: right;\">nan       </td><td style=\"text-align: right;\">nan      </td><td>C   </td><td style=\"text-align: right;\">nan      </td><td style=\"text-align: right;\">nan      </td><td style=\"text-align: right;\">nan      </td><td style=\"text-align: right;\">nan      </td><td style=\"text-align: right;\">nan        </td><td style=\"text-align: right;\">nan      </td><td style=\"text-align: right;\">1.83807 </td><td style=\"text-align: right;\">nan     </td><td style=\"text-align: right;\">6.42448</td><td style=\"text-align: right;\">nan      </td><td style=\"text-align: right;\">12.7939 </td><td style=\"text-align: right;\">nan      </td><td style=\"text-align: right;\">nan      </td><td style=\"text-align: right;\">nan      </td><td style=\"text-align: right;\">nan       </td><td style=\"text-align: right;\">nan       </td><td style=\"text-align: right;\">nan     </td><td style=\"text-align: right;\">7.8067 </td><td>AHBW </td><td style=\"text-align: right;\">nan          </td><td>D    </td><td style=\"text-align: right;\">nan        </td><td style=\"text-align: right;\">nan      </td><td style=\"text-align: right;\">nan      </td><td style=\"text-align: right;\">nan       </td><td style=\"text-align: right;\">nan      </td><td>C    </td><td>A    </td><td style=\"text-align: right;\">nan      </td><td style=\"text-align: right;\">nan      </td><td style=\"text-align: right;\">11.0775 </td><td style=\"text-align: right;\">nan      </td><td style=\"text-align: right;\">nan     </td><td style=\"text-align: right;\">nan       </td><td style=\"text-align: right;\">    0</td><td style=\"text-align: right;\">nan        </td><td style=\"text-align: right;\"> 3.03451</td><td style=\"text-align: right;\">nan      </td><td style=\"text-align: right;\">nan     </td><td style=\"text-align: right;\">nan      </td><td style=\"text-align: right;\">nan      </td><td style=\"text-align: right;\">nan      </td><td style=\"text-align: right;\">nan        </td><td>I    </td><td style=\"text-align: right;\">nan     </td><td style=\"text-align: right;\">nan      </td><td style=\"text-align: right;\">2.68212 </td><td style=\"text-align: right;\">nan      </td><td>C    </td><td style=\"text-align: right;\">nan     </td><td style=\"text-align: right;\">nan        </td><td style=\"text-align: right;\">nan       </td><td>DP   </td><td style=\"text-align: right;\">nan      </td><td style=\"text-align: right;\">nan       </td><td style=\"text-align: right;\">nan      </td><td style=\"text-align: right;\">nan      </td><td style=\"text-align: right;\">nan     </td><td style=\"text-align: right;\">    2</td><td style=\"text-align: right;\">nan        </td><td style=\"text-align: right;\">nan      </td><td style=\"text-align: right;\">nan     </td><td>C    </td><td style=\"text-align: right;\">nan      </td><td style=\"text-align: right;\">nan     </td><td style=\"text-align: right;\">nan      </td><td style=\"text-align: right;\">nan      </td><td>F    </td><td style=\"text-align: right;\">    2</td><td style=\"text-align: right;\">nan      </td><td>B    </td><td>D    </td><td style=\"text-align: right;\">nan      </td><td style=\"text-align: right;\">nan      </td><td style=\"text-align: right;\">nan      </td><td>C    </td><td style=\"text-align: right;\">nan      </td><td style=\"text-align: right;\">nan      </td><td style=\"text-align: right;\">nan      </td><td style=\"text-align: right;\">nan      </td><td style=\"text-align: right;\">nan      </td><td style=\"text-align: right;\">nan      </td><td style=\"text-align: right;\">nan       </td><td style=\"text-align: right;\">nan      </td><td style=\"text-align: right;\">nan       </td><td style=\"text-align: right;\">nan        </td><td style=\"text-align: right;\">nan       </td><td>A    </td><td style=\"text-align: right;\">nan       </td><td style=\"text-align: right;\">nan      </td><td style=\"text-align: right;\">nan      </td><td style=\"text-align: right;\">nan       </td><td style=\"text-align: right;\">nan      </td><td style=\"text-align: right;\">nan      </td><td style=\"text-align: right;\">nan      </td><td style=\"text-align: right;\">nan       </td><td style=\"text-align: right;\">nan     </td><td style=\"text-align: right;\">nan      </td><td style=\"text-align: right;\">nan      </td><td style=\"text-align: right;\">nan      </td><td style=\"text-align: right;\">nan      </td><td style=\"text-align: right;\">nan         </td><td style=\"text-align: right;\">nan     </td><td>E     </td><td style=\"text-align: right;\">nan      </td><td style=\"text-align: right;\">nan      </td><td>A     </td><td style=\"text-align: right;\">nan       </td><td>F     </td><td>M     </td><td style=\"text-align: right;\">18.7056 </td><td style=\"text-align: right;\">nan      </td><td style=\"text-align: right;\">nan      </td><td style=\"text-align: right;\">nan      </td><td style=\"text-align: right;\">nan      </td><td style=\"text-align: right;\">nan          </td><td style=\"text-align: right;\">nan       </td><td style=\"text-align: right;\">nan       </td><td style=\"text-align: right;\">nan      </td><td style=\"text-align: right;\">nan      </td><td style=\"text-align: right;\">nan         </td><td>BY    </td><td style=\"text-align: right;\">nan      </td><td style=\"text-align: right;\">nan      </td><td style=\"text-align: right;\">nan      </td><td style=\"text-align: right;\">     0</td><td style=\"text-align: right;\">nan       </td><td style=\"text-align: right;\">nan       </td></tr>\n",
       "<tr><td style=\"text-align: right;\">  22</td><td style=\"text-align: right;\">       0</td><td style=\"text-align: right;\">  2.07865 </td><td style=\"text-align: right;\">  8.46262</td><td>    </td><td style=\"text-align: right;\">  3.73903</td><td style=\"text-align: right;\">  5.26564</td><td style=\"text-align: right;\">  1.57303</td><td style=\"text-align: right;\">  2.30337</td><td style=\"text-align: right;\">  0.0158692</td><td style=\"text-align: right;\"> 11.1111 </td><td style=\"text-align: right;\">4.46389 </td><td style=\"text-align: right;\"> 16.051 </td><td style=\"text-align: right;\">8.71505</td><td style=\"text-align: right;\">  2.34805</td><td style=\"text-align: right;\">12.6034 </td><td style=\"text-align: right;\">  1.58046</td><td style=\"text-align: right;\">  6.66667</td><td style=\"text-align: right;\">  3.05213</td><td style=\"text-align: right;\">  0.139939</td><td style=\"text-align: right;\">  0.180616</td><td style=\"text-align: right;\"> 17.7546</td><td style=\"text-align: right;\">6.03495</td><td>GKQ  </td><td style=\"text-align: right;\"> -3.64317e-07</td><td>E    </td><td style=\"text-align: right;\">  0.0589057</td><td style=\"text-align: right;\">  1.64794</td><td style=\"text-align: right;\">  3.08989</td><td style=\"text-align: right;\">  0.759034</td><td style=\"text-align: right;\">  8.14607</td><td>     </td><td>     </td><td style=\"text-align: right;\">  1.26404</td><td style=\"text-align: right;\">  1.34831</td><td style=\"text-align: right;\"> 6.95262</td><td style=\"text-align: right;\">  8.08989</td><td style=\"text-align: right;\"> 12.7543</td><td style=\"text-align: right;\">  0.975611</td><td style=\"text-align: right;\">    0</td><td style=\"text-align: right;\">  3.169    </td><td style=\"text-align: right;\">12.1996 </td><td style=\"text-align: right;\">  7.07865</td><td style=\"text-align: right;\"> 11.7416</td><td style=\"text-align: right;\">  2.03822</td><td style=\"text-align: right;\"> 10.173  </td><td style=\"text-align: right;\">  7.93684</td><td style=\"text-align: right;\">  0.0851758</td><td>D    </td><td style=\"text-align: right;\"> 12.9409</td><td style=\"text-align: right;\">  7.92135</td><td style=\"text-align: right;\">1.67559 </td><td style=\"text-align: right;\">  8.85183</td><td>H    </td><td style=\"text-align: right;\"> 16.5517</td><td style=\"text-align: right;\">  0.0153907</td><td style=\"text-align: right;\">  1.17978 </td><td>AF   </td><td style=\"text-align: right;\">  4.38202</td><td style=\"text-align: right;\">  0.505051</td><td style=\"text-align: right;\"> 10.0227 </td><td style=\"text-align: right;\">  1.44195</td><td style=\"text-align: right;\"> 15.5556</td><td style=\"text-align: right;\">    0</td><td style=\"text-align: right;\">  0.0677198</td><td style=\"text-align: right;\">  5.40664</td><td style=\"text-align: right;\"> 16.8564</td><td>B    </td><td style=\"text-align: right;\">  8.82023</td><td style=\"text-align: right;\"> 15.6566</td><td style=\"text-align: right;\"> 11.6667 </td><td style=\"text-align: right;\">  9.72771</td><td>B    </td><td style=\"text-align: right;\">    0</td><td style=\"text-align: right;\">  1.99045</td><td>B    </td><td>B    </td><td style=\"text-align: right;\">  1.84099</td><td style=\"text-align: right;\">  7.07865</td><td style=\"text-align: right;\"> 10      </td><td>P    </td><td style=\"text-align: right;\">  2.96296</td><td style=\"text-align: right;\"> 10.2532 </td><td style=\"text-align: right;\">  8.23117</td><td style=\"text-align: right;\">  1.01124</td><td style=\"text-align: right;\">  1.34831</td><td style=\"text-align: right;\">  1.6    </td><td style=\"text-align: right;\">  0.926967</td><td style=\"text-align: right;\">  6.96162</td><td style=\"text-align: right;\">  2.47191 </td><td style=\"text-align: right;\">  0.040216 </td><td style=\"text-align: right;\">  0.910867</td><td>C    </td><td style=\"text-align: right;\">  0.58504 </td><td style=\"text-align: right;\">  5.00481</td><td style=\"text-align: right;\">  3.09412</td><td style=\"text-align: right;\">  0.632525</td><td style=\"text-align: right;\">  6.74157</td><td style=\"text-align: right;\">  6.82927</td><td style=\"text-align: right;\">  9.82361</td><td style=\"text-align: right;\">  0.720974</td><td style=\"text-align: right;\"> 19.4949</td><td style=\"text-align: right;\">  6.67209</td><td style=\"text-align: right;\">  1.78025</td><td style=\"text-align: right;\">  4.67994</td><td style=\"text-align: right;\">  1.6534 </td><td style=\"text-align: right;\">  0.00607144</td><td style=\"text-align: right;\"> 11.461 </td><td>D     </td><td style=\"text-align: right;\">  1.1944 </td><td style=\"text-align: right;\">  1.15132</td><td>C     </td><td style=\"text-align: right;\">  1.68539 </td><td>L     </td><td>      </td><td style=\"text-align: right;\">12.5368 </td><td style=\"text-align: right;\">  8.33333</td><td style=\"text-align: right;\">  1.93103</td><td style=\"text-align: right;\">  3.41919</td><td style=\"text-align: right;\">  7.80488</td><td style=\"text-align: right;\">  0.518242   </td><td style=\"text-align: right;\">  1.41414 </td><td style=\"text-align: right;\">  1.2766  </td><td style=\"text-align: right;\">  8.14815</td><td style=\"text-align: right;\">  1.87556</td><td style=\"text-align: right;\">  0.0186595 </td><td>S     </td><td style=\"text-align: right;\">  1.15964</td><td style=\"text-align: right;\">  5.58287</td><td style=\"text-align: right;\">  1.10528</td><td style=\"text-align: right;\">     0</td><td style=\"text-align: right;\">  1.17073 </td><td style=\"text-align: right;\">  3.33333 </td></tr>\n",
       "<tr><td style=\"text-align: right;\">  23</td><td style=\"text-align: right;\">       1</td><td style=\"text-align: right;\">  1.1448  </td><td style=\"text-align: right;\">  5.88061</td><td>C   </td><td style=\"text-align: right;\">  3.24447</td><td style=\"text-align: right;\">  9.53838</td><td style=\"text-align: right;\">  2.5    </td><td style=\"text-align: right;\">  1.55941</td><td style=\"text-align: right;\">  0.41261  </td><td style=\"text-align: right;\">  9.97753</td><td style=\"text-align: right;\">2.36324 </td><td style=\"text-align: right;\"> 16.0914</td><td style=\"text-align: right;\">7.41785</td><td style=\"text-align: right;\">  4.17695</td><td style=\"text-align: right;\">13.79   </td><td style=\"text-align: right;\">  2.31956</td><td style=\"text-align: right;\">  5.9    </td><td style=\"text-align: right;\">  2.76865</td><td style=\"text-align: right;\">  0.812777</td><td style=\"text-align: right;\">  0.271822</td><td style=\"text-align: right;\"> 18.4101</td><td style=\"text-align: right;\">8.31245</td><td>PYF  </td><td style=\"text-align: right;\">  3.95598e-08</td><td>C    </td><td style=\"text-align: right;\">  0.509588 </td><td style=\"text-align: right;\">  1.16852</td><td style=\"text-align: right;\">  1.41089</td><td style=\"text-align: right;\">  6.90828 </td><td style=\"text-align: right;\">  9.05941</td><td>C    </td><td>A    </td><td style=\"text-align: right;\">  2.06064</td><td style=\"text-align: right;\">  2.47525</td><td style=\"text-align: right;\"> 6.49873</td><td style=\"text-align: right;\">  9.60396</td><td style=\"text-align: right;\"> 14.6586</td><td style=\"text-align: right;\">  0.793651</td><td style=\"text-align: right;\">    0</td><td style=\"text-align: right;\">  0.0752584</td><td style=\"text-align: right;\">10.8031 </td><td style=\"text-align: right;\">  8.2797 </td><td style=\"text-align: right;\"> 13.2673</td><td style=\"text-align: right;\">  1.23872</td><td style=\"text-align: right;\"> 10.2958 </td><td style=\"text-align: right;\"> 12.4804 </td><td style=\"text-align: right;\">  0.343973 </td><td>I    </td><td style=\"text-align: right;\"> 13.9826</td><td style=\"text-align: right;\">  8.95421</td><td style=\"text-align: right;\">0.993324</td><td style=\"text-align: right;\">  6.68233</td><td>A    </td><td style=\"text-align: right;\"> 16.4891</td><td style=\"text-align: right;\">  0.2328   </td><td style=\"text-align: right;\">  1.70792 </td><td>     </td><td style=\"text-align: right;\">  3.81188</td><td style=\"text-align: right;\">  6.41739 </td><td style=\"text-align: right;\"> 13.2043 </td><td style=\"text-align: right;\">  1.05507</td><td style=\"text-align: right;\"> 13.5283</td><td style=\"text-align: right;\">    3</td><td style=\"text-align: right;\">  0.390694 </td><td style=\"text-align: right;\">  4.87455</td><td style=\"text-align: right;\"> 16.4992</td><td>A    </td><td style=\"text-align: right;\"> 10.2908 </td><td style=\"text-align: right;\"> 19.4957</td><td style=\"text-align: right;\">  9.2    </td><td style=\"text-align: right;\"> 15.0528 </td><td>F    </td><td style=\"text-align: right;\">    3</td><td style=\"text-align: right;\">  2.78112</td><td>B    </td><td>D    </td><td style=\"text-align: right;\">  1.66867</td><td style=\"text-align: right;\">  8.6448 </td><td style=\"text-align: right;\"> 13.1    </td><td>C    </td><td style=\"text-align: right;\">  2.65169</td><td style=\"text-align: right;\">  7.01748</td><td style=\"text-align: right;\">  3.67944</td><td style=\"text-align: right;\">  2.43193</td><td style=\"text-align: right;\">  2.19059</td><td style=\"text-align: right;\">  2.74775</td><td style=\"text-align: right;\">  1.513   </td><td style=\"text-align: right;\"> 12.3247 </td><td style=\"text-align: right;\">  0.878712</td><td style=\"text-align: right;\">  0.171153 </td><td style=\"text-align: right;\">  1.18966 </td><td>A    </td><td style=\"text-align: right;\">  1.02295 </td><td style=\"text-align: right;\">  5.43264</td><td style=\"text-align: right;\">  3.15251</td><td style=\"text-align: right;\">  1.15878 </td><td style=\"text-align: right;\">  7.46906</td><td style=\"text-align: right;\">  7.38095</td><td style=\"text-align: right;\">  5.77273</td><td style=\"text-align: right;\">  1.17987 </td><td style=\"text-align: right;\"> 13.5826</td><td style=\"text-align: right;\">  7.19729</td><td style=\"text-align: right;\">  3.69435</td><td style=\"text-align: right;\">  4.38947</td><td style=\"text-align: right;\">  3.00161</td><td style=\"text-align: right;\">  0.278599  </td><td style=\"text-align: right;\"> 10.0642</td><td>E     </td><td style=\"text-align: right;\">  2.24059</td><td style=\"text-align: right;\">  3.83753</td><td>A     </td><td style=\"text-align: right;\">  3.97277 </td><td>J     </td><td>P     </td><td style=\"text-align: right;\">13.4341 </td><td style=\"text-align: right;\"> 10.7    </td><td style=\"text-align: right;\">  1.27049</td><td style=\"text-align: right;\"> 10.7195 </td><td style=\"text-align: right;\">  8.1746 </td><td style=\"text-align: right;\">  8.93128    </td><td style=\"text-align: right;\">  0.434782</td><td style=\"text-align: right;\">  2.71596 </td><td style=\"text-align: right;\">  7.32584</td><td style=\"text-align: right;\">  4.89662</td><td style=\"text-align: right;\">  0.00894365</td><td>E     </td><td style=\"text-align: right;\">  1.34455</td><td style=\"text-align: right;\">  1.60118</td><td style=\"text-align: right;\">  1.92801</td><td style=\"text-align: right;\">     0</td><td style=\"text-align: right;\">  3.1746  </td><td style=\"text-align: right;\">  1       </td></tr>\n",
       "</tbody>\n",
       "</table>"
      ]
     },
     "metadata": {},
     "output_type": "display_data"
    },
    {
     "data": {
      "text/plain": [
       "[114321, 133]"
      ]
     },
     "execution_count": 2,
     "metadata": {},
     "output_type": "execute_result"
    }
   ],
   "source": [
    "# upload dataset in H2O and show some rows as an example\n",
    "df = h2o.import_file(\"train.csv\")\n",
    "df.show()\n",
    "df.dim"
   ]
  },
  {
   "cell_type": "code",
   "execution_count": 3,
   "metadata": {
    "collapsed": true
   },
   "outputs": [],
   "source": [
    "# \"target\" is a column we would like to predict\n",
    "response = \"target\"\n",
    "cols = []\n",
    "\n",
    "# let's encode \"target\" column as enum (factor)\n",
    "for i in cols + [response]: \n",
    "    df[i] = df[i].asfactor() \n",
    "predictors = list(set(df.names) - set([response, 'ID']))"
   ]
  },
  {
   "cell_type": "code",
   "execution_count": 4,
   "metadata": {},
   "outputs": [
    {
     "name": "stdout",
     "output_type": "stream",
     "text": [
      "[91408, 133]\n",
      "[11380, 133]\n",
      "[11533, 133]\n"
     ]
    }
   ],
   "source": [
    "# dataset split\n",
    "r = df.runif(seed=42)\n",
    "train = df[r  < 0.8]                 ## 80% for training\n",
    "valid = df[(r >= 0.8) & (r < 0.9)]   ## 10% for early stopping (only enabled by default for Deep Water)\n",
    "test  = df[r  >= 0.9]                ## 10% for final testing\n",
    "print(train.dim)\n",
    "print(valid.dim)\n",
    "print(test .dim)"
   ]
  },
  {
   "cell_type": "code",
   "execution_count": 5,
   "metadata": {},
   "outputs": [
    {
     "name": "stderr",
     "output_type": "stream",
     "text": [
      "Using TensorFlow backend.\n"
     ]
    }
   ],
   "source": [
    "#neural net definition. P\n",
    "#lease note how easy you can use Keras layers and TensorFlow layers in the same graph definition\n",
    "\n",
    "import tensorflow as tf\n",
    "import json\n",
    "from keras.layers.core import Dense,  Activation, Dropout\n",
    "from keras.layers.normalization import BatchNormalization\n",
    "from keras import backend as K\n",
    "from keras.objectives import categorical_crossentropy\n",
    "from tensorflow.python.framework import ops\n",
    "\n",
    "def keras_model(size, classes, n_gpus = 1, layers = 3, neurons = 256):\n",
    "    # always create a new graph inside ipython or\n",
    "    # the default one will be used and can lead to\n",
    "    # unexpected behavior\n",
    "    graph = tf.Graph() \n",
    "    with graph.as_default():\n",
    "        # Input fed via H2O\n",
    "        inp = tf.placeholder(tf.float32, [None, size])\n",
    "        # Actual labels used for training fed via H2O\n",
    "        labels = tf.placeholder(tf.float32, [None, classes])\n",
    "        \n",
    "        if n_gpus > 1:\n",
    "            inp_arr = tf.split(inp, n_gpus, axis=0)\n",
    "            labels_arr = tf.split(labels, n_gpus, axis=0)\n",
    "        else:\n",
    "            inp_arr = [ inp ]\n",
    "            labels_arr = [ labels ]\n",
    "        \n",
    "        classes_arr = [ classes ] * n_gpus\n",
    "\n",
    "        logits_arr = [ 0.0 ] * n_gpus\n",
    "        predictions_arr = [ 0.0 ] * n_gpus\n",
    "        \n",
    "        for gpu in range(n_gpus):\n",
    "            \n",
    "            with tf.device('/gpu:'+str(gpu)):\n",
    "                with tf.name_scope('tower_'+str(gpu)) as scope:\n",
    "\n",
    "\n",
    "                    x = Dense(neurons)(inp_arr[gpu])\n",
    "                    x = tf.contrib.layers.batch_norm(x)\n",
    "                    x = Activation('relu')(x)\n",
    "                    \n",
    "                    for i in range(layers):\n",
    "                        sl = x\n",
    "                        x = Dense(neurons)(x)\n",
    "                        x = tf.contrib.layers.batch_norm(x)\n",
    "                        x = Activation('relu')(x)\n",
    "                        x = tf.nn.dropout(x, 0.5)\n",
    "                    out = Dense(classes)(x)\n",
    "                    logits_arr[gpu] = out\n",
    "                    predictions_arr[gpu] = tf.nn.softmax(out)\n",
    "                    \n",
    "        with tf.device('/cpu:0'):\n",
    "            out = tf.concat(logits_arr, 0)\n",
    "            predictions = tf.concat(predictions_arr, 0)\n",
    "            loss = tf.reduce_mean(tf.losses.softmax_cross_entropy(labels, out))\n",
    "            train_step = tf.train.AdamOptimizer(1e-3).minimize(loss)\n",
    "\n",
    "        init_op = tf.global_variables_initializer()\n",
    "\n",
    "        # Metadata required by H2O\n",
    "        tf.add_to_collection(ops.GraphKeys.INIT_OP, init_op.name)\n",
    "        tf.add_to_collection(ops.GraphKeys.TRAIN_OP, train_step)\n",
    "        tf.add_to_collection(\"logits\", out)\n",
    "        tf.add_to_collection(\"predictions\", predictions)\n",
    "\n",
    "        meta = json.dumps({\n",
    "                \"inputs\": {\"batch_image_input\": inp.name,\n",
    "                           \"categorical_labels\": labels.name\n",
    "                          },\n",
    "                \"outputs\": {\"categorical_logits\": out.name,\n",
    "                            \"layers\": ','.join([m.name for m in tf.get_default_graph().get_operations()])},\n",
    "                \"parameters\": {},\n",
    "            })\n",
    "        tf.add_to_collection(\"meta\", meta)\n",
    "\n",
    "        # Save the meta file with the graph\n",
    "        saver = tf.train.Saver()\n",
    "        filename = \"/tmp/keras_tensorflow.meta\"\n",
    "        tf.train.export_meta_graph(filename, saver_def=saver.as_saver_def())\n",
    "\n",
    "        return filename"
   ]
  },
  {
   "cell_type": "code",
   "execution_count": 6,
   "metadata": {},
   "outputs": [
    {
     "name": "stdout",
     "output_type": "stream",
     "text": [
      "GPUs: 2\n"
     ]
    }
   ],
   "source": [
    "NGPUS = int(subprocess.check_output(\"nvidia-smi -L | wc -l\", shell=True))\n",
    "print(\"GPUs:\", NGPUS)"
   ]
  },
  {
   "cell_type": "code",
   "execution_count": 7,
   "metadata": {
    "collapsed": true
   },
   "outputs": [],
   "source": [
    "#will take ~10 minutes to converge on 2 GPUs (GeForce 1080)\n",
    "#194 is a length of input layer. We encode all categorical using \"binary\" encoding from H2O.\n",
    "filename = keras_model(194, 2, NGPUS, layers = 5, neurons = 4096)"
   ]
  },
  {
   "cell_type": "code",
   "execution_count": 8,
   "metadata": {},
   "outputs": [
    {
     "name": "stdout",
     "output_type": "stream",
     "text": [
      "deepwater Model Build progress: |█████████████████████████████████████████| 100%\n",
      "Validation Logloss: 0.4952041208139977\n",
      "CPU times: user 2.94 s, sys: 348 ms, total: 3.29 s\n",
      "Wall time: 10min 16s\n"
     ]
    }
   ],
   "source": [
    "%%time\n",
    "\n",
    "batch_size = 512\n",
    "\n",
    "dw = H2ODeepWaterEstimator(\n",
    "    seed=1234, \n",
    "    backend = \"tensorflow\", \n",
    "    epochs = 100,\n",
    "    network_definition_file=filename,\n",
    "    mini_batch_size = batch_size*NGPUS,\n",
    "    categorical_encoding = \"binary\",\n",
    ")  \n",
    "dw.train(\n",
    "    x=predictors, \n",
    "    y=response, \n",
    "    training_frame=train, \n",
    "    validation_frame=valid,\n",
    ")\n",
    "print(\"Validation Logloss:\",dw.model_performance(valid=True).logloss())"
   ]
  },
  {
   "cell_type": "code",
   "execution_count": 9,
   "metadata": {},
   "outputs": [
    {
     "name": "stdout",
     "output_type": "stream",
     "text": [
      "deepwater prediction progress: |██████████████████████████████████████████| 100%\n",
      "Test LogLoss: 0.5063574885230738\n"
     ]
    }
   ],
   "source": [
    "pdw = dw.predict(test)\n",
    "print(\"Test LogLoss:\", h2o.make_metrics(actual=test[response], predicted=pdw[2]).logloss())"
   ]
  },
  {
   "cell_type": "code",
   "execution_count": null,
   "metadata": {
    "collapsed": true
   },
   "outputs": [],
   "source": []
  }
 ],
 "metadata": {
  "kernelspec": {"display_name": "Python 3", "language": "python", "name": "python3"},
  "language_info": {
   "codemirror_mode": {
    "name": "ipython",
    "version": 3
   },
   "file_extension": ".py",
   "mimetype": "text/x-python",
   "name": "python",
   "nbconvert_exporter": "python",
   "pygments_lexer": "ipython3",
   "version": "3.6.1"
  }
 },
 "nbformat": 4,
 "nbformat_minor": 2
}
