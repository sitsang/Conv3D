{
 "cells": [
  {
   "cell_type": "code",
   "execution_count": 12,
   "metadata": {
    "collapsed": false
   },
   "outputs": [],
   "source": [
    "#conda install -c r ipython-notebook r-irkernel\n",
    "\n",
    "#install.packages(\"RCurl\")\n",
    "#install.packages(\"jsonlite\")\n",
    "#install.packages(\"statmod\")\n",
    "#install.packages(c(\"devtools\", \"roxygen2\", \"testthat\"))"
   ]
  },
  {
   "cell_type": "code",
   "execution_count": 1,
   "metadata": {
    "collapsed": false
   },
   "outputs": [
    {
     "name": "stderr",
     "output_type": "stream",
     "text": [
      "Loading required package: statmod\n",
      "\n",
      "----------------------------------------------------------------------\n",
      "\n",
      "Your next step is to start H2O:\n",
      "    > h2o.init()\n",
      "\n",
      "For H2O package documentation, ask for help:\n",
      "    > ??h2o\n",
      "\n",
      "After starting H2O, you can use the Web UI at http://localhost:54321\n",
      "For more information visit http://docs.h2o.ai\n",
      "\n",
      "----------------------------------------------------------------------\n",
      "\n",
      "\n",
      "Attaching package: ‘h2o’\n",
      "\n",
      "The following objects are masked from ‘package:stats’:\n",
      "\n",
      "    cor, sd, var\n",
      "\n",
      "The following objects are masked from ‘package:base’:\n",
      "\n",
      "    &&, %*%, %in%, ||, apply, as.factor, as.numeric, colnames,\n",
      "    colnames<-, ifelse, is.character, is.factor, is.numeric, log,\n",
      "    log10, log1p, log2, round, signif, trunc\n",
      "\n"
     ]
    },
    {
     "name": "stdout",
     "output_type": "stream",
     "text": [
      " Connection successful!\n",
      "\n",
      "R is connected to the H2O cluster: \n",
      "    H2O cluster uptime:         21 minutes 43 seconds \n",
      "    H2O cluster version:        3.11.0.99999 \n",
      "    H2O cluster version age:    21 minutes  \n",
      "    H2O cluster name:           arno \n",
      "    H2O cluster total nodes:    1 \n",
      "    H2O cluster total memory:   13.93 GB \n",
      "    H2O cluster total cores:    12 \n",
      "    H2O cluster allowed cores:  12 \n",
      "    H2O cluster healthy:        TRUE \n",
      "    H2O Connection ip:          localhost \n",
      "    H2O Connection port:        54321 \n",
      "    H2O Connection proxy:       NA \n",
      "    R Version:                  R version 3.3.1 (2016-06-21) \n",
      "\n"
     ]
    },
    {
     "ename": "ERROR",
     "evalue": "Error in eval(expr, envir, enclos): could not find function \"h2o.deepwater.available\"\n",
     "output_type": "error",
     "traceback": [
      "Error in eval(expr, envir, enclos): could not find function \"h2o.deepwater.available\"\nTraceback:\n"
     ]
    }
   ],
   "source": [
    "library(h2o)\n",
    "h2o.init(nthreads=-1)\n",
    "if (!h2o.deepwater.available()) return()"
   ]
  },
  {
   "cell_type": "code",
   "execution_count": 2,
   "metadata": {
    "collapsed": false
   },
   "outputs": [
    {
     "name": "stdout",
     "output_type": "stream",
     "text": [
      "\r",
      "  |                                                                            \r",
      "  |                                                                      |   0%\r",
      "  |                                                                            \r",
      "  |======================================================================| 100%\n"
     ]
    }
   ],
   "source": [
    "train <- as.h2o(iris)\n",
    "predictors=1:4\n",
    "response_col=5\n",
    "hidden_opts <- list(c(20, 20), c(50, 50, 50), c(200,200), c(50,50,50,50,50))\n",
    "activation_opts <- c(\"tanh\", \"rectifier\")\n",
    "learnrate_opts <- seq(1e-3, 1e-2, 1e-3)\n",
    "max_models <- 1000      ## don't build more than this many models (this won't trigger)\n",
    "nfolds <- 3             ## use cross-validation to rank models and to find optimal number of epochs for each model\n",
    "seed <- 42\n",
    "max_runtime_secs <- 30  ## limit overall time (this triggers)"
   ]
  },
  {
   "cell_type": "code",
   "execution_count": 3,
   "metadata": {
    "collapsed": true
   },
   "outputs": [],
   "source": [
    "hyper_params <- list(activation = activation_opts, hidden = hidden_opts, learning_rate = learnrate_opts)\n",
    "search_criteria = list(strategy = \"RandomDiscrete\",\n",
    "                       max_models = max_models, seed = seed, max_runtime_secs = max_runtime_secs,\n",
    "                       stopping_rounds=5,          ## enable early stopping of the overall leaderboard\n",
    "                       stopping_metric=\"logloss\",\n",
    "                       stopping_tolerance=1e-4)"
   ]
  },
  {
   "cell_type": "code",
   "execution_count": 4,
   "metadata": {
    "collapsed": false
   },
   "outputs": [
    {
     "name": "stdout",
     "output_type": "stream",
     "text": [
      "\r",
      "  |                                                                            \r",
      "  |                                                                      |   0%\r",
      "  |                                                                            \r",
      "  |==                                                                    |   3%\r",
      "  |                                                                            \r",
      "  |=====                                                                 |   7%\r",
      "  |                                                                            \r",
      "  |=======                                                               |  10%\r",
      "  |                                                                            \r",
      "  |=========                                                             |  14%\r",
      "  |                                                                            \r",
      "  |============                                                          |  17%\r",
      "  |                                                                            \r",
      "  |==============                                                        |  20%\r",
      "  |                                                                            \r",
      "  |=================                                                     |  24%\r",
      "  |                                                                            \r",
      "  |===================                                                   |  27%\r",
      "  |                                                                            \r",
      "  |=====================                                                 |  30%\r",
      "  |                                                                            \r",
      "  |========================                                              |  34%\r",
      "  |                                                                            \r",
      "  |==========================                                            |  37%\r",
      "  |                                                                            \r",
      "  |============================                                          |  41%\r",
      "  |                                                                            \r",
      "  |===============================                                       |  44%\r",
      "  |                                                                            \r",
      "  |=================================                                     |  47%\r",
      "  |                                                                            \r",
      "  |===================================                                   |  51%\r",
      "  |                                                                            \r",
      "  |======================================                                |  54%\r",
      "  |                                                                            \r",
      "  |========================================                              |  57%\r",
      "  |                                                                            \r",
      "  |===========================================                           |  61%\r",
      "  |                                                                            \r",
      "  |=============================================                         |  64%\r",
      "  |                                                                            \r",
      "  |===============================================                       |  68%\r",
      "  |                                                                            \r",
      "  |==================================================                    |  71%\r",
      "  |                                                                            \r",
      "  |====================================================                  |  74%\r",
      "  |                                                                            \r",
      "  |======================================================                |  78%\r",
      "  |                                                                            \r",
      "  |=========================================================             |  81%\r",
      "  |                                                                            \r",
      "  |===========================================================           |  84%\r",
      "  |                                                                            \r",
      "  |=============================================================         |  88%\r",
      "  |                                                                            \r",
      "  |================================================================      |  91%\r",
      "  |                                                                            \r",
      "  |==================================================================    |  95%\r",
      "  |                                                                            \r",
      "  |===================================================================== |  98%\r",
      "  |                                                                            \r",
      "  |======================================================================| 100%\n"
     ]
    }
   ],
   "source": [
    "dw_grid = h2o.grid(\"deepwater\", grid_id=\"deepwater_grid\",\n",
    "                   x=predictors, y=response_col, training_frame=train,\n",
    "                   epochs=500,                 ## long enough to allow early stopping \n",
    "                   nfolds=nfolds,              \n",
    "                   stopping_rounds=3,          ## enable early stopping of each model in the hyperparameter search\n",
    "                   stopping_metric=\"logloss\",\n",
    "                   stopping_tolerance=1e-3,    ## stop once validation logloss of the cv models doesn't improve enough\n",
    "                   hyper_params=hyper_params,  \n",
    "                   search_criteria = search_criteria)"
   ]
  },
  {
   "cell_type": "code",
   "execution_count": 5,
   "metadata": {
    "collapsed": false,
    "scrolled": true
   },
   "outputs": [
    {
     "data": {
      "text/plain": [
       "H2O Grid Details\n",
       "================\n",
       "\n",
       "Grid ID: deepwater_grid \n",
       "Used hyper parameters: \n",
       "  -  activation \n",
       "  -  hidden \n",
       "  -  learning_rate \n",
       "Number of models: 17 \n",
       "Number of failed models: 0 \n",
       "\n",
       "Hyper-Parameter Search Summary: ordered by increasing logloss\n",
       "   activation               hidden learning_rate               model_ids\n",
       "1        Tanh             [20, 20]          0.01  deepwater_grid_model_5\n",
       "2   Rectifier             [20, 20]         0.001 deepwater_grid_model_12\n",
       "3   Rectifier             [20, 20]         0.004  deepwater_grid_model_0\n",
       "4   Rectifier             [20, 20]         0.001  deepwater_grid_model_3\n",
       "5        Tanh             [20, 20]          0.01 deepwater_grid_model_14\n",
       "6        Tanh           [200, 200]         0.005 deepwater_grid_model_16\n",
       "7        Tanh [50, 50, 50, 50, 50]         0.009  deepwater_grid_model_2\n",
       "8        Tanh           [200, 200]         0.005  deepwater_grid_model_7\n",
       "9        Tanh         [50, 50, 50]         0.002 deepwater_grid_model_15\n",
       "10       Tanh         [50, 50, 50]         0.002  deepwater_grid_model_6\n",
       "11       Tanh [50, 50, 50, 50, 50]         0.009 deepwater_grid_model_11\n",
       "12  Rectifier           [200, 200]         0.008 deepwater_grid_model_13\n",
       "13  Rectifier         [50, 50, 50]         0.009  deepwater_grid_model_1\n",
       "14  Rectifier           [200, 200]         0.008  deepwater_grid_model_4\n",
       "15  Rectifier         [50, 50, 50]         0.009 deepwater_grid_model_10\n",
       "16  Rectifier [50, 50, 50, 50, 50]         0.007  deepwater_grid_model_8\n",
       "17  Rectifier [50, 50, 50, 50, 50]         0.007 deepwater_grid_model_17\n",
       "               logloss\n",
       "1  0.10360537308271477\n",
       "2  0.11026169578623926\n",
       "3   0.1625494618028055\n",
       "4  0.18870357386174968\n",
       "5   0.2840712183726002\n",
       "6   0.3728919690428224\n",
       "7   0.4132216265277581\n",
       "8   0.4676174315562619\n",
       "9   0.5330389890839002\n",
       "10  0.6295032648019662\n",
       "11  0.7263985566596572\n",
       "12  0.8995364557765182\n",
       "13  1.2044396481497057\n",
       "14  1.4559550555517036\n",
       "15  1.7264889062929403\n",
       "16  2.3025850929940455\n",
       "17  2.5328436022934504"
      ]
     },
     "metadata": {},
     "output_type": "display_data"
    }
   ],
   "source": [
    "dw_grid"
   ]
  }
 ],
 "metadata": {
  "anaconda-cloud": {},
  "kernelspec": {"display_name": "Python 3", "language": "python", "name": "python3"},
  "language_info": {
   "codemirror_mode": "r",
   "file_extension": ".r",
   "mimetype": "text/x-r-source",
   "name": "R",
   "pygments_lexer": "r",
   "version": "3.3.1"
  }
 },
 "nbformat": 4,
 "nbformat_minor": 1
}
