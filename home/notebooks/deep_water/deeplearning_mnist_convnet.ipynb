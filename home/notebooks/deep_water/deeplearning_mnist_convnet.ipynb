{
 "cells": [
  {
   "cell_type": "markdown",
   "metadata": {},
   "source": [
    "# DeepLearning\n",
    "\n",
    "## MNIST Dataset using DeepWater and Custom MXNet Model\n",
    "\n",
    "The MNIST database is a well-known academic dataset used to benchmark\n",
    "classification performance. The data consists of 60,000 training images and\n",
    "10,000 test images. Each image is a standardized $28^2$ pixel greyscale image of\n",
    "a single handwritten digit. An example of the scanned handwritten digits is\n",
    "shown\n",
    "![Example MNIST digit images](images/mnist.png)"
   ]
  },
  {
   "cell_type": "code",
   "execution_count": 1,
   "metadata": {
    "collapsed": false
   },
   "outputs": [
    {
     "name": "stdout",
     "output_type": "stream",
     "text": [
      "Checking whether there is an H2O instance running at http://localhost:54321. connected.\n"
     ]
    },
    {
     "data": {
      "text/html": [
       "<div style=\"overflow:auto\"><table style=\"width:50%\"><tr><td>H2O cluster uptime:</td>\n",
       "<td>2 hours 6 mins</td></tr>\n",
       "<tr><td>H2O cluster version:</td>\n",
       "<td>3.11.0.99999</td></tr>\n",
       "<tr><td>H2O cluster version age:</td>\n",
       "<td>9 hours and 12 minutes </td></tr>\n",
       "<tr><td>H2O cluster name:</td>\n",
       "<td>arno</td></tr>\n",
       "<tr><td>H2O cluster total nodes:</td>\n",
       "<td>1</td></tr>\n",
       "<tr><td>H2O cluster free memory:</td>\n",
       "<td>13.65 Gb</td></tr>\n",
       "<tr><td>H2O cluster total cores:</td>\n",
       "<td>12</td></tr>\n",
       "<tr><td>H2O cluster allowed cores:</td>\n",
       "<td>12</td></tr>\n",
       "<tr><td>H2O cluster status:</td>\n",
       "<td>locked, healthy</td></tr>\n",
       "<tr><td>H2O connection url:</td>\n",
       "<td>http://localhost:54321</td></tr>\n",
       "<tr><td>H2O connection proxy:</td>\n",
       "<td>None</td></tr>\n",
       "<tr><td>Python version:</td>\n",
       "<td>2.7.12 final</td></tr></table></div>"
      ],
      "text/plain": [
       "--------------------------  ----------------------\n",
       "H2O cluster uptime:         2 hours 6 mins\n",
       "H2O cluster version:        3.11.0.99999\n",
       "H2O cluster version age:    9 hours and 12 minutes\n",
       "H2O cluster name:           arno\n",
       "H2O cluster total nodes:    1\n",
       "H2O cluster free memory:    13.65 Gb\n",
       "H2O cluster total cores:    12\n",
       "H2O cluster allowed cores:  12\n",
       "H2O cluster status:         locked, healthy\n",
       "H2O connection url:         http://localhost:54321\n",
       "H2O connection proxy:\n",
       "Python version:             2.7.12 final\n",
       "--------------------------  ----------------------"
      ]
     },
     "metadata": {},
     "output_type": "display_data"
    }
   ],
   "source": [
    "import h2o\n",
    "h2o.init()"
   ]
  },
  {
   "cell_type": "code",
   "execution_count": 2,
   "metadata": {
    "collapsed": true
   },
   "outputs": [],
   "source": [
    "import os.path\n",
    "PATH = os.path.expanduser(\"~/h2o-3/\")"
   ]
  },
  {
   "cell_type": "code",
   "execution_count": 3,
   "metadata": {
    "collapsed": false
   },
   "outputs": [
    {
     "name": "stdout",
     "output_type": "stream",
     "text": [
      "Parse progress: |█████████████████████████████████████████████████████████████████████████████| 100%\n"
     ]
    }
   ],
   "source": [
    "test_df = h2o.import_file(PATH + \"bigdata/laptop/mnist/test.csv.gz\")"
   ]
  },
  {
   "cell_type": "code",
   "execution_count": 4,
   "metadata": {
    "collapsed": false
   },
   "outputs": [
    {
     "name": "stdout",
     "output_type": "stream",
     "text": [
      "Parse progress: |█████████████████████████████████████████████████████████████████████████████| 100%\n"
     ]
    }
   ],
   "source": [
    "train_df = h2o.import_file(PATH + \"/bigdata/laptop/mnist/train.csv.gz\")"
   ]
  },
  {
   "cell_type": "markdown",
   "metadata": {},
   "source": [
    "Specify the response and predictor columns"
   ]
  },
  {
   "cell_type": "code",
   "execution_count": 5,
   "metadata": {
    "collapsed": false
   },
   "outputs": [],
   "source": [
    "y = \"C785\"\n",
    "x = train_df.names[0:784]"
   ]
  },
  {
   "cell_type": "markdown",
   "metadata": {},
   "source": [
    "Convert the number to a class"
   ]
  },
  {
   "cell_type": "code",
   "execution_count": 6,
   "metadata": {
    "collapsed": true
   },
   "outputs": [],
   "source": [
    "train_df[y] = train_df[y].asfactor()\n",
    "test_df[y] = test_df[y].asfactor()"
   ]
  },
  {
   "cell_type": "markdown",
   "metadata": {},
   "source": [
    "Train Deep Learning model and validate on test set"
   ]
  },
  {
   "cell_type": "markdown",
   "metadata": {},
   "source": [
    "### LeNET 1989\n",
    "\n",
    "![lenet](./images/lenet.jpg)\n",
    "\n",
    "In this demo you will learn how to build a simple LeNET Model usix MXNET."
   ]
  },
  {
   "cell_type": "code",
   "execution_count": 7,
   "metadata": {
    "collapsed": true
   },
   "outputs": [],
   "source": [
    "def lenet(num_classes):\n",
    "    import mxnet as mx\n",
    "    data = mx.symbol.Variable('data')\n",
    "    # first conv\n",
    "    conv1 = mx.symbol.Convolution(data=data, kernel=(5,5), num_filter=20)\n",
    "    tanh1 = mx.symbol.Activation(data=conv1, act_type=\"tanh\")\n",
    "    pool1 = mx.symbol.Pooling(data=tanh1, pool_type=\"max\", kernel=(2,2), stride=(2,2))\n",
    "    # second conv\n",
    "    conv2 = mx.symbol.Convolution(data=pool1, kernel=(5,5), num_filter=50)\n",
    "    tanh2 = mx.symbol.Activation(data=conv2, act_type=\"tanh\")\n",
    "    pool2 = mx.symbol.Pooling(data=tanh2, pool_type=\"max\", kernel=(2,2), stride=(2,2))\n",
    "    # first fullc\n",
    "    flatten = mx.symbol.Flatten(data=pool2)\n",
    "    fc1 = mx.symbol.FullyConnected(data=flatten, num_hidden=500)\n",
    "    tanh3 = mx.symbol.Activation(data=fc1, act_type=\"tanh\")\n",
    "    # second fullc\n",
    "    fc2 = mx.symbol.FullyConnected(data=tanh3, num_hidden=num_classes)\n",
    "    # loss\n",
    "    lenet = mx.symbol.SoftmaxOutput(data=fc2, name='softmax')\n",
    "    return lenet"
   ]
  },
  {
   "cell_type": "code",
   "execution_count": 8,
   "metadata": {
    "collapsed": true
   },
   "outputs": [],
   "source": [
    "nclasses = 10 "
   ]
  },
  {
   "cell_type": "markdown",
   "metadata": {},
   "source": [
    "Here we instantiate our lenet model using 10 classes"
   ]
  },
  {
   "cell_type": "code",
   "execution_count": 9,
   "metadata": {
    "collapsed": true
   },
   "outputs": [],
   "source": [
    "mxnet_model = lenet(nclasses)"
   ]
  },
  {
   "cell_type": "markdown",
   "metadata": {},
   "source": [
    "To import the model inside the DeepWater training engine we need to save the model to a file:"
   ]
  },
  {
   "cell_type": "code",
   "execution_count": 10,
   "metadata": {
    "collapsed": true
   },
   "outputs": [],
   "source": [
    "model_filename=\"/tmp/symbol_lenet-py.json\"\n",
    "mxnet_model.save(model_filename)"
   ]
  },
  {
   "cell_type": "code",
   "execution_count": 11,
   "metadata": {
    "collapsed": false
   },
   "outputs": [
    {
     "data": {
      "image/svg+xml": [
       "<?xml version=\"1.0\" encoding=\"UTF-8\" standalone=\"no\"?>\n",
       "<!DOCTYPE svg PUBLIC \"-//W3C//DTD SVG 1.1//EN\"\n",
       " \"http://www.w3.org/Graphics/SVG/1.1/DTD/svg11.dtd\">\n",
       "<!-- Generated by graphviz version 2.38.0 (20140413.2041)\n",
       " -->\n",
       "<!-- Title: plot Pages: 1 -->\n",
       "<svg width=\"115pt\" height=\"1156pt\"\n",
       " viewBox=\"0.00 0.00 114.50 1156.00\" xmlns=\"http://www.w3.org/2000/svg\" xmlns:xlink=\"http://www.w3.org/1999/xlink\">\n",
       "<g id=\"graph0\" class=\"graph\" transform=\"scale(1 1) rotate(0) translate(4 1152)\">\n",
       "<title>plot</title>\n",
       "<polygon fill=\"white\" stroke=\"none\" points=\"-4,4 -4,-1152 110.5,-1152 110.5,4 -4,4\"/>\n",
       "<!-- convolution0 -->\n",
       "<g id=\"node1\" class=\"node\"><title>convolution0</title>\n",
       "<polygon fill=\"#fb8072\" stroke=\"black\" points=\"98.5,-58 4.5,-58 4.5,-0 98.5,-0 98.5,-58\"/>\n",
       "<text text-anchor=\"middle\" x=\"51.5\" y=\"-32.8\" font-family=\"Times,serif\" font-size=\"14.00\">Convolution</text>\n",
       "<text text-anchor=\"middle\" x=\"51.5\" y=\"-17.8\" font-family=\"Times,serif\" font-size=\"14.00\">5x5/1, 20</text>\n",
       "</g>\n",
       "<!-- activation0 -->\n",
       "<g id=\"node2\" class=\"node\"><title>activation0</title>\n",
       "<polygon fill=\"#ffffb3\" stroke=\"black\" points=\"98.5,-167 4.5,-167 4.5,-109 98.5,-109 98.5,-167\"/>\n",
       "<text text-anchor=\"middle\" x=\"51.5\" y=\"-141.8\" font-family=\"Times,serif\" font-size=\"14.00\">Activation</text>\n",
       "<text text-anchor=\"middle\" x=\"51.5\" y=\"-126.8\" font-family=\"Times,serif\" font-size=\"14.00\">tanh</text>\n",
       "</g>\n",
       "<!-- activation0&#45;&gt;convolution0 -->\n",
       "<g id=\"edge1\" class=\"edge\"><title>activation0&#45;&gt;convolution0</title>\n",
       "<path fill=\"none\" stroke=\"black\" d=\"M51.5,-98.5824C51.5,-85.2841 51.5,-70.632 51.5,-58.2967\"/>\n",
       "<polygon fill=\"black\" stroke=\"black\" points=\"51.5,-108.887 47.0001,-98.887 51.5,-103.887 51.5001,-98.887 51.5001,-98.887 51.5001,-98.887 51.5,-103.887 56.0001,-98.8871 51.5,-108.887 51.5,-108.887\"/>\n",
       "<text text-anchor=\"middle\" x=\"79\" y=\"-79.8\" font-family=\"Times,serif\" font-size=\"14.00\">20x24x24</text>\n",
       "</g>\n",
       "<!-- pooling0 -->\n",
       "<g id=\"node3\" class=\"node\"><title>pooling0</title>\n",
       "<polygon fill=\"#80b1d3\" stroke=\"black\" points=\"98.5,-276 4.5,-276 4.5,-218 98.5,-218 98.5,-276\"/>\n",
       "<text text-anchor=\"middle\" x=\"51.5\" y=\"-250.8\" font-family=\"Times,serif\" font-size=\"14.00\">Pooling</text>\n",
       "<text text-anchor=\"middle\" x=\"51.5\" y=\"-235.8\" font-family=\"Times,serif\" font-size=\"14.00\">max, 2x2/2</text>\n",
       "</g>\n",
       "<!-- pooling0&#45;&gt;activation0 -->\n",
       "<g id=\"edge2\" class=\"edge\"><title>pooling0&#45;&gt;activation0</title>\n",
       "<path fill=\"none\" stroke=\"black\" d=\"M51.5,-207.582C51.5,-194.284 51.5,-179.632 51.5,-167.297\"/>\n",
       "<polygon fill=\"black\" stroke=\"black\" points=\"51.5,-217.887 47.0001,-207.887 51.5,-212.887 51.5001,-207.887 51.5001,-207.887 51.5001,-207.887 51.5,-212.887 56.0001,-207.887 51.5,-217.887 51.5,-217.887\"/>\n",
       "<text text-anchor=\"middle\" x=\"79\" y=\"-188.8\" font-family=\"Times,serif\" font-size=\"14.00\">20x24x24</text>\n",
       "</g>\n",
       "<!-- convolution1 -->\n",
       "<g id=\"node4\" class=\"node\"><title>convolution1</title>\n",
       "<polygon fill=\"#fb8072\" stroke=\"black\" points=\"98.5,-385 4.5,-385 4.5,-327 98.5,-327 98.5,-385\"/>\n",
       "<text text-anchor=\"middle\" x=\"51.5\" y=\"-359.8\" font-family=\"Times,serif\" font-size=\"14.00\">Convolution</text>\n",
       "<text text-anchor=\"middle\" x=\"51.5\" y=\"-344.8\" font-family=\"Times,serif\" font-size=\"14.00\">5x5/1, 50</text>\n",
       "</g>\n",
       "<!-- convolution1&#45;&gt;pooling0 -->\n",
       "<g id=\"edge3\" class=\"edge\"><title>convolution1&#45;&gt;pooling0</title>\n",
       "<path fill=\"none\" stroke=\"black\" d=\"M51.5,-316.582C51.5,-303.284 51.5,-288.632 51.5,-276.297\"/>\n",
       "<polygon fill=\"black\" stroke=\"black\" points=\"51.5,-326.887 47.0001,-316.887 51.5,-321.887 51.5001,-316.887 51.5001,-316.887 51.5001,-316.887 51.5,-321.887 56.0001,-316.887 51.5,-326.887 51.5,-326.887\"/>\n",
       "<text text-anchor=\"middle\" x=\"79\" y=\"-297.8\" font-family=\"Times,serif\" font-size=\"14.00\">20x12x12</text>\n",
       "</g>\n",
       "<!-- activation1 -->\n",
       "<g id=\"node5\" class=\"node\"><title>activation1</title>\n",
       "<polygon fill=\"#ffffb3\" stroke=\"black\" points=\"98.5,-494 4.5,-494 4.5,-436 98.5,-436 98.5,-494\"/>\n",
       "<text text-anchor=\"middle\" x=\"51.5\" y=\"-468.8\" font-family=\"Times,serif\" font-size=\"14.00\">Activation</text>\n",
       "<text text-anchor=\"middle\" x=\"51.5\" y=\"-453.8\" font-family=\"Times,serif\" font-size=\"14.00\">tanh</text>\n",
       "</g>\n",
       "<!-- activation1&#45;&gt;convolution1 -->\n",
       "<g id=\"edge4\" class=\"edge\"><title>activation1&#45;&gt;convolution1</title>\n",
       "<path fill=\"none\" stroke=\"black\" d=\"M51.5,-425.582C51.5,-412.284 51.5,-397.632 51.5,-385.297\"/>\n",
       "<polygon fill=\"black\" stroke=\"black\" points=\"51.5,-435.887 47.0001,-425.887 51.5,-430.887 51.5001,-425.887 51.5001,-425.887 51.5001,-425.887 51.5,-430.887 56.0001,-425.887 51.5,-435.887 51.5,-435.887\"/>\n",
       "<text text-anchor=\"middle\" x=\"72\" y=\"-406.8\" font-family=\"Times,serif\" font-size=\"14.00\">50x8x8</text>\n",
       "</g>\n",
       "<!-- pooling1 -->\n",
       "<g id=\"node6\" class=\"node\"><title>pooling1</title>\n",
       "<polygon fill=\"#80b1d3\" stroke=\"black\" points=\"98.5,-603 4.5,-603 4.5,-545 98.5,-545 98.5,-603\"/>\n",
       "<text text-anchor=\"middle\" x=\"51.5\" y=\"-577.8\" font-family=\"Times,serif\" font-size=\"14.00\">Pooling</text>\n",
       "<text text-anchor=\"middle\" x=\"51.5\" y=\"-562.8\" font-family=\"Times,serif\" font-size=\"14.00\">max, 2x2/2</text>\n",
       "</g>\n",
       "<!-- pooling1&#45;&gt;activation1 -->\n",
       "<g id=\"edge5\" class=\"edge\"><title>pooling1&#45;&gt;activation1</title>\n",
       "<path fill=\"none\" stroke=\"black\" d=\"M51.5,-534.582C51.5,-521.284 51.5,-506.632 51.5,-494.297\"/>\n",
       "<polygon fill=\"black\" stroke=\"black\" points=\"51.5,-544.887 47.0001,-534.887 51.5,-539.887 51.5001,-534.887 51.5001,-534.887 51.5001,-534.887 51.5,-539.887 56.0001,-534.887 51.5,-544.887 51.5,-544.887\"/>\n",
       "<text text-anchor=\"middle\" x=\"72\" y=\"-515.8\" font-family=\"Times,serif\" font-size=\"14.00\">50x8x8</text>\n",
       "</g>\n",
       "<!-- flatten0 -->\n",
       "<g id=\"node7\" class=\"node\"><title>flatten0</title>\n",
       "<polygon fill=\"#fdb462\" stroke=\"black\" points=\"98.5,-712 4.5,-712 4.5,-654 98.5,-654 98.5,-712\"/>\n",
       "<text text-anchor=\"middle\" x=\"51.5\" y=\"-679.3\" font-family=\"Times,serif\" font-size=\"14.00\">Flatten</text>\n",
       "</g>\n",
       "<!-- flatten0&#45;&gt;pooling1 -->\n",
       "<g id=\"edge6\" class=\"edge\"><title>flatten0&#45;&gt;pooling1</title>\n",
       "<path fill=\"none\" stroke=\"black\" d=\"M51.5,-643.582C51.5,-630.284 51.5,-615.632 51.5,-603.297\"/>\n",
       "<polygon fill=\"black\" stroke=\"black\" points=\"51.5,-653.887 47.0001,-643.887 51.5,-648.887 51.5001,-643.887 51.5001,-643.887 51.5001,-643.887 51.5,-648.887 56.0001,-643.887 51.5,-653.887 51.5,-653.887\"/>\n",
       "<text text-anchor=\"middle\" x=\"72\" y=\"-624.8\" font-family=\"Times,serif\" font-size=\"14.00\">50x4x4</text>\n",
       "</g>\n",
       "<!-- fullyconnected0 -->\n",
       "<g id=\"node8\" class=\"node\"><title>fullyconnected0</title>\n",
       "<polygon fill=\"#fb8072\" stroke=\"black\" points=\"103,-821 0,-821 0,-763 103,-763 103,-821\"/>\n",
       "<text text-anchor=\"middle\" x=\"51.5\" y=\"-795.8\" font-family=\"Times,serif\" font-size=\"14.00\">FullyConnected</text>\n",
       "<text text-anchor=\"middle\" x=\"51.5\" y=\"-780.8\" font-family=\"Times,serif\" font-size=\"14.00\">500</text>\n",
       "</g>\n",
       "<!-- fullyconnected0&#45;&gt;flatten0 -->\n",
       "<g id=\"edge7\" class=\"edge\"><title>fullyconnected0&#45;&gt;flatten0</title>\n",
       "<path fill=\"none\" stroke=\"black\" d=\"M51.5,-752.582C51.5,-739.284 51.5,-724.632 51.5,-712.297\"/>\n",
       "<polygon fill=\"black\" stroke=\"black\" points=\"51.5,-762.887 47.0001,-752.887 51.5,-757.887 51.5001,-752.887 51.5001,-752.887 51.5001,-752.887 51.5,-757.887 56.0001,-752.887 51.5,-762.887 51.5,-762.887\"/>\n",
       "<text text-anchor=\"middle\" x=\"62\" y=\"-733.8\" font-family=\"Times,serif\" font-size=\"14.00\">800</text>\n",
       "</g>\n",
       "<!-- activation2 -->\n",
       "<g id=\"node9\" class=\"node\"><title>activation2</title>\n",
       "<polygon fill=\"#ffffb3\" stroke=\"black\" points=\"98.5,-930 4.5,-930 4.5,-872 98.5,-872 98.5,-930\"/>\n",
       "<text text-anchor=\"middle\" x=\"51.5\" y=\"-904.8\" font-family=\"Times,serif\" font-size=\"14.00\">Activation</text>\n",
       "<text text-anchor=\"middle\" x=\"51.5\" y=\"-889.8\" font-family=\"Times,serif\" font-size=\"14.00\">tanh</text>\n",
       "</g>\n",
       "<!-- activation2&#45;&gt;fullyconnected0 -->\n",
       "<g id=\"edge8\" class=\"edge\"><title>activation2&#45;&gt;fullyconnected0</title>\n",
       "<path fill=\"none\" stroke=\"black\" d=\"M51.5,-861.582C51.5,-848.284 51.5,-833.632 51.5,-821.297\"/>\n",
       "<polygon fill=\"black\" stroke=\"black\" points=\"51.5,-871.887 47.0001,-861.887 51.5,-866.887 51.5001,-861.887 51.5001,-861.887 51.5001,-861.887 51.5,-866.887 56.0001,-861.887 51.5,-871.887 51.5,-871.887\"/>\n",
       "<text text-anchor=\"middle\" x=\"62\" y=\"-842.8\" font-family=\"Times,serif\" font-size=\"14.00\">500</text>\n",
       "</g>\n",
       "<!-- fullyconnected1 -->\n",
       "<g id=\"node10\" class=\"node\"><title>fullyconnected1</title>\n",
       "<polygon fill=\"#fb8072\" stroke=\"black\" points=\"103,-1039 0,-1039 0,-981 103,-981 103,-1039\"/>\n",
       "<text text-anchor=\"middle\" x=\"51.5\" y=\"-1013.8\" font-family=\"Times,serif\" font-size=\"14.00\">FullyConnected</text>\n",
       "<text text-anchor=\"middle\" x=\"51.5\" y=\"-998.8\" font-family=\"Times,serif\" font-size=\"14.00\">10</text>\n",
       "</g>\n",
       "<!-- fullyconnected1&#45;&gt;activation2 -->\n",
       "<g id=\"edge9\" class=\"edge\"><title>fullyconnected1&#45;&gt;activation2</title>\n",
       "<path fill=\"none\" stroke=\"black\" d=\"M51.5,-970.582C51.5,-957.284 51.5,-942.632 51.5,-930.297\"/>\n",
       "<polygon fill=\"black\" stroke=\"black\" points=\"51.5,-980.887 47.0001,-970.887 51.5,-975.887 51.5001,-970.887 51.5001,-970.887 51.5001,-970.887 51.5,-975.887 56.0001,-970.887 51.5,-980.887 51.5,-980.887\"/>\n",
       "<text text-anchor=\"middle\" x=\"62\" y=\"-951.8\" font-family=\"Times,serif\" font-size=\"14.00\">500</text>\n",
       "</g>\n",
       "<!-- softmax -->\n",
       "<g id=\"node11\" class=\"node\"><title>softmax</title>\n",
       "<polygon fill=\"#fccde5\" stroke=\"black\" points=\"102,-1148 1,-1148 1,-1090 102,-1090 102,-1148\"/>\n",
       "<text text-anchor=\"middle\" x=\"51.5\" y=\"-1115.3\" font-family=\"Times,serif\" font-size=\"14.00\">SoftmaxOutput</text>\n",
       "</g>\n",
       "<!-- softmax&#45;&gt;fullyconnected1 -->\n",
       "<g id=\"edge10\" class=\"edge\"><title>softmax&#45;&gt;fullyconnected1</title>\n",
       "<path fill=\"none\" stroke=\"black\" d=\"M51.5,-1079.58C51.5,-1066.28 51.5,-1051.63 51.5,-1039.3\"/>\n",
       "<polygon fill=\"black\" stroke=\"black\" points=\"51.5,-1089.89 47.0001,-1079.89 51.5,-1084.89 51.5001,-1079.89 51.5001,-1079.89 51.5001,-1079.89 51.5,-1084.89 56.0001,-1079.89 51.5,-1089.89 51.5,-1089.89\"/>\n",
       "<text text-anchor=\"middle\" x=\"58.5\" y=\"-1060.8\" font-family=\"Times,serif\" font-size=\"14.00\">10</text>\n",
       "</g>\n",
       "</g>\n",
       "</svg>\n"
      ],
      "text/plain": [
       "<graphviz.dot.Digraph at 0x7fd3703179d0>"
      ]
     },
     "execution_count": 11,
     "metadata": {},
     "output_type": "execute_result"
    }
   ],
   "source": [
    "# pip install graphviz\n",
    "# sudo apt-get install graphviz\n",
    "import mxnet as mx\n",
    "import graphviz\n",
    "mx.viz.plot_network(mxnet_model, shape={\"data\":(1, 1, 28, 28)}, node_attrs={\"shape\":'rect',\"fixedsize\":'false'})"
   ]
  },
  {
   "cell_type": "markdown",
   "metadata": {},
   "source": [
    "The model is just the structure of the network expressed as a json dict"
   ]
  },
  {
   "cell_type": "code",
   "execution_count": 12,
   "metadata": {
    "collapsed": false
   },
   "outputs": [
    {
     "name": "stdout",
     "output_type": "stream",
     "text": [
      "{\r\n",
      "  \"nodes\": [\r\n",
      "    {\r\n",
      "      \"op\": \"null\", \r\n",
      "      \"param\": {}, \r\n",
      "      \"name\": \"data\", \r\n",
      "      \"inputs\": [], \r\n",
      "      \"backward_source_id\": -1\r\n",
      "    }, \r\n",
      "    {\r\n",
      "      \"op\": \"null\", \r\n",
      "      \"param\": {}, \r\n",
      "      \"name\": \"convolution0_weight\", \r\n",
      "      \"inputs\": [], \r\n",
      "      \"backward_source_id\": -1\r\n",
      "    }, \r\n",
      "    {\r\n",
      "      \"op\": \"null\", \r\n",
      "      \"param\": {}, \r\n",
      "      \"name\": \"convolution0_bias\", \r\n"
     ]
    }
   ],
   "source": [
    "!head -n 20 $model_filename"
   ]
  },
  {
   "cell_type": "markdown",
   "metadata": {},
   "source": [
    "## Importing the LeNET model architecture for training in H2O\n",
    "\n",
    "We have defined the model and saved the structure to a file. We are ready to start the training procedure."
   ]
  },
  {
   "cell_type": "code",
   "execution_count": 13,
   "metadata": {
    "collapsed": true
   },
   "outputs": [],
   "source": [
    "from h2o.estimators.deepwater import H2ODeepWaterEstimator"
   ]
  },
  {
   "cell_type": "code",
   "execution_count": 14,
   "metadata": {
    "collapsed": false
   },
   "outputs": [],
   "source": [
    "lenet_model = H2ODeepWaterEstimator(\n",
    "    epochs=10,\n",
    "    learning_rate=1e-3, \n",
    "    mini_batch_size=64,\n",
    "    network_definition_file=model_filename,\n",
    "#    network='lenet',            ## equivalent pre-configured model\n",
    "    image_shape=[28,28],\n",
    "    problem_type='dataset',      ## Not 'image' since we're not passing paths to image files, but raw numbers\n",
    "    ignore_const_cols=False,     ## We need to keep all 28x28=784 pixel values, even if some are always 0\n",
    "    channels=1\n",
    ")"
   ]
  },
  {
   "cell_type": "code",
   "execution_count": 15,
   "metadata": {
    "collapsed": false
   },
   "outputs": [
    {
     "name": "stdout",
     "output_type": "stream",
     "text": [
      "deepwater Model Build progress: |█████████████████████████████████████████████████████████████| 100%\n"
     ]
    }
   ],
   "source": [
    "lenet_model.train(x=train_df.names, y=y, training_frame=train_df, validation_frame=test_df)"
   ]
  },
  {
   "cell_type": "code",
   "execution_count": 16,
   "metadata": {
    "collapsed": false
   },
   "outputs": [
    {
     "name": "stdout",
     "output_type": "stream",
     "text": [
      "model error: 0.0200332124248\n"
     ]
    }
   ],
   "source": [
    "error = lenet_model.model_performance(valid=True).mean_per_class_error()\n",
    "print \"model error:\", error"
   ]
  },
  {
   "cell_type": "markdown",
   "metadata": {},
   "source": [
    "## A More powerful Architecture\n",
    "\n",
    "the beauty of deeplearning is that we can compose a new model with even more \"capacity\" to try to get a higher accuracy."
   ]
  },
  {
   "cell_type": "code",
   "execution_count": 17,
   "metadata": {
    "collapsed": true
   },
   "outputs": [],
   "source": [
    "def cnn(num_classes):\n",
    "    import mxnet as mx\n",
    "    data = mx.symbol.Variable('data')\n",
    "\n",
    "    inputdropout = mx.symbol.Dropout(data=data, p=0.1)\n",
    "\n",
    "    # first convolution\n",
    "    conv1 = mx.symbol.Convolution(data=data, kernel=(5,5), num_filter=50)\n",
    "    tanh1 = mx.symbol.Activation(data=conv1, act_type=\"relu\")\n",
    "    pool1 = mx.symbol.Pooling(data=tanh1, pool_type=\"max\", pad=(1,1), kernel=(3,3), stride=(2,2))\n",
    "    \n",
    "    # second convolution\n",
    "    conv2 = mx.symbol.Convolution(data=pool1, kernel=(5,5), num_filter=100)\n",
    "    tanh2 = mx.symbol.Activation(data=conv2, act_type=\"relu\")\n",
    "    pool2 = mx.symbol.Pooling(data=tanh2, pool_type=\"max\", pad=(1,1), kernel=(3,3), stride=(2,2))\n",
    "    \n",
    "    # first fully connected layer \n",
    "    flatten = mx.symbol.Flatten(data=pool2)\n",
    "    fc1 = mx.symbol.FullyConnected(data=flatten, num_hidden=1024)\n",
    "    relu3 = mx.symbol.Activation(data=fc1, act_type=\"relu\")\n",
    "    inputdropout = mx.symbol.Dropout(data=fc1, p=0.5)\n",
    "    \n",
    "    # second fully connected layer\n",
    "    flatten = mx.symbol.Flatten(data=relu3)\n",
    "    fc2 = mx.symbol.FullyConnected(data=flatten, num_hidden=1024)\n",
    "    relu4 = mx.symbol.Activation(data=fc2, act_type=\"relu\")\n",
    "    inputdropout = mx.symbol.Dropout(data=fc2, p=0.5)\n",
    "    \n",
    "    # third fully connected layer\n",
    "    fc3 = mx.symbol.FullyConnected(data=relu4, num_hidden=num_classes)\n",
    "    # loss\n",
    "    cnn = mx.symbol.SoftmaxOutput(data=fc3, name='softmax')\n",
    "    return cnn"
   ]
  },
  {
   "cell_type": "code",
   "execution_count": 18,
   "metadata": {
    "collapsed": true
   },
   "outputs": [],
   "source": [
    "nclasses = 10"
   ]
  },
  {
   "cell_type": "code",
   "execution_count": 19,
   "metadata": {
    "collapsed": false
   },
   "outputs": [],
   "source": [
    "mxnet_model = cnn(nclasses)"
   ]
  },
  {
   "cell_type": "code",
   "execution_count": 20,
   "metadata": {
    "collapsed": true
   },
   "outputs": [],
   "source": [
    "model_filename=\"/tmp/symbol_cnn-py.json\"\n",
    "mxnet_model.save(model_filename)"
   ]
  },
  {
   "cell_type": "code",
   "execution_count": 21,
   "metadata": {
    "collapsed": false
   },
   "outputs": [],
   "source": [
    "from h2o.estimators.deepwater import H2ODeepWaterEstimator"
   ]
  },
  {
   "cell_type": "code",
   "execution_count": 22,
   "metadata": {
    "collapsed": false
   },
   "outputs": [
    {
     "name": "stdout",
     "output_type": "stream",
     "text": [
      "Importing the lenet model architecture for training in H2O\n"
     ]
    }
   ],
   "source": [
    "print(\"Importing the lenet model architecture for training in H2O\")"
   ]
  },
  {
   "cell_type": "code",
   "execution_count": 23,
   "metadata": {
    "collapsed": true
   },
   "outputs": [],
   "source": [
    "model = H2ODeepWaterEstimator(\n",
    "    epochs=20, \n",
    "    learning_rate=1e-3, \n",
    "    mini_batch_size=64,\n",
    "    network_definition_file=model_filename,\n",
    "    image_shape=[28,28], \n",
    "    channels=1,\n",
    "    ignore_const_cols=False    ## We need to keep all 28x28=784 pixel values, even if some are always 0\n",
    ")"
   ]
  },
  {
   "cell_type": "code",
   "execution_count": 24,
   "metadata": {
    "collapsed": false
   },
   "outputs": [
    {
     "name": "stdout",
     "output_type": "stream",
     "text": [
      "deepwater Model Build progress: |█████████████████████████████████████████████████████████████| 100%\n"
     ]
    }
   ],
   "source": [
    "model.train(x=train_df.names, y=y, training_frame=train_df, validation_frame=test_df)"
   ]
  },
  {
   "cell_type": "code",
   "execution_count": 25,
   "metadata": {
    "collapsed": false,
    "scrolled": false
   },
   "outputs": [
    {
     "name": "stdout",
     "output_type": "stream",
     "text": [
      "model error: 0.0111236907698\n"
     ]
    }
   ],
   "source": [
    "error = model.model_performance(valid=True).mean_per_class_error()\n",
    "print \"model error:\", error"
   ]
  },
  {
   "cell_type": "markdown",
   "metadata": {},
   "source": [
    "## Visualizing the results"
   ]
  },
  {
   "cell_type": "code",
   "execution_count": 26,
   "metadata": {
    "collapsed": false
   },
   "outputs": [],
   "source": [
    "%matplotlib inline\n",
    "\n",
    "import matplotlib\n",
    "import numpy as np\n",
    "import scipy.io\n",
    "import matplotlib.pyplot as plt\n",
    "from IPython.display import Image, display\n",
    "import warnings\n",
    "warnings.filterwarnings(\"ignore\")"
   ]
  },
  {
   "cell_type": "code",
   "execution_count": 27,
   "metadata": {
    "collapsed": false
   },
   "outputs": [],
   "source": [
    "df = test_df.as_data_frame()"
   ]
  },
  {
   "cell_type": "code",
   "execution_count": 28,
   "metadata": {
    "collapsed": false
   },
   "outputs": [],
   "source": [
    "import numpy as np\n",
    "image = df.T[int(np.random.random()*784)]"
   ]
  },
  {
   "cell_type": "code",
   "execution_count": 29,
   "metadata": {
    "collapsed": false
   },
   "outputs": [
    {
     "data": {
      "text/plain": [
       "(785,)"
      ]
     },
     "execution_count": 29,
     "metadata": {},
     "output_type": "execute_result"
    }
   ],
   "source": [
    "image.shape"
   ]
  },
  {
   "cell_type": "code",
   "execution_count": 30,
   "metadata": {
    "collapsed": false
   },
   "outputs": [
    {
     "data": {
      "image/png": "[encoded data removed]",
      "text/plain": [
       "<matplotlib.figure.Figure at 0x7fd370302b50>"
      ]
     },
     "metadata": {},
     "output_type": "display_data"
    }
   ],
   "source": [
    "plt.imshow(image[:-1].reshape(28, 28), plt.cm.gray);"
   ]
  },
  {
   "cell_type": "code",
   "execution_count": 31,
   "metadata": {
    "collapsed": false
   },
   "outputs": [
    {
     "name": "stdout",
     "output_type": "stream",
     "text": [
      "1\n"
     ]
    }
   ],
   "source": [
    "print image[-1]"
   ]
  },
  {
   "cell_type": "code",
   "execution_count": 32,
   "metadata": {
    "collapsed": false
   },
   "outputs": [
    {
     "name": "stdout",
     "output_type": "stream",
     "text": [
      "Parse progress: |█████████████████████████████████████████████████████████████████████████████| 100%\n"
     ]
    }
   ],
   "source": [
    "image_hf = h2o.H2OFrame.from_python(image.to_dict())"
   ]
  },
  {
   "cell_type": "code",
   "execution_count": 33,
   "metadata": {
    "collapsed": false
   },
   "outputs": [
    {
     "name": "stdout",
     "output_type": "stream",
     "text": [
      "deepwater prediction progress: |██████████████████████████████████████████████████████████████| 100%\n"
     ]
    }
   ],
   "source": [
    "prediction = model.predict(image_hf)"
   ]
  },
  {
   "cell_type": "code",
   "execution_count": 34,
   "metadata": {
    "collapsed": false
   },
   "outputs": [
    {
     "data": {
      "text/html": [
       "<table>\n",
       "<tr><th style=\"text-align: right;\">  predict</th></tr>\n",
       "<tr><td style=\"text-align: right;\">        1</td></tr>\n",
       "</table>"
      ]
     },
     "metadata": {},
     "output_type": "display_data"
    },
    {
     "data": {
      "text/plain": []
     },
     "execution_count": 34,
     "metadata": {},
     "output_type": "execute_result"
    }
   ],
   "source": [
    "prediction['predict']"
   ]
  }
 ],
 "metadata": {
  "anaconda-cloud": {},
  "kernelspec": {"display_name": "Python 3", "language": "python", "name": "python3"},
  "language_info": {
   "codemirror_mode": {
    "name": "ipython",
    "version": 2
   },
   "file_extension": ".py",
   "mimetype": "text/x-python",
   "name": "python",
   "nbconvert_exporter": "python",
   "pygments_lexer": "ipython2",
   "version": "2.7.12"
  }
 },
 "nbformat": 4,
 "nbformat_minor": 1
}
