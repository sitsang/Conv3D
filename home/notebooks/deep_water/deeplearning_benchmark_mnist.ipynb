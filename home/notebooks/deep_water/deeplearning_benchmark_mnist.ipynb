{
 "cells": [
  {
   "cell_type": "markdown",
   "metadata": {},
   "source": [
    "# MNIST GPU Deep Learning Benchmark with H2O Deep Water\n",
    "In reference to [Szilard's Benchmark-DL](https://github.com/szilard/benchm-dl)"
   ]
  },
  {
   "cell_type": "markdown",
   "metadata": {
    "collapsed": true
   },
   "source": [
    "![MNIST](images/mnist.png)"
   ]
  },
  {
   "cell_type": "code",
   "execution_count": 1,
   "metadata": {
    "collapsed": false,
    "scrolled": true
   },
   "outputs": [
    {
     "name": "stdout",
     "output_type": "stream",
     "text": [
      "Checking whether there is an H2O instance running at http://localhost:54321. connected.\n"
     ]
    },
    {
     "data": {
      "text/html": [
       "<div style=\"overflow:auto\"><table style=\"width:50%\"><tr><td>H2O cluster uptime:</td>\n",
       "<td>6 mins 58 secs</td></tr>\n",
       "<tr><td>H2O cluster version:</td>\n",
       "<td>3.11.0.99999</td></tr>\n",
       "<tr><td>H2O cluster version age:</td>\n",
       "<td>1 day </td></tr>\n",
       "<tr><td>H2O cluster name:</td>\n",
       "<td>ubuntu</td></tr>\n",
       "<tr><td>H2O cluster total nodes:</td>\n",
       "<td>1</td></tr>\n",
       "<tr><td>H2O cluster free memory:</td>\n",
       "<td>2.950 Gb</td></tr>\n",
       "<tr><td>H2O cluster total cores:</td>\n",
       "<td>8</td></tr>\n",
       "<tr><td>H2O cluster allowed cores:</td>\n",
       "<td>8</td></tr>\n",
       "<tr><td>H2O cluster status:</td>\n",
       "<td>locked, healthy</td></tr>\n",
       "<tr><td>H2O connection url:</td>\n",
       "<td>http://localhost:54321</td></tr>\n",
       "<tr><td>H2O connection proxy:</td>\n",
       "<td>None</td></tr>\n",
       "<tr><td>Python version:</td>\n",
       "<td>2.7.12 final</td></tr></table></div>"
      ],
      "text/plain": [
       "--------------------------  ----------------------\n",
       "H2O cluster uptime:         6 mins 58 secs\n",
       "H2O cluster version:        3.11.0.99999\n",
       "H2O cluster version age:    1 day\n",
       "H2O cluster name:           ubuntu\n",
       "H2O cluster total nodes:    1\n",
       "H2O cluster free memory:    2.950 Gb\n",
       "H2O cluster total cores:    8\n",
       "H2O cluster allowed cores:  8\n",
       "H2O cluster status:         locked, healthy\n",
       "H2O connection url:         http://localhost:54321\n",
       "H2O connection proxy:\n",
       "Python version:             2.7.12 final\n",
       "--------------------------  ----------------------"
      ]
     },
     "metadata": {},
     "output_type": "display_data"
    }
   ],
   "source": [
    "import sys, os\n",
    "import os.path\n",
    "import h2o\n",
    "from h2o.estimators.deepwater import H2ODeepWaterEstimator\n",
    "PATH = os.path.expanduser(\"~/h2o-3/\")\n",
    "h2o.init(nthreads=-1)\n",
    "if not H2ODeepWaterEstimator.available(): exit"
   ]
  },
  {
   "cell_type": "markdown",
   "metadata": {},
   "source": [
    "### Hardware check"
   ]
  },
  {
   "cell_type": "code",
   "execution_count": 2,
   "metadata": {
    "collapsed": false,
    "scrolled": false
   },
   "outputs": [
    {
     "name": "stdout",
     "output_type": "stream",
     "text": [
      "Tue Oct 25 22:18:51 2016       \r\n",
      "+-----------------------------------------------------------------------------+\r\n",
      "| NVIDIA-SMI 370.28                 Driver Version: 370.28                    |\r\n",
      "|-------------------------------+----------------------+----------------------+\r\n",
      "| GPU  Name        Persistence-M| Bus-Id        Disp.A | Volatile Uncorr. ECC |\r\n",
      "| Fan  Temp  Perf  Pwr:Usage/Cap|         Memory-Usage | GPU-Util  Compute M. |\r\n",
      "|===============================+======================+======================|\r\n",
      "|   0  GRID K520           Off  | 0000:00:03.0     Off |                  N/A |\r\n",
      "| N/A   35C    P0    40W / 125W |    131MiB /  4036MiB |      0%      Default |\r\n",
      "+-------------------------------+----------------------+----------------------+\r\n",
      "                                                                               \r\n",
      "+-----------------------------------------------------------------------------+\r\n",
      "| Processes:                                                       GPU Memory |\r\n",
      "|  GPU       PID  Type  Process name                               Usage      |\r\n",
      "|=============================================================================|\r\n",
      "|    0      2191    C   java                                           129MiB |\r\n",
      "+-----------------------------------------------------------------------------+\r\n"
     ]
    }
   ],
   "source": [
    "!nvidia-smi"
   ]
  },
  {
   "cell_type": "markdown",
   "metadata": {},
   "source": [
    "### Data preparation"
   ]
  },
  {
   "cell_type": "code",
   "execution_count": 3,
   "metadata": {
    "collapsed": false
   },
   "outputs": [
    {
     "name": "stdout",
     "output_type": "stream",
     "text": [
      "Parse progress: |█████████████████████████████████████████████████████████| 100%\n"
     ]
    }
   ],
   "source": [
    "train = h2o.import_file(PATH + \"bigdata/laptop/mnist/train.csv.gz\")\n",
    "predictors  = list(range(0,784))\n",
    "resp        = 784\n",
    "\n",
    "train[predictors] = train[predictors]/255.0\n",
    "train[resp] = train[resp].asfactor()\n",
    "nclasses    = train[resp].nlevels()[0]"
   ]
  },
  {
   "cell_type": "markdown",
   "metadata": {},
   "source": [
    "### Define the model architecture"
   ]
  },
  {
   "cell_type": "code",
   "execution_count": 4,
   "metadata": {
    "collapsed": true
   },
   "outputs": [],
   "source": [
    "def cnn(num_classes):\n",
    "    import mxnet as mx\n",
    "    data    = mx.symbol.Variable('data')\n",
    "\n",
    "    conv1   = mx.symbol.Convolution(data=data, kernel=(4,4), num_filter=32)\n",
    "    relu1   = mx.symbol.Activation(data=conv1, act_type=\"relu\")\n",
    "    pool1   = mx.symbol.Pooling(data=relu1, pool_type=\"max\", kernel=(2,2), stride=(2,2))\n",
    "\n",
    "    conv2   = mx.symbol.Convolution(data=pool1, kernel=(3,3), num_filter=16)\n",
    "    relu2   = mx.symbol.Activation(data=conv2, act_type=\"relu\")\n",
    "    pool2   = mx.symbol.Pooling(data=relu2, pool_type=\"max\", kernel=(2,2), stride=(2,2))\n",
    "    drop    = mx.symbol.Dropout(data=pool2, p=0.2)\n",
    "\n",
    "    flatten = mx.symbol.Flatten(data=drop)\n",
    "    fc1     = mx.symbol.FullyConnected(data=flatten, num_hidden=128)\n",
    "    relu3   = mx.symbol.Activation(data=fc1, act_type=\"relu\")\n",
    "\n",
    "    fc2     = mx.symbol.FullyConnected(data=relu3, num_hidden=64)\n",
    "    relu4   = mx.symbol.Activation(data=fc2, act_type=\"relu\")\n",
    "\n",
    "    fc3     = mx.symbol.FullyConnected(data=relu4, num_hidden=num_classes)\n",
    "    net     = mx.symbol.SoftmaxOutput(data=fc3, name='softmax')\n",
    "    return net\n",
    "cnn(nclasses).save(\"/tmp/cnn.json\")"
   ]
  },
  {
   "cell_type": "markdown",
   "metadata": {},
   "source": [
    "### Train the model"
   ]
  },
  {
   "cell_type": "code",
   "execution_count": 5,
   "metadata": {
    "collapsed": false,
    "scrolled": true
   },
   "outputs": [
    {
     "name": "stdout",
     "output_type": "stream",
     "text": [
      "deepwater Model Build progress: |█████████████████████████████████████████| 100%\n"
     ]
    }
   ],
   "source": [
    "model = H2ODeepWaterEstimator(\n",
    "    epochs=10,\n",
    "    learning_rate=0.05,\n",
    "    learning_rate_annealing=1e-5,\n",
    "    momentum_start=0.9,\n",
    "    momentum_stable=0.9,\n",
    "    mini_batch_size=128,\n",
    "    network_definition_file=\"/tmp/cnn.json\",\n",
    "    image_shape=[28,28],                ## MNIST is 28x28 pixels\n",
    "    channels=1,                         ## monochrome\n",
    "    device_id=[0],                      ## select which GPU to use\n",
    "    gpu=True,                           ## disable to compare to CPU\n",
    "    standardize=False,                  ## data was manually scaled to 0..1\n",
    "    ignore_const_cols=False,            ## include all pixels even though some are always 0\n",
    "    seed=1234                           ## for reproducibility\n",
    "    #,score_duty_cycle=0                ## uncomment for faster run (no scoring until the end)\n",
    ")\n",
    "                              \n",
    "model.train(x=predictors,y=resp, training_frame=train)"
   ]
  },
  {
   "cell_type": "markdown",
   "metadata": {},
   "source": [
    "### Inspect the model"
   ]
  },
  {
   "cell_type": "code",
   "execution_count": 6,
   "metadata": {
    "collapsed": false,
    "scrolled": true
   },
   "outputs": [
    {
     "data": {
      "image/png": "[encoded data removed]",
      "text/plain": [
       "<matplotlib.figure.Figure at 0x7f9b5d2dfb50>"
      ]
     },
     "metadata": {},
     "output_type": "display_data"
    }
   ],
   "source": [
    "model.plot()"
   ]
  },
  {
   "cell_type": "code",
   "execution_count": 7,
   "metadata": {
    "collapsed": false
   },
   "outputs": [
    {
     "name": "stdout",
     "output_type": "stream",
     "text": [
      "Model Details\n",
      "=============\n",
      "H2ODeepWaterEstimator :  Deep Water\n",
      "Model Key:  DeepWater_model_python_1477433511844_3\n",
      "Status of Deep Learning Model: user, 261.3 KB, predicting C785, 10-class classification, 602,112 training samples, mini-batch size 128\n",
      "\n"
     ]
    },
    {
     "data": {
      "text/html": [
       "<div style=\"overflow:auto\"><table style=\"width:50%\"><tr><td><b></b></td>\n",
       "<td><b>input_neurons</b></td>\n",
       "<td><b>rate</b></td>\n",
       "<td><b>momentum</b></td></tr>\n",
       "<tr><td></td>\n",
       "<td>784</td>\n",
       "<td>0.0071214</td>\n",
       "<td>0.9</td></tr></table></div>"
      ],
      "text/plain": [
       "    input_neurons    rate        momentum\n",
       "--  ---------------  ----------  ----------\n",
       "    784              0.00712137  0.9"
      ]
     },
     "metadata": {},
     "output_type": "display_data"
    },
    {
     "name": "stdout",
     "output_type": "stream",
     "text": [
      "\n",
      "\n",
      "ModelMetricsMultinomial: deepwater\n",
      "** Reported on train data. **\n",
      "\n",
      "MSE: 0.00338318794608\n",
      "RMSE: 0.058165178123\n",
      "LogLoss: 0.0128656748712\n",
      "Mean Per-Class Error: 0.00360677800463\n",
      "Confusion Matrix: vertical: actual; across: predicted\n",
      "\n"
     ]
    },
    {
     "data": {
      "text/html": [
       "<div style=\"overflow:auto\"><table style=\"width:50%\"><tr><td><b>0</b></td>\n",
       "<td><b>1</b></td>\n",
       "<td><b>2</b></td>\n",
       "<td><b>3</b></td>\n",
       "<td><b>4</b></td>\n",
       "<td><b>5</b></td>\n",
       "<td><b>6</b></td>\n",
       "<td><b>7</b></td>\n",
       "<td><b>8</b></td>\n",
       "<td><b>9</b></td>\n",
       "<td><b>Error</b></td>\n",
       "<td><b>Rate</b></td></tr>\n",
       "<tr><td>992.0</td>\n",
       "<td>0.0</td>\n",
       "<td>0.0</td>\n",
       "<td>0.0</td>\n",
       "<td>0.0</td>\n",
       "<td>0.0</td>\n",
       "<td>1.0</td>\n",
       "<td>0.0</td>\n",
       "<td>0.0</td>\n",
       "<td>1.0</td>\n",
       "<td>0.0020121</td>\n",
       "<td>2 / 994</td></tr>\n",
       "<tr><td>0.0</td>\n",
       "<td>1112.0</td>\n",
       "<td>1.0</td>\n",
       "<td>0.0</td>\n",
       "<td>2.0</td>\n",
       "<td>0.0</td>\n",
       "<td>1.0</td>\n",
       "<td>2.0</td>\n",
       "<td>0.0</td>\n",
       "<td>0.0</td>\n",
       "<td>0.0053667</td>\n",
       "<td>6 / 1,118</td></tr>\n",
       "<tr><td>0.0</td>\n",
       "<td>1.0</td>\n",
       "<td>966.0</td>\n",
       "<td>0.0</td>\n",
       "<td>0.0</td>\n",
       "<td>0.0</td>\n",
       "<td>0.0</td>\n",
       "<td>0.0</td>\n",
       "<td>0.0</td>\n",
       "<td>1.0</td>\n",
       "<td>0.0020661</td>\n",
       "<td>2 / 968</td></tr>\n",
       "<tr><td>0.0</td>\n",
       "<td>0.0</td>\n",
       "<td>0.0</td>\n",
       "<td>993.0</td>\n",
       "<td>0.0</td>\n",
       "<td>1.0</td>\n",
       "<td>0.0</td>\n",
       "<td>0.0</td>\n",
       "<td>3.0</td>\n",
       "<td>0.0</td>\n",
       "<td>0.0040120</td>\n",
       "<td>4 / 997</td></tr>\n",
       "<tr><td>0.0</td>\n",
       "<td>1.0</td>\n",
       "<td>0.0</td>\n",
       "<td>0.0</td>\n",
       "<td>991.0</td>\n",
       "<td>0.0</td>\n",
       "<td>0.0</td>\n",
       "<td>0.0</td>\n",
       "<td>0.0</td>\n",
       "<td>4.0</td>\n",
       "<td>0.0050201</td>\n",
       "<td>5 / 996</td></tr>\n",
       "<tr><td>0.0</td>\n",
       "<td>0.0</td>\n",
       "<td>1.0</td>\n",
       "<td>0.0</td>\n",
       "<td>0.0</td>\n",
       "<td>885.0</td>\n",
       "<td>1.0</td>\n",
       "<td>0.0</td>\n",
       "<td>2.0</td>\n",
       "<td>0.0</td>\n",
       "<td>0.0044994</td>\n",
       "<td>4 / 889</td></tr>\n",
       "<tr><td>1.0</td>\n",
       "<td>0.0</td>\n",
       "<td>0.0</td>\n",
       "<td>0.0</td>\n",
       "<td>0.0</td>\n",
       "<td>0.0</td>\n",
       "<td>994.0</td>\n",
       "<td>0.0</td>\n",
       "<td>1.0</td>\n",
       "<td>0.0</td>\n",
       "<td>0.0020080</td>\n",
       "<td>2 / 996</td></tr>\n",
       "<tr><td>0.0</td>\n",
       "<td>0.0</td>\n",
       "<td>1.0</td>\n",
       "<td>0.0</td>\n",
       "<td>2.0</td>\n",
       "<td>0.0</td>\n",
       "<td>0.0</td>\n",
       "<td>996.0</td>\n",
       "<td>0.0</td>\n",
       "<td>1.0</td>\n",
       "<td>0.004</td>\n",
       "<td>4 / 1,000</td></tr>\n",
       "<tr><td>0.0</td>\n",
       "<td>0.0</td>\n",
       "<td>1.0</td>\n",
       "<td>0.0</td>\n",
       "<td>0.0</td>\n",
       "<td>0.0</td>\n",
       "<td>0.0</td>\n",
       "<td>0.0</td>\n",
       "<td>1035.0</td>\n",
       "<td>1.0</td>\n",
       "<td>0.0019286</td>\n",
       "<td>2 / 1,037</td></tr>\n",
       "<tr><td>1.0</td>\n",
       "<td>1.0</td>\n",
       "<td>0.0</td>\n",
       "<td>0.0</td>\n",
       "<td>1.0</td>\n",
       "<td>0.0</td>\n",
       "<td>0.0</td>\n",
       "<td>2.0</td>\n",
       "<td>0.0</td>\n",
       "<td>965.0</td>\n",
       "<td>0.0051546</td>\n",
       "<td>5 / 970</td></tr>\n",
       "<tr><td>994.0</td>\n",
       "<td>1115.0</td>\n",
       "<td>970.0</td>\n",
       "<td>993.0</td>\n",
       "<td>996.0</td>\n",
       "<td>886.0</td>\n",
       "<td>997.0</td>\n",
       "<td>1000.0</td>\n",
       "<td>1041.0</td>\n",
       "<td>973.0</td>\n",
       "<td>0.0036126</td>\n",
       "<td>36 / 9,965</td></tr></table></div>"
      ],
      "text/plain": [
       "0    1     2    3    4    5    6    7     8     9    Error       Rate\n",
       "---  ----  ---  ---  ---  ---  ---  ----  ----  ---  ----------  ----------\n",
       "992  0     0    0    0    0    1    0     0     1    0.00201207  2 / 994\n",
       "0    1112  1    0    2    0    1    2     0     0    0.00536673  6 / 1,118\n",
       "0    1     966  0    0    0    0    0     0     1    0.00206612  2 / 968\n",
       "0    0     0    993  0    1    0    0     3     0    0.00401204  4 / 997\n",
       "0    1     0    0    991  0    0    0     0     4    0.00502008  5 / 996\n",
       "0    0     1    0    0    885  1    0     2     0    0.00449944  4 / 889\n",
       "1    0     0    0    0    0    994  0     1     0    0.00200803  2 / 996\n",
       "0    0     1    0    2    0    0    996   0     1    0.004       4 / 1,000\n",
       "0    0     1    0    0    0    0    0     1035  1    0.00192864  2 / 1,037\n",
       "1    1     0    0    1    0    0    2     0     965  0.00515464  5 / 970\n",
       "994  1115  970  993  996  886  997  1000  1041  973  0.00361264  36 / 9,965"
      ]
     },
     "metadata": {},
     "output_type": "display_data"
    },
    {
     "name": "stdout",
     "output_type": "stream",
     "text": [
      "Top-10 Hit Ratios: \n"
     ]
    },
    {
     "data": {
      "text/html": [
       "<div style=\"overflow:auto\"><table style=\"width:50%\"><tr><td><b>k</b></td>\n",
       "<td><b>hit_ratio</b></td></tr>\n",
       "<tr><td>1</td>\n",
       "<td>0.9963874</td></tr>\n",
       "<tr><td>2</td>\n",
       "<td>0.9993979</td></tr>\n",
       "<tr><td>3</td>\n",
       "<td>1.0</td></tr>\n",
       "<tr><td>4</td>\n",
       "<td>1.0</td></tr>\n",
       "<tr><td>5</td>\n",
       "<td>1.0</td></tr>\n",
       "<tr><td>6</td>\n",
       "<td>1.0</td></tr>\n",
       "<tr><td>7</td>\n",
       "<td>1.0</td></tr>\n",
       "<tr><td>8</td>\n",
       "<td>1.0</td></tr>\n",
       "<tr><td>9</td>\n",
       "<td>1.0</td></tr>\n",
       "<tr><td>10</td>\n",
       "<td>1.0</td></tr></table></div>"
      ],
      "text/plain": [
       "k    hit_ratio\n",
       "---  -----------\n",
       "1    0.996387\n",
       "2    0.999398\n",
       "3    1\n",
       "4    1\n",
       "5    1\n",
       "6    1\n",
       "7    1\n",
       "8    1\n",
       "9    1\n",
       "10   1"
      ]
     },
     "metadata": {},
     "output_type": "display_data"
    },
    {
     "name": "stdout",
     "output_type": "stream",
     "text": [
      "Scoring History: \n"
     ]
    },
    {
     "data": {
      "text/html": [
       "<div style=\"overflow:auto\"><table style=\"width:50%\"><tr><td><b></b></td>\n",
       "<td><b>timestamp</b></td>\n",
       "<td><b>duration</b></td>\n",
       "<td><b>training_speed</b></td>\n",
       "<td><b>epochs</b></td>\n",
       "<td><b>iterations</b></td>\n",
       "<td><b>samples</b></td>\n",
       "<td><b>training_rmse</b></td>\n",
       "<td><b>training_logloss</b></td>\n",
       "<td><b>training_classification_error</b></td></tr>\n",
       "<tr><td></td>\n",
       "<td>2016-10-25 22:19:11</td>\n",
       "<td> 0.000 sec</td>\n",
       "<td>None</td>\n",
       "<td>0.0</td>\n",
       "<td>0</td>\n",
       "<td>0.0</td>\n",
       "<td>nan</td>\n",
       "<td>nan</td>\n",
       "<td>nan</td></tr>\n",
       "<tr><td></td>\n",
       "<td>2016-10-25 22:19:12</td>\n",
       "<td> 2.846 sec</td>\n",
       "<td>5680 obs/sec</td>\n",
       "<td>0.0682667</td>\n",
       "<td>1</td>\n",
       "<td>4096.0</td>\n",
       "<td>0.3078531</td>\n",
       "<td>0.3413933</td>\n",
       "<td>0.1067737</td></tr>\n",
       "<tr><td></td>\n",
       "<td>2016-10-25 22:19:26</td>\n",
       "<td>15.825 sec</td>\n",
       "<td>10615 obs/sec</td>\n",
       "<td>2.3893333</td>\n",
       "<td>35</td>\n",
       "<td>143360.0</td>\n",
       "<td>0.0886710</td>\n",
       "<td>0.0315366</td>\n",
       "<td>0.0093327</td></tr>\n",
       "<tr><td></td>\n",
       "<td>2016-10-25 22:19:32</td>\n",
       "<td>21.074 sec</td>\n",
       "<td>11693 obs/sec</td>\n",
       "<td>3.6181333</td>\n",
       "<td>53</td>\n",
       "<td>217088.0</td>\n",
       "<td>0.0811009</td>\n",
       "<td>0.0243839</td>\n",
       "<td>0.0083292</td></tr>\n",
       "<tr><td></td>\n",
       "<td>2016-10-25 22:19:37</td>\n",
       "<td>26.361 sec</td>\n",
       "<td>12291 obs/sec</td>\n",
       "<td>4.8469333</td>\n",
       "<td>71</td>\n",
       "<td>290816.0</td>\n",
       "<td>0.0758482</td>\n",
       "<td>0.0212225</td>\n",
       "<td>0.0070246</td></tr>\n",
       "<tr><td></td>\n",
       "<td>2016-10-25 22:19:42</td>\n",
       "<td>31.638 sec</td>\n",
       "<td>12681 obs/sec</td>\n",
       "<td>6.0757333</td>\n",
       "<td>89</td>\n",
       "<td>364544.0</td>\n",
       "<td>0.0684753</td>\n",
       "<td>0.0181627</td>\n",
       "<td>0.0055193</td></tr>\n",
       "<tr><td></td>\n",
       "<td>2016-10-25 22:19:47</td>\n",
       "<td>36.869 sec</td>\n",
       "<td>12971 obs/sec</td>\n",
       "<td>7.3045333</td>\n",
       "<td>107</td>\n",
       "<td>438272.0</td>\n",
       "<td>0.0626108</td>\n",
       "<td>0.0151937</td>\n",
       "<td>0.0048169</td></tr>\n",
       "<tr><td></td>\n",
       "<td>2016-10-25 22:19:53</td>\n",
       "<td>42.727 sec</td>\n",
       "<td>13087 obs/sec</td>\n",
       "<td>8.4650667</td>\n",
       "<td>124</td>\n",
       "<td>507904.0</td>\n",
       "<td>0.0617362</td>\n",
       "<td>0.0146889</td>\n",
       "<td>0.0043151</td></tr>\n",
       "<tr><td></td>\n",
       "<td>2016-10-25 22:20:00</td>\n",
       "<td>49.337 sec</td>\n",
       "<td>13311 obs/sec</td>\n",
       "<td>10.0352</td>\n",
       "<td>147</td>\n",
       "<td>602112.0</td>\n",
       "<td>0.0581652</td>\n",
       "<td>0.0128657</td>\n",
       "<td>0.0036126</td></tr></table></div>"
      ],
      "text/plain": [
       "    timestamp            duration    training_speed    epochs     iterations    samples    training_rmse    training_logloss    training_classification_error\n",
       "--  -------------------  ----------  ----------------  ---------  ------------  ---------  ---------------  ------------------  -------------------------------\n",
       "    2016-10-25 22:19:11  0.000 sec                     0          0             0          nan              nan                 nan\n",
       "    2016-10-25 22:19:12  2.846 sec   5680 obs/sec      0.0682667  1             4096       0.307853         0.341393            0.106774\n",
       "    2016-10-25 22:19:26  15.825 sec  10615 obs/sec     2.38933    35            143360     0.088671         0.0315366           0.00933266\n",
       "    2016-10-25 22:19:32  21.074 sec  11693 obs/sec     3.61813    53            217088     0.0811009        0.0243839           0.00832915\n",
       "    2016-10-25 22:19:37  26.361 sec  12291 obs/sec     4.84693    71            290816     0.0758482        0.0212225           0.00702459\n",
       "    2016-10-25 22:19:42  31.638 sec  12681 obs/sec     6.07573    89            364544     0.0684753        0.0181627           0.00551932\n",
       "    2016-10-25 22:19:47  36.869 sec  12971 obs/sec     7.30453    107           438272     0.0626108        0.0151937           0.00481686\n",
       "    2016-10-25 22:19:53  42.727 sec  13087 obs/sec     8.46507    124           507904     0.0617362        0.0146889           0.0043151\n",
       "    2016-10-25 22:20:00  49.337 sec  13311 obs/sec     10.0352    147           602112     0.0581652        0.0128657           0.00361264"
      ]
     },
     "metadata": {},
     "output_type": "display_data"
    }
   ],
   "source": [
    "model.show()"
   ]
  },
  {
   "cell_type": "code",
   "execution_count": 8,
   "metadata": {
    "collapsed": false,
    "scrolled": true
   },
   "outputs": [
    {
     "data": {
      "text/html": [
       "<div>\n",
       "<table border=\"1\" class=\"dataframe\">\n",
       "  <thead>\n",
       "    <tr style=\"text-align: right;\">\n",
       "      <th></th>\n",
       "      <th></th>\n",
       "      <th>timestamp</th>\n",
       "      <th>duration</th>\n",
       "      <th>training_speed</th>\n",
       "      <th>epochs</th>\n",
       "      <th>iterations</th>\n",
       "      <th>samples</th>\n",
       "      <th>training_rmse</th>\n",
       "      <th>training_logloss</th>\n",
       "      <th>training_classification_error</th>\n",
       "    </tr>\n",
       "  </thead>\n",
       "  <tbody>\n",
       "    <tr>\n",
       "      <th>0</th>\n",
       "      <td></td>\n",
       "      <td>2016-10-25 22:19:11</td>\n",
       "      <td>0.000 sec</td>\n",
       "      <td>None</td>\n",
       "      <td>0.000000</td>\n",
       "      <td>0</td>\n",
       "      <td>0.0</td>\n",
       "      <td>NaN</td>\n",
       "      <td>NaN</td>\n",
       "      <td>NaN</td>\n",
       "    </tr>\n",
       "    <tr>\n",
       "      <th>1</th>\n",
       "      <td></td>\n",
       "      <td>2016-10-25 22:19:12</td>\n",
       "      <td>2.846 sec</td>\n",
       "      <td>5680 obs/sec</td>\n",
       "      <td>0.068267</td>\n",
       "      <td>1</td>\n",
       "      <td>4096.0</td>\n",
       "      <td>0.307853</td>\n",
       "      <td>0.341393</td>\n",
       "      <td>0.106774</td>\n",
       "    </tr>\n",
       "    <tr>\n",
       "      <th>2</th>\n",
       "      <td></td>\n",
       "      <td>2016-10-25 22:19:26</td>\n",
       "      <td>15.825 sec</td>\n",
       "      <td>10615 obs/sec</td>\n",
       "      <td>2.389333</td>\n",
       "      <td>35</td>\n",
       "      <td>143360.0</td>\n",
       "      <td>0.088671</td>\n",
       "      <td>0.031537</td>\n",
       "      <td>0.009333</td>\n",
       "    </tr>\n",
       "    <tr>\n",
       "      <th>3</th>\n",
       "      <td></td>\n",
       "      <td>2016-10-25 22:19:32</td>\n",
       "      <td>21.074 sec</td>\n",
       "      <td>11693 obs/sec</td>\n",
       "      <td>3.618133</td>\n",
       "      <td>53</td>\n",
       "      <td>217088.0</td>\n",
       "      <td>0.081101</td>\n",
       "      <td>0.024384</td>\n",
       "      <td>0.008329</td>\n",
       "    </tr>\n",
       "    <tr>\n",
       "      <th>4</th>\n",
       "      <td></td>\n",
       "      <td>2016-10-25 22:19:37</td>\n",
       "      <td>26.361 sec</td>\n",
       "      <td>12291 obs/sec</td>\n",
       "      <td>4.846933</td>\n",
       "      <td>71</td>\n",
       "      <td>290816.0</td>\n",
       "      <td>0.075848</td>\n",
       "      <td>0.021222</td>\n",
       "      <td>0.007025</td>\n",
       "    </tr>\n",
       "    <tr>\n",
       "      <th>5</th>\n",
       "      <td></td>\n",
       "      <td>2016-10-25 22:19:42</td>\n",
       "      <td>31.638 sec</td>\n",
       "      <td>12681 obs/sec</td>\n",
       "      <td>6.075733</td>\n",
       "      <td>89</td>\n",
       "      <td>364544.0</td>\n",
       "      <td>0.068475</td>\n",
       "      <td>0.018163</td>\n",
       "      <td>0.005519</td>\n",
       "    </tr>\n",
       "    <tr>\n",
       "      <th>6</th>\n",
       "      <td></td>\n",
       "      <td>2016-10-25 22:19:47</td>\n",
       "      <td>36.869 sec</td>\n",
       "      <td>12971 obs/sec</td>\n",
       "      <td>7.304533</td>\n",
       "      <td>107</td>\n",
       "      <td>438272.0</td>\n",
       "      <td>0.062611</td>\n",
       "      <td>0.015194</td>\n",
       "      <td>0.004817</td>\n",
       "    </tr>\n",
       "    <tr>\n",
       "      <th>7</th>\n",
       "      <td></td>\n",
       "      <td>2016-10-25 22:19:53</td>\n",
       "      <td>42.727 sec</td>\n",
       "      <td>13087 obs/sec</td>\n",
       "      <td>8.465067</td>\n",
       "      <td>124</td>\n",
       "      <td>507904.0</td>\n",
       "      <td>0.061736</td>\n",
       "      <td>0.014689</td>\n",
       "      <td>0.004315</td>\n",
       "    </tr>\n",
       "    <tr>\n",
       "      <th>8</th>\n",
       "      <td></td>\n",
       "      <td>2016-10-25 22:20:00</td>\n",
       "      <td>49.337 sec</td>\n",
       "      <td>13311 obs/sec</td>\n",
       "      <td>10.035200</td>\n",
       "      <td>147</td>\n",
       "      <td>602112.0</td>\n",
       "      <td>0.058165</td>\n",
       "      <td>0.012866</td>\n",
       "      <td>0.003613</td>\n",
       "    </tr>\n",
       "  </tbody>\n",
       "</table>\n",
       "</div>"
      ],
      "text/plain": [
       "               timestamp    duration training_speed     epochs  iterations  \\\n",
       "0    2016-10-25 22:19:11   0.000 sec           None   0.000000           0   \n",
       "1    2016-10-25 22:19:12   2.846 sec   5680 obs/sec   0.068267           1   \n",
       "2    2016-10-25 22:19:26  15.825 sec  10615 obs/sec   2.389333          35   \n",
       "3    2016-10-25 22:19:32  21.074 sec  11693 obs/sec   3.618133          53   \n",
       "4    2016-10-25 22:19:37  26.361 sec  12291 obs/sec   4.846933          71   \n",
       "5    2016-10-25 22:19:42  31.638 sec  12681 obs/sec   6.075733          89   \n",
       "6    2016-10-25 22:19:47  36.869 sec  12971 obs/sec   7.304533         107   \n",
       "7    2016-10-25 22:19:53  42.727 sec  13087 obs/sec   8.465067         124   \n",
       "8    2016-10-25 22:20:00  49.337 sec  13311 obs/sec  10.035200         147   \n",
       "\n",
       "    samples  training_rmse  training_logloss  training_classification_error  \n",
       "0       0.0            NaN               NaN                            NaN  \n",
       "1    4096.0       0.307853          0.341393                       0.106774  \n",
       "2  143360.0       0.088671          0.031537                       0.009333  \n",
       "3  217088.0       0.081101          0.024384                       0.008329  \n",
       "4  290816.0       0.075848          0.021222                       0.007025  \n",
       "5  364544.0       0.068475          0.018163                       0.005519  \n",
       "6  438272.0       0.062611          0.015194                       0.004817  \n",
       "7  507904.0       0.061736          0.014689                       0.004315  \n",
       "8  602112.0       0.058165          0.012866                       0.003613  "
      ]
     },
     "execution_count": 8,
     "metadata": {},
     "output_type": "execute_result"
    }
   ],
   "source": [
    "model.scoring_history()"
   ]
  },
  {
   "cell_type": "markdown",
   "metadata": {},
   "source": [
    "### Let's evaluate the test set performance"
   ]
  },
  {
   "cell_type": "code",
   "execution_count": 9,
   "metadata": {
    "collapsed": false,
    "scrolled": true
   },
   "outputs": [
    {
     "name": "stdout",
     "output_type": "stream",
     "text": [
      "Parse progress: |█████████████████████████████████████████████████████████| 100%\n",
      "\n",
      "ModelMetricsMultinomial: deepwater\n",
      "** Reported on test data. **\n",
      "\n",
      "MSE: 0.00631729605284\n",
      "RMSE: 0.0794814195447\n",
      "LogLoss: 0.0236156551342\n",
      "Mean Per-Class Error: 0.00733369768305\n",
      "Confusion Matrix: vertical: actual; across: predicted\n",
      "\n"
     ]
    },
    {
     "data": {
      "text/html": [
       "<div style=\"overflow:auto\"><table style=\"width:50%\"><tr><td><b>0</b></td>\n",
       "<td><b>1</b></td>\n",
       "<td><b>2</b></td>\n",
       "<td><b>3</b></td>\n",
       "<td><b>4</b></td>\n",
       "<td><b>5</b></td>\n",
       "<td><b>6</b></td>\n",
       "<td><b>7</b></td>\n",
       "<td><b>8</b></td>\n",
       "<td><b>9</b></td>\n",
       "<td><b>Error</b></td>\n",
       "<td><b>Rate</b></td></tr>\n",
       "<tr><td>975.0</td>\n",
       "<td>0.0</td>\n",
       "<td>0.0</td>\n",
       "<td>0.0</td>\n",
       "<td>0.0</td>\n",
       "<td>0.0</td>\n",
       "<td>3.0</td>\n",
       "<td>1.0</td>\n",
       "<td>1.0</td>\n",
       "<td>0.0</td>\n",
       "<td>0.0051020</td>\n",
       "<td>5 / 980</td></tr>\n",
       "<tr><td>0.0</td>\n",
       "<td>1133.0</td>\n",
       "<td>0.0</td>\n",
       "<td>1.0</td>\n",
       "<td>0.0</td>\n",
       "<td>0.0</td>\n",
       "<td>1.0</td>\n",
       "<td>0.0</td>\n",
       "<td>0.0</td>\n",
       "<td>0.0</td>\n",
       "<td>0.0017621</td>\n",
       "<td>2 / 1,135</td></tr>\n",
       "<tr><td>1.0</td>\n",
       "<td>0.0</td>\n",
       "<td>1029.0</td>\n",
       "<td>0.0</td>\n",
       "<td>0.0</td>\n",
       "<td>0.0</td>\n",
       "<td>0.0</td>\n",
       "<td>2.0</td>\n",
       "<td>0.0</td>\n",
       "<td>0.0</td>\n",
       "<td>0.0029070</td>\n",
       "<td>3 / 1,032</td></tr>\n",
       "<tr><td>0.0</td>\n",
       "<td>0.0</td>\n",
       "<td>1.0</td>\n",
       "<td>1001.0</td>\n",
       "<td>0.0</td>\n",
       "<td>4.0</td>\n",
       "<td>0.0</td>\n",
       "<td>1.0</td>\n",
       "<td>2.0</td>\n",
       "<td>1.0</td>\n",
       "<td>0.0089109</td>\n",
       "<td>9 / 1,010</td></tr>\n",
       "<tr><td>0.0</td>\n",
       "<td>0.0</td>\n",
       "<td>1.0</td>\n",
       "<td>0.0</td>\n",
       "<td>978.0</td>\n",
       "<td>0.0</td>\n",
       "<td>1.0</td>\n",
       "<td>0.0</td>\n",
       "<td>0.0</td>\n",
       "<td>2.0</td>\n",
       "<td>0.0040733</td>\n",
       "<td>4 / 982</td></tr>\n",
       "<tr><td>2.0</td>\n",
       "<td>0.0</td>\n",
       "<td>0.0</td>\n",
       "<td>5.0</td>\n",
       "<td>0.0</td>\n",
       "<td>882.0</td>\n",
       "<td>1.0</td>\n",
       "<td>0.0</td>\n",
       "<td>0.0</td>\n",
       "<td>2.0</td>\n",
       "<td>0.0112108</td>\n",
       "<td>10 / 892</td></tr>\n",
       "<tr><td>3.0</td>\n",
       "<td>2.0</td>\n",
       "<td>0.0</td>\n",
       "<td>1.0</td>\n",
       "<td>2.0</td>\n",
       "<td>1.0</td>\n",
       "<td>947.0</td>\n",
       "<td>0.0</td>\n",
       "<td>2.0</td>\n",
       "<td>0.0</td>\n",
       "<td>0.0114823</td>\n",
       "<td>11 / 958</td></tr>\n",
       "<tr><td>0.0</td>\n",
       "<td>3.0</td>\n",
       "<td>2.0</td>\n",
       "<td>0.0</td>\n",
       "<td>0.0</td>\n",
       "<td>0.0</td>\n",
       "<td>0.0</td>\n",
       "<td>1020.0</td>\n",
       "<td>2.0</td>\n",
       "<td>1.0</td>\n",
       "<td>0.0077821</td>\n",
       "<td>8 / 1,028</td></tr>\n",
       "<tr><td>0.0</td>\n",
       "<td>0.0</td>\n",
       "<td>1.0</td>\n",
       "<td>1.0</td>\n",
       "<td>0.0</td>\n",
       "<td>1.0</td>\n",
       "<td>1.0</td>\n",
       "<td>1.0</td>\n",
       "<td>966.0</td>\n",
       "<td>3.0</td>\n",
       "<td>0.0082136</td>\n",
       "<td>8 / 974</td></tr>\n",
       "<tr><td>0.0</td>\n",
       "<td>1.0</td>\n",
       "<td>0.0</td>\n",
       "<td>0.0</td>\n",
       "<td>5.0</td>\n",
       "<td>3.0</td>\n",
       "<td>0.0</td>\n",
       "<td>3.0</td>\n",
       "<td>0.0</td>\n",
       "<td>997.0</td>\n",
       "<td>0.0118930</td>\n",
       "<td>12 / 1,009</td></tr>\n",
       "<tr><td>981.0</td>\n",
       "<td>1139.0</td>\n",
       "<td>1034.0</td>\n",
       "<td>1009.0</td>\n",
       "<td>985.0</td>\n",
       "<td>891.0</td>\n",
       "<td>954.0</td>\n",
       "<td>1028.0</td>\n",
       "<td>973.0</td>\n",
       "<td>1006.0</td>\n",
       "<td>0.0072</td>\n",
       "<td>72 / 10,000</td></tr></table></div>"
      ],
      "text/plain": [
       "0    1     2     3     4    5    6    7     8    9     Error       Rate\n",
       "---  ----  ----  ----  ---  ---  ---  ----  ---  ----  ----------  -----------\n",
       "975  0     0     0     0    0    3    1     1    0     0.00510204  5 / 980\n",
       "0    1133  0     1     0    0    1    0     0    0     0.00176211  2 / 1,135\n",
       "1    0     1029  0     0    0    0    2     0    0     0.00290698  3 / 1,032\n",
       "0    0     1     1001  0    4    0    1     2    1     0.00891089  9 / 1,010\n",
       "0    0     1     0     978  0    1    0     0    2     0.00407332  4 / 982\n",
       "2    0     0     5     0    882  1    0     0    2     0.0112108   10 / 892\n",
       "3    2     0     1     2    1    947  0     2    0     0.0114823   11 / 958\n",
       "0    3     2     0     0    0    0    1020  2    1     0.0077821   8 / 1,028\n",
       "0    0     1     1     0    1    1    1     966  3     0.00821355  8 / 974\n",
       "0    1     0     0     5    3    0    3     0    997   0.011893    12 / 1,009\n",
       "981  1139  1034  1009  985  891  954  1028  973  1006  0.0072      72 / 10,000"
      ]
     },
     "metadata": {},
     "output_type": "display_data"
    },
    {
     "name": "stdout",
     "output_type": "stream",
     "text": [
      "Top-10 Hit Ratios: \n"
     ]
    },
    {
     "data": {
      "text/html": [
       "<div style=\"overflow:auto\"><table style=\"width:50%\"><tr><td><b>k</b></td>\n",
       "<td><b>hit_ratio</b></td></tr>\n",
       "<tr><td>1</td>\n",
       "<td>0.9928</td></tr>\n",
       "<tr><td>2</td>\n",
       "<td>0.9988</td></tr>\n",
       "<tr><td>3</td>\n",
       "<td>0.9996</td></tr>\n",
       "<tr><td>4</td>\n",
       "<td>0.9998000</td></tr>\n",
       "<tr><td>5</td>\n",
       "<td>0.9999</td></tr>\n",
       "<tr><td>6</td>\n",
       "<td>1.0</td></tr>\n",
       "<tr><td>7</td>\n",
       "<td>1.0</td></tr>\n",
       "<tr><td>8</td>\n",
       "<td>1.0</td></tr>\n",
       "<tr><td>9</td>\n",
       "<td>1.0</td></tr>\n",
       "<tr><td>10</td>\n",
       "<td>1.0</td></tr></table></div>"
      ],
      "text/plain": [
       "k    hit_ratio\n",
       "---  -----------\n",
       "1    0.9928\n",
       "2    0.9988\n",
       "3    0.9996\n",
       "4    0.9998\n",
       "5    0.9999\n",
       "6    1\n",
       "7    1\n",
       "8    1\n",
       "9    1\n",
       "10   1"
      ]
     },
     "metadata": {},
     "output_type": "display_data"
    },
    {
     "name": "stdout",
     "output_type": "stream",
     "text": [
      "\n"
     ]
    }
   ],
   "source": [
    "test = h2o.import_file(PATH + \"bigdata/laptop/mnist/test.csv.gz\")\n",
    "test[predictors] = test[predictors]/255.0\n",
    "test[resp] = test[resp].asfactor()\n",
    "\n",
    "print(model.model_performance(test))"
   ]
  },
  {
   "cell_type": "code",
   "execution_count": 10,
   "metadata": {
    "collapsed": false,
    "scrolled": false
   },
   "outputs": [
    {
     "name": "stdout",
     "output_type": "stream",
     "text": [
      "Writing H2O logs to /tmp/h2ologs_20161025_102032.zip\n"
     ]
    },
    {
     "data": {
      "text/plain": [
       "u'/tmp/h2ologs_20161025_102032.zip'"
      ]
     },
     "execution_count": 10,
     "metadata": {},
     "output_type": "execute_result"
    }
   ],
   "source": [
    "h2o.download_all_logs(\"/tmp/\")"
   ]
  }
 ],
 "metadata": {
  "kernelspec": {"display_name": "Python 3", "language": "python", "name": "python3"},
  "language_info": {
   "codemirror_mode": {
    "name": "ipython",
    "version": 2
   },
   "file_extension": ".py",
   "mimetype": "text/x-python",
   "name": "python",
   "nbconvert_exporter": "python",
   "pygments_lexer": "ipython2",
   "version": "2.7.12"
  }
 },
 "nbformat": 4,
 "nbformat_minor": 1
}
