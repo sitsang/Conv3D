{
 "cells": [
  {
   "cell_type": "code",
   "execution_count": 1,
   "metadata": {
    "collapsed": false
   },
   "outputs": [
    {
     "name": "stderr",
     "output_type": "stream",
     "text": [
      "Loading required package: statmod\n",
      "\n",
      "----------------------------------------------------------------------\n",
      "\n",
      "Your next step is to start H2O:\n",
      "    > h2o.init()\n",
      "\n",
      "For H2O package documentation, ask for help:\n",
      "    > ??h2o\n",
      "\n",
      "After starting H2O, you can use the Web UI at http://localhost:54321\n",
      "For more information visit http://docs.h2o.ai\n",
      "\n",
      "----------------------------------------------------------------------\n",
      "\n",
      "\n",
      "Attaching package: ‘h2o’\n",
      "\n",
      "The following objects are masked from ‘package:stats’:\n",
      "\n",
      "    cor, sd, var\n",
      "\n",
      "The following objects are masked from ‘package:base’:\n",
      "\n",
      "    ||, &&, %*%, apply, as.factor, as.numeric, colnames, colnames<-,\n",
      "    ifelse, %in%, is.character, is.factor, is.numeric, log, log10,\n",
      "    log1p, log2, round, signif, trunc\n",
      "\n"
     ]
    },
    {
     "name": "stdout",
     "output_type": "stream",
     "text": [
      " Connection successful!\n",
      "\n",
      "R is connected to the H2O cluster: \n",
      "    H2O cluster uptime:         7 minutes 30 seconds \n",
      "    H2O cluster version:        3.11.0.99999 \n",
      "    H2O cluster version age:    9 hours and 21 minutes  \n",
      "    H2O cluster name:           ubuntu \n",
      "    H2O cluster total nodes:    1 \n",
      "    H2O cluster total memory:   3.11 GB \n",
      "    H2O cluster total cores:    8 \n",
      "    H2O cluster allowed cores:  8 \n",
      "    H2O cluster healthy:        TRUE \n",
      "    H2O Connection ip:          localhost \n",
      "    H2O Connection port:        54321 \n",
      "    H2O Connection proxy:       NA \n",
      "    R Version:                  R version 3.2.3 (2015-12-10) \n",
      "\n"
     ]
    },
    {
     "ename": "ERROR",
     "evalue": "Error in eval(expr, envir, enclos): could not find function \"h2o.deepwater_available\"\n",
     "output_type": "error",
     "traceback": [
      "Error in eval(expr, envir, enclos): could not find function \"h2o.deepwater_available\"\nTraceback:\n"
     ]
    }
   ],
   "source": [
    "library(h2o)\n",
    "h2o.init(nthreads=-1)\n",
    "if (!h2o.deepwater_available()) return()"
   ]
  },
  {
   "cell_type": "markdown",
   "metadata": {},
   "source": [
    "## Data Ingest\n",
    "#### Image dataset\n",
    "For simplicity, H2O Deep Water allows you to specify a list of URIs (file paths) or URLs (links) to images, together with a response column (either a class membership (enum) or regression target (numeric)).\n",
    "\n",
    "For this example, we use this simple cat/dog/mouse dataset that has a few hundred images, and a label of cardinality 3."
   ]
  },
  {
   "cell_type": "code",
   "execution_count": 2,
   "metadata": {
    "collapsed": false,
    "scrolled": true
   },
   "outputs": [
    {
     "name": "stdout",
     "output_type": "stream",
     "text": [
      "  |======================================================================| 100%\n",
      "                                                               C1  C2\n",
      "1  bigdata/laptop/deepwater/imagenet/cat/102194502_49f003abd9.jpg cat\n",
      "2   bigdata/laptop/deepwater/imagenet/cat/11146807_00a5f35255.jpg cat\n",
      "3 bigdata/laptop/deepwater/imagenet/cat/1140846215_70e326f868.jpg cat\n",
      "4  bigdata/laptop/deepwater/imagenet/cat/114170569_6cbdf4bbdb.jpg cat\n",
      "5 bigdata/laptop/deepwater/imagenet/cat/1217664848_de4c7fc296.jpg cat\n",
      "6 bigdata/laptop/deepwater/imagenet/cat/1241603780_5e8c8f1ced.jpg cat\n"
     ]
    }
   ],
   "source": [
    "df <- h2o.importFile(\"/home/ubuntu/h2o-3/bigdata/laptop/deepwater/imagenet/cat_dog_mouse.csv\")\n",
    "print(head(df))\n",
    "path = 1 ## must be the first column\n",
    "response = 2"
   ]
  },
  {
   "cell_type": "markdown",
   "metadata": {},
   "source": [
    "Let's look at a random subset of 10 images"
   ]
  },
  {
   "cell_type": "markdown",
   "metadata": {},
   "source": [
    "Now, we build a classic convolutional neural network, called [LeNet](http://yann.lecun.com/exdb/lenet/)\n",
    "![LeNet](images/lenet.gif)\n",
    "![LeNet](images/lenet.jpg)"
   ]
  },
  {
   "cell_type": "markdown",
   "metadata": {},
   "source": [
    "We'll use a GPU to train such a LeNet model in seconds"
   ]
  },
  {
   "cell_type": "markdown",
   "metadata": {},
   "source": [
    "To build a LeNet image classification model in H2O, simply specify network = \"lenet\":"
   ]
  },
  {
   "cell_type": "code",
   "execution_count": 4,
   "metadata": {
    "collapsed": false,
    "scrolled": true
   },
   "outputs": [
    {
     "name": "stdout",
     "output_type": "stream",
     "text": [
      "\r",
      "  |                                                                            \r",
      "  |                                                                      |   0%\r",
      "  |                                                                            \r",
      "  |===========                                                           |  15%\r",
      "  |                                                                            \r",
      "  |================================================                      |  69%\r",
      "  |                                                                            \r",
      "  |======================================================================| 100%\n"
     ]
    },
    {
     "data": {
      "text/plain": [
       "Model Details:\n",
       "==============\n",
       "\n",
       "H2OMultinomialModel: deepwater\n",
       "Model ID:  DeepWater_model_R_1477378862430_2 \n",
       "Status of Deep Learning Model: lenet, 1.6 MB, predicting C2, 3-class classification, 14,336 training samples, mini-batch size 32\n",
       "  input_neurons     rate momentum\n",
       "1          2352 0.000986 0.990000\n",
       "\n",
       "\n",
       "H2OMultinomialMetrics: deepwater\n",
       "** Reported on training data. **\n",
       "** Metrics reported on full training frame **\n",
       "\n",
       "Training Set Metrics: \n",
       "=====================\n",
       "\n",
       "Extract training frame with `h2o.getFrame(\"cat_dog_mouse.hex_sid_95f8_1\")`\n",
       "MSE: (Extract with `h2o.mse`) 0.131072\n",
       "RMSE: (Extract with `h2o.rmse`) 0.3620386\n",
       "Logloss: (Extract with `h2o.logloss`) 0.4176429\n",
       "Mean Per-Class Error: 0.1165104\n",
       "Confusion Matrix: Extract with `h2o.confusionMatrix(<model>,train = TRUE)`)\n",
       "=========================================================================\n",
       "Confusion Matrix: vertical: actual; across: predicted\n",
       "       cat dog mouse  Error       Rate\n",
       "cat     75   4    11 0.1667 =  15 / 90\n",
       "dog      4  75     6 0.1176 =  10 / 85\n",
       "mouse    3   3    86 0.0652 =   6 / 92\n",
       "Totals  82  82   103 0.1161 = 31 / 267\n",
       "\n",
       "Hit Ratio Table: Extract with `h2o.hit_ratio_table(<model>,train = TRUE)`\n",
       "=======================================================================\n",
       "Top-3 Hit Ratios: \n",
       "  k hit_ratio\n",
       "1 1  0.883895\n",
       "2 2  0.973783\n",
       "3 3  1.000000\n",
       "\n",
       "\n",
       "\n"
      ]
     },
     "metadata": {},
     "output_type": "display_data"
    }
   ],
   "source": [
    "model <- h2o.deepwater(x=path, y=response, \n",
    "                       training_frame=df, epochs=50, \n",
    "                       learning_rate=1e-3, network = \"lenet\")\n",
    "model"
   ]
  },
  {
   "cell_type": "markdown",
   "metadata": {},
   "source": [
    "If you'd like to build your own LeNet network architecture, then this is easy as well.\n",
    "In this example script, we are using the 'mxnet' backend. Models can easily be imported/exported between H2O and MXNet since H2O uses MXNet's format for model definition."
   ]
  },
  {
   "cell_type": "code",
   "execution_count": 5,
   "metadata": {
    "collapsed": true
   },
   "outputs": [],
   "source": [
    "get_symbol <- function(num_classes = 1000) {\n",
    "  library(mxnet)\n",
    "  data <- mx.symbol.Variable('data')\n",
    "  # first conv\n",
    "  conv1 <- mx.symbol.Convolution(data = data, kernel = c(5, 5), num_filter = 20)\n",
    "\n",
    "  tanh1 <- mx.symbol.Activation(data = conv1, act_type = \"tanh\")\n",
    "  pool1 <- mx.symbol.Pooling(data = tanh1, pool_type = \"max\", kernel = c(2, 2), stride = c(2, 2))\n",
    "\n",
    "  # second conv\n",
    "  conv2 <- mx.symbol.Convolution(data = pool1, kernel = c(5, 5), num_filter = 50)\n",
    "  tanh2 <- mx.symbol.Activation(data = conv2, act_type = \"tanh\")\n",
    "  pool2 <- mx.symbol.Pooling(data = tanh2, pool_type = \"max\", kernel = c(2, 2), stride = c(2, 2))\n",
    "  # first fullc\n",
    "  flatten <- mx.symbol.Flatten(data = pool2)\n",
    "  fc1 <- mx.symbol.FullyConnected(data = flatten, num_hidden = 500)\n",
    "  tanh3 <- mx.symbol.Activation(data = fc1, act_type = \"tanh\")\n",
    "  # second fullc\n",
    "  fc2 <- mx.symbol.FullyConnected(data = tanh3, num_hidden = num_classes)\n",
    "  # loss\n",
    "  lenet <- mx.symbol.SoftmaxOutput(data = fc2, name = 'softmax')\n",
    "  return(lenet)\n",
    "}"
   ]
  },
  {
   "cell_type": "code",
   "execution_count": 7,
   "metadata": {
    "collapsed": false
   },
   "outputs": [],
   "source": [
    "nclasses = h2o.nlevels(df[,response])\n",
    "network <- get_symbol(nclasses)\n",
    "cat(network$as.json(), file = \"/tmp/symbol_lenet-R.json\", sep = '')"
   ]
  },
  {
   "cell_type": "code",
   "execution_count": 8,
   "metadata": {
    "collapsed": false
   },
   "outputs": [
    {
     "data": {
      "text/plain": [
       "HTML widgets cannot be represented in plain text (need html)"
      ]
     },
     "metadata": {},
     "output_type": "display_data"
    }
   ],
   "source": [
    "# sudo apt-get install graphviz\n",
    "graph.viz(network$as.json())"
   ]
  },
  {
   "cell_type": "code",
   "execution_count": 9,
   "metadata": {
    "collapsed": false
   },
   "outputs": [
    {
     "name": "stdout",
     "output_type": "stream",
     "text": [
      "\r",
      "  |                                                                            \r",
      "  |                                                                      |   0%\r",
      "  |                                                                            \r",
      "  |==                                                                    |   2%\r",
      "  |                                                                            \r",
      "  |=====                                                                 |   7%\r",
      "  |                                                                            \r",
      "  |========                                                              |  12%\r",
      "  |                                                                            \r",
      "  |===========                                                           |  16%\r",
      "  |                                                                            \r",
      "  |===============                                                       |  21%\r",
      "  |                                                                            \r",
      "  |==================                                                    |  26%\r",
      "  |                                                                            \r",
      "  |=====================                                                 |  31%\r",
      "  |                                                                            \r",
      "  |=========================                                             |  36%\r",
      "  |                                                                            \r",
      "  |============================                                          |  41%\r",
      "  |                                                                            \r",
      "  |================================                                      |  45%\r",
      "  |                                                                            \r",
      "  |===================================                                   |  51%\r",
      "  |                                                                            \r",
      "  |=======================================                               |  55%\r",
      "  |                                                                            \r",
      "  |==========================================                            |  60%\r",
      "  |                                                                            \r",
      "  |==============================================                        |  65%\r",
      "  |                                                                            \r",
      "  |=================================================                     |  70%\r",
      "  |                                                                            \r",
      "  |====================================================                  |  74%\r",
      "  |                                                                            \r",
      "  |========================================================              |  80%\r",
      "  |                                                                            \r",
      "  |===========================================================           |  84%\r",
      "  |                                                                            \r",
      "  |==============================================================        |  89%\r",
      "  |                                                                            \r",
      "  |==================================================================    |  94%\r",
      "  |                                                                            \r",
      "  |===================================================================== |  99%\r",
      "  |                                                                            \r",
      "  |======================================================================| 100%\n"
     ]
    }
   ],
   "source": [
    "model = h2o.deepwater(x=path, y=response, training_frame = df,\n",
    "                      epochs=500, ## early stopping is on by default and might trigger before\n",
    "                      network_definition_file=\"/tmp/symbol_lenet-R.json\",  ## specify the model\n",
    "                      image_shape=c(28,28),                                ## provide expected (or matching) image size\n",
    "                      channels=3)                                          ## 3 for color, 1 for monochrome"
   ]
  },
  {
   "cell_type": "code",
   "execution_count": 10,
   "metadata": {
    "collapsed": false
   },
   "outputs": [
    {
     "name": "stdout",
     "output_type": "stream",
     "text": [
      "Model Details:\n",
      "==============\n",
      "\n",
      "H2OMultinomialModel: deepwater\n",
      "Model Key:  DeepWater_model_R_1477378862430_3 \n",
      "Status of Deep Learning Model: user, 1.6 MB, predicting C2, 3-class classification, 134,144 training samples, mini-batch size 32\n",
      "  input_neurons     rate momentum\n",
      "1          2352 0.004409 0.990000\n",
      "\n",
      "H2OMultinomialMetrics: deepwater\n",
      "** Reported on training data. **\n",
      "** Metrics reported on full training frame **\n",
      "\n",
      "Training Set Metrics: \n",
      "=====================\n",
      "\n",
      "Extract training frame with `h2o.getFrame(\"cat_dog_mouse.hex_sid_95f8_1\")`\n",
      "MSE: (Extract with `h2o.mse`) 0.03078524\n",
      "RMSE: (Extract with `h2o.rmse`) 0.1754572\n",
      "Logloss: (Extract with `h2o.logloss`) 0.1154222\n",
      "Mean Per-Class Error: 0.03366487\n",
      "Confusion Matrix: Extract with `h2o.confusionMatrix(<model>,train = TRUE)`)\n",
      "=========================================================================\n",
      "Confusion Matrix: vertical: actual; across: predicted\n",
      "       cat dog mouse  Error      Rate\n",
      "cat     88   2     0 0.0222 =  2 / 90\n",
      "dog      2  82     1 0.0353 =  3 / 85\n",
      "mouse    1   3    88 0.0435 =  4 / 92\n",
      "Totals  91  87    89 0.0337 = 9 / 267\n",
      "\n",
      "Hit Ratio Table: Extract with `h2o.hit_ratio_table(<model>,train = TRUE)`\n",
      "=======================================================================\n",
      "Top-3 Hit Ratios: \n",
      "  k hit_ratio\n",
      "1 1  0.966292\n",
      "2 2  0.996255\n",
      "3 3  1.000000\n",
      "\n",
      "\n",
      "\n",
      "\n",
      "\n",
      "Scoring History: \n",
      "            timestamp   duration training_speed    epochs iterations\n",
      "1 2016-10-25 07:10:50  0.000 sec                  0.00000          0\n",
      "2 2016-10-25 07:10:52  1.755 sec    627 obs/sec   3.83521          1\n",
      "3 2016-10-25 07:10:57  6.907 sec   4990 obs/sec 126.56180         33\n",
      "4 2016-10-25 07:11:02 12.020 sec   5607 obs/sec 249.28839         65\n",
      "5 2016-10-25 07:11:07 17.160 sec   5843 obs/sec 372.01498         97\n",
      "6 2016-10-25 07:11:12 22.305 sec   5969 obs/sec 494.74157        129\n",
      "7 2016-10-25 07:11:13 22.656 sec   5971 obs/sec 502.41199        131\n",
      "8 2016-10-25 07:11:13 22.713 sec   5966 obs/sec 502.41199        131\n",
      "        samples training_rmse training_logloss training_classification_error\n",
      "1      0.000000                                                             \n",
      "2   1024.000000       0.66039          1.15794                       0.62547\n",
      "3  33792.000000       0.56444          0.86754                       0.42322\n",
      "4  66560.000000       0.54945          0.90199                       0.40075\n",
      "5  99328.000000       0.32128          0.30245                       0.13483\n",
      "6 132096.000000       0.17546          0.11542                       0.03371\n",
      "7 134144.000000       0.30373          0.28780                       0.13483\n",
      "8 134144.000000       0.17546          0.11542                       0.03371\n",
      "\n"
     ]
    }
   ],
   "source": [
    "summary(model)"
   ]
  },
  {
   "cell_type": "markdown",
   "metadata": {},
   "source": [
    "To see how much slower training a convolutional neural net is trained without a GPU, disable the 'gpu' flag. Note that using MKL or other optimized implementations of BLAS can make this difference shrink a lot, but generally a GPU is at least 5x faster than the best CPU implementations for realistic workloads, and often 50x faster or even more.\n",
    "\n",
    "Instead of training for 500 epochs on the GPU, we'll train for 10 epochs on the CPU."
   ]
  },
  {
   "cell_type": "code",
   "execution_count": 11,
   "metadata": {
    "collapsed": false
   },
   "outputs": [
    {
     "name": "stdout",
     "output_type": "stream",
     "text": [
      "\r",
      "  |                                                                            \r",
      "  |                                                                      |   0%\r",
      "  |                                                                            \r",
      "  |===========================                                           |  38%\r",
      "  |                                                                            \r",
      "  |======================================================                |  77%\r",
      "  |                                                                            \r",
      "  |======================================================================| 100%\n"
     ]
    }
   ],
   "source": [
    "model = h2o.deepwater(x=path, y=response, training_frame = df,\n",
    "                      epochs=10,\n",
    "                      network_definition_file=\"/tmp/symbol_lenet-R.json\",\n",
    "                      image_shape=c(28,28),\n",
    "                      channels=3,\n",
    "                      gpu=FALSE)                                 "
   ]
  },
  {
   "cell_type": "code",
   "execution_count": 12,
   "metadata": {
    "collapsed": false
   },
   "outputs": [
    {
     "name": "stdout",
     "output_type": "stream",
     "text": [
      "Model Details:\n",
      "==============\n",
      "\n",
      "H2OMultinomialModel: deepwater\n",
      "Model Key:  DeepWater_model_R_1477378862430_4 \n",
      "Status of Deep Learning Model: user, 1.6 MB, predicting C2, 3-class classification, 3,072 training samples, mini-batch size 32\n",
      "  input_neurons     rate momentum\n",
      "1          2352 0.004985 0.927648\n",
      "\n",
      "H2OMultinomialMetrics: deepwater\n",
      "** Reported on training data. **\n",
      "** Metrics reported on full training frame **\n",
      "\n",
      "Training Set Metrics: \n",
      "=====================\n",
      "\n",
      "Extract training frame with `h2o.getFrame(\"cat_dog_mouse.hex_sid_95f8_1\")`\n",
      "MSE: (Extract with `h2o.mse`) 0.3830328\n",
      "RMSE: (Extract with `h2o.rmse`) 0.6188964\n",
      "Logloss: (Extract with `h2o.logloss`) 1.007723\n",
      "Mean Per-Class Error: 0.5300322\n",
      "Confusion Matrix: Extract with `h2o.confusionMatrix(<model>,train = TRUE)`)\n",
      "=========================================================================\n",
      "Confusion Matrix: vertical: actual; across: predicted\n",
      "       cat dog mouse  Error        Rate\n",
      "cat     59   7    24 0.3444 =   31 / 90\n",
      "dog     42  17    26 0.8000 =   68 / 85\n",
      "mouse   37   4    51 0.4457 =   41 / 92\n",
      "Totals 138  28   101 0.5243 = 140 / 267\n",
      "\n",
      "Hit Ratio Table: Extract with `h2o.hit_ratio_table(<model>,train = TRUE)`\n",
      "=======================================================================\n",
      "Top-3 Hit Ratios: \n",
      "  k hit_ratio\n",
      "1 1  0.475655\n",
      "2 2  0.801498\n",
      "3 3  1.000000\n",
      "\n",
      "\n",
      "\n",
      "\n",
      "\n",
      "Scoring History: \n",
      "            timestamp   duration training_speed   epochs iterations     samples\n",
      "1 2016-10-25 07:11:20  0.000 sec                 0.00000          0    0.000000\n",
      "2 2016-10-25 07:11:27  7.852 sec    141 obs/sec  3.83521          1 1024.000000\n",
      "3 2016-10-25 07:11:34 15.001 sec    147 obs/sec  7.67041          2 2048.000000\n",
      "4 2016-10-25 07:11:42 22.781 sec    144 obs/sec 11.50562          3 3072.000000\n",
      "5 2016-10-25 07:11:43 23.312 sec    144 obs/sec 11.50562          3 3072.000000\n",
      "  training_rmse training_logloss training_classification_error\n",
      "1                                                             \n",
      "2       0.61890          1.00772                       0.52434\n",
      "3       0.64650          1.21219                       0.51311\n",
      "4       0.66322          1.17192                       0.62921\n",
      "5       0.61890          1.00772                       0.52434\n",
      "\n"
     ]
    }
   ],
   "source": [
    "summary(model)"
   ]
  }
 ],
 "metadata": {
  "anaconda-cloud": {},
  "kernelspec": {"display_name": "Python 3", "language": "python", "name": "python3"},
  "language_info": {
   "codemirror_mode": "r",
   "file_extension": ".r",
   "mimetype": "text/x-r-source",
   "name": "R",
   "pygments_lexer": "r",
   "version": "3.2.3"
  }
 },
 "nbformat": 4,
 "nbformat_minor": 1
}
