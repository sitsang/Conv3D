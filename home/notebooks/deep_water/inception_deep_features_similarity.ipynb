{
 "cells": [
  {
   "cell_type": "code",
   "execution_count": null,
   "metadata": {
    "collapsed": false,
    "deletable": true,
    "editable": true,
    "scrolled": true
   },
   "outputs": [],
   "source": [
    "import sys, os\n",
    "import h2o\n",
    "from h2o.estimators.deepwater import H2ODeepWaterEstimator\n",
    "from requests import get\n",
    "from IPython.display import Image, display, HTML\n",
    "import numpy as np\n",
    "h2o.init()\n",
    "if not H2ODeepWaterEstimator.available(): exit"
   ]
  },
  {
   "cell_type": "code",
   "execution_count": null,
   "metadata": {
    "collapsed": false,
    "deletable": true,
    "editable": true
   },
   "outputs": [],
   "source": [
    "print(\"Downloading the model\")\n",
    "## http://data.dmlc.ml/mxnet/models/imagenet/inception-bn_old.tar.gz\n",
    "## !gunzip ...\n",
    "\n",
    "print(\"Importing the model architecture for scoring in H2O\")\n",
    "model = H2ODeepWaterEstimator(epochs=0, ## no training - just load the state - NOTE: training for this 3-class problem wouldn't work since the model has 1k classes\n",
    "                            mini_batch_size=32, ## mini-batch size is used for scoring\n",
    "                            ## all parameters below are needed\n",
    "                            network='user',\n",
    "                            network_definition_file=os.getcwd() + \"/Inception_BN-symbol.json\",\n",
    "                            network_parameters_file=os.getcwd() + \"/Inception_BN-0039.params\",\n",
    "                            mean_image_file=        os.getcwd() + \"/mean_224.nd\",\n",
    "                            image_shape=[224,224],\n",
    "                            channels=3\n",
    ")\n",
    "\n",
    "frame = h2o.import_file(\"bigdata/laptop/deepwater/imagenet/cat_dog_mouse.csv\")\n",
    "print(frame.head(5))\n",
    "nclasses = frame[1].nlevels()[0]\n",
    "\n",
    "model.train(x=[0],y=1, training_frame=frame) ## must call train() to initialize the model, but it isn't training"
   ]
  },
  {
   "cell_type": "code",
   "execution_count": null,
   "metadata": {
    "collapsed": false,
    "deletable": true,
    "editable": true
   },
   "outputs": [],
   "source": [
    "## Extract deep features from final layer before going into Softmax.\n",
    "extracted_features = model.deepfeatures(frame, \"global_pool_output\")\n",
    "#extracted_features = model.deepfeatures(frame, \"conv_5b_double_3x3_1_output\")\n",
    "\n",
    "print(extracted_features)\n",
    "assert extracted_features.ncol == 1024"
   ]
  },
  {
   "cell_type": "code",
   "execution_count": null,
   "metadata": {
    "collapsed": false,
    "deletable": true,
    "editable": true
   },
   "outputs": [],
   "source": [
    "## Find the squared cosine similarity \n",
    "## between the first 5 images (queries) and the rest (references)\n",
    "references = extracted_features[5:,:]  ## large\n",
    "queries    = extracted_features[:5,:]  ## small\n",
    "\n",
    "df = references.distance(queries, \"cosine\")\n",
    "\n",
    "print(df)\n",
    "assert df.shape[0] == 262\n",
    "assert df.shape[1] == 5"
   ]
  },
  {
   "cell_type": "code",
   "execution_count": null,
   "metadata": {
    "collapsed": false
   },
   "outputs": [],
   "source": [
    "img = frame[0,0]\n",
    "display(Image(filename=img))"
   ]
  },
  {
   "cell_type": "code",
   "execution_count": null,
   "metadata": {
    "collapsed": false
   },
   "outputs": [],
   "source": [
    "references = extracted_features[:,:]  ## large\n",
    "queries    = extracted_features[0,:]  ## small\n",
    "\n",
    "df = references.distance(queries, \"cosine\").as_data_frame().values.ravel()\n",
    "closest = np.argsort(df)[::-1]\n",
    "for indx in closest[:3]:\n",
    "    img = frame[indx,0]\n",
    "    display(Image(filename=img))"
   ]
  },
  {
   "cell_type": "code",
   "execution_count": null,
   "metadata": {
    "collapsed": false
   },
   "outputs": [],
   "source": [
    "indx = 102\n",
    "img = frame[indx,0]\n",
    "display(Image(filename=img))"
   ]
  },
  {
   "cell_type": "code",
   "execution_count": null,
   "metadata": {
    "collapsed": false
   },
   "outputs": [],
   "source": [
    "references = extracted_features[:,:]  ## large\n",
    "queries    = extracted_features[indx,:]  ## small\n",
    "\n",
    "df = references.distance(queries, \"cosine\").as_data_frame().values.ravel()\n",
    "closest = np.argsort(df)[::-1]\n",
    "for indx in closest[:3]:\n",
    "    img = frame[indx,0]\n",
    "    display(Image(filename=img))"
   ]
  },
  {
   "cell_type": "code",
   "execution_count": null,
   "metadata": {
    "collapsed": false
   },
   "outputs": [],
   "source": [
    "indx = 200\n",
    "img = frame[indx,0]\n",
    "display(Image(filename=img))"
   ]
  },
  {
   "cell_type": "code",
   "execution_count": null,
   "metadata": {
    "collapsed": false
   },
   "outputs": [],
   "source": [
    "references = extracted_features[:,:]  ## large\n",
    "queries    = extracted_features[indx,:]  ## small\n",
    "\n",
    "df = references.distance(queries, \"cosine\").as_data_frame().values.ravel()\n",
    "closest = np.argsort(df)[::-1]\n",
    "for indx in closest[:3]:\n",
    "    img = frame[indx,0]\n",
    "    display(Image(filename=img))"
   ]
  },
  {
   "cell_type": "code",
   "execution_count": null,
   "metadata": {
    "collapsed": true
   },
   "outputs": [],
   "source": []
  }
 ],
 "metadata": {
  "kernelspec": {"display_name": "Python 3", "language": "python", "name": "python3"},
  "language_info": {
   "codemirror_mode": {
    "name": "ipython",
    "version": 2
   },
   "file_extension": ".py",
   "mimetype": "text/x-python",
   "name": "python",
   "nbconvert_exporter": "python",
   "pygments_lexer": "ipython2",
   "version": "2.7.12"
  }
 },
 "nbformat": 4,
 "nbformat_minor": 1
}
