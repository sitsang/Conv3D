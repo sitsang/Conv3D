{
 "cells": [
  {
   "cell_type": "markdown",
   "metadata": {},
   "source": [
    "## Training on Cifar 10 Using MXNet and H2O\n"
   ]
  },
  {
   "cell_type": "markdown",
   "metadata": {},
   "source": [
    "https://www.cs.toronto.edu/~kriz/cifar.html\n",
    "\n",
    "The CIFAR-10 dataset\n",
    "\n",
    "The CIFAR-10 dataset consists of 60000 32x32 colour images in 10 classes, with 6000 images per class. There are 50000 training images and 10000 test images. \n",
    "\n",
    "The dataset is divided into five training batches and one test batch, each with 10000 images. The test batch contains exactly 1000 randomly-selected images from each class. The training batches contain the remaining images in random order, but some training batches may contain more images from one class than another. Between them, the training batches contain exactly 5000 images from each class. "
   ]
  },
  {
   "cell_type": "code",
   "execution_count": 9,
   "metadata": {
    "collapsed": true
   },
   "outputs": [],
   "source": [
    "%matplotlib inline\n",
    "\n",
    "import matplotlib\n",
    "import scipy.io\n",
    "import matplotlib.pyplot as plt\n",
    "\n",
    "import cPickle\n",
    "import numpy as np\n",
    "from scipy.misc import imsave\n",
    "from IPython.display import Image, display, HTML"
   ]
  },
  {
   "cell_type": "markdown",
   "metadata": {},
   "source": [
    "## Step 1: Preprocess the data"
   ]
  },
  {
   "cell_type": "code",
   "execution_count": 10,
   "metadata": {
    "collapsed": false
   },
   "outputs": [],
   "source": [
    "!mkdir -p ~/.h2o/datasets/"
   ]
  },
  {
   "cell_type": "code",
   "execution_count": 11,
   "metadata": {
    "collapsed": false
   },
   "outputs": [
    {
     "name": "stdout",
     "output_type": "stream",
     "text": [
      "--2016-10-21 20:21:14--  https://www.cs.toronto.edu/~kriz/cifar-10-python.tar.gz\n",
      "Resolving www.cs.toronto.edu (www.cs.toronto.edu)... 128.100.3.30\n",
      "Connecting to www.cs.toronto.edu (www.cs.toronto.edu)|128.100.3.30|:443... connected.\n",
      "HTTP request sent, awaiting response... 416 Requested Range Not Satisfiable\n",
      "\n",
      "    The file is already fully retrieved; nothing to do.\n",
      "\n"
     ]
    }
   ],
   "source": [
    "!wget -c https://www.cs.toronto.edu/~kriz/cifar-10-python.tar.gz -O ~/.h2o/datasets/cifar-10-python.tar.gz"
   ]
  },
  {
   "cell_type": "code",
   "execution_count": 17,
   "metadata": {
    "collapsed": false
   },
   "outputs": [
    {
     "name": "stdout",
     "output_type": "stream",
     "text": [
      "cifar-10-batches-py/\n",
      "cifar-10-batches-py/data_batch_4\n",
      "cifar-10-batches-py/readme.html\n",
      "cifar-10-batches-py/test_batch\n",
      "cifar-10-batches-py/data_batch_3\n",
      "cifar-10-batches-py/batches.meta\n",
      "cifar-10-batches-py/data_batch_2\n",
      "cifar-10-batches-py/data_batch_5\n",
      "cifar-10-batches-py/data_batch_1\n"
     ]
    }
   ],
   "source": [
    "!tar xvzf ~/.h2o/datasets/cifar-10-python.tar.gz -C ~/.h2o/datasets/"
   ]
  },
  {
   "cell_type": "code",
   "execution_count": 24,
   "metadata": {
    "collapsed": false
   },
   "outputs": [
    {
     "name": "stdout",
     "output_type": "stream",
     "text": [
      "{'num_cases_per_batch': 10000, 'label_names': ['airplane', 'automobile', 'bird', 'cat', 'deer', 'dog', 'frog', 'horse', 'ship', 'truck'], 'num_vis': 3072}\n"
     ]
    }
   ],
   "source": [
    "import os.path\n",
    "with open(os.path.expanduser(\"~/.h2o/datasets/cifar-10-batches-py/batches.meta\")) as fd:\n",
    "    meta = cPickle.load(fd)\n",
    "print meta"
   ]
  },
  {
   "cell_type": "code",
   "execution_count": 206,
   "metadata": {
    "collapsed": false
   },
   "outputs": [
    {
     "data": {
      "text/plain": [
       "['airplane',\n",
       " 'automobile',\n",
       " 'bird',\n",
       " 'cat',\n",
       " 'deer',\n",
       " 'dog',\n",
       " 'frog',\n",
       " 'horse',\n",
       " 'ship',\n",
       " 'truck']"
      ]
     },
     "execution_count": 206,
     "metadata": {},
     "output_type": "execute_result"
    }
   ],
   "source": [
    "labels = meta['label_names']\n",
    "labels"
   ]
  },
  {
   "cell_type": "code",
   "execution_count": 31,
   "metadata": {
    "collapsed": true
   },
   "outputs": [],
   "source": [
    "def load_cifar10_image_list(filepath):\n",
    "    images = []\n",
    "    labels = []\n",
    "    with open(filepath, 'rb') as fd:\n",
    "        d = cPickle.load(fd)\n",
    "        for image, label, filename in zip(d['data'], d['labels'], d['filenames']):\n",
    "            x = np.array(image)\n",
    "            x = np.dstack((x[:1024], x[1024:2048], x[2048:]))\n",
    "            x = x.reshape(32,32,3)\n",
    "            filename=os.path.expanduser(\"~/.h2o/datasets/cifar-10-batches-py/\"+filename)\n",
    "            imsave(filename, x)\n",
    "            images.append(filename)\n",
    "            labels.append(label)\n",
    "    return images, labels"
   ]
  },
  {
   "cell_type": "code",
   "execution_count": 32,
   "metadata": {
    "collapsed": false,
    "scrolled": true
   },
   "outputs": [],
   "source": [
    "x_train = []\n",
    "y_train = []\n",
    "\n",
    "for batch in range(1,6):\n",
    "    batch_name = os.path.expanduser('~/.h2o/datasets/cifar-10-batches-py/data_batch_%d' % batch)\n",
    "    x,y = load_cifar10_image_list(batch_name)\n",
    "    x_train.extend(x)\n",
    "    y_train.extend(y)"
   ]
  },
  {
   "cell_type": "code",
   "execution_count": 181,
   "metadata": {
    "collapsed": false
   },
   "outputs": [
    {
     "name": "stdout",
     "output_type": "stream",
     "text": [
      "abandoned_ship_s_000004.png\r\n",
      "automobile_s_002079.png\r\n",
      "bufo_viridis_s_000446.png\r\n",
      "chihuahua_s_001646.png\r\n",
      "domestic_cat_s_000619.png\r\n",
      "ferry_s_000003.png\r\n",
      "jetliner_s_001695.png\r\n",
      "monoplane_s_000189.png\r\n",
      "pekinese_s_001349.png\r\n",
      "rangifer_tarandus_s_000158.png\r\n",
      "stealth_bomber_s_002241.png\r\n",
      "tip_truck_s_000896.png\r\n",
      "yosemite_toad_s_000052.png\r\n"
     ]
    }
   ],
   "source": [
    "!ls ~/.h2o/datasets/cifar-10-batches-py/ | sed -n '1~5000p' # show every 5000th file"
   ]
  },
  {
   "cell_type": "code",
   "execution_count": 183,
   "metadata": {
    "collapsed": false
   },
   "outputs": [
    {
     "data": {
      "image/png": "[encoded data removed]",
      "text/plain": [
       "<IPython.core.display.Image object>"
      ]
     },
     "metadata": {},
     "output_type": "display_data"
    },
    {
     "data": {
      "image/png": "[encoded data removed]",
      "text/plain": [
       "<IPython.core.display.Image object>"
      ]
     },
     "metadata": {},
     "output_type": "display_data"
    },
    {
     "data": {
      "image/png": "[encoded data removed]",
      "text/plain": [
       "<IPython.core.display.Image object>"
      ]
     },
     "metadata": {},
     "output_type": "display_data"
    },
    {
     "data": {
      "image/png": "[encoded data removed]",
      "text/plain": [
       "<IPython.core.display.Image object>"
      ]
     },
     "metadata": {},
     "output_type": "display_data"
    },
    {
     "data": {
      "image/png": "[encoded data removed]",
      "text/plain": [
       "<IPython.core.display.Image object>"
      ]
     },
     "metadata": {},
     "output_type": "display_data"
    },
    {
     "data": {
      "image/png": "[encoded data removed]",
      "text/plain": [
       "<IPython.core.display.Image object>"
      ]
     },
     "metadata": {},
     "output_type": "display_data"
    },
    {
     "data": {
      "image/png": "[encoded data removed]",
      "text/plain": [
       "<IPython.core.display.Image object>"
      ]
     },
     "metadata": {},
     "output_type": "display_data"
    },
    {
     "data": {
      "image/png": "[encoded data removed]",
      "text/plain": [
       "<IPython.core.display.Image object>"
      ]
     },
     "metadata": {},
     "output_type": "display_data"
    },
    {
     "data": {
      "image/png": "[encoded data removed]",
      "text/plain": [
       "<IPython.core.display.Image object>"
      ]
     },
     "metadata": {},
     "output_type": "display_data"
    },
    {
     "data": {
      "image/png": "[encoded data removed]",
      "text/plain": [
       "<IPython.core.display.Image object>"
      ]
     },
     "metadata": {},
     "output_type": "display_data"
    }
   ],
   "source": [
    "for x in x_train[:10]:\n",
    "    display(Image(filename=x))"
   ]
  },
  {
   "cell_type": "code",
   "execution_count": 198,
   "metadata": {
    "collapsed": false
   },
   "outputs": [
    {
     "data": {
      "text/plain": [
       "['frog',\n",
       " 'truck',\n",
       " 'truck',\n",
       " 'deer',\n",
       " 'automobile',\n",
       " 'automobile',\n",
       " 'bird',\n",
       " 'horse',\n",
       " 'ship',\n",
       " 'cat']"
      ]
     },
     "execution_count": 198,
     "metadata": {},
     "output_type": "execute_result"
    }
   ],
   "source": [
    "[labels[x] for x in y_train[:10]]"
   ]
  },
  {
   "cell_type": "code",
   "execution_count": 41,
   "metadata": {
    "collapsed": false
   },
   "outputs": [
    {
     "data": {
      "text/plain": [
       "50000"
      ]
     },
     "execution_count": 41,
     "metadata": {},
     "output_type": "execute_result"
    }
   ],
   "source": [
    "len(x_train)"
   ]
  },
  {
   "cell_type": "code",
   "execution_count": 43,
   "metadata": {
    "collapsed": false
   },
   "outputs": [],
   "source": [
    "batch_test = os.path.expanduser('~/.h2o/datasets/cifar-10-batches-py/test_batch')\n",
    "x_test, y_test = load_cifar10_image_list(batch_test)"
   ]
  },
  {
   "cell_type": "code",
   "execution_count": 74,
   "metadata": {
    "collapsed": false
   },
   "outputs": [
    {
     "name": "stdout",
     "output_type": "stream",
     "text": [
      "Checking whether there is an H2O instance running at http://localhost:54321. connected.\n"
     ]
    },
    {
     "data": {
      "text/html": [
       "<div style=\"overflow:auto\"><table style=\"width:50%\"><tr><td>H2O cluster uptime:</td>\n",
       "<td>04 secs</td></tr>\n",
       "<tr><td>H2O cluster version:</td>\n",
       "<td>3.11.0.99999</td></tr>\n",
       "<tr><td>H2O cluster version age:</td>\n",
       "<td>2 hours and 25 minutes </td></tr>\n",
       "<tr><td>H2O cluster name:</td>\n",
       "<td>arno</td></tr>\n",
       "<tr><td>H2O cluster total nodes:</td>\n",
       "<td>1</td></tr>\n",
       "<tr><td>H2O cluster free memory:</td>\n",
       "<td>13.96 Gb</td></tr>\n",
       "<tr><td>H2O cluster total cores:</td>\n",
       "<td>12</td></tr>\n",
       "<tr><td>H2O cluster allowed cores:</td>\n",
       "<td>12</td></tr>\n",
       "<tr><td>H2O cluster status:</td>\n",
       "<td>accepting new members, healthy</td></tr>\n",
       "<tr><td>H2O connection url:</td>\n",
       "<td>http://localhost:54321</td></tr>\n",
       "<tr><td>H2O connection proxy:</td>\n",
       "<td>None</td></tr>\n",
       "<tr><td>Python version:</td>\n",
       "<td>2.7.12 final</td></tr></table></div>"
      ],
      "text/plain": [
       "--------------------------  ------------------------------\n",
       "H2O cluster uptime:         04 secs\n",
       "H2O cluster version:        3.11.0.99999\n",
       "H2O cluster version age:    2 hours and 25 minutes\n",
       "H2O cluster name:           arno\n",
       "H2O cluster total nodes:    1\n",
       "H2O cluster free memory:    13.96 Gb\n",
       "H2O cluster total cores:    12\n",
       "H2O cluster allowed cores:  12\n",
       "H2O cluster status:         accepting new members, healthy\n",
       "H2O connection url:         http://localhost:54321\n",
       "H2O connection proxy:\n",
       "Python version:             2.7.12 final\n",
       "--------------------------  ------------------------------"
      ]
     },
     "metadata": {},
     "output_type": "display_data"
    }
   ],
   "source": [
    "import h2o\n",
    "h2o.init()"
   ]
  },
  {
   "cell_type": "code",
   "execution_count": 60,
   "metadata": {
    "collapsed": false
   },
   "outputs": [
    {
     "name": "stdout",
     "output_type": "stream",
     "text": [
      "Fri Oct 21 20:56:20 2016       \r\n",
      "+-----------------------------------------------------------------------------+\r\n",
      "| NVIDIA-SMI 367.44                 Driver Version: 367.44                    |\r\n",
      "|-------------------------------+----------------------+----------------------+\r\n",
      "| GPU  Name        Persistence-M| Bus-Id        Disp.A | Volatile Uncorr. ECC |\r\n",
      "| Fan  Temp  Perf  Pwr:Usage/Cap|         Memory-Usage | GPU-Util  Compute M. |\r\n",
      "|===============================+======================+======================|\r\n",
      "|   0  GeForce GTX 980 Ti  Off  | 0000:01:00.0      On |                  N/A |\r\n",
      "|  7%   62C    P0    74W / 275W |    792MiB /  6076MiB |      0%      Default |\r\n",
      "+-------------------------------+----------------------+----------------------+\r\n",
      "|   1  TITAN X (Pascal)    Off  | 0000:02:00.0     Off |                  N/A |\r\n",
      "| 23%   34C    P8     8W / 250W |      1MiB / 12189MiB |      0%      Default |\r\n",
      "+-------------------------------+----------------------+----------------------+\r\n",
      "                                                                               \r\n",
      "+-----------------------------------------------------------------------------+\r\n",
      "| Processes:                                                       GPU Memory |\r\n",
      "|  GPU       PID  Type  Process name                               Usage      |\r\n",
      "|=============================================================================|\r\n",
      "|    0       692    G   ...-gpu-active-device-id=0x1b00 --mojo-appli    36MiB |\r\n",
      "|    0      1581    G   /usr/lib/xorg/Xorg                             542MiB |\r\n",
      "|    0      2570    G   compiz                                         211MiB |\r\n",
      "+-----------------------------------------------------------------------------+\r\n"
     ]
    }
   ],
   "source": [
    "!nvidia-smi"
   ]
  },
  {
   "cell_type": "code",
   "execution_count": 75,
   "metadata": {
    "collapsed": false
   },
   "outputs": [],
   "source": [
    "train_df = {\"x0\": x_train, \"x1\": y_train }"
   ]
  },
  {
   "cell_type": "code",
   "execution_count": 76,
   "metadata": {
    "collapsed": true
   },
   "outputs": [],
   "source": [
    "test_df = {\"x0\" : x_test, \"x1\": y_test }"
   ]
  },
  {
   "cell_type": "code",
   "execution_count": 77,
   "metadata": {
    "collapsed": false
   },
   "outputs": [
    {
     "name": "stdout",
     "output_type": "stream",
     "text": [
      "Parse progress: |█████████████████████████████████████████████████████████████████████████████| 100%\n"
     ]
    }
   ],
   "source": [
    "train_hf = h2o.H2OFrame(train_df)"
   ]
  },
  {
   "cell_type": "code",
   "execution_count": 78,
   "metadata": {
    "collapsed": false
   },
   "outputs": [
    {
     "name": "stdout",
     "output_type": "stream",
     "text": [
      "Parse progress: |█████████████████████████████████████████████████████████████████████████████| 100%\n"
     ]
    }
   ],
   "source": [
    "test_hf = h2o.H2OFrame(test_df)"
   ]
  },
  {
   "cell_type": "markdown",
   "metadata": {},
   "source": [
    "Let's turn the class label into a factor"
   ]
  },
  {
   "cell_type": "code",
   "execution_count": 79,
   "metadata": {
    "collapsed": false
   },
   "outputs": [],
   "source": [
    "train_hf['x1'] = train_hf['x1'].asfactor()\n",
    "test_hf['x1'] = test_hf['x1'].asfactor()"
   ]
  },
  {
   "cell_type": "code",
   "execution_count": 80,
   "metadata": {
    "collapsed": false,
    "scrolled": true
   },
   "outputs": [
    {
     "data": {
      "text/html": [
       "<table>\n",
       "<tr><th>x0                                                                                   </th><th style=\"text-align: right;\">  x1</th></tr>\n",
       "<tr><td>/home/arno/.h2o/datasets/cifar-10-batches-py/leptodactylus_pentadactylus_s_000004.png</td><td style=\"text-align: right;\">   6</td></tr>\n",
       "<tr><td>/home/arno/.h2o/datasets/cifar-10-batches-py/camion_s_000148.png                     </td><td style=\"text-align: right;\">   9</td></tr>\n",
       "<tr><td>/home/arno/.h2o/datasets/cifar-10-batches-py/tipper_truck_s_001250.png               </td><td style=\"text-align: right;\">   9</td></tr>\n",
       "<tr><td>/home/arno/.h2o/datasets/cifar-10-batches-py/american_elk_s_001521.png               </td><td style=\"text-align: right;\">   4</td></tr>\n",
       "<tr><td>/home/arno/.h2o/datasets/cifar-10-batches-py/station_wagon_s_000293.png              </td><td style=\"text-align: right;\">   1</td></tr>\n",
       "<tr><td>/home/arno/.h2o/datasets/cifar-10-batches-py/coupe_s_001735.png                      </td><td style=\"text-align: right;\">   1</td></tr>\n",
       "<tr><td>/home/arno/.h2o/datasets/cifar-10-batches-py/cassowary_s_001300.png                  </td><td style=\"text-align: right;\">   2</td></tr>\n",
       "<tr><td>/home/arno/.h2o/datasets/cifar-10-batches-py/cow_pony_s_001168.png                   </td><td style=\"text-align: right;\">   7</td></tr>\n",
       "<tr><td>/home/arno/.h2o/datasets/cifar-10-batches-py/sea_boat_s_001584.png                   </td><td style=\"text-align: right;\">   8</td></tr>\n",
       "<tr><td>/home/arno/.h2o/datasets/cifar-10-batches-py/tabby_s_001355.png                      </td><td style=\"text-align: right;\">   3</td></tr>\n",
       "</table>"
      ]
     },
     "metadata": {},
     "output_type": "display_data"
    },
    {
     "data": {
      "text/plain": []
     },
     "execution_count": 80,
     "metadata": {},
     "output_type": "execute_result"
    }
   ],
   "source": [
    "train_hf.head(10)"
   ]
  },
  {
   "cell_type": "code",
   "execution_count": 81,
   "metadata": {
    "collapsed": true
   },
   "outputs": [],
   "source": [
    "from h2o.estimators.deepwater import H2ODeepWaterEstimator"
   ]
  },
  {
   "cell_type": "code",
   "execution_count": 82,
   "metadata": {
    "collapsed": false
   },
   "outputs": [],
   "source": [
    "deepwater_model = H2ODeepWaterEstimator(\n",
    "    epochs=10,                            ## \n",
    "    nfolds=3,                             ## 3-fold cross-validation\n",
    "    learning_rate=2e-3,\n",
    "    mini_batch_size=64,\n",
    "#    problem_type='image',                ## autodetected by default\n",
    "    network='vgg',\n",
    "#    network_definition_file=\"mycnn.json\" ## provide your own mxnet .json model\n",
    "    image_shape=[32,32], \n",
    "    channels=3,\n",
    "    gpu=True\n",
    ")"
   ]
  },
  {
   "cell_type": "code",
   "execution_count": 83,
   "metadata": {
    "collapsed": false,
    "scrolled": true
   },
   "outputs": [
    {
     "name": "stdout",
     "output_type": "stream",
     "text": [
      "deepwater Model Build progress: |█████████████████████████████████████████████████████████████| 100%\n"
     ]
    }
   ],
   "source": [
    "deepwater_model.train(x=['x0'], y='x1', training_frame=train_hf)"
   ]
  },
  {
   "cell_type": "markdown",
   "metadata": {},
   "source": [
    "Anytime, especially during training, you can inspect the model in Flow (http://localhost:54321)\n",
    "\n",
    "![Flow model inspection while the model is training](images/flow-models.png)\n",
    "\n",
    "Here's the first (of three) cross-validation models:\n",
    "![Flow model inspection while the model is training](images/cifar10-flow.png)"
   ]
  },
  {
   "cell_type": "code",
   "execution_count": 87,
   "metadata": {
    "collapsed": false
   },
   "outputs": [
    {
     "name": "stdout",
     "output_type": "stream",
     "text": [
      "training error: 0.16713273474\n"
     ]
    }
   ],
   "source": [
    "train_error = deepwater_model.model_performance(train=True).mean_per_class_error()\n",
    "print \"training error:\", train_error"
   ]
  },
  {
   "cell_type": "code",
   "execution_count": 88,
   "metadata": {
    "collapsed": false
   },
   "outputs": [
    {
     "name": "stdout",
     "output_type": "stream",
     "text": [
      "cross-validated error: 0.3618\n"
     ]
    }
   ],
   "source": [
    "xval_error = deepwater_model.model_performance(xval=True).mean_per_class_error()\n",
    "print \"cross-validated error:\", xval_error"
   ]
  },
  {
   "cell_type": "code",
   "execution_count": 207,
   "metadata": {
    "collapsed": false
   },
   "outputs": [
    {
     "name": "stdout",
     "output_type": "stream",
     "text": [
      "Model Details\n",
      "=============\n",
      "H2ODeepWaterEstimator :  Deep Water\n",
      "Model Key:  DeepWater_model_python_1477112436466_1\n",
      "Status of Deep Learning Model: vgg, 107.4 MB, predicting x1, 10-class classification, 501,760 training samples, mini-batch size 64\n",
      "\n"
     ]
    },
    {
     "data": {
      "text/html": [
       "<div style=\"overflow:auto\"><table style=\"width:50%\"><tr><td><b></b></td>\n",
       "<td><b>input_neurons</b></td>\n",
       "<td><b>rate</b></td>\n",
       "<td><b>momentum</b></td></tr>\n",
       "<tr><td></td>\n",
       "<td>3072</td>\n",
       "<td>0.0013318</td>\n",
       "<td>0.99</td></tr></table></div>"
      ],
      "text/plain": [
       "    input_neurons    rate        momentum\n",
       "--  ---------------  ----------  ----------\n",
       "    3072             0.00133177  0.99"
      ]
     },
     "metadata": {},
     "output_type": "display_data"
    },
    {
     "name": "stdout",
     "output_type": "stream",
     "text": [
      "\n",
      "\n",
      "ModelMetricsMultinomial: deepwater\n",
      "** Reported on train data. **\n",
      "\n",
      "MSE: 0.148682043417\n",
      "RMSE: 0.385593106029\n",
      "LogLoss: 0.495613927236\n",
      "Mean Per-Class Error: 0.16713273474\n",
      "Confusion Matrix: vertical: actual; across: predicted\n",
      "\n"
     ]
    },
    {
     "data": {
      "text/html": [
       "<div style=\"overflow:auto\"><table style=\"width:50%\"><tr><td><b>0</b></td>\n",
       "<td><b>1</b></td>\n",
       "<td><b>2</b></td>\n",
       "<td><b>3</b></td>\n",
       "<td><b>4</b></td>\n",
       "<td><b>5</b></td>\n",
       "<td><b>6</b></td>\n",
       "<td><b>7</b></td>\n",
       "<td><b>8</b></td>\n",
       "<td><b>9</b></td>\n",
       "<td><b>Error</b></td>\n",
       "<td><b>Rate</b></td></tr>\n",
       "<tr><td>748.0</td>\n",
       "<td>20.0</td>\n",
       "<td>29.0</td>\n",
       "<td>16.0</td>\n",
       "<td>12.0</td>\n",
       "<td>4.0</td>\n",
       "<td>6.0</td>\n",
       "<td>2.0</td>\n",
       "<td>95.0</td>\n",
       "<td>43.0</td>\n",
       "<td>0.2328205</td>\n",
       "<td>227 / 975</td></tr>\n",
       "<tr><td>2.0</td>\n",
       "<td>932.0</td>\n",
       "<td>0.0</td>\n",
       "<td>4.0</td>\n",
       "<td>0.0</td>\n",
       "<td>0.0</td>\n",
       "<td>4.0</td>\n",
       "<td>0.0</td>\n",
       "<td>33.0</td>\n",
       "<td>38.0</td>\n",
       "<td>0.0799605</td>\n",
       "<td>81 / 1,013</td></tr>\n",
       "<tr><td>26.0</td>\n",
       "<td>6.0</td>\n",
       "<td>726.0</td>\n",
       "<td>53.0</td>\n",
       "<td>64.0</td>\n",
       "<td>25.0</td>\n",
       "<td>73.0</td>\n",
       "<td>9.0</td>\n",
       "<td>17.0</td>\n",
       "<td>8.0</td>\n",
       "<td>0.2790467</td>\n",
       "<td>281 / 1,007</td></tr>\n",
       "<tr><td>11.0</td>\n",
       "<td>5.0</td>\n",
       "<td>15.0</td>\n",
       "<td>739.0</td>\n",
       "<td>25.0</td>\n",
       "<td>95.0</td>\n",
       "<td>76.0</td>\n",
       "<td>4.0</td>\n",
       "<td>11.0</td>\n",
       "<td>13.0</td>\n",
       "<td>0.2565392</td>\n",
       "<td>255 / 994</td></tr>\n",
       "<tr><td>10.0</td>\n",
       "<td>1.0</td>\n",
       "<td>27.0</td>\n",
       "<td>36.0</td>\n",
       "<td>824.0</td>\n",
       "<td>22.0</td>\n",
       "<td>55.0</td>\n",
       "<td>17.0</td>\n",
       "<td>7.0</td>\n",
       "<td>9.0</td>\n",
       "<td>0.1825397</td>\n",
       "<td>184 / 1,008</td></tr>\n",
       "<tr><td>1.0</td>\n",
       "<td>3.0</td>\n",
       "<td>10.0</td>\n",
       "<td>167.0</td>\n",
       "<td>37.0</td>\n",
       "<td>749.0</td>\n",
       "<td>26.0</td>\n",
       "<td>8.0</td>\n",
       "<td>7.0</td>\n",
       "<td>4.0</td>\n",
       "<td>0.2598814</td>\n",
       "<td>263 / 1,012</td></tr>\n",
       "<tr><td>1.0</td>\n",
       "<td>5.0</td>\n",
       "<td>11.0</td>\n",
       "<td>23.0</td>\n",
       "<td>10.0</td>\n",
       "<td>4.0</td>\n",
       "<td>946.0</td>\n",
       "<td>1.0</td>\n",
       "<td>1.0</td>\n",
       "<td>0.0</td>\n",
       "<td>0.0558882</td>\n",
       "<td>56 / 1,002</td></tr>\n",
       "<tr><td>11.0</td>\n",
       "<td>2.0</td>\n",
       "<td>14.0</td>\n",
       "<td>45.0</td>\n",
       "<td>53.0</td>\n",
       "<td>55.0</td>\n",
       "<td>6.0</td>\n",
       "<td>802.0</td>\n",
       "<td>4.0</td>\n",
       "<td>26.0</td>\n",
       "<td>0.2121807</td>\n",
       "<td>216 / 1,018</td></tr>\n",
       "<tr><td>7.0</td>\n",
       "<td>11.0</td>\n",
       "<td>0.0</td>\n",
       "<td>4.0</td>\n",
       "<td>1.0</td>\n",
       "<td>0.0</td>\n",
       "<td>1.0</td>\n",
       "<td>0.0</td>\n",
       "<td>941.0</td>\n",
       "<td>15.0</td>\n",
       "<td>0.0397959</td>\n",
       "<td>39 / 980</td></tr>\n",
       "<tr><td>4.0</td>\n",
       "<td>46.0</td>\n",
       "<td>1.0</td>\n",
       "<td>8.0</td>\n",
       "<td>0.0</td>\n",
       "<td>2.0</td>\n",
       "<td>1.0</td>\n",
       "<td>0.0</td>\n",
       "<td>13.0</td>\n",
       "<td>957.0</td>\n",
       "<td>0.0726744</td>\n",
       "<td>75 / 1,032</td></tr>\n",
       "<tr><td>821.0</td>\n",
       "<td>1031.0</td>\n",
       "<td>833.0</td>\n",
       "<td>1095.0</td>\n",
       "<td>1026.0</td>\n",
       "<td>956.0</td>\n",
       "<td>1194.0</td>\n",
       "<td>843.0</td>\n",
       "<td>1129.0</td>\n",
       "<td>1113.0</td>\n",
       "<td>0.1670152</td>\n",
       "<td>1,677 / 10,041</td></tr></table></div>"
      ],
      "text/plain": [
       "0    1     2    3     4     5    6     7    8     9     Error      Rate\n",
       "---  ----  ---  ----  ----  ---  ----  ---  ----  ----  ---------  --------------\n",
       "748  20    29   16    12    4    6     2    95    43    0.232821   227 / 975\n",
       "2    932   0    4     0     0    4     0    33    38    0.0799605  81 / 1,013\n",
       "26   6     726  53    64    25   73    9    17    8     0.279047   281 / 1,007\n",
       "11   5     15   739   25    95   76    4    11    13    0.256539   255 / 994\n",
       "10   1     27   36    824   22   55    17   7     9     0.18254    184 / 1,008\n",
       "1    3     10   167   37    749  26    8    7     4     0.259881   263 / 1,012\n",
       "1    5     11   23    10    4    946   1    1     0     0.0558882  56 / 1,002\n",
       "11   2     14   45    53    55   6     802  4     26    0.212181   216 / 1,018\n",
       "7    11    0    4     1     0    1     0    941   15    0.0397959  39 / 980\n",
       "4    46    1    8     0     2    1     0    13    957   0.0726744  75 / 1,032\n",
       "821  1031  833  1095  1026  956  1194  843  1129  1113  0.167015   1,677 / 10,041"
      ]
     },
     "metadata": {},
     "output_type": "display_data"
    },
    {
     "name": "stdout",
     "output_type": "stream",
     "text": [
      "Top-10 Hit Ratios: \n"
     ]
    },
    {
     "data": {
      "text/html": [
       "<div style=\"overflow:auto\"><table style=\"width:50%\"><tr><td><b>k</b></td>\n",
       "<td><b>hit_ratio</b></td></tr>\n",
       "<tr><td>1</td>\n",
       "<td>0.8329848</td></tr>\n",
       "<tr><td>2</td>\n",
       "<td>0.9298874</td></tr>\n",
       "<tr><td>3</td>\n",
       "<td>0.9638482</td></tr>\n",
       "<tr><td>4</td>\n",
       "<td>0.9804800</td></tr>\n",
       "<tr><td>5</td>\n",
       "<td>0.9900408</td></tr>\n",
       "<tr><td>6</td>\n",
       "<td>0.9953191</td></tr>\n",
       "<tr><td>7</td>\n",
       "<td>0.9971118</td></tr>\n",
       "<tr><td>8</td>\n",
       "<td>0.9985061</td></tr>\n",
       "<tr><td>9</td>\n",
       "<td>0.9996016</td></tr>\n",
       "<tr><td>10</td>\n",
       "<td>0.9999999</td></tr></table></div>"
      ],
      "text/plain": [
       "k    hit_ratio\n",
       "---  -----------\n",
       "1    0.832985\n",
       "2    0.929887\n",
       "3    0.963848\n",
       "4    0.98048\n",
       "5    0.990041\n",
       "6    0.995319\n",
       "7    0.997112\n",
       "8    0.998506\n",
       "9    0.999602\n",
       "10   1"
      ]
     },
     "metadata": {},
     "output_type": "display_data"
    },
    {
     "name": "stdout",
     "output_type": "stream",
     "text": [
      "\n",
      "ModelMetricsMultinomial: deepwater\n",
      "** Reported on cross-validation data. **\n",
      "\n",
      "MSE: 0.326416394664\n",
      "RMSE: 0.571328622304\n",
      "LogLoss: 1.09564677029\n",
      "Mean Per-Class Error: 0.3618\n",
      "Confusion Matrix: vertical: actual; across: predicted\n",
      "\n"
     ]
    },
    {
     "data": {
      "text/html": [
       "<div style=\"overflow:auto\"><table style=\"width:50%\"><tr><td><b>0</b></td>\n",
       "<td><b>1</b></td>\n",
       "<td><b>2</b></td>\n",
       "<td><b>3</b></td>\n",
       "<td><b>4</b></td>\n",
       "<td><b>5</b></td>\n",
       "<td><b>6</b></td>\n",
       "<td><b>7</b></td>\n",
       "<td><b>8</b></td>\n",
       "<td><b>9</b></td>\n",
       "<td><b>Error</b></td>\n",
       "<td><b>Rate</b></td></tr>\n",
       "<tr><td>3144.0</td>\n",
       "<td>196.0</td>\n",
       "<td>379.0</td>\n",
       "<td>136.0</td>\n",
       "<td>221.0</td>\n",
       "<td>45.0</td>\n",
       "<td>35.0</td>\n",
       "<td>119.0</td>\n",
       "<td>422.0</td>\n",
       "<td>303.0</td>\n",
       "<td>0.3712</td>\n",
       "<td>1,856 / 5,000</td></tr>\n",
       "<tr><td>82.0</td>\n",
       "<td>3867.0</td>\n",
       "<td>24.0</td>\n",
       "<td>48.0</td>\n",
       "<td>26.0</td>\n",
       "<td>30.0</td>\n",
       "<td>67.0</td>\n",
       "<td>39.0</td>\n",
       "<td>95.0</td>\n",
       "<td>722.0</td>\n",
       "<td>0.2266</td>\n",
       "<td>1,133 / 5,000</td></tr>\n",
       "<tr><td>273.0</td>\n",
       "<td>28.0</td>\n",
       "<td>2535.0</td>\n",
       "<td>464.0</td>\n",
       "<td>716.0</td>\n",
       "<td>373.0</td>\n",
       "<td>284.0</td>\n",
       "<td>180.0</td>\n",
       "<td>70.0</td>\n",
       "<td>77.0</td>\n",
       "<td>0.493</td>\n",
       "<td>2,465 / 5,000</td></tr>\n",
       "<tr><td>64.0</td>\n",
       "<td>50.0</td>\n",
       "<td>313.0</td>\n",
       "<td>2424.0</td>\n",
       "<td>416.0</td>\n",
       "<td>847.0</td>\n",
       "<td>446.0</td>\n",
       "<td>225.0</td>\n",
       "<td>77.0</td>\n",
       "<td>138.0</td>\n",
       "<td>0.5152</td>\n",
       "<td>2,576 / 5,000</td></tr>\n",
       "<tr><td>112.0</td>\n",
       "<td>23.0</td>\n",
       "<td>399.0</td>\n",
       "<td>365.0</td>\n",
       "<td>3154.0</td>\n",
       "<td>191.0</td>\n",
       "<td>277.0</td>\n",
       "<td>386.0</td>\n",
       "<td>43.0</td>\n",
       "<td>50.0</td>\n",
       "<td>0.3692</td>\n",
       "<td>1,846 / 5,000</td></tr>\n",
       "<tr><td>28.0</td>\n",
       "<td>26.0</td>\n",
       "<td>282.0</td>\n",
       "<td>1190.0</td>\n",
       "<td>379.0</td>\n",
       "<td>2466.0</td>\n",
       "<td>176.0</td>\n",
       "<td>343.0</td>\n",
       "<td>23.0</td>\n",
       "<td>87.0</td>\n",
       "<td>0.5068</td>\n",
       "<td>2,534 / 5,000</td></tr>\n",
       "<tr><td>32.0</td>\n",
       "<td>63.0</td>\n",
       "<td>228.0</td>\n",
       "<td>456.0</td>\n",
       "<td>465.0</td>\n",
       "<td>130.0</td>\n",
       "<td>3458.0</td>\n",
       "<td>48.0</td>\n",
       "<td>42.0</td>\n",
       "<td>78.0</td>\n",
       "<td>0.3084</td>\n",
       "<td>1,542 / 5,000</td></tr>\n",
       "<tr><td>49.0</td>\n",
       "<td>26.0</td>\n",
       "<td>164.0</td>\n",
       "<td>271.0</td>\n",
       "<td>648.0</td>\n",
       "<td>315.0</td>\n",
       "<td>58.0</td>\n",
       "<td>3340.0</td>\n",
       "<td>19.0</td>\n",
       "<td>110.0</td>\n",
       "<td>0.332</td>\n",
       "<td>1,660 / 5,000</td></tr>\n",
       "<tr><td>416.0</td>\n",
       "<td>245.0</td>\n",
       "<td>74.0</td>\n",
       "<td>125.0</td>\n",
       "<td>71.0</td>\n",
       "<td>43.0</td>\n",
       "<td>44.0</td>\n",
       "<td>36.0</td>\n",
       "<td>3705.0</td>\n",
       "<td>241.0</td>\n",
       "<td>0.259</td>\n",
       "<td>1,295 / 5,000</td></tr>\n",
       "<tr><td>149.0</td>\n",
       "<td>457.0</td>\n",
       "<td>36.0</td>\n",
       "<td>123.0</td>\n",
       "<td>39.0</td>\n",
       "<td>57.0</td>\n",
       "<td>84.0</td>\n",
       "<td>122.0</td>\n",
       "<td>116.0</td>\n",
       "<td>3817.0</td>\n",
       "<td>0.2366</td>\n",
       "<td>1,183 / 5,000</td></tr>\n",
       "<tr><td>4349.0</td>\n",
       "<td>4981.0</td>\n",
       "<td>4434.0</td>\n",
       "<td>5602.0</td>\n",
       "<td>6135.0</td>\n",
       "<td>4497.0</td>\n",
       "<td>4929.0</td>\n",
       "<td>4838.0</td>\n",
       "<td>4612.0</td>\n",
       "<td>5623.0</td>\n",
       "<td>0.3618</td>\n",
       "<td>18,090 / 50,000</td></tr></table></div>"
      ],
      "text/plain": [
       "0     1     2     3     4     5     6     7     8     9     Error    Rate\n",
       "----  ----  ----  ----  ----  ----  ----  ----  ----  ----  -------  ---------------\n",
       "3144  196   379   136   221   45    35    119   422   303   0.3712   1,856 / 5,000\n",
       "82    3867  24    48    26    30    67    39    95    722   0.2266   1,133 / 5,000\n",
       "273   28    2535  464   716   373   284   180   70    77    0.493    2,465 / 5,000\n",
       "64    50    313   2424  416   847   446   225   77    138   0.5152   2,576 / 5,000\n",
       "112   23    399   365   3154  191   277   386   43    50    0.3692   1,846 / 5,000\n",
       "28    26    282   1190  379   2466  176   343   23    87    0.5068   2,534 / 5,000\n",
       "32    63    228   456   465   130   3458  48    42    78    0.3084   1,542 / 5,000\n",
       "49    26    164   271   648   315   58    3340  19    110   0.332    1,660 / 5,000\n",
       "416   245   74    125   71    43    44    36    3705  241   0.259    1,295 / 5,000\n",
       "149   457   36    123   39    57    84    122   116   3817  0.2366   1,183 / 5,000\n",
       "4349  4981  4434  5602  6135  4497  4929  4838  4612  5623  0.3618   18,090 / 50,000"
      ]
     },
     "metadata": {},
     "output_type": "display_data"
    },
    {
     "name": "stdout",
     "output_type": "stream",
     "text": [
      "Top-10 Hit Ratios: \n"
     ]
    },
    {
     "data": {
      "text/html": [
       "<div style=\"overflow:auto\"><table style=\"width:50%\"><tr><td><b>k</b></td>\n",
       "<td><b>hit_ratio</b></td></tr>\n",
       "<tr><td>1</td>\n",
       "<td>0.6382</td></tr>\n",
       "<tr><td>2</td>\n",
       "<td>0.8062400</td></tr>\n",
       "<tr><td>3</td>\n",
       "<td>0.8841000</td></tr>\n",
       "<tr><td>4</td>\n",
       "<td>0.9291999</td></tr>\n",
       "<tr><td>5</td>\n",
       "<td>0.9570000</td></tr>\n",
       "<tr><td>6</td>\n",
       "<td>0.9757199</td></tr>\n",
       "<tr><td>7</td>\n",
       "<td>0.9861399</td></tr>\n",
       "<tr><td>8</td>\n",
       "<td>0.9930800</td></tr>\n",
       "<tr><td>9</td>\n",
       "<td>0.9977</td></tr>\n",
       "<tr><td>10</td>\n",
       "<td>1.0</td></tr></table></div>"
      ],
      "text/plain": [
       "k    hit_ratio\n",
       "---  -----------\n",
       "1    0.6382\n",
       "2    0.80624\n",
       "3    0.8841\n",
       "4    0.9292\n",
       "5    0.957\n",
       "6    0.97572\n",
       "7    0.98614\n",
       "8    0.99308\n",
       "9    0.9977\n",
       "10   1"
      ]
     },
     "metadata": {},
     "output_type": "display_data"
    },
    {
     "name": "stdout",
     "output_type": "stream",
     "text": [
      "Cross-Validation Metrics Summary: \n"
     ]
    },
    {
     "data": {
      "text/html": [
       "<div style=\"overflow:auto\"><table style=\"width:50%\"><tr><td><b></b></td>\n",
       "<td><b>mean</b></td>\n",
       "<td><b>sd</b></td>\n",
       "<td><b>cv_1_valid</b></td>\n",
       "<td><b>cv_2_valid</b></td>\n",
       "<td><b>cv_3_valid</b></td></tr>\n",
       "<tr><td>accuracy</td>\n",
       "<td>0.6381821</td>\n",
       "<td>0.0084014</td>\n",
       "<td>0.6390590</td>\n",
       "<td>0.6522754</td>\n",
       "<td>0.6232119</td></tr>\n",
       "<tr><td>err</td>\n",
       "<td>0.3618179</td>\n",
       "<td>0.0084014</td>\n",
       "<td>0.3609410</td>\n",
       "<td>0.3477246</td>\n",
       "<td>0.3767881</td></tr>\n",
       "<tr><td>err_count</td>\n",
       "<td>6030.0</td>\n",
       "<td>133.60764</td>\n",
       "<td>6014.0</td>\n",
       "<td>5807.0</td>\n",
       "<td>6269.0</td></tr>\n",
       "<tr><td>logloss</td>\n",
       "<td>1.0956918</td>\n",
       "<td>0.0245605</td>\n",
       "<td>1.0750551</td>\n",
       "<td>1.0674063</td>\n",
       "<td>1.1446139</td></tr>\n",
       "<tr><td>max_per_class_error</td>\n",
       "<td>0.5722457</td>\n",
       "<td>0.0289557</td>\n",
       "<td>0.6119311</td>\n",
       "<td>0.5889282</td>\n",
       "<td>0.5158778</td></tr>\n",
       "<tr><td>mean_per_class_accuracy</td>\n",
       "<td>0.6381296</td>\n",
       "<td>0.0083342</td>\n",
       "<td>0.638721</td>\n",
       "<td>0.6522601</td>\n",
       "<td>0.6234079</td></tr>\n",
       "<tr><td>mean_per_class_error</td>\n",
       "<td>0.3618704</td>\n",
       "<td>0.0083342</td>\n",
       "<td>0.3612790</td>\n",
       "<td>0.3477399</td>\n",
       "<td>0.3765921</td></tr>\n",
       "<tr><td>mse</td>\n",
       "<td>0.3264312</td>\n",
       "<td>0.0068155</td>\n",
       "<td>0.3282196</td>\n",
       "<td>0.3138343</td>\n",
       "<td>0.3372396</td></tr>\n",
       "<tr><td>r2</td>\n",
       "<td>0.9604204</td>\n",
       "<td>0.0009680</td>\n",
       "<td>0.9604133</td>\n",
       "<td>0.9621007</td>\n",
       "<td>0.9587473</td></tr>\n",
       "<tr><td>rmse</td>\n",
       "<td>0.571279</td>\n",
       "<td>0.0059775</td>\n",
       "<td>0.5729045</td>\n",
       "<td>0.5602092</td>\n",
       "<td>0.5807233</td></tr></table></div>"
      ],
      "text/plain": [
       "                         mean      sd           cv_1_valid    cv_2_valid    cv_3_valid\n",
       "-----------------------  --------  -----------  ------------  ------------  ------------\n",
       "accuracy                 0.638182  0.00840136   0.639059      0.652275      0.623212\n",
       "err                      0.361818  0.00840136   0.360941      0.347725      0.376788\n",
       "err_count                6030      133.608      6014          5807          6269\n",
       "logloss                  1.09569   0.0245605    1.07506       1.06741       1.14461\n",
       "max_per_class_error      0.572246  0.0289557    0.611931      0.588928      0.515878\n",
       "mean_per_class_accuracy  0.63813   0.00833415   0.638721      0.65226       0.623408\n",
       "mean_per_class_error     0.36187   0.00833415   0.361279      0.34774       0.376592\n",
       "mse                      0.326431  0.00681546   0.32822       0.313834      0.33724\n",
       "r2                       0.96042   0.000968027  0.960413      0.962101      0.958747\n",
       "rmse                     0.571279  0.00597746   0.572905      0.560209      0.580723"
      ]
     },
     "metadata": {},
     "output_type": "display_data"
    },
    {
     "name": "stdout",
     "output_type": "stream",
     "text": [
      "Scoring History: \n"
     ]
    },
    {
     "data": {
      "text/html": [
       "<div style=\"overflow:auto\"><table style=\"width:50%\"><tr><td><b></b></td>\n",
       "<td><b>timestamp</b></td>\n",
       "<td><b>duration</b></td>\n",
       "<td><b>training_speed</b></td>\n",
       "<td><b>epochs</b></td>\n",
       "<td><b>iterations</b></td>\n",
       "<td><b>samples</b></td>\n",
       "<td><b>training_rmse</b></td>\n",
       "<td><b>training_logloss</b></td>\n",
       "<td><b>training_classification_error</b></td></tr>\n",
       "<tr><td></td>\n",
       "<td>2016-10-21 22:12:49</td>\n",
       "<td> 0.000 sec</td>\n",
       "<td>None</td>\n",
       "<td>0.0</td>\n",
       "<td>0</td>\n",
       "<td>0.0</td>\n",
       "<td>nan</td>\n",
       "<td>nan</td>\n",
       "<td>nan</td></tr>\n",
       "<tr><td></td>\n",
       "<td>2016-10-21 22:12:51</td>\n",
       "<td>11 min 58.395 sec</td>\n",
       "<td>1570 obs/sec</td>\n",
       "<td>0.04096</td>\n",
       "<td>1</td>\n",
       "<td>2048.0</td>\n",
       "<td>0.8975975</td>\n",
       "<td>2.2887062</td>\n",
       "<td>0.8667463</td></tr>\n",
       "<tr><td></td>\n",
       "<td>2016-10-21 22:13:03</td>\n",
       "<td>12 min 10.833 sec</td>\n",
       "<td>1614 obs/sec</td>\n",
       "<td>0.4096</td>\n",
       "<td>10</td>\n",
       "<td>20480.0</td>\n",
       "<td>0.7795356</td>\n",
       "<td>1.7733845</td>\n",
       "<td>0.6586993</td></tr>\n",
       "<tr><td></td>\n",
       "<td>2016-10-21 22:13:14</td>\n",
       "<td>12 min 22.031 sec</td>\n",
       "<td>1611 obs/sec</td>\n",
       "<td>0.73728</td>\n",
       "<td>18</td>\n",
       "<td>36864.0</td>\n",
       "<td>0.7672514</td>\n",
       "<td>1.6657508</td>\n",
       "<td>0.6262324</td></tr>\n",
       "<tr><td></td>\n",
       "<td>2016-10-21 22:13:25</td>\n",
       "<td>12 min 33.166 sec</td>\n",
       "<td>1613 obs/sec</td>\n",
       "<td>1.06496</td>\n",
       "<td>26</td>\n",
       "<td>53248.0</td>\n",
       "<td>0.7263532</td>\n",
       "<td>1.5442534</td>\n",
       "<td>0.5658799</td></tr>\n",
       "<tr><td>---</td>\n",
       "<td>---</td>\n",
       "<td>---</td>\n",
       "<td>---</td>\n",
       "<td>---</td>\n",
       "<td>---</td>\n",
       "<td>---</td>\n",
       "<td>---</td>\n",
       "<td>---</td>\n",
       "<td>---</td></tr>\n",
       "<tr><td></td>\n",
       "<td>2016-10-21 22:17:51</td>\n",
       "<td>16 min 58.599 sec</td>\n",
       "<td>1602 obs/sec</td>\n",
       "<td>8.76544</td>\n",
       "<td>214</td>\n",
       "<td>438272.0</td>\n",
       "<td>0.4281380</td>\n",
       "<td>0.5874773</td>\n",
       "<td>0.2013744</td></tr>\n",
       "<tr><td></td>\n",
       "<td>2016-10-21 22:18:02</td>\n",
       "<td>17 min  9.884 sec</td>\n",
       "<td>1603 obs/sec</td>\n",
       "<td>9.09312</td>\n",
       "<td>222</td>\n",
       "<td>454656.0</td>\n",
       "<td>0.4043493</td>\n",
       "<td>0.5208031</td>\n",
       "<td>0.1792650</td></tr>\n",
       "<tr><td></td>\n",
       "<td>2016-10-21 22:18:13</td>\n",
       "<td>17 min 21.089 sec</td>\n",
       "<td>1603 obs/sec</td>\n",
       "<td>9.4208</td>\n",
       "<td>230</td>\n",
       "<td>471040.0</td>\n",
       "<td>0.3958350</td>\n",
       "<td>0.5047525</td>\n",
       "<td>0.1763769</td></tr>\n",
       "<tr><td></td>\n",
       "<td>2016-10-21 22:18:23</td>\n",
       "<td>17 min 31.071 sec</td>\n",
       "<td>1603 obs/sec</td>\n",
       "<td>9.70752</td>\n",
       "<td>237</td>\n",
       "<td>485376.0</td>\n",
       "<td>0.4061967</td>\n",
       "<td>0.5316024</td>\n",
       "<td>0.1815556</td></tr>\n",
       "<tr><td></td>\n",
       "<td>2016-10-21 22:18:35</td>\n",
       "<td>17 min 42.397 sec</td>\n",
       "<td>1602 obs/sec</td>\n",
       "<td>10.0352</td>\n",
       "<td>245</td>\n",
       "<td>501760.0</td>\n",
       "<td>0.3855931</td>\n",
       "<td>0.4956139</td>\n",
       "<td>0.1670152</td></tr></table></div>"
      ],
      "text/plain": [
       "     timestamp            duration           training_speed    epochs    iterations    samples    training_rmse    training_logloss    training_classification_error\n",
       "---  -------------------  -----------------  ----------------  --------  ------------  ---------  ---------------  ------------------  -------------------------------\n",
       "     2016-10-21 22:12:49  0.000 sec                            0.0       0             0.0        nan              nan                 nan\n",
       "     2016-10-21 22:12:51  11 min 58.395 sec  1570 obs/sec      0.04096   1             2048.0     0.897597488277   2.28870621872       0.866746340006\n",
       "     2016-10-21 22:13:03  12 min 10.833 sec  1614 obs/sec      0.4096    10            20480.0    0.779535578742   1.77338451478       0.658699332736\n",
       "     2016-10-21 22:13:14  12 min 22.031 sec  1611 obs/sec      0.73728   18            36864.0    0.767251372555   1.6657507864        0.626232446967\n",
       "     2016-10-21 22:13:25  12 min 33.166 sec  1613 obs/sec      1.06496   26            53248.0    0.726353156118   1.54425342968       0.565879892441\n",
       "---  ---                  ---                ---               ---       ---           ---        ---              ---                 ---\n",
       "     2016-10-21 22:17:51  16 min 58.599 sec  1602 obs/sec      8.76544   214           438272.0   0.428138001841   0.587477274356      0.201374365103\n",
       "     2016-10-21 22:18:02  17 min  9.884 sec  1603 obs/sec      9.09312   222           454656.0   0.404349271993   0.520803121082      0.179265013445\n",
       "     2016-10-21 22:18:13  17 min 21.089 sec  1603 obs/sec      9.4208    230           471040.0   0.39583503793    0.504752473458      0.176376854895\n",
       "     2016-10-21 22:18:23  17 min 31.071 sec  1603 obs/sec      9.70752   237           485376.0   0.406196650909   0.531602392717      0.18155562195\n",
       "     2016-10-21 22:18:35  17 min 42.397 sec  1602 obs/sec      10.0352   245           501760.0   0.385593106029   0.495613927236      0.167015237526"
      ]
     },
     "metadata": {},
     "output_type": "display_data"
    },
    {
     "name": "stdout",
     "output_type": "stream",
     "text": [
      "\n",
      "See the whole table with table.as_data_frame()\n"
     ]
    },
    {
     "data": {
      "text/plain": []
     },
     "execution_count": 207,
     "metadata": {},
     "output_type": "execute_result"
    }
   ],
   "source": [
    "deepwater_model"
   ]
  },
  {
   "cell_type": "markdown",
   "metadata": {},
   "source": [
    "## Predict "
   ]
  },
  {
   "cell_type": "code",
   "execution_count": 173,
   "metadata": {
    "collapsed": false
   },
   "outputs": [],
   "source": [
    "random_test_image_hf = test_hf[int(np.random.random()*len(test_df)),:]['x0']"
   ]
  },
  {
   "cell_type": "code",
   "execution_count": 174,
   "metadata": {
    "collapsed": false,
    "scrolled": false
   },
   "outputs": [
    {
     "data": {
      "text/html": [
       "<table>\n",
       "<tr><th>x0                                                                    </th></tr>\n",
       "<tr><td>/home/arno/.h2o/datasets/cifar-10-batches-py/domestic_cat_s_000907.png</td></tr>\n",
       "</table>"
      ]
     },
     "metadata": {},
     "output_type": "display_data"
    },
    {
     "data": {
      "text/plain": []
     },
     "execution_count": 174,
     "metadata": {},
     "output_type": "execute_result"
    }
   ],
   "source": [
    "random_test_image_hf"
   ]
  },
  {
   "cell_type": "code",
   "execution_count": 175,
   "metadata": {
    "collapsed": false
   },
   "outputs": [
    {
     "data": {
      "text/plain": [
       "'/home/arno/.h2o/datasets/cifar-10-batches-py/domestic_cat_s_000907.png'"
      ]
     },
     "execution_count": 175,
     "metadata": {},
     "output_type": "execute_result"
    }
   ],
   "source": [
    "filename = random_test_image_hf.as_data_frame(use_pandas=False)[1][0]\n",
    "filename"
   ]
  },
  {
   "cell_type": "code",
   "execution_count": 176,
   "metadata": {
    "collapsed": false
   },
   "outputs": [
    {
     "data": {
      "image/png": "[encoded data removed]",
      "text/plain": [
       "<IPython.core.display.Image object>"
      ]
     },
     "execution_count": 176,
     "metadata": {},
     "output_type": "execute_result"
    }
   ],
   "source": [
    "Image(filename=filename)"
   ]
  },
  {
   "cell_type": "code",
   "execution_count": 177,
   "metadata": {
    "collapsed": false,
    "scrolled": true
   },
   "outputs": [
    {
     "name": "stdout",
     "output_type": "stream",
     "text": [
      "deepwater prediction progress: |██████████████████████████████████████████████████████████████| 100%\n"
     ]
    }
   ],
   "source": [
    "pred = deepwater_model.predict(random_test_image_hf)"
   ]
  },
  {
   "cell_type": "code",
   "execution_count": 178,
   "metadata": {
    "collapsed": false
   },
   "outputs": [],
   "source": [
    "predlabel = int(pred['predict'].as_data_frame(use_pandas=False)[1][0])"
   ]
  },
  {
   "cell_type": "code",
   "execution_count": 179,
   "metadata": {
    "collapsed": false
   },
   "outputs": [
    {
     "data": {
      "text/plain": [
       "'cat'"
      ]
     },
     "execution_count": 179,
     "metadata": {},
     "output_type": "execute_result"
    }
   ],
   "source": [
    "labels[predlabel]"
   ]
  }
 ],
 "metadata": {
  "anaconda-cloud": {},
  "kernelspec": {
   "display_name": "Python [conda root]",
   "language": "python",
   "name": "conda-root-py"
  },
  "language_info": {
   "codemirror_mode": {
    "name": "ipython",
    "version": 2
   },
   "file_extension": ".py",
   "mimetype": "text/x-python",
   "name": "python",
   "nbconvert_exporter": "python",
   "pygments_lexer": "ipython2",
   "version": "2.7.12"
  }
 },
 "nbformat": 4,
 "nbformat_minor": 1
}
