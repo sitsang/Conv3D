{
 "cells": [
  {
   "cell_type": "code",
   "execution_count": 6,
   "metadata": {},
   "outputs": [
    {
     "name": "stdout",
     "output_type": "stream",
     "text": [
      "b'{\"id\":\"9357d368-9894-4944-9a51-79f4e78596ec\",\"project\":\"e6da02d6-eac5-475e-b891-1e2400519a69\",\"iteration\":\"22f47df0-85a5-42e2-9e0c-d73a1591ad1d\",\"created\":\"2018-05-23T15:21:05.8896769Z\",\"predictions\":[{\"probability\":0.99997884,\"tagId\":\"0b1f5b9b-038e-4eec-b20d-133850f2edd1\",\"tagName\":\"insulated jacket\"},{\"probability\":1.55497819E-05,\"tagId\":\"bb3320bc-d247-4c0a-8cd9-3355a7b30c6a\",\"tagName\":\"hardshell jacket\"}]}'\n"
     ]
    }
   ],
   "source": [
    "import http.client, urllib.request, urllib.parse, urllib.error, base64\n",
    "\n",
    "headers = {\n",
    "   # Request headers\n",
    "   'Content-Type': 'application/json',\n",
    "   'Prediction-key': '009281becef44f2c85dd96cd749d56ea',\n",
    "}\n",
    "\n",
    "params = urllib.parse.urlencode({\n",
    "   # Request parameters\n",
    "   'iterationId': '22f47df0-85a5-42e2-9e0c-d73a1591ad1d',\n",
    "   'application': 'team 12 hardshell',\n",
    "})\n",
    "\n",
    "try:\n",
    "   conn = http.client.HTTPSConnection('southcentralus.api.cognitive.microsoft.com')\n",
    "   conn.request(\"POST\", \"/customvision/v2.0/Prediction/dbb69137-acbf-4209-88dd-3220c4011eb3/url?%s\" % params, '{\"Url\": \"http://img.cdn.mountainwarehouse.com/product/025374/025374_pur_featherweight_down_womens_jacket__wms_aw17_2.jpg\"}', headers)\n",
    "   response = conn.getresponse()\n",
    "   data = response.read()\n",
    "   print(data)\n",
    "   conn.close()\n",
    "except Exception as e:\n",
    "   print(\"[Errno {0}] {1}\".format(e.errno, e.strerror))"
   ]
  }
 ],
 "metadata": {
  "kernelspec": {
   "display_name": "Python 3",
   "language": "python",
   "name": "python3"
  },
  "language_info": {
   "codemirror_mode": {
    "name": "ipython",
    "version": 3
   },
   "file_extension": ".py",
   "mimetype": "text/x-python",
   "name": "python",
   "nbconvert_exporter": "python",
   "pygments_lexer": "ipython3",
   "version": "3.5.4"
  }
 },
 "nbformat": 4,
 "nbformat_minor": 2
}
