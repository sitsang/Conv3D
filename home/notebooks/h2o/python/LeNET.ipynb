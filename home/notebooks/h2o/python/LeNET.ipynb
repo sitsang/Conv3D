{
 "cells": [
  {
   "cell_type": "code",
   "execution_count": 37,
   "metadata": {
    "collapsed": false,
    "scrolled": true
   },
   "outputs": [
    {
     "name": "stdout",
     "output_type": "stream",
     "text": [
      "Checking whether there is an H2O instance running at http://localhost:54321. connected.\n"
     ]
    },
    {
     "data": {
      "text/html": [
       "<div style=\"overflow:auto\"><table style=\"width:50%\"><tr><td>H2O cluster uptime:</td>\n",
       "<td>01 secs</td></tr>\n",
       "<tr><td>H2O cluster version:</td>\n",
       "<td>3.11.0.99999</td></tr>\n",
       "<tr><td>H2O cluster version age:</td>\n",
       "<td>1 hour and 10 minutes </td></tr>\n",
       "<tr><td>H2O cluster name:</td>\n",
       "<td>arno</td></tr>\n",
       "<tr><td>H2O cluster total nodes:</td>\n",
       "<td>1</td></tr>\n",
       "<tr><td>H2O cluster free memory:</td>\n",
       "<td>13.96 Gb</td></tr>\n",
       "<tr><td>H2O cluster total cores:</td>\n",
       "<td>12</td></tr>\n",
       "<tr><td>H2O cluster allowed cores:</td>\n",
       "<td>12</td></tr>\n",
       "<tr><td>H2O cluster status:</td>\n",
       "<td>accepting new members, healthy</td></tr>\n",
       "<tr><td>H2O connection url:</td>\n",
       "<td>http://localhost:54321</td></tr>\n",
       "<tr><td>H2O connection proxy:</td>\n",
       "<td>None</td></tr>\n",
       "<tr><td>Python version:</td>\n",
       "<td>2.7.12 final</td></tr></table></div>"
      ],
      "text/plain": [
       "--------------------------  ------------------------------\n",
       "H2O cluster uptime:         01 secs\n",
       "H2O cluster version:        3.11.0.99999\n",
       "H2O cluster version age:    1 hour and 10 minutes\n",
       "H2O cluster name:           arno\n",
       "H2O cluster total nodes:    1\n",
       "H2O cluster free memory:    13.96 Gb\n",
       "H2O cluster total cores:    12\n",
       "H2O cluster allowed cores:  12\n",
       "H2O cluster status:         accepting new members, healthy\n",
       "H2O connection url:         http://localhost:54321\n",
       "H2O connection proxy:\n",
       "Python version:             2.7.12 final\n",
       "--------------------------  ------------------------------"
      ]
     },
     "metadata": {},
     "output_type": "display_data"
    }
   ],
   "source": [
    "from __future__ import print_function\n",
    "import sys, os\n",
    "import h2o\n",
    "from h2o.estimators.deepwater import H2ODeepWaterEstimator\n",
    "\n",
    "import importlib\n",
    "h2o.init()"
   ]
  },
  {
   "cell_type": "code",
   "execution_count": 38,
   "metadata": {
    "collapsed": false
   },
   "outputs": [],
   "source": [
    "if not H2ODeepWaterEstimator.available(): quit()"
   ]
  },
  {
   "cell_type": "markdown",
   "metadata": {},
   "source": [
    "# LeNET\n",
    "\n",
    "Here we define the famous LENET neural network, but you can define any deep neural network of your choice."
   ]
  },
  {
   "cell_type": "code",
   "execution_count": 39,
   "metadata": {
    "collapsed": true
   },
   "outputs": [],
   "source": [
    "def lenet(num_classes):\n",
    "    import mxnet as mx\n",
    "    data = mx.symbol.Variable('data')\n",
    "    # first conv\n",
    "    conv1 = mx.symbol.Convolution(data=data, kernel=(5,5), num_filter=20)\n",
    "    tanh1 = mx.symbol.Activation(data=conv1, act_type=\"tanh\")\n",
    "    pool1 = mx.symbol.Pooling(data=tanh1, pool_type=\"max\", kernel=(2,2), stride=(2,2))\n",
    "    # second conv\n",
    "    conv2 = mx.symbol.Convolution(data=pool1, kernel=(5,5), num_filter=50)\n",
    "    tanh2 = mx.symbol.Activation(data=conv2, act_type=\"tanh\")\n",
    "    pool2 = mx.symbol.Pooling(data=tanh2, pool_type=\"max\", kernel=(2,2), stride=(2,2))\n",
    "    # first fullc\n",
    "    flatten = mx.symbol.Flatten(data=pool2)\n",
    "    fc1 = mx.symbol.FullyConnected(data=flatten, num_hidden=500)\n",
    "    tanh3 = mx.symbol.Activation(data=fc1, act_type=\"tanh\")\n",
    "    # second fullc\n",
    "    fc2 = mx.symbol.FullyConnected(data=tanh3, num_hidden=num_classes)\n",
    "    # loss\n",
    "    lenet = mx.symbol.SoftmaxOutput(data=fc2, name='softmax')\n",
    "    return lenet"
   ]
  },
  {
   "cell_type": "markdown",
   "metadata": {},
   "source": [
    "## DeepWater for MXNET\n",
    "\n",
    "We can use the import functions provided by h2o to import the list of "
   ]
  },
  {
   "cell_type": "code",
   "execution_count": 40,
   "metadata": {
    "collapsed": false,
    "scrolled": true
   },
   "outputs": [
    {
     "name": "stdout",
     "output_type": "stream",
     "text": [
      "Parse progress: |█████████████████████████████████████████████████████████████████████████████| 100%\n",
      "Parse progress: |█████████████████████████████████████████████████████████████████████████████| 100%\n"
     ]
    }
   ],
   "source": [
    "train = h2o.import_file(\"../../bigdata/laptop/mnist/train.csv.gz\")\n",
    "test = h2o.import_file(\"../../bigdata/laptop/mnist/test.csv.gz\")\n",
    "\n",
    "predictors = list(range(0,784))\n",
    "resp = 784\n",
    "train[resp] = train[resp].asfactor()\n",
    "test[resp] = test[resp].asfactor()\n",
    "nclasses = train[resp].nlevels()[0]"
   ]
  },
  {
   "cell_type": "markdown",
   "metadata": {},
   "source": [
    "Let's create the lenet model architecture from scratch using the MXNet Python API"
   ]
  },
  {
   "cell_type": "code",
   "execution_count": 41,
   "metadata": {
    "collapsed": false
   },
   "outputs": [],
   "source": [
    "model = lenet(nclasses)"
   ]
  },
  {
   "cell_type": "markdown",
   "metadata": {},
   "source": [
    "To import the model inside the DeepWater training engine we need to save the model to a file:"
   ]
  },
  {
   "cell_type": "code",
   "execution_count": 42,
   "metadata": {
    "collapsed": true
   },
   "outputs": [],
   "source": [
    "model_path = \"/tmp/symbol_lenet-py.json\"\n",
    "model.save(model_path)"
   ]
  },
  {
   "cell_type": "markdown",
   "metadata": {},
   "source": [
    "The model is just the structure of the network expressed as a json dict"
   ]
  },
  {
   "cell_type": "code",
   "execution_count": 43,
   "metadata": {
    "collapsed": false
   },
   "outputs": [
    {
     "name": "stdout",
     "output_type": "stream",
     "text": [
      "{\r\n",
      "  \"nodes\": [\r\n",
      "    {\r\n",
      "      \"op\": \"null\", \r\n",
      "      \"param\": {}, \r\n",
      "      \"name\": \"data\", \r\n",
      "      \"inputs\": [], \r\n",
      "      \"backward_source_id\": -1\r\n",
      "    }, \r\n",
      "    {\r\n"
     ]
    }
   ],
   "source": [
    "#!head \"/tmp/symbol_lenet-py.json\""
   ]
  },
  {
   "cell_type": "markdown",
   "metadata": {},
   "source": [
    "## Importing the LeNET model architecture for training in H2O\n",
    "\n",
    "We have defined the model and saved the structure to a file. We are ready to start the training procedure."
   ]
  },
  {
   "cell_type": "code",
   "execution_count": 44,
   "metadata": {
    "collapsed": false
   },
   "outputs": [],
   "source": [
    "model = H2ODeepWaterEstimator(epochs=100, learning_rate=1e-3, \n",
    "                              mini_batch_size=64,\n",
    "                              network='user', \n",
    "                              network_definition_file=model_path,\n",
    "                              image_shape=[28,28], channels=1)"
   ]
  },
  {
   "cell_type": "code",
   "execution_count": 45,
   "metadata": {
    "collapsed": false,
    "scrolled": true
   },
   "outputs": [
    {
     "name": "stdout",
     "output_type": "stream",
     "text": [
      "deepwater Model Build progress: |█████████████████████████████████████████████████████████████| 100%\n"
     ]
    }
   ],
   "source": [
    "model.train(x=predictors,y=resp, training_frame=train, validation_frame=test)"
   ]
  },
  {
   "cell_type": "code",
   "execution_count": 46,
   "metadata": {
    "collapsed": false
   },
   "outputs": [
    {
     "name": "stdout",
     "output_type": "stream",
     "text": [
      "Model Details\n",
      "=============\n",
      "H2ODeepWaterEstimator :  Deep Water\n",
      "Model Key:  DeepWater_model_python_1476000466538_1\n",
      "Status of Deep Learning Model: user: 1.6 MB, predicting C785, 10-class classification, 6,000,640 training samples, mini-batch size 64\n",
      "\n"
     ]
    },
    {
     "data": {
      "text/html": [
       "<div style=\"overflow:auto\"><table style=\"width:50%\"><tr><td><b></b></td>\n",
       "<td><b>rate</b></td>\n",
       "<td><b>momentum</b></td></tr>\n",
       "<tr><td></td>\n",
       "<td>0.0001428</td>\n",
       "<td>0.99</td></tr></table></div>"
      ],
      "text/plain": [
       "    rate         momentum\n",
       "--  -----------  ----------\n",
       "    0.000142844  0.99"
      ]
     },
     "metadata": {},
     "output_type": "display_data"
    },
    {
     "name": "stdout",
     "output_type": "stream",
     "text": [
      "\n",
      "\n",
      "ModelMetricsMultinomial: deepwater\n",
      "** Reported on train data. **\n",
      "\n",
      "MSE: 0.00412073914553\n",
      "RMSE: 0.064192983616\n",
      "LogLoss: 0.0182603796823\n",
      "Mean Per-Class Error: 0.00350493808739\n",
      "Confusion Matrix: vertical: actual; across: predicted\n",
      "\n"
     ]
    },
    {
     "data": {
      "text/html": [
       "<div style=\"overflow:auto\"><table style=\"width:50%\"><tr><td><b>0</b></td>\n",
       "<td><b>1</b></td>\n",
       "<td><b>2</b></td>\n",
       "<td><b>3</b></td>\n",
       "<td><b>4</b></td>\n",
       "<td><b>5</b></td>\n",
       "<td><b>6</b></td>\n",
       "<td><b>7</b></td>\n",
       "<td><b>8</b></td>\n",
       "<td><b>9</b></td>\n",
       "<td><b>Error</b></td>\n",
       "<td><b>Rate</b></td></tr>\n",
       "<tr><td>1011.0</td>\n",
       "<td>0.0</td>\n",
       "<td>0.0</td>\n",
       "<td>0.0</td>\n",
       "<td>0.0</td>\n",
       "<td>0.0</td>\n",
       "<td>0.0</td>\n",
       "<td>0.0</td>\n",
       "<td>0.0</td>\n",
       "<td>0.0</td>\n",
       "<td>0.0</td>\n",
       "<td>0 / 1,011</td></tr>\n",
       "<tr><td>1.0</td>\n",
       "<td>1166.0</td>\n",
       "<td>3.0</td>\n",
       "<td>0.0</td>\n",
       "<td>1.0</td>\n",
       "<td>0.0</td>\n",
       "<td>0.0</td>\n",
       "<td>2.0</td>\n",
       "<td>1.0</td>\n",
       "<td>0.0</td>\n",
       "<td>0.0068143</td>\n",
       "<td>8 / 1,174</td></tr>\n",
       "<tr><td>0.0</td>\n",
       "<td>2.0</td>\n",
       "<td>963.0</td>\n",
       "<td>0.0</td>\n",
       "<td>0.0</td>\n",
       "<td>0.0</td>\n",
       "<td>0.0</td>\n",
       "<td>1.0</td>\n",
       "<td>0.0</td>\n",
       "<td>0.0</td>\n",
       "<td>0.0031056</td>\n",
       "<td>3 / 966</td></tr>\n",
       "<tr><td>0.0</td>\n",
       "<td>0.0</td>\n",
       "<td>3.0</td>\n",
       "<td>1002.0</td>\n",
       "<td>0.0</td>\n",
       "<td>1.0</td>\n",
       "<td>1.0</td>\n",
       "<td>1.0</td>\n",
       "<td>0.0</td>\n",
       "<td>0.0</td>\n",
       "<td>0.0059524</td>\n",
       "<td>6 / 1,008</td></tr>\n",
       "<tr><td>1.0</td>\n",
       "<td>1.0</td>\n",
       "<td>0.0</td>\n",
       "<td>0.0</td>\n",
       "<td>1010.0</td>\n",
       "<td>0.0</td>\n",
       "<td>0.0</td>\n",
       "<td>0.0</td>\n",
       "<td>0.0</td>\n",
       "<td>2.0</td>\n",
       "<td>0.0039448</td>\n",
       "<td>4 / 1,014</td></tr>\n",
       "<tr><td>0.0</td>\n",
       "<td>0.0</td>\n",
       "<td>0.0</td>\n",
       "<td>0.0</td>\n",
       "<td>0.0</td>\n",
       "<td>897.0</td>\n",
       "<td>0.0</td>\n",
       "<td>0.0</td>\n",
       "<td>1.0</td>\n",
       "<td>0.0</td>\n",
       "<td>0.0011136</td>\n",
       "<td>1 / 898</td></tr>\n",
       "<tr><td>0.0</td>\n",
       "<td>0.0</td>\n",
       "<td>0.0</td>\n",
       "<td>0.0</td>\n",
       "<td>0.0</td>\n",
       "<td>1.0</td>\n",
       "<td>977.0</td>\n",
       "<td>0.0</td>\n",
       "<td>0.0</td>\n",
       "<td>0.0</td>\n",
       "<td>0.0010225</td>\n",
       "<td>1 / 978</td></tr>\n",
       "<tr><td>0.0</td>\n",
       "<td>0.0</td>\n",
       "<td>0.0</td>\n",
       "<td>1.0</td>\n",
       "<td>1.0</td>\n",
       "<td>0.0</td>\n",
       "<td>0.0</td>\n",
       "<td>1014.0</td>\n",
       "<td>0.0</td>\n",
       "<td>0.0</td>\n",
       "<td>0.0019685</td>\n",
       "<td>2 / 1,016</td></tr>\n",
       "<tr><td>1.0</td>\n",
       "<td>0.0</td>\n",
       "<td>0.0</td>\n",
       "<td>0.0</td>\n",
       "<td>0.0</td>\n",
       "<td>1.0</td>\n",
       "<td>1.0</td>\n",
       "<td>1.0</td>\n",
       "<td>989.0</td>\n",
       "<td>1.0</td>\n",
       "<td>0.0050302</td>\n",
       "<td>5 / 994</td></tr>\n",
       "<tr><td>1.0</td>\n",
       "<td>1.0</td>\n",
       "<td>0.0</td>\n",
       "<td>1.0</td>\n",
       "<td>1.0</td>\n",
       "<td>0.0</td>\n",
       "<td>0.0</td>\n",
       "<td>1.0</td>\n",
       "<td>1.0</td>\n",
       "<td>978.0</td>\n",
       "<td>0.0060976</td>\n",
       "<td>6 / 984</td></tr>\n",
       "<tr><td>1015.0</td>\n",
       "<td>1170.0</td>\n",
       "<td>969.0</td>\n",
       "<td>1004.0</td>\n",
       "<td>1013.0</td>\n",
       "<td>900.0</td>\n",
       "<td>979.0</td>\n",
       "<td>1020.0</td>\n",
       "<td>992.0</td>\n",
       "<td>981.0</td>\n",
       "<td>0.0035846</td>\n",
       "<td>36 / 10,043</td></tr></table></div>"
      ],
      "text/plain": [
       "0     1     2    3     4     5    6    7     8    9    Error       Rate\n",
       "----  ----  ---  ----  ----  ---  ---  ----  ---  ---  ----------  -----------\n",
       "1011  0     0    0     0     0    0    0     0    0    0           0 / 1,011\n",
       "1     1166  3    0     1     0    0    2     1    0    0.00681431  8 / 1,174\n",
       "0     2     963  0     0     0    0    1     0    0    0.00310559  3 / 966\n",
       "0     0     3    1002  0     1    1    1     0    0    0.00595238  6 / 1,008\n",
       "1     1     0    0     1010  0    0    0     0    2    0.00394477  4 / 1,014\n",
       "0     0     0    0     0     897  0    0     1    0    0.00111359  1 / 898\n",
       "0     0     0    0     0     1    977  0     0    0    0.00102249  1 / 978\n",
       "0     0     0    1     1     0    0    1014  0    0    0.0019685   2 / 1,016\n",
       "1     0     0    0     0     1    1    1     989  1    0.00503018  5 / 994\n",
       "1     1     0    1     1     0    0    1     1    978  0.00609756  6 / 984\n",
       "1015  1170  969  1004  1013  900  979  1020  992  981  0.00358459  36 / 10,043"
      ]
     },
     "metadata": {},
     "output_type": "display_data"
    },
    {
     "name": "stdout",
     "output_type": "stream",
     "text": [
      "Top-10 Hit Ratios: \n"
     ]
    },
    {
     "data": {
      "text/html": [
       "<div style=\"overflow:auto\"><table style=\"width:50%\"><tr><td><b>k</b></td>\n",
       "<td><b>hit_ratio</b></td></tr>\n",
       "<tr><td>1</td>\n",
       "<td>0.9964154</td></tr>\n",
       "<tr><td>2</td>\n",
       "<td>0.9992034</td></tr>\n",
       "<tr><td>3</td>\n",
       "<td>0.9999005</td></tr>\n",
       "<tr><td>4</td>\n",
       "<td>0.9999005</td></tr>\n",
       "<tr><td>5</td>\n",
       "<td>1.0</td></tr>\n",
       "<tr><td>6</td>\n",
       "<td>1.0</td></tr>\n",
       "<tr><td>7</td>\n",
       "<td>1.0</td></tr>\n",
       "<tr><td>8</td>\n",
       "<td>1.0</td></tr>\n",
       "<tr><td>9</td>\n",
       "<td>1.0</td></tr>\n",
       "<tr><td>10</td>\n",
       "<td>1.0</td></tr></table></div>"
      ],
      "text/plain": [
       "k    hit_ratio\n",
       "---  -----------\n",
       "1    0.996415\n",
       "2    0.999203\n",
       "3    0.9999\n",
       "4    0.9999\n",
       "5    1\n",
       "6    1\n",
       "7    1\n",
       "8    1\n",
       "9    1\n",
       "10   1"
      ]
     },
     "metadata": {},
     "output_type": "display_data"
    },
    {
     "name": "stdout",
     "output_type": "stream",
     "text": [
      "\n",
      "ModelMetricsMultinomial: deepwater\n",
      "** Reported on validation data. **\n",
      "\n",
      "MSE: 0.010891659837\n",
      "RMSE: 0.104363115309\n",
      "LogLoss: 0.0374933679987\n",
      "Mean Per-Class Error: 0.013032933117\n",
      "Confusion Matrix: vertical: actual; across: predicted\n",
      "\n"
     ]
    },
    {
     "data": {
      "text/html": [
       "<div style=\"overflow:auto\"><table style=\"width:50%\"><tr><td><b>0</b></td>\n",
       "<td><b>1</b></td>\n",
       "<td><b>2</b></td>\n",
       "<td><b>3</b></td>\n",
       "<td><b>4</b></td>\n",
       "<td><b>5</b></td>\n",
       "<td><b>6</b></td>\n",
       "<td><b>7</b></td>\n",
       "<td><b>8</b></td>\n",
       "<td><b>9</b></td>\n",
       "<td><b>Error</b></td>\n",
       "<td><b>Rate</b></td></tr>\n",
       "<tr><td>972.0</td>\n",
       "<td>0.0</td>\n",
       "<td>1.0</td>\n",
       "<td>0.0</td>\n",
       "<td>0.0</td>\n",
       "<td>0.0</td>\n",
       "<td>2.0</td>\n",
       "<td>1.0</td>\n",
       "<td>4.0</td>\n",
       "<td>0.0</td>\n",
       "<td>0.0081633</td>\n",
       "<td>8 / 980</td></tr>\n",
       "<tr><td>1.0</td>\n",
       "<td>1126.0</td>\n",
       "<td>2.0</td>\n",
       "<td>2.0</td>\n",
       "<td>0.0</td>\n",
       "<td>2.0</td>\n",
       "<td>2.0</td>\n",
       "<td>0.0</td>\n",
       "<td>0.0</td>\n",
       "<td>0.0</td>\n",
       "<td>0.0079295</td>\n",
       "<td>9 / 1,135</td></tr>\n",
       "<tr><td>1.0</td>\n",
       "<td>0.0</td>\n",
       "<td>1018.0</td>\n",
       "<td>0.0</td>\n",
       "<td>1.0</td>\n",
       "<td>0.0</td>\n",
       "<td>1.0</td>\n",
       "<td>7.0</td>\n",
       "<td>4.0</td>\n",
       "<td>0.0</td>\n",
       "<td>0.0135659</td>\n",
       "<td>14 / 1,032</td></tr>\n",
       "<tr><td>1.0</td>\n",
       "<td>0.0</td>\n",
       "<td>2.0</td>\n",
       "<td>1000.0</td>\n",
       "<td>0.0</td>\n",
       "<td>3.0</td>\n",
       "<td>0.0</td>\n",
       "<td>1.0</td>\n",
       "<td>2.0</td>\n",
       "<td>1.0</td>\n",
       "<td>0.0099010</td>\n",
       "<td>10 / 1,010</td></tr>\n",
       "<tr><td>0.0</td>\n",
       "<td>0.0</td>\n",
       "<td>1.0</td>\n",
       "<td>0.0</td>\n",
       "<td>972.0</td>\n",
       "<td>0.0</td>\n",
       "<td>2.0</td>\n",
       "<td>0.0</td>\n",
       "<td>0.0</td>\n",
       "<td>7.0</td>\n",
       "<td>0.0101833</td>\n",
       "<td>10 / 982</td></tr>\n",
       "<tr><td>1.0</td>\n",
       "<td>0.0</td>\n",
       "<td>0.0</td>\n",
       "<td>6.0</td>\n",
       "<td>0.0</td>\n",
       "<td>883.0</td>\n",
       "<td>1.0</td>\n",
       "<td>1.0</td>\n",
       "<td>0.0</td>\n",
       "<td>0.0</td>\n",
       "<td>0.0100897</td>\n",
       "<td>9 / 892</td></tr>\n",
       "<tr><td>3.0</td>\n",
       "<td>2.0</td>\n",
       "<td>0.0</td>\n",
       "<td>1.0</td>\n",
       "<td>2.0</td>\n",
       "<td>3.0</td>\n",
       "<td>943.0</td>\n",
       "<td>0.0</td>\n",
       "<td>4.0</td>\n",
       "<td>0.0</td>\n",
       "<td>0.0156576</td>\n",
       "<td>15 / 958</td></tr>\n",
       "<tr><td>0.0</td>\n",
       "<td>1.0</td>\n",
       "<td>7.0</td>\n",
       "<td>3.0</td>\n",
       "<td>0.0</td>\n",
       "<td>0.0</td>\n",
       "<td>0.0</td>\n",
       "<td>1011.0</td>\n",
       "<td>2.0</td>\n",
       "<td>4.0</td>\n",
       "<td>0.0165370</td>\n",
       "<td>17 / 1,028</td></tr>\n",
       "<tr><td>6.0</td>\n",
       "<td>0.0</td>\n",
       "<td>3.0</td>\n",
       "<td>0.0</td>\n",
       "<td>2.0</td>\n",
       "<td>1.0</td>\n",
       "<td>0.0</td>\n",
       "<td>3.0</td>\n",
       "<td>956.0</td>\n",
       "<td>3.0</td>\n",
       "<td>0.0184805</td>\n",
       "<td>18 / 974</td></tr>\n",
       "<tr><td>1.0</td>\n",
       "<td>1.0</td>\n",
       "<td>0.0</td>\n",
       "<td>1.0</td>\n",
       "<td>6.0</td>\n",
       "<td>4.0</td>\n",
       "<td>0.0</td>\n",
       "<td>5.0</td>\n",
       "<td>2.0</td>\n",
       "<td>989.0</td>\n",
       "<td>0.0198216</td>\n",
       "<td>20 / 1,009</td></tr>\n",
       "<tr><td>986.0</td>\n",
       "<td>1130.0</td>\n",
       "<td>1034.0</td>\n",
       "<td>1013.0</td>\n",
       "<td>983.0</td>\n",
       "<td>896.0</td>\n",
       "<td>951.0</td>\n",
       "<td>1029.0</td>\n",
       "<td>974.0</td>\n",
       "<td>1004.0</td>\n",
       "<td>0.013</td>\n",
       "<td>130 / 10,000</td></tr></table></div>"
      ],
      "text/plain": [
       "0    1     2     3     4    5    6    7     8    9     Error       Rate\n",
       "---  ----  ----  ----  ---  ---  ---  ----  ---  ----  ----------  ------------\n",
       "972  0     1     0     0    0    2    1     4    0     0.00816327  8 / 980\n",
       "1    1126  2     2     0    2    2    0     0    0     0.00792952  9 / 1,135\n",
       "1    0     1018  0     1    0    1    7     4    0     0.0135659   14 / 1,032\n",
       "1    0     2     1000  0    3    0    1     2    1     0.00990099  10 / 1,010\n",
       "0    0     1     0     972  0    2    0     0    7     0.0101833   10 / 982\n",
       "1    0     0     6     0    883  1    1     0    0     0.0100897   9 / 892\n",
       "3    2     0     1     2    3    943  0     4    0     0.0156576   15 / 958\n",
       "0    1     7     3     0    0    0    1011  2    4     0.016537    17 / 1,028\n",
       "6    0     3     0     2    1    0    3     956  3     0.0184805   18 / 974\n",
       "1    1     0     1     6    4    0    5     2    989   0.0198216   20 / 1,009\n",
       "986  1130  1034  1013  983  896  951  1029  974  1004  0.013       130 / 10,000"
      ]
     },
     "metadata": {},
     "output_type": "display_data"
    },
    {
     "name": "stdout",
     "output_type": "stream",
     "text": [
      "Top-10 Hit Ratios: \n"
     ]
    },
    {
     "data": {
      "text/html": [
       "<div style=\"overflow:auto\"><table style=\"width:50%\"><tr><td><b>k</b></td>\n",
       "<td><b>hit_ratio</b></td></tr>\n",
       "<tr><td>1</td>\n",
       "<td>0.987</td></tr>\n",
       "<tr><td>2</td>\n",
       "<td>0.9976000</td></tr>\n",
       "<tr><td>3</td>\n",
       "<td>0.9995999</td></tr>\n",
       "<tr><td>4</td>\n",
       "<td>0.9998999</td></tr>\n",
       "<tr><td>5</td>\n",
       "<td>0.9998999</td></tr>\n",
       "<tr><td>6</td>\n",
       "<td>0.9999999</td></tr>\n",
       "<tr><td>7</td>\n",
       "<td>0.9999999</td></tr>\n",
       "<tr><td>8</td>\n",
       "<td>0.9999999</td></tr>\n",
       "<tr><td>9</td>\n",
       "<td>0.9999999</td></tr>\n",
       "<tr><td>10</td>\n",
       "<td>0.9999999</td></tr></table></div>"
      ],
      "text/plain": [
       "k    hit_ratio\n",
       "---  -----------\n",
       "1    0.987\n",
       "2    0.9976\n",
       "3    0.9996\n",
       "4    0.9999\n",
       "5    0.9999\n",
       "6    1\n",
       "7    1\n",
       "8    1\n",
       "9    1\n",
       "10   1"
      ]
     },
     "metadata": {},
     "output_type": "display_data"
    },
    {
     "name": "stdout",
     "output_type": "stream",
     "text": [
      "Scoring History: \n"
     ]
    },
    {
     "data": {
      "text/html": [
       "<div style=\"overflow:auto\"><table style=\"width:50%\"><tr><td><b></b></td>\n",
       "<td><b>timestamp</b></td>\n",
       "<td><b>duration</b></td>\n",
       "<td><b>training_speed</b></td>\n",
       "<td><b>epochs</b></td>\n",
       "<td><b>iterations</b></td>\n",
       "<td><b>samples</b></td>\n",
       "<td><b>training_rmse</b></td>\n",
       "<td><b>training_logloss</b></td>\n",
       "<td><b>training_classification_error</b></td>\n",
       "<td><b>validation_rmse</b></td>\n",
       "<td><b>validation_logloss</b></td>\n",
       "<td><b>validation_classification_error</b></td></tr>\n",
       "<tr><td></td>\n",
       "<td>2016-10-09 01:07:54</td>\n",
       "<td> 0.000 sec</td>\n",
       "<td>None</td>\n",
       "<td>0.0</td>\n",
       "<td>0</td>\n",
       "<td>0.0</td>\n",
       "<td>nan</td>\n",
       "<td>nan</td>\n",
       "<td>nan</td>\n",
       "<td>nan</td>\n",
       "<td>nan</td>\n",
       "<td>nan</td></tr>\n",
       "<tr><td></td>\n",
       "<td>2016-10-09 01:07:55</td>\n",
       "<td> 3.328 sec</td>\n",
       "<td>5432 obs/sec</td>\n",
       "<td>0.0341333</td>\n",
       "<td>1</td>\n",
       "<td>2048.0</td>\n",
       "<td>0.6475480</td>\n",
       "<td>1.1441473</td>\n",
       "<td>0.3204222</td>\n",
       "<td>0.6408030</td>\n",
       "<td>1.1212354</td>\n",
       "<td>0.3057</td></tr>\n",
       "<tr><td></td>\n",
       "<td>2016-10-09 01:08:12</td>\n",
       "<td>19.241 sec</td>\n",
       "<td>22944 obs/sec</td>\n",
       "<td>5.9733333</td>\n",
       "<td>175</td>\n",
       "<td>358400.0</td>\n",
       "<td>0.1552907</td>\n",
       "<td>0.0907716</td>\n",
       "<td>0.0250921</td>\n",
       "<td>0.1548827</td>\n",
       "<td>0.0874353</td>\n",
       "<td>0.026</td></tr>\n",
       "<tr><td></td>\n",
       "<td>2016-10-09 01:08:19</td>\n",
       "<td>26.007 sec</td>\n",
       "<td>25087 obs/sec</td>\n",
       "<td>9.0794667</td>\n",
       "<td>266</td>\n",
       "<td>544768.0</td>\n",
       "<td>0.1369462</td>\n",
       "<td>0.0715630</td>\n",
       "<td>0.0191178</td>\n",
       "<td>0.1412460</td>\n",
       "<td>0.0720911</td>\n",
       "<td>0.0215</td></tr>\n",
       "<tr><td></td>\n",
       "<td>2016-10-09 01:08:25</td>\n",
       "<td>32.809 sec</td>\n",
       "<td>26146 obs/sec</td>\n",
       "<td>12.1173333</td>\n",
       "<td>355</td>\n",
       "<td>727040.0</td>\n",
       "<td>0.1267589</td>\n",
       "<td>0.0613674</td>\n",
       "<td>0.0169272</td>\n",
       "<td>0.1344119</td>\n",
       "<td>0.0644651</td>\n",
       "<td>0.0207</td></tr>\n",
       "<tr><td>---</td>\n",
       "<td>---</td>\n",
       "<td>---</td>\n",
       "<td>---</td>\n",
       "<td>---</td>\n",
       "<td>---</td>\n",
       "<td>---</td>\n",
       "<td>---</td>\n",
       "<td>---</td>\n",
       "<td>---</td>\n",
       "<td>---</td>\n",
       "<td>---</td>\n",
       "<td>---</td></tr>\n",
       "<tr><td></td>\n",
       "<td>2016-10-09 01:11:15</td>\n",
       "<td> 3 min 22.201 sec</td>\n",
       "<td>29064 obs/sec</td>\n",
       "<td>87.3813333</td>\n",
       "<td>2560</td>\n",
       "<td>5242880.0</td>\n",
       "<td>0.0673856</td>\n",
       "<td>0.0197682</td>\n",
       "<td>0.0042816</td>\n",
       "<td>0.1049248</td>\n",
       "<td>0.0379410</td>\n",
       "<td>0.0131</td></tr>\n",
       "<tr><td></td>\n",
       "<td>2016-10-09 01:11:22</td>\n",
       "<td> 3 min 29.136 sec</td>\n",
       "<td>29101 obs/sec</td>\n",
       "<td>90.5216</td>\n",
       "<td>2652</td>\n",
       "<td>5431296.0</td>\n",
       "<td>0.0668086</td>\n",
       "<td>0.0194800</td>\n",
       "<td>0.0040824</td>\n",
       "<td>0.1052558</td>\n",
       "<td>0.0381017</td>\n",
       "<td>0.0132</td></tr>\n",
       "<tr><td></td>\n",
       "<td>2016-10-09 01:11:29</td>\n",
       "<td> 3 min 36.111 sec</td>\n",
       "<td>29162 obs/sec</td>\n",
       "<td>93.7642667</td>\n",
       "<td>2747</td>\n",
       "<td>5625856.0</td>\n",
       "<td>0.0659256</td>\n",
       "<td>0.0190596</td>\n",
       "<td>0.0038833</td>\n",
       "<td>0.1048264</td>\n",
       "<td>0.0379124</td>\n",
       "<td>0.013</td></tr>\n",
       "<tr><td></td>\n",
       "<td>2016-10-09 01:11:36</td>\n",
       "<td> 3 min 43.049 sec</td>\n",
       "<td>29175 obs/sec</td>\n",
       "<td>96.8362667</td>\n",
       "<td>2837</td>\n",
       "<td>5810176.0</td>\n",
       "<td>0.0649722</td>\n",
       "<td>0.0186320</td>\n",
       "<td>0.0037837</td>\n",
       "<td>0.1046608</td>\n",
       "<td>0.0376912</td>\n",
       "<td>0.0128</td></tr>\n",
       "<tr><td></td>\n",
       "<td>2016-10-09 01:11:43</td>\n",
       "<td> 3 min 49.987 sec</td>\n",
       "<td>29214 obs/sec</td>\n",
       "<td>100.0106667</td>\n",
       "<td>2930</td>\n",
       "<td>6000640.0</td>\n",
       "<td>0.0641930</td>\n",
       "<td>0.0182604</td>\n",
       "<td>0.0035846</td>\n",
       "<td>0.1043631</td>\n",
       "<td>0.0374934</td>\n",
       "<td>0.013</td></tr></table></div>"
      ],
      "text/plain": [
       "     timestamp            duration          training_speed    epochs           iterations    samples    training_rmse    training_logloss    training_classification_error    validation_rmse    validation_logloss    validation_classification_error\n",
       "---  -------------------  ----------------  ----------------  ---------------  ------------  ---------  ---------------  ------------------  -------------------------------  -----------------  --------------------  ---------------------------------\n",
       "     2016-10-09 01:07:54  0.000 sec                           0.0              0             0.0        nan              nan                 nan                              nan                nan                   nan\n",
       "     2016-10-09 01:07:55  3.328 sec         5432 obs/sec      0.0341333333333  1             2048.0     0.647548024724   1.14414733331       0.320422184606                   0.640803039961     1.12123536772         0.3057\n",
       "     2016-10-09 01:08:12  19.241 sec        22944 obs/sec     5.97333333333    175           358400.0   0.155290734676   0.0907715968432     0.025092103953                   0.15488269438      0.0874352983347       0.026\n",
       "     2016-10-09 01:08:19  26.007 sec        25087 obs/sec     9.07946666667    266           544768.0   0.136946167415   0.071563034134      0.019117793488                   0.141245997128     0.0720911016634       0.0215\n",
       "     2016-10-09 01:08:25  32.809 sec        26146 obs/sec     12.1173333333    355           727040.0   0.126758852136   0.061367396169      0.0169272129842                  0.134411888535     0.0644651286187       0.0207\n",
       "---  ---                  ---               ---               ---              ---           ---        ---              ---                 ---                              ---                ---                   ---\n",
       "     2016-10-09 01:11:15  3 min 22.201 sec  29064 obs/sec     87.3813333333    2560          5242880.0  0.0673855977605  0.0197681811475     0.00428158916658                 0.104924835719     0.0379410425408       0.0131\n",
       "     2016-10-09 01:11:22  3 min 29.136 sec  29101 obs/sec     90.5216          2652          5431296.0  0.0668085643947  0.0194799887067     0.00408244548442                 0.105255823436     0.0381016879532       0.0132\n",
       "     2016-10-09 01:11:29  3 min 36.111 sec  29162 obs/sec     93.7642666667    2747          5625856.0  0.0659256209151  0.0190596403911     0.00388330180225                 0.104826398839     0.0379124157231       0.013\n",
       "     2016-10-09 01:11:36  3 min 43.049 sec  29175 obs/sec     96.8362666667    2837          5810176.0  0.0649722401445  0.0186320281635     0.00378372996117                 0.104660815266     0.0376912296171       0.0128\n",
       "     2016-10-09 01:11:43  3 min 49.987 sec  29214 obs/sec     100.010666667    2930          6000640.0  0.064192983616   0.0182603796823     0.003584586279                   0.104363115309     0.0374933679987       0.013"
      ]
     },
     "metadata": {},
     "output_type": "display_data"
    },
    {
     "name": "stdout",
     "output_type": "stream",
     "text": [
      "\n",
      "See the whole table with table.as_data_frame()\n"
     ]
    }
   ],
   "source": [
    "model.show()"
   ]
  }
 ],
 "metadata": {
  "anaconda-cloud": {},
  "kernelspec": {"display_name": "Python 3", "language": "python", "name": "python3"},
  "language_info": {
   "codemirror_mode": {
    "name": "ipython",
    "version": 2
   },
   "file_extension": ".py",
   "mimetype": "text/x-python",
   "name": "python",
   "nbconvert_exporter": "python",
   "pygments_lexer": "ipython2",
   "version": "2.7.12"
  }
 },
 "nbformat": 4,
 "nbformat_minor": 0
}
