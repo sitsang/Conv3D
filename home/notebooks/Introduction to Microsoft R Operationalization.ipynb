{
 "cells": [
  {
   "cell_type": "markdown",
   "metadata": {
    "collapsed": true
   },
   "source": [
    "# Introduction to Microsoft R Operationalization\n",
    "\n",
    "## Summary\n",
    "\n",
    "Build a simple a model using R, then operationalize the model as a web service on Microsoft R Server (MRS). MRS can be run either on the cloud or onpremises. \n",
    "\n",
    "## Pre-requisites\n",
    "\n",
    "You should have enabled Microsoft R Server Operationalization (O16N) to deploy models as web service. If you have not done this yet, you can do so by running the \"Microsoft-R-Admin-Util\" and then choose option 1 (Configure R Server for Operationalization). A shortcut is available on the desktop or you can search from the start menu. \n",
    "\n",
    "## Description\n",
    "\n",
    "The purpose of this notebook is to demonstrate how to use Jupyter notebooks on the Microsoft R to develop a model in R and publish a web service based on the model.\n",
    "\n",
    "### Using Jupyter notebooks\n",
    "\n",
    "For data scientists new to Jupyter and accustomed to doing all analytical work using R on local computers, the Data Science Virtual Machine makes it possible to write R notebooks on the cloud. So anyone with internet access can work with R from a web browser. \n",
    "\n",
    "If you use R, notebooks make it possible to develop your models in R and then operationalize them easily. \n",
    "\n",
    "\n",
    "\n",
    "## Data\n",
    "\n",
    "In this example, you use the Boston housing data from the R package `MASS`.  The `Boston` dataset contains 506 rows and 14 columns. Available information includes median home price, average number of rooms per dwelling, crime rate by town, etc. More information about this dataset can be found by typing `?Boston` or `help(Boston)` in an R terminal, or at this [UCI page][uci link].\n",
    "\n",
    "To run a cell, select it and press CTRL+ENTER or SHIFT+ENTER.\n",
    "\n",
    "[uci link]: https://archive.ics.uci.edu/ml/datasets/Housing"
   ]
  },
  {
   "cell_type": "code",
   "execution_count": 2,
   "metadata": {
    "collapsed": false
   },
   "outputs": [],
   "source": [
    "# load the library to use the Boston dataset\n",
    "library(MASS)\n",
    "?Boston"
   ]
  },
  {
   "cell_type": "code",
   "execution_count": 3,
   "metadata": {
    "collapsed": false
   },
   "outputs": [
    {
     "data": {},
     "metadata": {},
     "output_type": "display_data"
    },
    {
     "data": {
      "image/png": "[encoded data removed]",
      "text/plain": [
       "plot without title"
      ]
     },
     "metadata": {},
     "output_type": "display_data"
    }
   ],
   "source": [
    "# library for plotting\n",
    "library(ggplot2) \n",
    "# plot distribution of the response variable\n",
    "ggplot(Boston, aes(x=medv)) + \n",
    "  geom_histogram(binwidth=2) +\n",
    "  ggtitle(\"Histogram of Response Variable\")"
   ]
  },
  {
   "cell_type": "markdown",
   "metadata": {},
   "source": [
    "## A linear regression model\n",
    "\n",
    "For illustration purposes, use `medv`, median home price, as the response variable and all other variables as predictors.\n",
    "\n",
    "[uci link]: https://archive.ics.uci.edu/ml/datasets/Housing\n",
    "\n",
    "We use the basic \"lm\" model in R in this sample. You can use the Microsoft R's ScaleR (aka RevoScaleR) library models to handle large scale datasets and use same process to operationalize it. Please refer to other notebook samples to work with Microsoft R's ScaleR library."
   ]
  },
  {
   "cell_type": "code",
   "execution_count": 4,
   "metadata": {
    "collapsed": false
   },
   "outputs": [
    {
     "data": {
      "text/plain": [
       "\n",
       "Call:\n",
       "lm(formula = medv ~ ., data = Boston)\n",
       "\n",
       "Residuals:\n",
       "    Min      1Q  Median      3Q     Max \n",
       "-15.595  -2.730  -0.518   1.777  26.199 \n",
       "\n",
       "Coefficients:\n",
       "              Estimate Std. Error t value Pr(>|t|)    \n",
       "(Intercept)  3.646e+01  5.103e+00   7.144 3.28e-12 ***\n",
       "crim        -1.080e-01  3.286e-02  -3.287 0.001087 ** \n",
       "zn           4.642e-02  1.373e-02   3.382 0.000778 ***\n",
       "indus        2.056e-02  6.150e-02   0.334 0.738288    \n",
       "chas         2.687e+00  8.616e-01   3.118 0.001925 ** \n",
       "nox         -1.777e+01  3.820e+00  -4.651 4.25e-06 ***\n",
       "rm           3.810e+00  4.179e-01   9.116  < 2e-16 ***\n",
       "age          6.922e-04  1.321e-02   0.052 0.958229    \n",
       "dis         -1.476e+00  1.995e-01  -7.398 6.01e-13 ***\n",
       "rad          3.060e-01  6.635e-02   4.613 5.07e-06 ***\n",
       "tax         -1.233e-02  3.760e-03  -3.280 0.001112 ** \n",
       "ptratio     -9.527e-01  1.308e-01  -7.283 1.31e-12 ***\n",
       "black        9.312e-03  2.686e-03   3.467 0.000573 ***\n",
       "lstat       -5.248e-01  5.072e-02 -10.347  < 2e-16 ***\n",
       "---\n",
       "Signif. codes:  0 '***' 0.001 '**' 0.01 '*' 0.05 '.' 0.1 ' ' 1\n",
       "\n",
       "Residual standard error: 4.745 on 492 degrees of freedom\n",
       "Multiple R-squared:  0.7406,\tAdjusted R-squared:  0.7338 \n",
       "F-statistic: 108.1 on 13 and 492 DF,  p-value: < 2.2e-16\n"
      ]
     },
     "metadata": {},
     "output_type": "display_data"
    }
   ],
   "source": [
    "# fit a model using all variables except medv as predictors\n",
    "lm1 <- lm(medv ~ ., data = Boston)\n",
    "\n",
    "# check model performance\n",
    "summary(lm1)"
   ]
  },
  {
   "cell_type": "markdown",
   "metadata": {},
   "source": [
    "Now compute some error measures:"
   ]
  },
  {
   "cell_type": "code",
   "execution_count": 5,
   "metadata": {
    "collapsed": false
   },
   "outputs": [
    {
     "name": "stdout",
     "output_type": "stream",
     "text": [
      "Mean Absolute Error: 3.270863 \n",
      "Root Mean Squared Error: 4.679191 \n",
      "Relative Absolute Error: 0.492066 \n",
      "Relative Squared Error: 0.259357 \n"
     ]
    }
   ],
   "source": [
    "pred <- predict(lm1)\n",
    "error <- pred - Boston$medv\n",
    "mae <- mean(abs(error))\n",
    "rmse <- sqrt(mean((error)^2))\n",
    "rae <- mean(abs(error)) / mean(abs(Boston$medv - mean(Boston$medv)))\n",
    "rse <- mean((error)^2) / mean((Boston$medv - mean(Boston$medv))^2)\n",
    "\n",
    "cat(\"Mean Absolute Error:\", round(mae, 6), \"\\n\")\n",
    "cat(\"Root Mean Squared Error:\", round(rmse, 6), \"\\n\")\n",
    "cat(\"Relative Absolute Error:\", round(rae, 6), \"\\n\")\n",
    "cat(\"Relative Squared Error:\", round(rse, 6), \"\\n\")"
   ]
  },
  {
   "cell_type": "markdown",
   "metadata": {},
   "source": [
    "## Web service\n",
    "\n",
    "### Deploy a web service\n",
    "\n"
   ]
  },
  {
   "cell_type": "code",
   "execution_count": 6,
   "metadata": {
    "collapsed": true
   },
   "outputs": [],
   "source": [
    "library(mrsdeploy)"
   ]
  },
  {
   "cell_type": "code",
   "execution_count": 7,
   "metadata": {
    "collapsed": true
   },
   "outputs": [],
   "source": [
    "help(mrsdeploy)"
   ]
  },
  {
   "cell_type": "code",
   "execution_count": 8,
   "metadata": {
    "collapsed": false
   },
   "outputs": [
    {
     "data": {
      "text/html": [
       "<ol class=list-inline>\n",
       "\t<li>'crim'</li>\n",
       "\t<li>'zn'</li>\n",
       "\t<li>'indus'</li>\n",
       "\t<li>'chas'</li>\n",
       "\t<li>'nox'</li>\n",
       "\t<li>'rm'</li>\n",
       "\t<li>'age'</li>\n",
       "\t<li>'dis'</li>\n",
       "\t<li>'rad'</li>\n",
       "\t<li>'tax'</li>\n",
       "\t<li>'ptratio'</li>\n",
       "\t<li>'black'</li>\n",
       "\t<li>'lstat'</li>\n",
       "\t<li>'medv'</li>\n",
       "</ol>\n"
      ],
      "text/latex": [
       "\\begin{enumerate*}\n",
       "\\item 'crim'\n",
       "\\item 'zn'\n",
       "\\item 'indus'\n",
       "\\item 'chas'\n",
       "\\item 'nox'\n",
       "\\item 'rm'\n",
       "\\item 'age'\n",
       "\\item 'dis'\n",
       "\\item 'rad'\n",
       "\\item 'tax'\n",
       "\\item 'ptratio'\n",
       "\\item 'black'\n",
       "\\item 'lstat'\n",
       "\\item 'medv'\n",
       "\\end{enumerate*}\n"
      ],
      "text/markdown": [
       "1. 'crim'\n",
       "2. 'zn'\n",
       "3. 'indus'\n",
       "4. 'chas'\n",
       "5. 'nox'\n",
       "6. 'rm'\n",
       "7. 'age'\n",
       "8. 'dis'\n",
       "9. 'rad'\n",
       "10. 'tax'\n",
       "11. 'ptratio'\n",
       "12. 'black'\n",
       "13. 'lstat'\n",
       "14. 'medv'\n",
       "\n",
       "\n"
      ],
      "text/plain": [
       " [1] \"crim\"    \"zn\"      \"indus\"   \"chas\"    \"nox\"     \"rm\"      \"age\"    \n",
       " [8] \"dis\"     \"rad\"     \"tax\"     \"ptratio\" \"black\"   \"lstat\"   \"medv\"   "
      ]
     },
     "metadata": {},
     "output_type": "display_data"
    }
   ],
   "source": [
    "colnames(Boston)"
   ]
  },
  {
   "cell_type": "markdown",
   "metadata": {},
   "source": [
    "### Publishing a web service\n",
    "\n",
    "You use the function `publishService()` to deploy your model.\n"
   ]
  },
  {
   "cell_type": "code",
   "execution_count": 9,
   "metadata": {
    "collapsed": false
   },
   "outputs": [
    {
     "data": {
      "text/html": [
       "<table>\n",
       "<thead><tr><th scope=col>actual</th><th scope=col>prediction</th></tr></thead>\n",
       "<tbody>\n",
       "\t<tr><td>36.2    </td><td>27.94352</td></tr>\n",
       "</tbody>\n",
       "</table>\n"
      ],
      "text/latex": [
       "\\begin{tabular}{r|ll}\n",
       " actual & prediction\\\\\n",
       "\\hline\n",
       "\t 36.2     & 27.94352\\\\\n",
       "\\end{tabular}\n"
      ],
      "text/plain": [
       "  actual prediction\n",
       "1 36.2   27.94352  "
      ]
     },
     "metadata": {},
     "output_type": "display_data"
    }
   ],
   "source": [
    "# define predict function\n",
    "homepricepredict <- function(crim, zn, indus, chas, nox, rm, age, dis ,rad,tax,ptratio,black,lstat){\n",
    "  inputData <- data.frame(crim=crim, zn=zn, indus=indus, chas=chas, nox=nox, rm=rm, age=age, dis=dis ,rad=rad,tax=tax,ptratio=ptratio,black=black,lstat=lstat)\n",
    "  predict(lm1, inputData)\n",
    "}\n",
    "\n",
    "# a sample with predictor information\n",
    "newdata <- Boston[5, ]\n",
    "\n",
    "# test the prediction function\n",
    "data.frame(\n",
    "    actual = newdata$medv, \n",
    "    prediction = homepricepredict(newdata$crim, newdata$zn, newdata$indus, newdata$chas, newdata$nox, newdata$rm, newdata$age, newdata$dis \n",
    "                           ,newdata$rad,newdata$tax,newdata$ptratio,newdata$black,newdata$lstat))"
   ]
  },
  {
   "cell_type": "code",
   "execution_count": 10,
   "metadata": {
    "collapsed": false
   },
   "outputs": [],
   "source": [
    "# Remote Login, a prompt will show up to input user and pwd information\n",
    "endpoint <- \"http://localhost:12800\"\n",
    "# In jupyter you need to pass username and password as argument. \n",
    "# From an R IDE like RStudio or RTVS you can exclude username and password arg to be prompted with a login box\n",
    "# See this same example slightly modified to run in R IDE in c:\\dsvm\\samples\\mrsdeploy\n",
    "remoteLogin(endpoint, session = FALSE, diff = FALSE, username=\"ENTER MRS Operationalization USERNAME\", password=\"MRS Operationalization  PASSWORD\")"
   ]
  },
  {
   "cell_type": "code",
   "execution_count": 12,
   "metadata": {
    "collapsed": false
   },
   "outputs": [],
   "source": [
    "service_name <- paste0(\"BostonhomepricePredictService\", round(as.numeric(Sys.time()), 0))\n",
    "api <- publishService(\n",
    "  service_name,\n",
    "  code = homepricepredict,\n",
    "  model = lm1,\n",
    "  inputs = list(crim = 'numeric', zn= 'numeric', indus= 'numeric', chas= 'numeric', nox= 'numeric', rm= 'numeric', age= 'numeric', dis= 'numeric' \n",
    "                ,rad= 'numeric',tax= 'numeric',ptratio= 'numeric',black= 'numeric',lstat= 'numeric'),\n",
    "  outputs = list(medv = 'numeric'),\n",
    "  v = 'v1.0.0'\n",
    ")"
   ]
  },
  {
   "cell_type": "markdown",
   "metadata": {},
   "source": [
    "### Consume a web service\n",
    "\n",
    "After setting up a web service, you can use R to consume the model, either in the same session, or by saving some data about the web service, in any other (future) R session.\n",
    "\n",
    "#### In-session consumption\n",
    "\n",
    "If you are consuming the web service in the same session that the web service was set up, you can refer to the endpoint (api variable above) directly.\n",
    "\n"
   ]
  },
  {
   "cell_type": "code",
   "execution_count": null,
   "metadata": {
    "collapsed": false
   },
   "outputs": [],
   "source": [
    "api$capabilities()\n",
    "#Consume the service\n",
    "medvpred <- api$homepricepredict(0.14455, 12.5,  7.87,    0, 0.524, 6.172, 96.1 ,5.9505,   5, 311,    15.2, 396.9, 19.15)\n",
    "\n",
    "medvpred$output(\"medv\")\n",
    "\n",
    "#List all services\n",
    "services <- listServices()\n",
    "services\n",
    "\n",
    "#Generate swagger json file\n",
    "cat(api$swagger(), file = \"homevaluePredict.json\")\n",
    "\n",
    "#Logout\n",
    "remoteLogout()\n"
   ]
  },
  {
   "cell_type": "markdown",
   "metadata": {},
   "source": [
    "## Conclusion\n",
    "\n",
    "In this example, you learned how to fit a model, deploy the model on Microsoft R Server and consume the service.\n",
    "\n",
    "The `mrsdeploy` R package helps you easily deploy R (both open source and Microsoft R) within the R Server and allow consumption from applications using any language on the client. "
   ]
  },
  {
   "cell_type": "code",
   "execution_count": null,
   "metadata": {
    "collapsed": true
   },
   "outputs": [],
   "source": []
  }
 ],
 "metadata": {
  "kernelspec": {
   "display_name": "R",
   "language": "R",
   "name": "ir"
  },
  "language_info": {
   "codemirror_mode": "r",
   "file_extension": ".r",
   "mimetype": "text/x-r-source",
   "name": "R",
   "pygments_lexer": "r",
   "version": "3.3.2"
  }
 },
 "nbformat": 4,
 "nbformat_minor": 0
}
