{
 "cells": [
  {
   "cell_type": "markdown",
   "metadata": {},
   "source": [
    "### Handwriting recognition using MXnet - Distributed Deep learning platform in Julia\n",
    "\n",
    "This demo shows how to build a simple neural nets based handwriting recognition system.\n",
    "\n",
    "We use MNIST data which, the training set consists of 60,000 labeled samples, and test on 10,000 images.\n",
    "\n",
    "** Credits **\n",
    "\n",
    "[Original source](https://github.com/dmlc/MXNet.jl/tree/master/examples)\n"
   ]
  },
  {
   "cell_type": "code",
   "execution_count": 9,
   "metadata": {
    "collapsed": false
   },
   "outputs": [],
   "source": [
    "using MXNet"
   ]
  },
  {
   "cell_type": "markdown",
   "metadata": {},
   "source": [
    "### Network definition\n",
    "\n",
    "We construct a simple 3-layer MLP(Multi layer perceptron).\n",
    "\n"
   ]
  },
  {
   "cell_type": "markdown",
   "metadata": {},
   "source": [
    "Variables are place holders for input arrays. We give each variable a unique name."
   ]
  },
  {
   "cell_type": "code",
   "execution_count": 2,
   "metadata": {
    "collapsed": false
   },
   "outputs": [
    {
     "data": {
      "text/plain": [
       "MXNet.mx.SymbolicNode(MXNet.mx.MX_SymbolHandle(Ptr{Void} @0x000000000a3d0420))"
      ]
     },
     "execution_count": 2,
     "metadata": {},
     "output_type": "execute_result"
    }
   ],
   "source": [
    "#-- Option 1: explicit composition\n",
    "data = mx.Variable(:data)"
   ]
  },
  {
   "cell_type": "markdown",
   "metadata": {},
   "source": [
    "The input is fed to a fully connected layer that computes Y=WX+b.\n",
    "This is the main computation module in the network.\n",
    "Each layer also needs an unique name. We'll talk more about naming in the next section."
   ]
  },
  {
   "cell_type": "code",
   "execution_count": 3,
   "metadata": {
    "collapsed": false
   },
   "outputs": [
    {
     "data": {
      "text/plain": [
       "MXNet.mx.SymbolicNode(MXNet.mx.MX_SymbolHandle(Ptr{Void} @0x000000000a3d0480))"
      ]
     },
     "execution_count": 3,
     "metadata": {},
     "output_type": "execute_result"
    }
   ],
   "source": [
    "fc1  = mx.FullyConnected(data = data, name=:fc1, num_hidden=128)\n"
   ]
  },
  {
   "cell_type": "markdown",
   "metadata": {},
   "source": [
    "Activation layers apply a non-linear function on the previous layer's output.\n",
    "Here we use Rectified Linear Unit (ReLU) that computes Y = max(X, 0)."
   ]
  },
  {
   "cell_type": "code",
   "execution_count": 4,
   "metadata": {
    "collapsed": false
   },
   "outputs": [
    {
     "data": {
      "text/plain": [
       "MXNet.mx.SymbolicNode(MXNet.mx.MX_SymbolHandle(Ptr{Void} @0x000000000a3d0a80))"
      ]
     },
     "execution_count": 4,
     "metadata": {},
     "output_type": "execute_result"
    }
   ],
   "source": [
    "act1 = mx.Activation(data = fc1, name=:relu1, act_type=:relu)\n",
    "fc2  = mx.FullyConnected(data = act1, name=:fc2, num_hidden=64)\n",
    "act2 = mx.Activation(data = fc2, name=:relu2, act_type=:relu)\n",
    "fc3  = mx.FullyConnected(data = act2, name=:fc3, num_hidden=10)"
   ]
  },
  {
   "cell_type": "markdown",
   "metadata": {},
   "source": [
    "Finally we have a loss layer that compares the network's output with label and generates gradient signals."
   ]
  },
  {
   "cell_type": "code",
   "execution_count": 5,
   "metadata": {
    "collapsed": false
   },
   "outputs": [
    {
     "data": {
      "text/plain": [
       "MXNet.mx.SymbolicNode(MXNet.mx.MX_SymbolHandle(Ptr{Void} @0x000000000a629ea0))"
      ]
     },
     "execution_count": 5,
     "metadata": {},
     "output_type": "execute_result"
    }
   ],
   "source": [
    "mlp = mx.SoftmaxOutput(data = fc3, name=:softmax)"
   ]
  },
  {
   "cell_type": "markdown",
   "metadata": {},
   "source": [
    "### Data Loading \n",
    "\n",
    "We fetch and load the MNIST dataset and partition it into two sets: 60000 examples for training and 10000 examples for testing. We also visualize a few examples to get an idea of what the dataset looks like."
   ]
  },
  {
   "cell_type": "code",
   "execution_count": 6,
   "metadata": {
    "collapsed": false
   },
   "outputs": [
    {
     "data": {
      "text/plain": [
       "(MXNet.mx.MXDataProvider(MXNet.mx.MX_DataIterHandle(Ptr{Void} @0x000000000a8e50b0),Tuple{Symbol,Tuple}[(:data,(784,100))],Tuple{Symbol,Tuple}[(:softmax_label,(100,))],100,true,true),MXNet.mx.MXDataProvider(MXNet.mx.MX_DataIterHandle(Ptr{Void} @0x000000000ac682a0),Tuple{Symbol,Tuple}[(:data,(784,100))],Tuple{Symbol,Tuple}[(:softmax_label,(100,))],100,true,true))"
      ]
     },
     "execution_count": 6,
     "metadata": {},
     "output_type": "execute_result"
    }
   ],
   "source": [
    "batch_size = 100\n",
    "include(joinpath(Pkg.dir(\"MXNet\"),\"examples\",\"mnist\",\"mnist-data.jl\"))\n",
    "train_provider, eval_provider = get_mnist_providers(batch_size)"
   ]
  },
  {
   "cell_type": "markdown",
   "metadata": {},
   "source": [
    "### Training\n",
    "\n",
    "With the network and data source defined, we can finally start to train our model. We do this with MXNet's convenience wrapper for feed forward neural networks (it can also be made to handle RNNs with explicit unrolling).\n"
   ]
  },
  {
   "cell_type": "code",
   "execution_count": 7,
   "metadata": {
    "collapsed": false
   },
   "outputs": [
    {
     "name": "stderr",
     "output_type": "stream",
     "text": [
      "\u001b[1m\u001b[34mINFO: Start training on MXNet.mx.Context[CPU0]\n",
      "\u001b[0m\u001b[1m\u001b[34mINFO: Initializing parameters...\n",
      "\u001b[0m\u001b[1m\u001b[34mINFO: Creating KVStore...\n",
      "\u001b[0m\u001b[1m\u001b[34mINFO: TempSpace: Total 0 MB allocated on CPU0\n",
      "\u001b[0m\u001b[1m\u001b[34mINFO: Start training...\n",
      "\u001b[0m\u001b[1m\u001b[34mINFO: == Epoch 001 ==========\n",
      "\u001b[0m\u001b[1m\u001b[34mINFO: ## Training summary\n",
      "\u001b[0m\u001b[1m\u001b[34mINFO:           accuracy = 0.7613\n",
      "\u001b[0m\u001b[1m\u001b[34mINFO:               time = 2.0320 seconds\n",
      "\u001b[0m\u001b[1m\u001b[34mINFO: ## Validation summary\n",
      "\u001b[0m\u001b[1m\u001b[34mINFO:           accuracy = 0.9534\n",
      "\u001b[0m\u001b[1m\u001b[34mINFO: == Epoch 002 ==========\n",
      "\u001b[0m\u001b[1m\u001b[34mINFO: ## Training summary\n",
      "\u001b[0m\u001b[1m\u001b[34mINFO:           accuracy = 0.9594\n",
      "\u001b[0m\u001b[1m\u001b[34mINFO:               time = 1.5780 seconds\n",
      "\u001b[0m\u001b[1m\u001b[34mINFO: ## Validation summary\n",
      "\u001b[0m\u001b[1m\u001b[34mINFO:           accuracy = 0.9625\n",
      "\u001b[0m\u001b[1m\u001b[34mINFO: == Epoch 003 ==========\n",
      "\u001b[0m\u001b[1m\u001b[34mINFO: ## Training summary\n",
      "\u001b[0m\u001b[1m\u001b[34mINFO:           accuracy = 0.9716\n",
      "\u001b[0m\u001b[1m\u001b[34mINFO:               time = 1.9220 seconds\n",
      "\u001b[0m\u001b[1m\u001b[34mINFO: ## Validation summary\n",
      "\u001b[0m\u001b[1m\u001b[34mINFO:           accuracy = 0.9702\n",
      "\u001b[0m\u001b[1m\u001b[34mINFO: == Epoch 004 ==========\n",
      "\u001b[0m\u001b[1m\u001b[34mINFO: ## Training summary\n",
      "\u001b[0m\u001b[1m\u001b[34mINFO:           accuracy = 0.9768\n",
      "\u001b[0m\u001b[1m\u001b[34mINFO:               time = 1.6870 seconds\n",
      "\u001b[0m\u001b[1m\u001b[34mINFO: ## Validation summary\n",
      "\u001b[0m\u001b[1m\u001b[34mINFO:           accuracy = 0.9706\n",
      "\u001b[0m\u001b[1m\u001b[34mINFO: == Epoch 005 ==========\n",
      "\u001b[0m\u001b[1m\u001b[34mINFO: ## Training summary\n",
      "\u001b[0m\u001b[1m\u001b[34mINFO:           accuracy = 0.9814\n",
      "\u001b[0m\u001b[1m\u001b[34mINFO:               time = 1.6250 seconds\n",
      "\u001b[0m\u001b[1m\u001b[34mINFO: ## Validation summary\n",
      "\u001b[0m\u001b[1m\u001b[34mINFO:           accuracy = 0.9757\n",
      "\u001b[0m\u001b[1m\u001b[34mINFO: == Epoch 006 ==========\n",
      "\u001b[0m\u001b[1m\u001b[34mINFO: ## Training summary\n",
      "\u001b[0m\u001b[1m\u001b[34mINFO:           accuracy = 0.9845\n",
      "\u001b[0m\u001b[1m\u001b[34mINFO:               time = 1.5470 seconds\n",
      "\u001b[0m\u001b[1m\u001b[34mINFO: ## Validation summary\n",
      "\u001b[0m\u001b[1m\u001b[34mINFO:           accuracy = 0.9708\n",
      "\u001b[0m\u001b[1m\u001b[34mINFO: == Epoch 007 ==========\n",
      "\u001b[0m\u001b[1m\u001b[34mINFO: ## Training summary\n",
      "\u001b[0m\u001b[1m\u001b[34mINFO:           accuracy = 0.9858\n",
      "\u001b[0m\u001b[1m\u001b[34mINFO:               time = 1.5780 seconds\n",
      "\u001b[0m\u001b[1m\u001b[34mINFO: ## Validation summary\n",
      "\u001b[0m\u001b[1m\u001b[34mINFO:           accuracy = 0.9727\n",
      "\u001b[0m\u001b[1m\u001b[34mINFO: == Epoch 008 ==========\n",
      "\u001b[0m\u001b[1m\u001b[34mINFO: ## Training summary\n",
      "\u001b[0m\u001b[1m\u001b[34mINFO:           accuracy = 0.9889\n",
      "\u001b[0m\u001b[1m\u001b[34mINFO:               time = 1.7030 seconds\n",
      "\u001b[0m\u001b[1m\u001b[34mINFO: ## Validation summary\n",
      "\u001b[0m\u001b[1m\u001b[34mINFO:           accuracy = 0.9728\n",
      "\u001b[0m\u001b[1m\u001b[34mINFO: == Epoch 009 ==========\n",
      "\u001b[0m\u001b[1m\u001b[34mINFO: ## Training summary\n",
      "\u001b[0m\u001b[1m\u001b[34mINFO:           accuracy = 0.9888\n",
      "\u001b[0m\u001b[1m\u001b[34mINFO:               time = 1.6090 seconds\n",
      "\u001b[0m\u001b[1m\u001b[34mINFO: ## Validation summary\n",
      "\u001b[0m\u001b[1m\u001b[34mINFO:           accuracy = 0.9759\n",
      "\u001b[0m\u001b[1m\u001b[34mINFO: == Epoch 010 ==========\n",
      "\u001b[0m\u001b[1m\u001b[34mINFO: ## Training summary\n",
      "\u001b[0m\u001b[1m\u001b[34mINFO:           accuracy = 0.9897\n",
      "\u001b[0m\u001b[1m\u001b[34mINFO:               time = 1.7650 seconds\n",
      "\u001b[0m\u001b[1m\u001b[34mINFO: ## Validation summary\n",
      "\u001b[0m\u001b[1m\u001b[34mINFO:           accuracy = 0.9747\n",
      "\u001b[0m\u001b[1m\u001b[34mINFO: == Epoch 011 ==========\n",
      "\u001b[0m\u001b[1m\u001b[34mINFO: ## Training summary\n",
      "\u001b[0m\u001b[1m\u001b[34mINFO:           accuracy = 0.9905\n",
      "\u001b[0m\u001b[1m\u001b[34mINFO:               time = 1.8430 seconds\n",
      "\u001b[0m\u001b[1m\u001b[34mINFO: ## Validation summary\n",
      "\u001b[0m\u001b[1m\u001b[34mINFO:           accuracy = 0.9779\n",
      "\u001b[0m\u001b[1m\u001b[34mINFO: == Epoch 012 ==========\n",
      "\u001b[0m\u001b[1m\u001b[34mINFO: ## Training summary\n",
      "\u001b[0m\u001b[1m\u001b[34mINFO:           accuracy = 0.9910\n",
      "\u001b[0m\u001b[1m\u001b[34mINFO:               time = 2.0310 seconds\n",
      "\u001b[0m\u001b[1m\u001b[34mINFO: ## Validation summary\n",
      "\u001b[0m\u001b[1m\u001b[34mINFO:           accuracy = 0.9740\n",
      "\u001b[0m\u001b[1m\u001b[34mINFO: == Epoch 013 ==========\n",
      "\u001b[0m\u001b[1m\u001b[34mINFO: ## Training summary\n",
      "\u001b[0m\u001b[1m\u001b[34mINFO:           accuracy = 0.9915\n",
      "\u001b[0m\u001b[1m\u001b[34mINFO:               time = 1.5160 seconds\n",
      "\u001b[0m\u001b[1m\u001b[34mINFO: ## Validation summary\n",
      "\u001b[0m\u001b[1m\u001b[34mINFO:           accuracy = 0.9740\n",
      "\u001b[0m\u001b[1m\u001b[34mINFO: == Epoch 014 ==========\n",
      "\u001b[0m\u001b[1m\u001b[34mINFO: ## Training summary\n",
      "\u001b[0m\u001b[1m\u001b[34mINFO:           accuracy = 0.9923\n",
      "\u001b[0m\u001b[1m\u001b[34mINFO:               time = 1.5470 seconds\n",
      "\u001b[0m\u001b[1m\u001b[34mINFO: ## Validation summary\n",
      "\u001b[0m\u001b[1m\u001b[34mINFO:           accuracy = 0.9761\n",
      "\u001b[0m\u001b[1m\u001b[34mINFO: == Epoch 015 ==========\n",
      "\u001b[0m\u001b[1m\u001b[34mINFO: ## Training summary\n",
      "\u001b[0m\u001b[1m\u001b[34mINFO:           accuracy = 0.9930\n",
      "\u001b[0m\u001b[1m\u001b[34mINFO:               time = 1.5310 seconds\n",
      "\u001b[0m\u001b[1m\u001b[34mINFO: ## Validation summary\n",
      "\u001b[0m\u001b[1m\u001b[34mINFO:           accuracy = 0.9773\n",
      "\u001b[0m\u001b[1m\u001b[34mINFO: == Epoch 016 ==========\n",
      "\u001b[0m\u001b[1m\u001b[34mINFO: ## Training summary\n",
      "\u001b[0m\u001b[1m\u001b[34mINFO:           accuracy = 0.9942\n",
      "\u001b[0m\u001b[1m\u001b[34mINFO:               time = 1.5780 seconds\n",
      "\u001b[0m\u001b[1m\u001b[34mINFO: ## Validation summary\n",
      "\u001b[0m\u001b[1m\u001b[34mINFO:           accuracy = 0.9789\n",
      "\u001b[0m\u001b[1m\u001b[34mINFO: == Epoch 017 ==========\n",
      "\u001b[0m\u001b[1m\u001b[34mINFO: ## Training summary\n",
      "\u001b[0m\u001b[1m\u001b[34mINFO:           accuracy = 0.9935\n",
      "\u001b[0m\u001b[1m\u001b[34mINFO:               time = 1.8280 seconds\n",
      "\u001b[0m\u001b[1m\u001b[34mINFO: ## Validation summary\n",
      "\u001b[0m\u001b[1m\u001b[34mINFO:           accuracy = 0.9771\n",
      "\u001b[0m\u001b[1m\u001b[34mINFO: == Epoch 018 ==========\n",
      "\u001b[0m\u001b[1m\u001b[34mINFO: ## Training summary\n",
      "\u001b[0m\u001b[1m\u001b[34mINFO:           accuracy = 0.9937\n",
      "\u001b[0m\u001b[1m\u001b[34mINFO:               time = 1.6410 seconds\n",
      "\u001b[0m\u001b[1m\u001b[34mINFO: ## Validation summary\n",
      "\u001b[0m\u001b[1m\u001b[34mINFO:           accuracy = 0.9793\n",
      "\u001b[0m\u001b[1m\u001b[34mINFO: == Epoch 019 ==========\n",
      "\u001b[0m\u001b[1m\u001b[34mINFO: ## Training summary\n",
      "\u001b[0m\u001b[1m\u001b[34mINFO:           accuracy = 0.9945\n",
      "\u001b[0m\u001b[1m\u001b[34mINFO:               time = 1.9370 seconds\n",
      "\u001b[0m\u001b[1m\u001b[34mINFO: ## Validation summary\n",
      "\u001b[0m\u001b[1m\u001b[34mINFO:           accuracy = 0.9784\n",
      "\u001b[0m\u001b[1m\u001b[34mINFO: == Epoch 020 ==========\n",
      "\u001b[0m\u001b[1m\u001b[34mINFO: ## Training summary\n",
      "\u001b[0m\u001b[1m\u001b[34mINFO:           accuracy = 0.9941\n",
      "\u001b[0m\u001b[1m\u001b[34mINFO:               time = 1.7810 seconds\n",
      "\u001b[0m\u001b[1m\u001b[34mINFO: ## Validation summary\n",
      "\u001b[0m\u001b[1m\u001b[34mINFO:           accuracy = 0.9752\n",
      "\u001b[0m"
     ]
    }
   ],
   "source": [
    "model = mx.FeedForward(mlp, context=mx.cpu())\n",
    "\n",
    "# optimizer\n",
    "optimizer = mx.SGD(lr=0.1, momentum=0.9, weight_decay=0.00001)\n",
    "\n",
    "# fit parameters\n",
    "mx.fit(model, optimizer, train_provider, eval_data=eval_provider, n_epoch=20)\n"
   ]
  },
  {
   "cell_type": "code",
   "execution_count": 8,
   "metadata": {
    "collapsed": false
   },
   "outputs": [
    {
     "name": "stderr",
     "output_type": "stream",
     "text": [
      "\u001b[1m\u001b[34mINFO: TempSpace: Total 0 MB allocated on CPU0\n",
      "\u001b[0m"
     ]
    },
    {
     "data": {
      "text/plain": [
       "10×10000 Array{Float32,2}:\n",
       " 2.7592f-13   2.2813f-16   8.19169f-10  …  3.95268f-15  2.00731f-19\n",
       " 1.12923f-13  1.53626f-15  0.999995        2.03693f-24  4.82747f-20\n",
       " 1.72981f-12  1.0          5.23094f-9      2.44641f-23  5.95852f-18\n",
       " 2.23802f-12  2.51851f-16  1.42238f-10     1.13823f-16  1.39462f-25\n",
       " 2.80721f-15  4.88567f-18  4.96745f-6      6.00545f-23  1.00998f-15\n",
       " 2.18267f-14  3.27711f-21  1.37281f-10  …  1.0          1.72565f-17\n",
       " 2.89086f-19  7.09912f-17  4.64837f-9      9.26938f-13  1.0        \n",
       " 1.0          3.85409f-20  2.94261f-7      2.09347f-18  1.76729f-25\n",
       " 3.30772f-13  4.47905f-20  2.41562f-7      2.73302f-13  1.10216f-15\n",
       " 6.86849f-11  8.52513f-27  1.32489f-10     8.94669f-16  5.7505f-22 "
      ]
     },
     "execution_count": 8,
     "metadata": {},
     "output_type": "execute_result"
    }
   ],
   "source": [
    "probs = mx.predict(model, eval_provider)"
   ]
  },
  {
   "cell_type": "code",
   "execution_count": 20,
   "metadata": {
    "collapsed": false
   },
   "outputs": [
    {
     "data": {
      "text/plain": [
       "10000-element Array{Float32,1}:\n",
       " 7.0\n",
       " 2.0\n",
       " 1.0\n",
       " 0.0\n",
       " 4.0\n",
       " 1.0\n",
       " 4.0\n",
       " 9.0\n",
       " 5.0\n",
       " 9.0\n",
       " 0.0\n",
       " 6.0\n",
       " 9.0\n",
       " ⋮  \n",
       " 5.0\n",
       " 6.0\n",
       " 7.0\n",
       " 8.0\n",
       " 9.0\n",
       " 0.0\n",
       " 1.0\n",
       " 2.0\n",
       " 3.0\n",
       " 4.0\n",
       " 5.0\n",
       " 6.0"
      ]
     },
     "execution_count": 20,
     "metadata": {},
     "output_type": "execute_result"
    }
   ],
   "source": [
    "labels = Array[]\n",
    "for batch in eval_provider\n",
    "  push!(labels, copy(mx.get(eval_provider, batch, :softmax_label)))\n",
    "end\n",
    "labels = cat(1, labels...)\n"
   ]
  },
  {
   "cell_type": "markdown",
   "metadata": {},
   "source": [
    "### Visualise the network\n",
    "\n",
    "PS : Needs create permissions"
   ]
  },
  {
   "cell_type": "code",
   "execution_count": 1,
   "metadata": {
    "collapsed": false
   },
   "outputs": [
    {
     "ename": "LoadError",
     "evalue": "UndefVarError: mx not defined",
     "output_type": "error",
     "traceback": [
      "UndefVarError: mx not defined",
      "",
      " in #1 at .\\In[1]:2 [inlined]",
      " in open(::##1#2, ::String, ::String) at .\\iostream.jl:113"
     ]
    }
   ],
   "source": [
    "open(\"visualize.dot\", \"w\") do io\n",
    "    println(io, mx.to_graphviz(mlp))\n",
    "end\n",
    "run(pipeline(`dot -Tsvg visualize.dot`, stdout=\"visualize.svg\"))\n"
   ]
  },
  {
   "cell_type": "markdown",
   "metadata": {},
   "source": [
    "<img src=\".\\visualize.svg\" width=\"100\">"
   ]
  },
  {
   "cell_type": "markdown",
   "metadata": {},
   "source": [
    "### Evaluation\n",
    "\n",
    "After the model is trained, we can evaluate it on a held out test set. First, lets classity a sample image:"
   ]
  },
  {
   "cell_type": "code",
   "execution_count": 22,
   "metadata": {
    "collapsed": false
   },
   "outputs": [
    {
     "name": "stdout",
     "output_type": "stream",
     "text": [
      "Accuracy on eval set: 97.88%\n"
     ]
    }
   ],
   "source": [
    "correct = 0\n",
    "for i = 1:length(labels)\n",
    "  # labels are 0...9\n",
    "  if indmax(probs[:,i]) == labels[i]+1\n",
    "    correct += 1\n",
    "  end\n",
    "end\n",
    "println(mx.format(\"Accuracy on eval set: {1:.2f}%\", 100correct/length(labels)))\n"
   ]
  },
  {
   "cell_type": "code",
   "execution_count": null,
   "metadata": {
    "collapsed": true
   },
   "outputs": [],
   "source": []
  }
 ],
 "metadata": {
  "anaconda-cloud": {},
  "kernelspec": {
   "display_name": "Julia 0.5.0",
   "language": "julia",
   "name": "julia-0.5"
  },
  "language_info": {
   "file_extension": ".jl",
   "mimetype": "application/julia",
   "name": "julia",
   "version": "0.5.0"
  }
 },
 "nbformat": 4,
 "nbformat_minor": 0
}
