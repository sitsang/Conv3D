{
 "cells": [
  {
   "cell_type": "markdown",
   "metadata": {},
   "source": [
    "### Parallel Movie recommender system \n",
    "\n",
    "This notebook demos collaborative filtering based movie recommender systems in Julia. The package [RecSys.jl](https://github.com/abhijithch/RecSys.jl/) is a package for recommender systems in Julia, it can currently work with explicit ratings data. This demos a parallel implementation of the ALS factorization based collaborative filtering for movie recommendations based on [this](http://dl.acm.org/citation.cfm?id=1424269) research article. The detailed report of the system is [here](http://juliacomputing.com/blog/2016/04/22/a-parallel-recommendation-engine-in-julia.html).\n",
    "\n",
    "### Collaborative Filtering using weighted ALS factorization :\n",
    "\n",
    "<img src=\"./images/als.png\" width=\"550\">\n",
    "\n",
    "Let $U={u_i}$ be the user feature matrix where ${u_i} \\subseteq\\mathbb{R}^{n_f}$ and $i=1,2,...,n_u$, and let $M={m_j}$ be the item or movie feature matrix, where ${m_j} \\subseteq \\mathbb{R}^{n_f}$ and $j=1,2,...,n_m$. Here $n_f$ is the number of factors, i.e., the reduced dimension or the lower rank, which is determined by cross validation. The predictions can be calculated for any user-movie combination,\n",
    "$(i,j)$, as $r_{ij}={u_i} \\cdotp {m_j}, \\forall i,j$.\n",
    "\n",
    "** Credits ** :\n",
    "\n",
    "[Large-Scale Parallel Collaborative Filtering for the Netflix Prize](http://dl.acm.org/citation.cfm?id=1424269)\n",
    "\n",
    "[Movielens dataset](http://grouplens.org/datasets/movielens/)"
   ]
  },
  {
   "cell_type": "code",
   "execution_count": 4,
   "metadata": {
    "collapsed": false
   },
   "outputs": [
    {
     "data": {
      "text/plain": [
       "test_chunks (generic function with 1 method)"
      ]
     },
     "execution_count": 4,
     "metadata": {},
     "output_type": "execute_result"
    }
   ],
   "source": [
    "using RecSys\n",
    "include(joinpath(Pkg.dir(\"RecSys\"), \"examples\", \"movielens\", \"movielens.jl\"))"
   ]
  },
  {
   "cell_type": "markdown",
   "metadata": {},
   "source": [
    "### Dataset : \n",
    "\n",
    "GroupLens Research has collected and made available rating data sets from the [MovieLens](http://movielens.org) web site. \n",
    "\n",
    "#### MovieLens 20M Dataset\n",
    "\n",
    "We have used the 20 million ratings dataset, which must be downloaded into /data/recommender folder. We use the ratings data to form a sparse matrix of size `138,000 X 27,000` with 20 million ratings ranging from 1 to 5."
   ]
  },
  {
   "cell_type": "code",
   "execution_count": 1,
   "metadata": {
    "collapsed": false
   },
   "outputs": [
    {
     "data": {
      "text/plain": [
       "\"C:\\\\dsvm\\\\notebooks\\\\Julia_notebooks\\\\data\\\\recommender\""
      ]
     },
     "execution_count": 1,
     "metadata": {},
     "output_type": "execute_result"
    }
   ],
   "source": [
    "# Please specify path to the data folder which includes the 20 million ratings data folder \"ml-20m\"\n",
    "dataset_path = joinpath(\"C:\\\\dsvm\\\\notebooks\\\\Julia_notebooks\\\\\",\"data\",\"recommender\")"
   ]
  },
  {
   "cell_type": "code",
   "execution_count": 2,
   "metadata": {
    "collapsed": false
   },
   "outputs": [
    {
     "data": {
      "text/plain": [
       "\"ml-20m\""
      ]
     },
     "execution_count": 2,
     "metadata": {},
     "output_type": "execute_result"
    }
   ],
   "source": [
    "data_folder = \"ml-20m\""
   ]
  },
  {
   "cell_type": "markdown",
   "metadata": {},
   "source": [
    "Creating file handles to the movie ratings and the movies list files."
   ]
  },
  {
   "cell_type": "code",
   "execution_count": 5,
   "metadata": {
    "collapsed": false
   },
   "outputs": [
    {
     "data": {
      "text/plain": [
       "RecSys.DlmFile(\"C:\\\\dsvm\\\\notebooks\\\\Julia_notebooks\\\\data\\\\recommender\\\\ml-20m\\\\movies.csv\",',',true,true)"
      ]
     },
     "execution_count": 5,
     "metadata": {},
     "output_type": "execute_result"
    }
   ],
   "source": [
    "ratings_file = DlmFile(joinpath(dataset_path,data_folder, \"ratings.csv\"); dlm=',', header=true)\n",
    "movies_file = DlmFile(joinpath(dataset_path,data_folder, \"movies.csv\"); dlm=',', header=true)"
   ]
  },
  {
   "cell_type": "markdown",
   "metadata": {
    "collapsed": false
   },
   "source": [
    "#### Parallel implementations :\n",
    "\n",
    "This package offers 3 modes of parallelism, \n",
    "\n",
    "1. Multi-threading - Julia native threading infrastructure provides an easy way to make use threads.\n",
    "2. Shared memory - This is a multiprocessing using shared data.\n",
    "3. Distributed memory - This is distributed memory based multiprocessing, this would require that the data be split into chunks. There is code to do this, refer ...\n",
    "\n",
    "Multiple Dispatch is a nice feature in Julia, which would dispatch to the correct implementation based on the type of the objects passed as arguments. \n",
    "\n",
    "For e.x., if we need to train the model using shared memory multiprocessing, the type of `MovieRec` is `MovieRec(trainingset::FileSpec, movie_names::FileSpec)` and if we need distributed memory model the type of `MovieRec` is `MovieRec(user_item_ratings::FileSpec, item_user_ratings::FileSpec, movie_names::FileSpec)`.\n"
   ]
  },
  {
   "cell_type": "code",
   "execution_count": 11,
   "metadata": {
    "collapsed": false
   },
   "outputs": [
    {
     "data": {
      "text/plain": [
       "MovieRec(RecSys.DlmFile(\"C:\\\\dsvm\\\\notebooks\\\\Julia_notebooks\\\\data\\\\recommender\\\\ml-20m\\\\movies.csv\",',',true,true),RecSys.ALSWR{RecSys.ParShmem,RecSys.SharedMemoryInputs,RecSys.SharedMemoryModel}(RecSys.SharedMemoryInputs(RecSys.DlmFile(\"C:\\\\dsvm\\\\notebooks\\\\Julia_notebooks\\\\data\\\\recommender\\\\ml-20m\\\\ratings.csv\",',',true,true),0,0,Nullable{Union{ParallelSparseMatMul.SharedSparseMatrixCSC{Float64,Int64},RecSys.MatrixBlobs.SparseMatBlobs{Tv,Ti},SparseMatrixCSC{Float64,Int64}}}(),Nullable{Union{ParallelSparseMatMul.SharedSparseMatrixCSC{Float64,Int64},RecSys.MatrixBlobs.SparseMatBlobs{Tv,Ti},SparseMatrixCSC{Float64,Int64}}}(),Nullable{Union{Array{Int64,1},SharedArray{Int64,1}}}(),Nullable{Union{Array{Int64,1},SharedArray{Int64,1}}}()),Nullable{RecSys.SharedMemoryModel}(),RecSys.ParShmem()),Nullable{SparseVector{AbstractString,Int64}}())"
      ]
     },
     "execution_count": 11,
     "metadata": {},
     "output_type": "execute_result"
    }
   ],
   "source": [
    "rec = MovieRec(ratings_file, movies_file)"
   ]
  },
  {
   "cell_type": "markdown",
   "metadata": {},
   "source": [
    "Let us train the model with `10` factors and `10` iterations."
   ]
  },
  {
   "cell_type": "code",
   "execution_count": 10,
   "metadata": {
    "collapsed": false,
    "scrolled": true
   },
   "outputs": [
    {
     "name": "stdout",
     "output_type": "stream",
     "text": [
      "113.227545 seconds (286.02 M allocations: 68.991 GB, 23.24% gc time)\n"
     ]
    }
   ],
   "source": [
    " \n",
    "@time train(rec, 10, 10)"
   ]
  },
  {
   "cell_type": "code",
   "execution_count": 14,
   "metadata": {
    "collapsed": false
   },
   "outputs": [
    {
     "data": {
      "text/plain": [
       "0.7530518439786652"
      ]
     },
     "execution_count": 14,
     "metadata": {},
     "output_type": "execute_result"
    }
   ],
   "source": [
    "err = rmse(rec)"
   ]
  },
  {
   "cell_type": "markdown",
   "metadata": {},
   "source": [
    "#### Select a user, for which we show the movies watched and the recommendations for the user. "
   ]
  },
  {
   "cell_type": "code",
   "execution_count": 15,
   "metadata": {
    "collapsed": false
   },
   "outputs": [
    {
     "name": "stdout",
     "output_type": "stream",
     "text": [
      "Already watched:\n",
      "  [1 ]  =  \"Nixon (1995) - Drama\"\n",
      "  [2 ]  =  \"Leaving Las Vegas (1995) - Drama|Romance\"\n",
      "  [3 ]  =  \"Twelve Monkeys (a.k.a. 12 Monkeys) (1995) - Mystery|Sci-Fi|Thriller\"\n",
      "  [4 ]  =  \"Clueless (1995) - Comedy|Romance\"\n",
      "  [5 ]  =  \"Usual Suspects, The (1995) - Crime|Mystery|Thriller\"\n",
      "  [6 ]  =  \"From Dusk Till Dawn (1996) - Action|Comedy|Horror|Thriller\"\n",
      "  [7 ]  =  \"Crimson Tide (1995) - Drama|Thriller|War\"\n",
      "  [8 ]  =  \"Crumb (1994) - Documentary\"\n",
      "  [9 ]  =  \"Net, The (1995) - Action|Crime|Thriller\"\n",
      "  [10]  =  \"Smoke (1995) - Comedy|Drama\"\n",
      "  [11]  =  \"Clerks (1994) - Comedy\"\n",
      "  [12]  =  \"Ed Wood (1994) - Comedy|Drama\"\n",
      "  [13]  =  \"Star Wars: Episode IV - A New Hope (1977) - Action|Adventure|Sci-Fi\"\n",
      "  [14]  =  \"Like Water for Chocolate (Como agua para chocolate) (1992) - Drama|Fantasy|Romance\"\n",
      "  [15]  =  \"Natural Born Killers (1994) - Action|Crime|Thriller\"\n",
      "  [16]  =  \"Léon: The Professional (a.k.a. The Professional) (Léon) (1994) - Action|Crime|Drama|Thriller\"\n",
      "  [17]  =  \"Pulp Fiction (1994) - Comedy|Crime|Drama|Thriller\"\n",
      "  [18]  =  \"Shawshank Redemption, The (1994) - Crime|Drama\"\n",
      "  [19]  =  \"Star Trek: Generations (1994) - Adventure|Drama|Sci-Fi\"\n",
      "  [20]  =  \"What's Eating Gilbert Grape (1993) - Drama\"\n",
      "  [21]  =  \"While You Were Sleeping (1995) - Comedy|Romance\"\n",
      "  [22]  =  \"Muriel's Wedding (1994) - Comedy\"\n",
      "  [23]  =  \"Ace Ventura: Pet Detective (1994) - Comedy\"\n",
      "  [24]  =  \"Forrest Gump (1994) - Comedy|Drama|Romance|War\"\n",
      "  [25]  =  \"Boxing Helena (1993) - Drama|Mystery|Romance|Thriller\"\n",
      "  [26]  =  \"Carlito's Way (1993) - Crime|Drama\"\n",
      "  [27]  =  \"Cliffhanger (1993) - Action|Adventure|Thriller\"\n",
      "  [28]  =  \"Coneheads (1993) - Comedy|Sci-Fi\"\n",
      "  [29]  =  \"Hudsucker Proxy, The (1994) - Comedy\"\n",
      "  [30]  =  \"Kalifornia (1993) - Drama|Thriller\"\n",
      "  [31]  =  \"Mrs. Doubtfire (1993) - Comedy|Drama\"\n",
      "  [32]  =  \"Philadelphia (1993) - Drama\"\n",
      "  [33]  =  \"Schindler's List (1993) - Drama|War\"\n",
      "  [34]  =  \"Short Cuts (1993) - Drama\"\n",
      "  [35]  =  \"Six Degrees of Separation (1993) - Drama\"\n",
      "  [36]  =  \"Welcome to the Dollhouse (1995) - Comedy|Drama\"\n",
      "  [37]  =  \"Home Alone (1990) - Children|Comedy\"\n",
      "  [38]  =  \"Ghost (1990) - Comedy|Drama|Fantasy|Romance|Thriller\"\n",
      "  [39]  =  \"Terminator 2: Judgment Day (1991) - Action|Sci-Fi\"\n",
      "  [40]  =  \"Silence of the Lambs, The (1991) - Crime|Horror|Thriller\"\n",
      "  [41]  =  \"Fargo (1996) - Comedy|Crime|Drama|Thriller\"\n",
      "  [42]  =  \"Heavy Metal (1981) - Action|Adventure|Animation|Horror|Sci-Fi\"\n",
      "  [43]  =  \"Space Jam (1996) - Adventure|Animation|Children|Comedy|Fantasy|Sci-Fi\"\n",
      "  [44]  =  \"Alphaville (Alphaville, une étrange aventure de Lemmy Caution) (1965) - Drama|Mystery|Romance|Sci-Fi|Thriller\"\n",
      "  [45]  =  \"Truth About Cats & Dogs, The (1996) - Comedy|Romance\"\n",
      "  [46]  =  \"Cold Comfort Farm (1995) - Comedy\"\n",
      "  [47]  =  \"Trainspotting (1996) - Comedy|Crime|Drama\"\n",
      "  [48]  =  \"Independence Day (a.k.a. ID4) (1996) - Action|Adventure|Sci-Fi|Thriller\"\n",
      "  [49]  =  \"Palookaville (1996) - Action|Comedy|Drama\"\n",
      "  [50]  =  \"Star Wars: Episode VI - Return of the Jedi (1983) - Action|Adventure|Sci-Fi\"\n",
      "  [51]  =  \"Waiting for Guffman (1996) - Comedy\"\n",
      "  [52]  =  \"Fifth Element, The (1997) - Action|Adventure|Comedy|Sci-Fi\"\n",
      "\n",
      "Recommended:\n",
      "  [1 ]  =  \"Double Dhamaal (2011) - Comedy|Crime|Drama\"\n",
      "  [2 ]  =  \"Desperate Search (1952) - Adventure|Drama\"\n",
      "  [3 ]  =  \"Soo (Art of Revenge) (2007) - Action|Crime|Drama|Thriller\"\n",
      "  [4 ]  =  \"Caltiki the Undying Monster (1959) - Adventure|Horror|Sci-Fi|Thriller\"\n",
      "  [5 ]  =  \"Slim Carter (1957) - Comedy|Western\"\n",
      "  [6 ]  =  \"Diverted (2009) - Drama\"\n",
      "  [7 ]  =  \"First Texan, The (1956) - Western\"\n",
      "  [8 ]  =  \"BFFs (2014) - Comedy\"\n",
      "  [9 ]  =  \"My Wife, A Body to Love (1973) - (no genres listed)\"\n",
      "  [10]  =  \"Gardenia (1979) - Crime\"\n",
      "\n"
     ]
    }
   ],
   "source": [
    "user = 100\n",
    "print_recommendations(rec, recommend(rec, user)...)"
   ]
  }
 ],
 "metadata": {
  "kernelspec": {
   "display_name": "Julia 0.5.0",
   "language": "julia",
   "name": "julia-0.5"
  },
  "language_info": {
   "file_extension": ".jl",
   "mimetype": "application/julia",
   "name": "julia",
   "version": "0.5.0"
  }
 },
 "nbformat": 4,
 "nbformat_minor": 0
}
