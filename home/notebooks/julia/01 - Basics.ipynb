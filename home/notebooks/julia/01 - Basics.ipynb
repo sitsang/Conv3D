{
 "cells": [
  {
   "cell_type": "markdown",
   "metadata": {},
   "source": [
    "# Julia Basics\n",
    "\n",
    "Julia is a dynamic language.  You don't need type declarations, and can change variable types dynamically and interactively.\n",
    "\n",
    "For working with simple numbers, arrays, and strings, its syntax is *superficially* similar to Matlab, Python, and other popular languages.\n",
    "\n",
    "In order to execute the \"In\" cells, select the cell and press Shift-Enter, or press the Play button above. To run the entire notebook, navigate to Cell and then click Run All."
   ]
  },
  {
   "cell_type": "code",
   "execution_count": 1,
   "metadata": {
    "collapsed": false
   },
   "outputs": [
    {
     "data": {
      "text/plain": [
       "10×300 Array{Float64,2}:\n",
       " 0.199303    0.807953   0.234959  0.612172   …  0.565561  0.10045   0.535447 \n",
       " 0.792321    0.796017   0.115212  0.0666613     0.369344  0.685583  0.837895 \n",
       " 0.358139    0.851236   0.810143  0.0740501     0.665486  0.5571    0.689626 \n",
       " 0.00673657  0.292365   0.624293  0.141694      0.529474  0.396817  0.0895734\n",
       " 0.199555    0.0877816  0.390592  0.338528      0.963296  0.50743   0.935969 \n",
       " 0.498626    0.536413   0.232447  0.38021    …  0.644263  0.361233  0.535264 \n",
       " 0.909267    0.918876   0.279494  0.174887      0.821742  0.116334  0.29023  \n",
       " 0.230749    0.179439   0.28038   0.131042      0.149836  0.298521  0.627485 \n",
       " 0.8319      0.317322   0.64898   0.932991      0.199362  0.743695  0.143281 \n",
       " 0.909       0.924383   0.868328  0.311895      0.228628  0.998015  0.085297 "
      ]
     },
     "execution_count": 1,
     "metadata": {},
     "output_type": "execute_result"
    }
   ],
   "source": [
    "A = rand(10,300)"
   ]
  },
  {
   "cell_type": "markdown",
   "metadata": {},
   "source": [
    "It has all of the usual built-in Matlab/Numpy-like linear-algebra and vector functions:"
   ]
  },
  {
   "cell_type": "code",
   "execution_count": 2,
   "metadata": {
    "collapsed": false
   },
   "outputs": [
    {
     "data": {
      "text/plain": [
       "300-element Array{Float64,1}:\n",
       "  -3.11598e-13\n",
       "  -2.79697e-13\n",
       "  -2.07174e-13\n",
       "  -1.72021e-13\n",
       "  -1.22249e-13\n",
       "  -1.08918e-13\n",
       "  -8.24878e-14\n",
       "  -5.79481e-14\n",
       "  -5.0691e-14 \n",
       "  -3.65975e-14\n",
       "  -3.39463e-14\n",
       "  -3.26896e-14\n",
       "  -2.65688e-14\n",
       "   ⋮          \n",
       "   2.29629e-13\n",
       "   2.60062e-13\n",
       "  18.8152     \n",
       "  19.5033     \n",
       "  20.822      \n",
       "  23.2861     \n",
       "  24.1786     \n",
       "  25.5997     \n",
       "  26.2981     \n",
       "  27.9377     \n",
       "  32.8431     \n",
       " 767.145      "
      ]
     },
     "execution_count": 2,
     "metadata": {},
     "output_type": "execute_result"
    }
   ],
   "source": [
    "b = rand(10) # a random rank-10 vector\n",
    "x = A \\ b    # solve for x satisfying A*x = b; has rank 300\n",
    "B = A' * A   # A-transpose multiplied by A; is a 300x300 symmetrix matrix with real eigenvalues\n",
    "eigvals(B)"
   ]
  },
  {
   "cell_type": "markdown",
   "metadata": {},
   "source": [
    "It also supports convenient vectorisation of functions using the `.` operator:"
   ]
  },
  {
   "cell_type": "code",
   "execution_count": 3,
   "metadata": {
    "collapsed": false
   },
   "outputs": [
    {
     "data": {
      "text/plain": [
       "300-element Array{Float64,1}:\n",
       " -5.99349\n",
       " -5.96353\n",
       " -5.92181\n",
       " -5.93318\n",
       " -6.00649\n",
       " -6.01418\n",
       " -5.92672\n",
       " -5.97945\n",
       " -6.02012\n",
       " -6.04223\n",
       " -6.027  \n",
       " -6.00851\n",
       " -6.01379\n",
       "  ⋮      \n",
       " -6.00944\n",
       " -5.93799\n",
       " -4.97429\n",
       " -4.98316\n",
       " -4.99849\n",
       " -5.02998\n",
       " -4.9734 \n",
       " -4.93409\n",
       " -4.92443\n",
       " -4.9996 \n",
       " -4.95907\n",
       " -5.01047"
      ]
     },
     "execution_count": 3,
     "metadata": {},
     "output_type": "execute_result"
    }
   ],
   "source": [
    "erf.(eigvals(B)) - 2x.^2 + 4x - 6"
   ]
  },
  {
   "cell_type": "markdown",
   "metadata": {},
   "source": [
    "Complex numbers and arbitrary-precision arithmetic (via MPFR) are available, of course."
   ]
  },
  {
   "cell_type": "code",
   "execution_count": 4,
   "metadata": {
    "collapsed": false
   },
   "outputs": [
    {
     "data": {
      "text/plain": [
       "-2.703494560307422464769480266827091348467753695567661661019265514673434246483996e+01 - 3.851153334811777536563337123053124569704160846091637003157728595256494186490506im"
      ]
     },
     "execution_count": 4,
     "metadata": {},
     "output_type": "execute_result"
    }
   ],
   "source": [
    "cos(big(3 + 4im))"
   ]
  },
  {
   "cell_type": "markdown",
   "metadata": {},
   "source": [
    "## Unicode\n",
    "\n",
    "All strings are UTF-8 encoded Unicode by default (UTF-16 and UTF-32 also supported):"
   ]
  },
  {
   "cell_type": "code",
   "execution_count": 5,
   "metadata": {
    "collapsed": false
   },
   "outputs": [
    {
     "data": {
      "text/plain": [
       "3-element Array{SubString{String},1}:\n",
       " \" is\"    \n",
       " \" a\"     \n",
       " \" letter\""
      ]
     },
     "execution_count": 5,
     "metadata": {},
     "output_type": "execute_result"
    }
   ],
   "source": [
    "matchall(r\"\\s[a-z]+\", \"α is a Grëék letter\") # regex search of a Unicode string"
   ]
  },
  {
   "cell_type": "markdown",
   "metadata": {},
   "source": [
    "Like Python 3, variable names can be Unicode, but Julia allows a somewhat wider range of codepoints in identifiers, which can be typed by LaTeX-like tab-completion *\\alpha[TAB]\\hat[TAB]\\_2[TAB]\\prime*."
   ]
  },
  {
   "cell_type": "code",
   "execution_count": 6,
   "metadata": {
    "collapsed": false
   },
   "outputs": [
    {
     "data": {
      "text/plain": [
       "7.3820020773540256e-34"
      ]
     },
     "execution_count": 6,
     "metadata": {},
     "output_type": "execute_result"
    }
   ],
   "source": [
    "α̂₂′ = 7\n",
    "ħ = 6.62606957e-34 / 2π\n",
    "ẋ = ħ * α̂₂′"
   ]
  },
  {
   "cell_type": "markdown",
   "metadata": {},
   "source": [
    "Unlike Python 3, Unicode math operators are parsed as infix operators, which are available for user-defined meanings:"
   ]
  },
  {
   "cell_type": "code",
   "execution_count": 7,
   "metadata": {
    "collapsed": false
   },
   "outputs": [
    {
     "data": {
      "text/plain": [
       "(false,true,true)"
      ]
     },
     "execution_count": 7,
     "metadata": {},
     "output_type": "execute_result"
    }
   ],
   "source": [
    "≪(x,y) = x < 0.1*y\n",
    "50 ≪ 100, 5 ≪ 100, 5 ≤ 50"
   ]
  },
  {
   "cell_type": "code",
   "execution_count": 8,
   "metadata": {
    "collapsed": false
   },
   "outputs": [
    {
     "data": {
      "text/plain": [
       "4×4 Array{Float64,2}:\n",
       " 0.737041  0.943949  0.0       0.0     \n",
       " 0.605054  0.986285  0.0       0.0     \n",
       " 0.0       0.0       0.737041  0.943949\n",
       " 0.0       0.0       0.605054  0.986285"
      ]
     },
     "execution_count": 8,
     "metadata": {},
     "output_type": "execute_result"
    }
   ],
   "source": [
    "const ⊗ = kron\n",
    "eye(2,2) ⊗ rand(2,2)"
   ]
  },
  {
   "cell_type": "markdown",
   "metadata": {},
   "source": [
    "## Functions and JIT-compilation\n",
    "\n",
    "Functions can be defined in several ways, and *don't require type-declarations*."
   ]
  },
  {
   "cell_type": "code",
   "execution_count": 9,
   "metadata": {
    "collapsed": false
   },
   "outputs": [
    {
     "data": {
      "text/plain": [
       "(::#1) (generic function with 1 method)"
      ]
     },
     "execution_count": 9,
     "metadata": {},
     "output_type": "execute_result"
    }
   ],
   "source": [
    "# verbose form:\n",
    "function foo(x)\n",
    "    return x + 1\n",
    "end\n",
    "\n",
    "# one-line form:\n",
    "bar(x) = x + 2\n",
    "\n",
    "# anonymous function\n",
    "x -> x + 3"
   ]
  },
  {
   "cell_type": "code",
   "execution_count": 10,
   "metadata": {
    "collapsed": false
   },
   "outputs": [
    {
     "data": {
      "text/plain": [
       "4"
      ]
     },
     "execution_count": 10,
     "metadata": {},
     "output_type": "execute_result"
    }
   ],
   "source": [
    "foo(3) # compiles foo for Int arguments"
   ]
  },
  {
   "cell_type": "code",
   "execution_count": 11,
   "metadata": {
    "collapsed": false
   },
   "outputs": [
    {
     "data": {
      "text/plain": [
       "8"
      ]
     },
     "execution_count": 11,
     "metadata": {},
     "output_type": "execute_result"
    }
   ],
   "source": [
    "foo(7) # re-uses compiled foo(Int)"
   ]
  },
  {
   "cell_type": "code",
   "execution_count": 12,
   "metadata": {
    "collapsed": false
   },
   "outputs": [
    {
     "data": {
      "text/plain": [
       "8.3"
      ]
     },
     "execution_count": 12,
     "metadata": {},
     "output_type": "execute_result"
    }
   ],
   "source": [
    "foo(7.3) # compiles a different version for Float64 arguments"
   ]
  },
  {
   "cell_type": "code",
   "execution_count": 13,
   "metadata": {
    "collapsed": false
   },
   "outputs": [
    {
     "data": {
      "text/plain": [
       "4-element Array{Int64,1}:\n",
       "  2\n",
       "  3\n",
       "  8\n",
       " 10"
      ]
     },
     "execution_count": 13,
     "metadata": {},
     "output_type": "execute_result"
    }
   ],
   "source": [
    "foo([1,2,7,9]) # compiles a different version for Array{Int,1} arguments"
   ]
  },
  {
   "cell_type": "code",
   "execution_count": null,
   "metadata": {
    "collapsed": true
   },
   "outputs": [],
   "source": []
  }
 ],
 "metadata": {
  "kernelspec": {
   "display_name": "Julia 0.5.0",
   "language": "julia",
   "name": "julia-0.5"
  },
  "language_info": {
   "file_extension": ".jl",
   "mimetype": "application/julia",
   "name": "julia",
   "version": "0.5.0"
  }
 },
 "nbformat": 4,
 "nbformat_minor": 0
}
