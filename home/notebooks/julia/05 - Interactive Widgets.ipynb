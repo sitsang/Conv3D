{
 "cells": [
  {
   "cell_type": "markdown",
   "metadata": {},
   "source": [
    "# Interactive Widgets in IJulia"
   ]
  },
  {
   "cell_type": "markdown",
   "metadata": {},
   "source": [
    "IPython 2.0 introduced interactive widgets, which are basically:\n",
    "\n",
    "* Javascript widgets (sliders, buttons, etcetera)\n",
    "* A communications protocol for the widgets to talk to the kernel\n",
    "* A Python interface to create and manipulate these.\n",
    "\n",
    "Thanks to fantastic work by a Google Summer of Code student, [Shashi Gowda](https://github.com/shashi/), the same features are accessible from a Julia interface."
   ]
  },
  {
   "cell_type": "code",
   "execution_count": 1,
   "metadata": {
    "collapsed": false
   },
   "outputs": [
    {
     "data": {
      "text/html": [
       "<div id=\"interact-js-shim\">\n",
       "    <script charset=\"utf-8\">\n",
       "(function (IPython, $, _, MathJax) {\n",
       "    $.event.special.destroyed = {\n",
       "\tremove: function(o) {\n",
       "\t    if (o.handler) {\n",
       "\t\to.handler.apply(this, arguments)\n",
       "\t    }\n",
       "\t}\n",
       "    }\n",
       "\n",
       "    var OutputArea = IPython.version >= \"4.0.0\" ? require(\"notebook/js/outputarea\").OutputArea : IPython.OutputArea;\n",
       "\n",
       "    var redrawValue = function (container, type, val) {\n",
       "\tvar selector = $(\"<div/>\");\n",
       "\tvar oa = new OutputArea(_.extend(selector, {\n",
       "\t    selector: selector,\n",
       "\t    prompt_area: true,\n",
       "\t    events: IPython.events,\n",
       "\t    keyboard_manager: IPython.keyboard_manager\n",
       "\t})); // Hack to work with IPython 2.1.0\n",
       "\n",
       "\tswitch (type) {\n",
       "\tcase \"image/png\":\n",
       "            var _src = 'data:' + type + ';base64,' + val;\n",
       "\t    $(container).find(\"img\").attr('src', _src);\n",
       "\t    break;\n",
       "\tdefault:\n",
       "\t    var toinsert = OutputArea.append_map[type].apply(\n",
       "\t\toa, [val, {}, selector]\n",
       "\t    );\n",
       "\t    $(container).empty().append(toinsert.contents());\n",
       "\t    selector.remove();\n",
       "\t}\n",
       "\tif (type === \"text/latex\" && MathJax) {\n",
       "\t    MathJax.Hub.Queue([\"Typeset\", MathJax.Hub, toinsert.get(0)]);\n",
       "\t}\n",
       "    }\n",
       "\n",
       "\n",
       "    $(document).ready(function() {\n",
       "\tfunction initComm(evt, data) {\n",
       "\t    var comm_manager = data.kernel.comm_manager;\n",
       "        //_.extend(comm_manager.targets, require(\"widgets/js/widget\"))\n",
       "\t    comm_manager.register_target(\"Signal\", function (comm) {\n",
       "            comm.on_msg(function (msg) {\n",
       "                var val = msg.content.data.value;\n",
       "                $(\".signal-\" + comm.comm_id).each(function() {\n",
       "                var type = $(this).data(\"type\");\n",
       "                if (typeof(val[type]) !== \"undefined\" && val[type] !== null) {\n",
       "                    redrawValue(this, type, val[type], type);\n",
       "                }\n",
       "                });\n",
       "                delete val;\n",
       "                delete msg.content.data.value;\n",
       "            });\n",
       "\t    });\n",
       "\n",
       "\t    // coordingate with Comm and redraw Signals\n",
       "\t    // XXX: Test using Reactive here to improve performance\n",
       "\t    $([IPython.events]).on(\n",
       "\t\t'output_appended.OutputArea', function (event, type, value, md, toinsert) {\n",
       "\t\t    if (md && md.reactive) {\n",
       "                // console.log(md.comm_id);\n",
       "                toinsert.addClass(\"signal-\" + md.comm_id);\n",
       "                toinsert.data(\"type\", type);\n",
       "                // Signal back indicating the mimetype required\n",
       "                var comm_manager = IPython.notebook.kernel.comm_manager;\n",
       "                var comm = comm_manager.comms[md.comm_id];\n",
       "                comm.then(function (c) {\n",
       "                    c.send({action: \"subscribe_mime\",\n",
       "                       mime: type});\n",
       "                    toinsert.bind(\"destroyed\", function() {\n",
       "                        c.send({action: \"unsubscribe_mime\",\n",
       "                               mime: type});\n",
       "                    });\n",
       "                })\n",
       "\t\t    }\n",
       "\t    });\n",
       "\t}\n",
       "\n",
       "\ttry {\n",
       "\t    // try to initialize right away. otherwise, wait on the status_started event.\n",
       "\t    initComm(undefined, IPython.notebook);\n",
       "\t} catch (e) {\n",
       "\t    $([IPython.events]).on('kernel_created.Kernel kernel_created.Session', initComm);\n",
       "\t}\n",
       "    });\n",
       "})(IPython, jQuery, _, MathJax);\n",
       "</script>\n",
       "    <script>\n",
       "        window.interactLoadedFlag = true\n",
       "       $(\"#interact-js-shim\").bind(\"destroyed\", function () {\n",
       "           if (window.interactLoadedFlag) {\n",
       "               console.warn(\"JavaScript required by Interact will be removed if you remove this cell or run using Interact more than once.\")\n",
       "           }\n",
       "       })\n",
       "       $([IPython.events]).on(\"kernel_starting.Kernel kernel_restarting.Kernel\", function () { window.interactLoadedFlag = false })\n",
       "   </script>\n",
       "</div>"
      ]
     },
     "metadata": {},
     "output_type": "display_data"
    }
   ],
   "source": [
    "using Interact"
   ]
  },
  {
   "cell_type": "code",
   "execution_count": 2,
   "metadata": {
    "collapsed": false
   },
   "outputs": [
    {
     "data": {
      "text/html": [],
      "text/plain": [
       "Interact.Options{:SelectionSlider,Int64}(Signal{Int64}(51, nactions=1),\"n\",51,\"51\",Interact.OptionDict(DataStructures.OrderedDict(\"1\"=>1,\"2\"=>2,\"3\"=>3,\"4\"=>4,\"5\"=>5,\"6\"=>6,\"7\"=>7,\"8\"=>8,\"9\"=>9,\"10\"=>10…),Dict(68=>\"68\",2=>\"2\",89=>\"89\",11=>\"11\",39=>\"39\",46=>\"46\",85=>\"85\",25=>\"25\",55=>\"55\",42=>\"42\"…)),Any[],Any[],true,\"horizontal\")"
      ]
     },
     "metadata": {},
     "output_type": "display_data"
    },
    {
     "data": {
      "text/plain": [
       "51×51 Array{Float64,2}:\n",
       " 0.346021   0.294866     0.369208    …  0.19466     0.0347194  0.108438 \n",
       " 0.0582992  0.776068     0.903401       0.215255    0.222517   0.438183 \n",
       " 0.25734    0.72345      0.742408       0.74015     0.594381   0.120954 \n",
       " 0.316918   0.409743     0.569478       0.969071    0.033502   0.249044 \n",
       " 0.846362   0.578057     0.310051       0.218418    0.322453   0.147398 \n",
       " 0.228233   0.430919     0.955013    …  0.36023     0.410933   0.711817 \n",
       " 0.372933   0.737354     0.624149       0.843121    0.652498   0.868936 \n",
       " 0.664505   0.489179     0.0697733      0.677952    0.246141   0.143245 \n",
       " 0.243969   0.573042     0.710084       0.938843    0.398736   0.447043 \n",
       " 0.704736   0.554871     0.115309       0.370047    0.152305   0.243225 \n",
       " 0.942666   0.931999     0.98416     …  0.487249    0.401102   0.557143 \n",
       " 0.793079   0.869809     0.727944       0.459179    0.560765   0.689603 \n",
       " 0.520827   0.677628     0.598157       0.875617    0.859662   0.964613 \n",
       " ⋮                                   ⋱                         ⋮        \n",
       " 0.765736   0.042987     0.121242       0.235314    0.202538   0.175745 \n",
       " 0.0082147  0.550946     0.854363    …  0.37099     0.486554   0.895673 \n",
       " 0.693852   0.819757     0.831424       0.419577    0.860883   0.756935 \n",
       " 0.344666   0.691485     0.757328       0.961972    0.289239   0.943574 \n",
       " 0.887626   0.714411     0.521101       0.691821    0.0661693  0.173713 \n",
       " 0.939629   0.880595     0.877067       0.413522    0.395606   0.702952 \n",
       " 0.301069   0.261236     0.704319    …  0.803656    0.0783046  0.847362 \n",
       " 0.931998   0.624028     0.624015       0.829618    0.0881888  0.148596 \n",
       " 0.696694   0.0976264    0.00014438     0.496116    0.126586   0.703652 \n",
       " 0.510675   0.251018     0.0165496      0.00816721  0.860968   0.574426 \n",
       " 0.770571   0.890124     0.72008        0.252106    0.181524   0.0826506\n",
       " 0.0457767  0.000370514  0.439291    …  0.8619      0.369173   0.294671 "
      ]
     },
     "execution_count": 2,
     "metadata": {
      "comm_id": "5e0e4a61-8875-4773-adfb-37f3514b73fd",
      "reactive": true
     },
     "output_type": "execute_result"
    }
   ],
   "source": [
    "@manipulate for n in 1:100\n",
    "    rand(n,n)\n",
    "end"
   ]
  },
  {
   "cell_type": "code",
   "execution_count": 3,
   "metadata": {
    "collapsed": false
   },
   "outputs": [
    {
     "data": {
      "text/html": [],
      "text/plain": [
       "Interact.Options{:SelectionSlider,Float64}(Signal{Float64}(0.5, nactions=1),\"r\",0.5,\"0.5\",Interact.OptionDict(DataStructures.OrderedDict(\"0.0\"=>0.0,\"0.1\"=>0.1,\"0.2\"=>0.2,\"0.3\"=>0.3,\"0.4\"=>0.4,\"0.5\"=>0.5,\"0.6\"=>0.6,\"0.7\"=>0.7,\"0.8\"=>0.8,\"0.9\"=>0.9…),Dict(0.6=>\"0.6\",0.3=>\"0.3\",0.7=>\"0.7\",0.0=>\"0.0\",0.2=>\"0.2\",0.9=>\"0.9\",0.8=>\"0.8\",0.5=>\"0.5\",0.1=>\"0.1\",0.4=>\"0.4\"…)),Any[],Any[],true,\"horizontal\")"
      ]
     },
     "metadata": {},
     "output_type": "display_data"
    },
    {
     "data": {
      "text/html": [],
      "text/plain": [
       "Interact.Options{:SelectionSlider,Float64}(Signal{Float64}(0.5, nactions=1),\"g\",0.5,\"0.5\",Interact.OptionDict(DataStructures.OrderedDict(\"0.0\"=>0.0,\"0.1\"=>0.1,\"0.2\"=>0.2,\"0.3\"=>0.3,\"0.4\"=>0.4,\"0.5\"=>0.5,\"0.6\"=>0.6,\"0.7\"=>0.7,\"0.8\"=>0.8,\"0.9\"=>0.9…),Dict(0.6=>\"0.6\",0.3=>\"0.3\",0.7=>\"0.7\",0.0=>\"0.0\",0.2=>\"0.2\",0.9=>\"0.9\",0.8=>\"0.8\",0.5=>\"0.5\",0.1=>\"0.1\",0.4=>\"0.4\"…)),Any[],Any[],true,\"horizontal\")"
      ]
     },
     "metadata": {},
     "output_type": "display_data"
    },
    {
     "data": {
      "text/html": [],
      "text/plain": [
       "Interact.Options{:SelectionSlider,Float64}(Signal{Float64}(0.5, nactions=1),\"b\",0.5,\"0.5\",Interact.OptionDict(DataStructures.OrderedDict(\"0.0\"=>0.0,\"0.1\"=>0.1,\"0.2\"=>0.2,\"0.3\"=>0.3,\"0.4\"=>0.4,\"0.5\"=>0.5,\"0.6\"=>0.6,\"0.7\"=>0.7,\"0.8\"=>0.8,\"0.9\"=>0.9…),Dict(0.6=>\"0.6\",0.3=>\"0.3\",0.7=>\"0.7\",0.0=>\"0.0\",0.2=>\"0.2\",0.9=>\"0.9\",0.8=>\"0.8\",0.5=>\"0.5\",0.1=>\"0.1\",0.4=>\"0.4\"…)),Any[],Any[],true,\"horizontal\")"
      ]
     },
     "metadata": {},
     "output_type": "display_data"
    },
    {
     "data": {
      "text/html": [],
      "text/plain": [
       "Interact.Options{:SelectionSlider,Int64}(Signal{Int64}(51, nactions=1),\"n\",51,\"51\",Interact.OptionDict(DataStructures.OrderedDict(\"1\"=>1,\"2\"=>2,\"3\"=>3,\"4\"=>4,\"5\"=>5,\"6\"=>6,\"7\"=>7,\"8\"=>8,\"9\"=>9,\"10\"=>10…),Dict(68=>\"68\",2=>\"2\",89=>\"89\",11=>\"11\",39=>\"39\",46=>\"46\",85=>\"85\",25=>\"25\",55=>\"55\",42=>\"42\"…)),Any[],Any[],true,\"horizontal\")"
      ]
     },
     "metadata": {},
     "output_type": "display_data"
    },
    {
     "data": {
      "image/svg+xml": [
       "<?xml version=\"1.0\" encoding=\"UTF-8\"?>\n",
       "<!DOCTYPE svg PUBLIC \"-//W3C//DTD SVG 1.1//EN\"\n",
       " \"http://www.w3.org/Graphics/SVG/1.1/DTD/svg11.dtd\">\n",
       "<svg xmlns=\"http://www.w3.org/2000/svg\" version=\"1.1\"\n",
       "     width=\"250.00000000000003mm\" height=\"25.0mm\"\n",
       "     shape-rendering=\"crispEdges\">\n",
       "<rect x=\"0.0mm\" y=\"0.0mm\"\n",
       "      width=\"4.901960784313726mm\" height=\"25.0mm\"\n",
       "      fill=\"#000000\" stroke=\"none\" />\n",
       "<rect x=\"4.901960784313726mm\" y=\"0.0mm\"\n",
       "      width=\"4.901960784313726mm\" height=\"25.0mm\"\n",
       "      fill=\"#030303\" stroke=\"none\" />\n",
       "<rect x=\"9.803921568627452mm\" y=\"0.0mm\"\n",
       "      width=\"4.901960784313726mm\" height=\"25.0mm\"\n",
       "      fill=\"#050505\" stroke=\"none\" />\n",
       "<rect x=\"14.705882352941178mm\" y=\"0.0mm\"\n",
       "      width=\"4.901960784313726mm\" height=\"25.0mm\"\n",
       "      fill=\"#080808\" stroke=\"none\" />\n",
       "<rect x=\"19.607843137254903mm\" y=\"0.0mm\"\n",
       "      width=\"4.901960784313726mm\" height=\"25.0mm\"\n",
       "      fill=\"#0A0A0A\" stroke=\"none\" />\n",
       "<rect x=\"24.50980392156863mm\" y=\"0.0mm\"\n",
       "      width=\"4.901960784313726mm\" height=\"25.0mm\"\n",
       "      fill=\"#0D0D0D\" stroke=\"none\" />\n",
       "<rect x=\"29.411764705882355mm\" y=\"0.0mm\"\n",
       "      width=\"4.901960784313726mm\" height=\"25.0mm\"\n",
       "      fill=\"#0F0F0F\" stroke=\"none\" />\n",
       "<rect x=\"34.31372549019608mm\" y=\"0.0mm\"\n",
       "      width=\"4.901960784313726mm\" height=\"25.0mm\"\n",
       "      fill=\"#121212\" stroke=\"none\" />\n",
       "<rect x=\"39.21568627450981mm\" y=\"0.0mm\"\n",
       "      width=\"4.901960784313726mm\" height=\"25.0mm\"\n",
       "      fill=\"#141414\" stroke=\"none\" />\n",
       "<rect x=\"44.117647058823536mm\" y=\"0.0mm\"\n",
       "      width=\"4.901960784313726mm\" height=\"25.0mm\"\n",
       "      fill=\"#171717\" stroke=\"none\" />\n",
       "<rect x=\"49.01960784313726mm\" y=\"0.0mm\"\n",
       "      width=\"4.901960784313726mm\" height=\"25.0mm\"\n",
       "      fill=\"#191919\" stroke=\"none\" />\n",
       "<rect x=\"53.92156862745098mm\" y=\"0.0mm\"\n",
       "      width=\"4.901960784313726mm\" height=\"25.0mm\"\n",
       "      fill=\"#1C1C1C\" stroke=\"none\" />\n",
       "<rect x=\"58.82352941176471mm\" y=\"0.0mm\"\n",
       "      width=\"4.901960784313726mm\" height=\"25.0mm\"\n",
       "      fill=\"#1F1F1F\" stroke=\"none\" />\n",
       "<rect x=\"63.72549019607844mm\" y=\"0.0mm\"\n",
       "      width=\"4.901960784313726mm\" height=\"25.0mm\"\n",
       "      fill=\"#212121\" stroke=\"none\" />\n",
       "<rect x=\"68.62745098039215mm\" y=\"0.0mm\"\n",
       "      width=\"4.901960784313726mm\" height=\"25.0mm\"\n",
       "      fill=\"#242424\" stroke=\"none\" />\n",
       "<rect x=\"73.52941176470588mm\" y=\"0.0mm\"\n",
       "      width=\"4.901960784313726mm\" height=\"25.0mm\"\n",
       "      fill=\"#262626\" stroke=\"none\" />\n",
       "<rect x=\"78.43137254901961mm\" y=\"0.0mm\"\n",
       "      width=\"4.901960784313726mm\" height=\"25.0mm\"\n",
       "      fill=\"#292929\" stroke=\"none\" />\n",
       "<rect x=\"83.33333333333334mm\" y=\"0.0mm\"\n",
       "      width=\"4.901960784313726mm\" height=\"25.0mm\"\n",
       "      fill=\"#2B2B2B\" stroke=\"none\" />\n",
       "<rect x=\"88.23529411764707mm\" y=\"0.0mm\"\n",
       "      width=\"4.901960784313726mm\" height=\"25.0mm\"\n",
       "      fill=\"#2E2E2E\" stroke=\"none\" />\n",
       "<rect x=\"93.13725490196079mm\" y=\"0.0mm\"\n",
       "      width=\"4.901960784313726mm\" height=\"25.0mm\"\n",
       "      fill=\"#303030\" stroke=\"none\" />\n",
       "<rect x=\"98.03921568627452mm\" y=\"0.0mm\"\n",
       "      width=\"4.901960784313726mm\" height=\"25.0mm\"\n",
       "      fill=\"#333333\" stroke=\"none\" />\n",
       "<rect x=\"102.94117647058825mm\" y=\"0.0mm\"\n",
       "      width=\"4.901960784313726mm\" height=\"25.0mm\"\n",
       "      fill=\"#363636\" stroke=\"none\" />\n",
       "<rect x=\"107.84313725490196mm\" y=\"0.0mm\"\n",
       "      width=\"4.901960784313726mm\" height=\"25.0mm\"\n",
       "      fill=\"#383838\" stroke=\"none\" />\n",
       "<rect x=\"112.74509803921569mm\" y=\"0.0mm\"\n",
       "      width=\"4.901960784313726mm\" height=\"25.0mm\"\n",
       "      fill=\"#3B3B3B\" stroke=\"none\" />\n",
       "<rect x=\"117.64705882352942mm\" y=\"0.0mm\"\n",
       "      width=\"4.901960784313726mm\" height=\"25.0mm\"\n",
       "      fill=\"#3D3D3D\" stroke=\"none\" />\n",
       "<rect x=\"122.54901960784315mm\" y=\"0.0mm\"\n",
       "      width=\"4.901960784313726mm\" height=\"25.0mm\"\n",
       "      fill=\"#404040\" stroke=\"none\" />\n",
       "<rect x=\"127.45098039215688mm\" y=\"0.0mm\"\n",
       "      width=\"4.901960784313726mm\" height=\"25.0mm\"\n",
       "      fill=\"#424242\" stroke=\"none\" />\n",
       "<rect x=\"132.3529411764706mm\" y=\"0.0mm\"\n",
       "      width=\"4.901960784313726mm\" height=\"25.0mm\"\n",
       "      fill=\"#454545\" stroke=\"none\" />\n",
       "<rect x=\"137.2549019607843mm\" y=\"0.0mm\"\n",
       "      width=\"4.901960784313726mm\" height=\"25.0mm\"\n",
       "      fill=\"#474747\" stroke=\"none\" />\n",
       "<rect x=\"142.15686274509804mm\" y=\"0.0mm\"\n",
       "      width=\"4.901960784313726mm\" height=\"25.0mm\"\n",
       "      fill=\"#4A4A4A\" stroke=\"none\" />\n",
       "<rect x=\"147.05882352941177mm\" y=\"0.0mm\"\n",
       "      width=\"4.901960784313726mm\" height=\"25.0mm\"\n",
       "      fill=\"#4C4C4C\" stroke=\"none\" />\n",
       "<rect x=\"151.9607843137255mm\" y=\"0.0mm\"\n",
       "      width=\"4.901960784313726mm\" height=\"25.0mm\"\n",
       "      fill=\"#4F4F4F\" stroke=\"none\" />\n",
       "<rect x=\"156.86274509803923mm\" y=\"0.0mm\"\n",
       "      width=\"4.901960784313726mm\" height=\"25.0mm\"\n",
       "      fill=\"#525252\" stroke=\"none\" />\n",
       "<rect x=\"161.76470588235296mm\" y=\"0.0mm\"\n",
       "      width=\"4.901960784313726mm\" height=\"25.0mm\"\n",
       "      fill=\"#545454\" stroke=\"none\" />\n",
       "<rect x=\"166.66666666666669mm\" y=\"0.0mm\"\n",
       "      width=\"4.901960784313726mm\" height=\"25.0mm\"\n",
       "      fill=\"#575757\" stroke=\"none\" />\n",
       "<rect x=\"171.56862745098042mm\" y=\"0.0mm\"\n",
       "      width=\"4.901960784313726mm\" height=\"25.0mm\"\n",
       "      fill=\"#595959\" stroke=\"none\" />\n",
       "<rect x=\"176.47058823529414mm\" y=\"0.0mm\"\n",
       "      width=\"4.901960784313726mm\" height=\"25.0mm\"\n",
       "      fill=\"#5C5C5C\" stroke=\"none\" />\n",
       "<rect x=\"181.37254901960785mm\" y=\"0.0mm\"\n",
       "      width=\"4.901960784313726mm\" height=\"25.0mm\"\n",
       "      fill=\"#5E5E5E\" stroke=\"none\" />\n",
       "<rect x=\"186.27450980392157mm\" y=\"0.0mm\"\n",
       "      width=\"4.901960784313726mm\" height=\"25.0mm\"\n",
       "      fill=\"#616161\" stroke=\"none\" />\n",
       "<rect x=\"191.1764705882353mm\" y=\"0.0mm\"\n",
       "      width=\"4.901960784313726mm\" height=\"25.0mm\"\n",
       "      fill=\"#636363\" stroke=\"none\" />\n",
       "<rect x=\"196.07843137254903mm\" y=\"0.0mm\"\n",
       "      width=\"4.901960784313726mm\" height=\"25.0mm\"\n",
       "      fill=\"#666666\" stroke=\"none\" />\n",
       "<rect x=\"200.98039215686276mm\" y=\"0.0mm\"\n",
       "      width=\"4.901960784313726mm\" height=\"25.0mm\"\n",
       "      fill=\"#696969\" stroke=\"none\" />\n",
       "<rect x=\"205.8823529411765mm\" y=\"0.0mm\"\n",
       "      width=\"4.901960784313726mm\" height=\"25.0mm\"\n",
       "      fill=\"#6B6B6B\" stroke=\"none\" />\n",
       "<rect x=\"210.78431372549022mm\" y=\"0.0mm\"\n",
       "      width=\"4.901960784313726mm\" height=\"25.0mm\"\n",
       "      fill=\"#6E6E6E\" stroke=\"none\" />\n",
       "<rect x=\"215.68627450980392mm\" y=\"0.0mm\"\n",
       "      width=\"4.901960784313726mm\" height=\"25.0mm\"\n",
       "      fill=\"#707070\" stroke=\"none\" />\n",
       "<rect x=\"220.58823529411765mm\" y=\"0.0mm\"\n",
       "      width=\"4.901960784313726mm\" height=\"25.0mm\"\n",
       "      fill=\"#737373\" stroke=\"none\" />\n",
       "<rect x=\"225.49019607843138mm\" y=\"0.0mm\"\n",
       "      width=\"4.901960784313726mm\" height=\"25.0mm\"\n",
       "      fill=\"#757575\" stroke=\"none\" />\n",
       "<rect x=\"230.3921568627451mm\" y=\"0.0mm\"\n",
       "      width=\"4.901960784313726mm\" height=\"25.0mm\"\n",
       "      fill=\"#787878\" stroke=\"none\" />\n",
       "<rect x=\"235.29411764705884mm\" y=\"0.0mm\"\n",
       "      width=\"4.901960784313726mm\" height=\"25.0mm\"\n",
       "      fill=\"#7A7A7A\" stroke=\"none\" />\n",
       "<rect x=\"240.19607843137257mm\" y=\"0.0mm\"\n",
       "      width=\"4.901960784313726mm\" height=\"25.0mm\"\n",
       "      fill=\"#7D7D7D\" stroke=\"none\" />\n",
       "<rect x=\"245.0980392156863mm\" y=\"0.0mm\"\n",
       "      width=\"4.901960784313726mm\" height=\"25.0mm\"\n",
       "      fill=\"#808080\" stroke=\"none\" />\n",
       "</svg>"
      ],
      "text/plain": [
       "51-element Array{ColorTypes.RGB{Float64},1}:\n",
       " RGB{Float64}(0.0,0.0,0.0)   \n",
       " RGB{Float64}(0.01,0.01,0.01)\n",
       " RGB{Float64}(0.02,0.02,0.02)\n",
       " RGB{Float64}(0.03,0.03,0.03)\n",
       " RGB{Float64}(0.04,0.04,0.04)\n",
       " RGB{Float64}(0.05,0.05,0.05)\n",
       " RGB{Float64}(0.06,0.06,0.06)\n",
       " RGB{Float64}(0.07,0.07,0.07)\n",
       " RGB{Float64}(0.08,0.08,0.08)\n",
       " RGB{Float64}(0.09,0.09,0.09)\n",
       " RGB{Float64}(0.1,0.1,0.1)   \n",
       " RGB{Float64}(0.11,0.11,0.11)\n",
       " RGB{Float64}(0.12,0.12,0.12)\n",
       " ⋮                           \n",
       " RGB{Float64}(0.39,0.39,0.39)\n",
       " RGB{Float64}(0.4,0.4,0.4)   \n",
       " RGB{Float64}(0.41,0.41,0.41)\n",
       " RGB{Float64}(0.42,0.42,0.42)\n",
       " RGB{Float64}(0.43,0.43,0.43)\n",
       " RGB{Float64}(0.44,0.44,0.44)\n",
       " RGB{Float64}(0.45,0.45,0.45)\n",
       " RGB{Float64}(0.46,0.46,0.46)\n",
       " RGB{Float64}(0.47,0.47,0.47)\n",
       " RGB{Float64}(0.48,0.48,0.48)\n",
       " RGB{Float64}(0.49,0.49,0.49)\n",
       " RGB{Float64}(0.5,0.5,0.5)   "
      ]
     },
     "execution_count": 3,
     "metadata": {
      "comm_id": "c8d0d414-28e2-416f-bbe4-3d3652536d43",
      "reactive": true
     },
     "output_type": "execute_result"
    }
   ],
   "source": [
    "using Colors\n",
    "@manipulate for r in 0:0.1:1, g in 0:0.1:1, b in 0:0.1:1, n in 1:100\n",
    "    linspace(RGB(0.0,0.0,0.0), RGB(r,g,b), n)\n",
    "end"
   ]
  },
  {
   "cell_type": "code",
   "execution_count": 4,
   "metadata": {
    "collapsed": false
   },
   "outputs": [],
   "source": [
    "using PyPlot"
   ]
  },
  {
   "cell_type": "code",
   "execution_count": 5,
   "metadata": {
    "collapsed": false
   },
   "outputs": [
    {
     "data": {
      "text/html": [],
      "text/plain": [
       "Interact.Options{:SelectionSlider,Float64}(Signal{Float64}(2.5, nactions=1),\"α\",2.5,\"2.5\",Interact.OptionDict(DataStructures.OrderedDict(\"1.0\"=>1.0,\"1.1\"=>1.1,\"1.2\"=>1.2,\"1.3\"=>1.3,\"1.4\"=>1.4,\"1.5\"=>1.5,\"1.6\"=>1.6,\"1.7\"=>1.7,\"1.8\"=>1.8,\"1.9\"=>1.9…),Dict(3.4=>\"3.4\",3.6=>\"3.6\",1.2=>\"1.2\",3.8=>\"3.8\",2.8=>\"2.8\",2.0=>\"2.0\",1.5=>\"1.5\",2.2=>\"2.2\",2.1=>\"2.1\",1.4=>\"1.4\"…)),Any[],Any[],true,\"horizontal\")"
      ]
     },
     "metadata": {},
     "output_type": "display_data"
    },
    {
     "data": {
      "text/html": [],
      "text/plain": [
       "Interact.Options{:SelectionSlider,Float64}(Signal{Float64}(2.5, nactions=1),\"β\",2.5,\"2.5\",Interact.OptionDict(DataStructures.OrderedDict(\"1.0\"=>1.0,\"1.1\"=>1.1,\"1.2\"=>1.2,\"1.3\"=>1.3,\"1.4\"=>1.4,\"1.5\"=>1.5,\"1.6\"=>1.6,\"1.7\"=>1.7,\"1.8\"=>1.8,\"1.9\"=>1.9…),Dict(3.4=>\"3.4\",3.6=>\"3.6\",1.2=>\"1.2\",3.8=>\"3.8\",2.8=>\"2.8\",2.0=>\"2.0\",1.5=>\"1.5\",2.2=>\"2.2\",2.1=>\"2.1\",1.4=>\"1.4\"…)),Any[],Any[],true,\"horizontal\")"
      ]
     },
     "metadata": {},
     "output_type": "display_data"
    },
    {
     "data": {
      "text/html": [],
      "text/plain": [
       "Interact.Textbox{AbstractString}(Signal{AbstractString}(a funny plot, nactions=1),\"leg\",nothing,\"a funny plot\")"
      ]
     },
     "metadata": {},
     "output_type": "display_data"
    },
    {
     "data": {
      "image/png": "[encoded data removed]",
      "text/plain": [
       "PyPlot.Figure(PyObject <matplotlib.figure.Figure object at 0x0000000021A43208>)"
      ]
     },
     "execution_count": 5,
     "metadata": {
      "comm_id": "09507e56-7855-4c6d-bf22-2a012e2bcb82",
      "reactive": true
     },
     "output_type": "execute_result"
    }
   ],
   "source": [
    "x = linspace(0,10,1000)\n",
    "clf()\n",
    "f = figure()\n",
    "@manipulate for α = 1:0.1:4, β = 1:0.1:4 , leg=\"a funny plot\"\n",
    "    withfig(f) do\n",
    "        plot(x, cos(α*x + sin(β*x)))\n",
    "        #legend([leg])\n",
    "    end\n",
    "end"
   ]
  },
  {
   "cell_type": "code",
   "execution_count": null,
   "metadata": {
    "collapsed": true
   },
   "outputs": [],
   "source": []
  }
 ],
 "metadata": {
  "kernelspec": {
   "display_name": "Julia 0.5.0",
   "language": "julia",
   "name": "julia-0.5"
  },
  "language": "Julia",
  "language_info": {
   "file_extension": ".jl",
   "mimetype": "application/julia",
   "name": "julia",
   "version": "0.5.0"
  },
  "widgets": {
   "state": {
    "1857a28e-a64d-4066-a211-89fbed635b5e": {
     "views": [
      {
       "cell_index": 4
      }
     ]
    },
    "1dee3c10-fc25-4624-80d5-3dc49536094f": {
     "views": [
      {
       "cell_index": 4
      }
     ]
    },
    "77fb2753-b04d-47fb-835d-58888058f4e2": {
     "views": [
      {
       "cell_index": 4
      }
     ]
    },
    "853db2d7-aa0b-472c-868a-dfcdfcd6e383": {
     "views": [
      {
       "cell_index": 6
      }
     ]
    },
    "b3da0b23-07f1-444d-ad65-59754490e48b": {
     "views": [
      {
       "cell_index": 6
      }
     ]
    },
    "c1992a88-5602-4b6c-8cf5-1cdfc4291288": {
     "views": [
      {
       "cell_index": 6
      }
     ]
    },
    "c361857c-2e98-4222-bce0-ba7e3bcf723c": {
     "views": [
      {
       "cell_index": 4
      }
     ]
    },
    "e025a475-8a02-44b0-abf0-3a3d13ead7c6": {
     "views": [
      {
       "cell_index": 3
      }
     ]
    }
   },
   "version": "1.2.0"
  }
 },
 "nbformat": 4,
 "nbformat_minor": 0
}
